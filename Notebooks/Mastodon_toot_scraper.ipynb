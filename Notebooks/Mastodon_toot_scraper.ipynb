{
 "cells": [
  {
   "cell_type": "markdown",
   "id": "257c87cb-3f97-4040-804f-1636110f7d7c",
   "metadata": {},
   "source": [
    "**Mastodon Toot Scraper** \\\n",
    "This notebook is responsible for scraping all the toots with certain hashtags and cleaning the datasets after. "
   ]
  },
  {
   "cell_type": "code",
   "execution_count": null,
   "id": "65788b7e-0a5d-4b5f-a1bc-43a335abc140",
   "metadata": {},
   "outputs": [],
   "source": [
    "#Import the necessary dependencies \n",
    "import platform\n",
    "import sys\n",
    "print(\"This jupyter notebook is running on Python \" + platform.python_version())\n",
    "assert sys.version_info >= (3, 6) # It's good practice to assert packages requirements at the beginning of a script:\n",
    "from IPython.display import HTML #via the api we get raw html scripts, so  use this function to format it nicely\n",
    "from mastodon import Mastodon\n",
    "import csv\n",
    "from datetime import datetime\n",
    "from bs4 import BeautifulSoup  # Import BeautifulSoup for HTML parsing\n",
    "import pandas as pd\n",
    "import re\n",
    "import os\n",
    "import matplotlib.pyplot as plt"
   ]
  },
  {
   "cell_type": "code",
   "execution_count": 3,
   "id": "bc14bd32-4121-4f5b-87b7-1d56b399f7b3",
   "metadata": {},
   "outputs": [
    {
     "name": "stdout",
     "output_type": "stream",
     "text": [
      "Defaulting to user installation because normal site-packages is not writeable\n",
      "Requirement already satisfied: mastodon.py in c:\\users\\rickv\\appdata\\roaming\\python\\python312\\site-packages (1.8.1)\n",
      "Requirement already satisfied: requests>=2.4.2 in c:\\users\\rickv\\appdata\\roaming\\python\\python312\\site-packages (from mastodon.py) (2.31.0)\n",
      "Requirement already satisfied: python-dateutil in c:\\users\\rickv\\appdata\\roaming\\python\\python312\\site-packages (from mastodon.py) (2.9.0.post0)\n",
      "Requirement already satisfied: six in c:\\users\\rickv\\appdata\\roaming\\python\\python312\\site-packages (from mastodon.py) (1.16.0)\n",
      "Requirement already satisfied: decorator>=4.0.0 in c:\\users\\rickv\\appdata\\roaming\\python\\python312\\site-packages (from mastodon.py) (5.1.1)\n",
      "Requirement already satisfied: blurhash>=1.1.4 in c:\\users\\rickv\\appdata\\roaming\\python\\python312\\site-packages (from mastodon.py) (1.1.4)\n",
      "Requirement already satisfied: python-magic-bin in c:\\users\\rickv\\appdata\\roaming\\python\\python312\\site-packages (from mastodon.py) (0.4.14)\n",
      "Requirement already satisfied: charset-normalizer<4,>=2 in c:\\users\\rickv\\appdata\\roaming\\python\\python312\\site-packages (from requests>=2.4.2->mastodon.py) (3.3.2)\n",
      "Requirement already satisfied: idna<4,>=2.5 in c:\\users\\rickv\\appdata\\roaming\\python\\python312\\site-packages (from requests>=2.4.2->mastodon.py) (3.7)\n",
      "Requirement already satisfied: urllib3<3,>=1.21.1 in c:\\users\\rickv\\appdata\\roaming\\python\\python312\\site-packages (from requests>=2.4.2->mastodon.py) (2.2.1)\n",
      "Requirement already satisfied: certifi>=2017.4.17 in c:\\users\\rickv\\appdata\\roaming\\python\\python312\\site-packages (from requests>=2.4.2->mastodon.py) (2024.2.2)\n"
     ]
    },
    {
     "name": "stderr",
     "output_type": "stream",
     "text": [
      "\n",
      "[notice] A new release of pip is available: 24.0 -> 24.3.1\n",
      "[notice] To update, run: python.exe -m pip install --upgrade pip\n"
     ]
    }
   ],
   "source": [
    "!pip install mastodon.py"
   ]
  },
  {
   "cell_type": "code",
   "execution_count": 4,
   "id": "fd76de23-4398-4592-9cd4-ca77b002a5ec",
   "metadata": {},
   "outputs": [
    {
     "data": {
      "text/plain": [
       "('4RvXItrNVhNRiOAXnfpUdmJddgo9BKm68P8Yg5zDWSo',\n",
       " 'gYobDSHxzCxOEn8J9OML8GvzGnWmZLQ_5xOuCg_SxL8')"
      ]
     },
     "execution_count": 4,
     "metadata": {},
     "output_type": "execute_result"
    }
   ],
   "source": [
    "#Creates the API instance\n",
    "Mastodon.create_app(\n",
    "    'your_app_name',\n",
    "    api_base_url = 'https://mastodon.nl', \n",
    "    to_file = 'your_client_crediential_file_name.secret'\n",
    ")\n"
   ]
  },
  {
   "cell_type": "code",
   "execution_count": 5,
   "id": "e2915e09-e844-4f31-b881-72e166e161dc",
   "metadata": {},
   "outputs": [
    {
     "data": {
      "text/plain": [
       "'DygfO7tnROAcQGxMKZX1AbkhrXFIx5-c9r-cRI-0itY'"
      ]
     },
     "execution_count": 5,
     "metadata": {},
     "output_type": "execute_result"
    }
   ],
   "source": [
    "#Performs the login of the API instance \n",
    "API = Mastodon(client_id = 'your_client_crediential_file_name.secret',)\n",
    "API.log_in(\n",
    "    'rickvanderluijt@hotmail.com', #no caps\n",
    "    '@Social123',\n",
    "    to_file = 'your_user_crediential_file_name.secret'\n",
    ")"
   ]
  },
  {
   "cell_type": "code",
   "execution_count": 6,
   "id": "7acbd07e-c7d5-4791-82eb-c9121c1892ef",
   "metadata": {},
   "outputs": [
    {
     "data": {
      "text/plain": [
       "{'uri': 'mastodon.nl',\n",
       " 'title': 'Mastodon.nl door Stichting Activityclub',\n",
       " 'short_description': 'Mastodon voor de Nederlandse community - door de Nederlandse community - in stand gehouden door Stichting Activityclub',\n",
       " 'description': '<p>Mastodon-instance voor de <em>Nederlandse gemeenschap</em>, maar <em>open voor iedereen</em>. Voertaal voornamelijk Nederlands en Engels.</p>\\r\\n\\r\\n<hr style=\"border-style: dashed;\" />\\r\\n\\r\\n<p>Mastodon instance for the <em>Dutch community</em>, but <em>open to anyone</em>. Primary languages Dutch and English.</p>\\r\\n\\r\\n<p>Maintained by <a href=\"mailto:mdbraber@mastodon.nl\">mdbraber@mastodon.nl</a> and <a href=\"mailto:eelco@maljaars.net\">eelco@maljaars.net</a>.\\r\\n',\n",
       " 'email': 'team@mastodon.nl',\n",
       " 'version': '4.2.13',\n",
       " 'urls': {'streaming_api': 'wss://mastodon.nl'},\n",
       " 'stats': {'user_count': 41800,\n",
       "  'status_count': 2544032,\n",
       "  'domain_count': 41728},\n",
       " 'thumbnail': 'https://mastodon.nl/system/site_uploads/files/000/000/003/@1x/993d37c159224462.png',\n",
       " 'languages': ['en'],\n",
       " 'registrations': True,\n",
       " 'approval_required': False,\n",
       " 'invites_enabled': True,\n",
       " 'configuration': {'accounts': {'max_featured_tags': 10},\n",
       "  'statuses': {'max_characters': 500,\n",
       "   'max_media_attachments': 4,\n",
       "   'characters_reserved_per_url': 23},\n",
       "  'media_attachments': {'supported_mime_types': ['image/jpeg',\n",
       "    'image/png',\n",
       "    'image/gif',\n",
       "    'image/heic',\n",
       "    'image/heif',\n",
       "    'image/webp',\n",
       "    'image/avif',\n",
       "    'video/webm',\n",
       "    'video/mp4',\n",
       "    'video/quicktime',\n",
       "    'video/ogg',\n",
       "    'audio/wave',\n",
       "    'audio/wav',\n",
       "    'audio/x-wav',\n",
       "    'audio/x-pn-wave',\n",
       "    'audio/vnd.wave',\n",
       "    'audio/ogg',\n",
       "    'audio/vorbis',\n",
       "    'audio/mpeg',\n",
       "    'audio/mp3',\n",
       "    'audio/webm',\n",
       "    'audio/flac',\n",
       "    'audio/aac',\n",
       "    'audio/m4a',\n",
       "    'audio/x-m4a',\n",
       "    'audio/mp4',\n",
       "    'audio/3gpp',\n",
       "    'video/x-ms-asf'],\n",
       "   'image_size_limit': 16777216,\n",
       "   'image_matrix_limit': 33177600,\n",
       "   'video_size_limit': 103809024,\n",
       "   'video_frame_rate_limit': 120,\n",
       "   'video_matrix_limit': 8294400},\n",
       "  'polls': {'max_options': 4,\n",
       "   'max_characters_per_option': 50,\n",
       "   'min_expiration': 300,\n",
       "   'max_expiration': 2629746}},\n",
       " 'contact_account': {'id': 111668539052841801,\n",
       "  'username': 'team',\n",
       "  'acct': 'team',\n",
       "  'display_name': 'Stichting Activityclub',\n",
       "  'locked': False,\n",
       "  'bot': True,\n",
       "  'discoverable': False,\n",
       "  'group': False,\n",
       "  'created_at': datetime.datetime(2023, 12, 30, 0, 0, tzinfo=tzutc()),\n",
       "  'note': '<p>Stichting Activityclub zorgt dat mastodon.nl beschikbaar is  en gezellig blijft.</p><p>Vragen over het gebruik van mastodon en je account kun je kwijt bij <span class=\"h-card\" translate=\"no\"><a href=\"https://mastodon.nl/@support\" class=\"u-url mention\">@<span>support</span></a></span> of als dat niet (meer) lukt naar support@mastodon.nl</p>',\n",
       "  'url': 'https://mastodon.nl/@team',\n",
       "  'uri': 'https://mastodon.nl/users/team',\n",
       "  'avatar': 'https://mastodon.nl/system/accounts/avatars/111/668/539/052/841/801/original/ece95a8df2c58a0f.gif',\n",
       "  'avatar_static': 'https://mastodon.nl/system/accounts/avatars/111/668/539/052/841/801/static/ece95a8df2c58a0f.png',\n",
       "  'header': 'https://mastodon.nl/headers/original/missing.png',\n",
       "  'header_static': 'https://mastodon.nl/headers/original/missing.png',\n",
       "  'followers_count': 26,\n",
       "  'following_count': 0,\n",
       "  'statuses_count': 0,\n",
       "  'last_status_at': None,\n",
       "  'noindex': False,\n",
       "  'emojis': [],\n",
       "  'roles': [],\n",
       "  'fields': [{'name': 'Team',\n",
       "    'value': '<a href=\"https://info.mastodon.nl/team\" target=\"_blank\" rel=\"nofollow noopener noreferrer me\" translate=\"no\"><span class=\"invisible\">https://</span><span class=\"\">info.mastodon.nl/team</span><span class=\"invisible\"></span></a>',\n",
       "    'verified_at': None},\n",
       "   {'name': 'Mastodon.nl INFO',\n",
       "    'value': '<a href=\"https://info.mastodon.nl\" target=\"_blank\" rel=\"nofollow noopener noreferrer me\" translate=\"no\"><span class=\"invisible\">https://</span><span class=\"\">info.mastodon.nl</span><span class=\"invisible\"></span></a>',\n",
       "    'verified_at': None}]},\n",
       " 'rules': [{'id': 2, 'text': 'Heb respect voor elkaar'},\n",
       "  {'id': 3,\n",
       "   'text': 'Geen links of referenties naar racistische, hatelijke of offensieve content'},\n",
       "  {'id': 4, 'text': 'Geen accounts en toots die nodeloos ongefundeerd zijn'},\n",
       "  {'id': 5, 'text': 'Geen zaken die in Nederland illegaal zijn'},\n",
       "  {'id': 7, 'text': 'Geen reclame en spam'},\n",
       "  {'id': 9,\n",
       "   'text': 'Bij herhaling provoceren of uitlokken (trolling) is niet toegestaan.'}]}"
      ]
     },
     "execution_count": 6,
     "metadata": {},
     "output_type": "execute_result"
    }
   ],
   "source": [
    "#View instances of the API and limitations \n",
    "API.instance()"
   ]
  },
  {
   "cell_type": "code",
   "execution_count": 7,
   "id": "012ef213-3b29-4392-8028-d41a8071b265",
   "metadata": {},
   "outputs": [
    {
     "data": {
      "text/html": [
       "<p>De landbouwsector (vooral de veehouderij) veroorzaakt luchtvervuiling. Dit kost ons jaarlijks ruim €7 miljard aan gezondheidsschade 😵‍💫</p><p>De uitstoot veroorzaakt longziekten en hartklachten. Die 7 miljard zouden we ook aan onderwijs of betaalbare boodschappen kunnen uitgeven. 🙄</p><p>Wat hebben de ministers van Landbouw en Volksgezondheid hierover te zeggen? De Partij voor de Dieren wil een debat! 🔥</p><p>Nav onderzoek van tv-programma Pointer. Lees meer: <a href=\"https://buff.ly/3OyY0xq\" rel=\"nofollow noopener noreferrer\" translate=\"no\" target=\"_blank\"><span class=\"invisible\">https://</span><span class=\"\">buff.ly/3OyY0xq</span><span class=\"invisible\"></span></a></p>"
      ],
      "text/plain": [
       "<IPython.core.display.HTML object>"
      ]
     },
     "execution_count": 7,
     "metadata": {},
     "output_type": "execute_result"
    }
   ],
   "source": [
    "#See what statusses are trending inside the server to just check if its performing correctly \n",
    "from IPython.display import HTML #for formatting HTML script\n",
    "HTML(API.trending_statuses()[2][\"content\"])"
   ]
  },
  {
   "cell_type": "code",
   "execution_count": 8,
   "id": "dad6482c-ef6d-486d-8034-eb79039d295b",
   "metadata": {},
   "outputs": [
    {
     "name": "stdout",
     "output_type": "stream",
     "text": [
      "['meermittwoch', 'musicwomenwednesday', 'spotifywrapped']\n"
     ]
    }
   ],
   "source": [
    "#Get the 3 most popular tags inside the server for same reasons as before\n",
    "tags = API.trending_tags(limit=3)  # Get the list of tags\n",
    "# print(tags)\n",
    "names = [tag['name'] for tag in tags]  # Extract the 'name' from each dictionary\n",
    "print(names)\n"
   ]
  },
  {
   "cell_type": "code",
   "execution_count": 9,
   "id": "1a205e3d-e093-437b-9a2c-eb35392f6ef5",
   "metadata": {},
   "outputs": [
    {
     "name": "stdout",
     "output_type": "stream",
     "text": [
      "Toot 1\n",
      "\n",
      "\n"
     ]
    },
    {
     "data": {
      "text/html": [
       "<p><span class=\"h-card\" translate=\"no\"><a href=\"https://mastodon.social/@JRienke\" class=\"u-url mention\">@<span>JRienke</span></a></span> we zitten met het kabinet wat uiteindelijk het minst voor elkaar gekregen heeft en bakken met geld moet bijlappen voor de vele missers.</p><p>Slechts de VVD zal tevreden kunnen zijn: hun &#39;beleid&#39; is binnen en ze kunnen meehuilen met oppositie dat t kabinet er verder een puinhoop van maakt.</p><p>Je zou bijna denken dat ze op de achtergrond heel erg hun best hiervoor gedaan hebben.</p><p><a href=\"https://mastodon.nl/tags/Politiek\" class=\"mention hashtag\" rel=\"tag\">#<span>Politiek</span></a> <a href=\"https://mastodon.nl/tags/VVD\" class=\"mention hashtag\" rel=\"tag\">#<span>VVD</span></a> <a href=\"https://mastodon.nl/tags/dievier\" class=\"mention hashtag\" rel=\"tag\">#<span>dievier</span></a></p>"
      ],
      "text/plain": [
       "<IPython.core.display.HTML object>"
      ]
     },
     "metadata": {},
     "output_type": "display_data"
    },
    {
     "name": "stdout",
     "output_type": "stream",
     "text": [
      "____________________________________________________________________________________________________\n",
      "Toot 2\n",
      "\n",
      "\n"
     ]
    },
    {
     "data": {
      "text/html": [
       "<p>Nog maar een keer delen omdat het zo slecht is. Motie Bente Becker van de VVD om de overheid culturele en religieuze normen en waarden van nederlanders met een migratieachtergrond te laten bij houden. Zo kwalijk en slecht dit, discriminerend, stigmatiserend, risicovol qua registratie etc.<br>Onze normen en waarden zijn prima vastgelegd in wet- en regelgeving, daar moet iedereen zich aan houden. Ongeacht  afkomst/religie etc. De VVD is niet liberaal meer.<br><a href=\"https://mastodon.social/tags/VVD\" class=\"mention hashtag\" rel=\"nofollow noopener noreferrer\" target=\"_blank\">#<span>VVD</span></a> <a href=\"https://mastodon.social/tags/BenteBecker\" class=\"mention hashtag\" rel=\"nofollow noopener noreferrer\" target=\"_blank\">#<span>BenteBecker</span></a> <a href=\"https://mastodon.social/tags/liberalen\" class=\"mention hashtag\" rel=\"nofollow noopener noreferrer\" target=\"_blank\">#<span>liberalen</span></a> <a href=\"https://mastodon.social/tags/politiek\" class=\"mention hashtag\" rel=\"nofollow noopener noreferrer\" target=\"_blank\">#<span>politiek</span></a></p>"
      ],
      "text/plain": [
       "<IPython.core.display.HTML object>"
      ]
     },
     "metadata": {},
     "output_type": "display_data"
    },
    {
     "name": "stdout",
     "output_type": "stream",
     "text": [
      "____________________________________________________________________________________________________\n",
      "Toot 3\n",
      "\n",
      "\n"
     ]
    },
    {
     "data": {
      "text/html": [
       "<p>Bezuinig niet, maar investeer in het hoger onderwijs<br /><a href=\"https://neerlandistiek.nl/2024/12/bezuinig-niet-maar-investeer-in-het-hoger-onderwijs/\" target=\"_blank\" rel=\"nofollow noopener noreferrer\" translate=\"no\"><span class=\"invisible\">https://</span><span class=\"ellipsis\">neerlandistiek.nl/2024/12/bezu</span><span class=\"invisible\">inig-niet-maar-investeer-in-het-hoger-onderwijs/</span></a></p><p>Met een groot tekort op tal van functies en de wetenschap dat een goede startkwalificatie essentieel is voor jongeren, is dit veruit een van de meest bizarre ideeën van dit kabinet.<br />Op langere termijn zal ons dit veel gaan kosten.<br />(Zeker vele malen meer dan de &#39;bezuinigingen&#39;)</p><p>Maar ... vergeet ook de onderkant van het onderwijs niet!</p><p>(Via <span class=\"h-card\" translate=\"no\"><a href=\"https://mstdn.social/@fonolog\" class=\"u-url mention\">@<span>fonolog</span></a></span> (en <span class=\"h-card\" translate=\"no\"><a href=\"https://mastodon.nl/@neerlandistiek\" class=\"u-url mention\">@<span>neerlandistiek</span></a></span> natuurlijk😉))</p><p><a href=\"https://mastodon.nl/tags/Politiek\" class=\"mention hashtag\" rel=\"tag\">#<span>Politiek</span></a> <a href=\"https://mastodon.nl/tags/Onderwijs\" class=\"mention hashtag\" rel=\"tag\">#<span>Onderwijs</span></a> <a href=\"https://mastodon.nl/tags/dievier\" class=\"mention hashtag\" rel=\"tag\">#<span>dievier</span></a></p>"
      ],
      "text/plain": [
       "<IPython.core.display.HTML object>"
      ]
     },
     "metadata": {},
     "output_type": "display_data"
    },
    {
     "name": "stdout",
     "output_type": "stream",
     "text": [
      "____________________________________________________________________________________________________\n",
      "Toot 4\n",
      "\n",
      "\n"
     ]
    },
    {
     "data": {
      "text/html": [
       "<p>/2</p><p>Om dat laatste te verklaren: klopt dat we vaak meer betalen in de stad. Maar de hele basis (infrastructuur, etc) is door het dichter op elkaar wonen gewoon vele malen goedkoper en beter uit te voeren dan in dunner bewoonde gebieden.</p><p>&#39;Kennelijk&#39; willen we dat ook en zijn dan ook bereid om grote verschillen te betalen voor het leven in die stad of daar buiten.<br />😉</p><p><a href=\"https://mastodon.nl/tags/Politiek\" class=\"mention hashtag\" rel=\"tag\">#<span>Politiek</span></a> <a href=\"https://mastodon.nl/tags/Bevolkingsgroei\" class=\"mention hashtag\" rel=\"tag\">#<span>Bevolkingsgroei</span></a> <a href=\"https://mastodon.nl/tags/Vol\" class=\"mention hashtag\" rel=\"tag\">#<span>Vol</span></a></p>"
      ],
      "text/plain": [
       "<IPython.core.display.HTML object>"
      ]
     },
     "metadata": {},
     "output_type": "display_data"
    },
    {
     "name": "stdout",
     "output_type": "stream",
     "text": [
      "____________________________________________________________________________________________________\n",
      "Toot 5\n",
      "\n",
      "\n"
     ]
    },
    {
     "data": {
      "text/html": [
       "<p>2/2 <a href=\"https://mastodon.social/tags/motie\" class=\"mention hashtag\" rel=\"nofollow noopener noreferrer\" target=\"_blank\">#<span>motie</span></a> <a href=\"https://mastodon.social/tags/BenteBecker\" class=\"mention hashtag\" rel=\"nofollow noopener noreferrer\" target=\"_blank\">#<span>BenteBecker</span></a> <a href=\"https://mastodon.social/tags/islamofobie\" class=\"mention hashtag\" rel=\"nofollow noopener noreferrer\" target=\"_blank\">#<span>islamofobie</span></a> <a href=\"https://mastodon.social/tags/politiek\" class=\"mention hashtag\" rel=\"nofollow noopener noreferrer\" target=\"_blank\">#<span>politiek</span></a> <a href=\"https://mastodon.social/tags/SP\" class=\"mention hashtag\" rel=\"nofollow noopener noreferrer\" target=\"_blank\">#<span>SP</span></a> <a href=\"https://mastodon.social/tags/CU\" class=\"mention hashtag\" rel=\"nofollow noopener noreferrer\" target=\"_blank\">#<span>CU</span></a> <a href=\"https://mastodon.social/tags/CDA\" class=\"mention hashtag\" rel=\"nofollow noopener noreferrer\" target=\"_blank\">#<span>CDA</span></a> <a href=\"https://mastodon.social/tags/SGP\" class=\"mention hashtag\" rel=\"nofollow noopener noreferrer\" target=\"_blank\">#<span>SGP</span></a> <a href=\"https://mastodon.social/tags/JA21\" class=\"mention hashtag\" rel=\"nofollow noopener noreferrer\" target=\"_blank\">#<span>JA21</span></a> <a href=\"https://mastodon.social/tags/FVD\" class=\"mention hashtag\" rel=\"nofollow noopener noreferrer\" target=\"_blank\">#<span>FVD</span></a> <a href=\"https://mastodon.social/tags/VVD\" class=\"mention hashtag\" rel=\"nofollow noopener noreferrer\" target=\"_blank\">#<span>VVD</span></a> <a href=\"https://mastodon.social/tags/PVV\" class=\"mention hashtag\" rel=\"nofollow noopener noreferrer\" target=\"_blank\">#<span>PVV</span></a> <a href=\"https://mastodon.social/tags/BBB\" class=\"mention hashtag\" rel=\"nofollow noopener noreferrer\" target=\"_blank\">#<span>BBB</span></a> <a href=\"https://mastodon.social/tags/NSC\" class=\"mention hashtag\" rel=\"nofollow noopener noreferrer\" target=\"_blank\">#<span>NSC</span></a></p>"
      ],
      "text/plain": [
       "<IPython.core.display.HTML object>"
      ]
     },
     "metadata": {},
     "output_type": "display_data"
    },
    {
     "name": "stdout",
     "output_type": "stream",
     "text": [
      "____________________________________________________________________________________________________\n",
      "Toot 6\n",
      "\n",
      "\n"
     ]
    },
    {
     "data": {
      "text/html": [
       "<p>Een van de redenen waarom ik een hekel heb aan de <a href=\"https://mastodon.social/tags/SP\" class=\"mention hashtag\" rel=\"nofollow noopener noreferrer\" target=\"_blank\">#<span>SP</span></a>, met hun bruin-roze ideeën. En kijk ook even naar de gristenen van de <a href=\"https://mastodon.social/tags/CU\" class=\"mention hashtag\" rel=\"nofollow noopener noreferrer\" target=\"_blank\">#<span>CU</span></a> en <a href=\"https://mastodon.social/tags/CDA\" class=\"mention hashtag\" rel=\"nofollow noopener noreferrer\" target=\"_blank\">#<span>CDA</span></a> die op dit punt graag in bed kruipen met de extreemrechtse coalitie en deze walgelijke motie steunen.<br>Om het nog maar niet over de schijnheilen van <a href=\"https://mastodon.social/tags/NSC\" class=\"mention hashtag\" rel=\"nofollow noopener noreferrer\" target=\"_blank\">#<span>NSC</span></a> te hebben. </p><p><a href=\"https://mastodon.social/tags/motie\" class=\"mention hashtag\" rel=\"nofollow noopener noreferrer\" target=\"_blank\">#<span>motie</span></a> <a href=\"https://mastodon.social/tags/BenteBecker\" class=\"mention hashtag\" rel=\"nofollow noopener noreferrer\" target=\"_blank\">#<span>BenteBecker</span></a> <a href=\"https://mastodon.social/tags/VVD\" class=\"mention hashtag\" rel=\"nofollow noopener noreferrer\" target=\"_blank\">#<span>VVD</span></a> <a href=\"https://mastodon.social/tags/politiek\" class=\"mention hashtag\" rel=\"nofollow noopener noreferrer\" target=\"_blank\">#<span>politiek</span></a> <a href=\"https://mastodon.social/tags/islamofobie\" class=\"mention hashtag\" rel=\"nofollow noopener noreferrer\" target=\"_blank\">#<span>islamofobie</span></a></p>"
      ],
      "text/plain": [
       "<IPython.core.display.HTML object>"
      ]
     },
     "metadata": {},
     "output_type": "display_data"
    },
    {
     "name": "stdout",
     "output_type": "stream",
     "text": [
      "____________________________________________________________________________________________________\n",
      "Toot 7\n",
      "\n",
      "\n"
     ]
    },
    {
     "data": {
      "text/html": [
       "<p>Het lijkt me nauwelijks serieus te nemen: “Het voorstel houdt in dat er voor zo'n 360 miljoen euro aan voorgenomen bezuinigingen wordt teruggedraaid. Dat is veel minder dan de 1,3 miljard euro waar de vijf oppositiepartijen op inzetten.”<br><a href=\"https://nos.nl/l/2546836\" rel=\"nofollow noopener noreferrer\" translate=\"no\" target=\"_blank\"><span class=\"invisible\">https://</span><span class=\"\">nos.nl/l/2546836</span><span class=\"invisible\"></span></a><br><a href=\"https://mastodon.social/tags/onderwijs\" class=\"mention hashtag\" rel=\"nofollow noopener noreferrer\" target=\"_blank\">#<span>onderwijs</span></a> <a href=\"https://mastodon.social/tags/politiek\" class=\"mention hashtag\" rel=\"nofollow noopener noreferrer\" target=\"_blank\">#<span>politiek</span></a> <a href=\"https://mastodon.social/tags/bezuinigingen\" class=\"mention hashtag\" rel=\"nofollow noopener noreferrer\" target=\"_blank\">#<span>bezuinigingen</span></a></p>"
      ],
      "text/plain": [
       "<IPython.core.display.HTML object>"
      ]
     },
     "metadata": {},
     "output_type": "display_data"
    },
    {
     "name": "stdout",
     "output_type": "stream",
     "text": [
      "____________________________________________________________________________________________________\n",
      "Toot 8\n",
      "\n",
      "\n"
     ]
    },
    {
     "data": {
      "text/html": [
       "<p>\"Ambtenaren kraken onderwijsbezuinigingen, slecht nieuws voor coalitie: ‘scholen vanaf 2026 in problemen’\"<br><a href=\"https://www.ad.nl/politiek/ambtenaren-kraken-onderwijsbezuinigingen-slecht-nieuws-voor-coalitie-scholen-vanaf-2026-in-problemen~a246c306/?referrer=https%3A%2F%2Fbsky.app%2F\" rel=\"nofollow noopener noreferrer\" translate=\"no\" target=\"_blank\"><span class=\"invisible\">https://www.</span><span class=\"ellipsis\">ad.nl/politiek/ambtenaren-krak</span><span class=\"invisible\">en-onderwijsbezuinigingen-slecht-nieuws-voor-coalitie-scholen-vanaf-2026-in-problemen~a246c306/?referrer=https%3A%2F%2Fbsky.app%2F</span></a><br><a href=\"https://mastodon.social/tags/politiek\" class=\"mention hashtag\" rel=\"nofollow noopener noreferrer\" target=\"_blank\">#<span>politiek</span></a> <a href=\"https://mastodon.social/tags/onderwijs\" class=\"mention hashtag\" rel=\"nofollow noopener noreferrer\" target=\"_blank\">#<span>onderwijs</span></a> <a href=\"https://mastodon.social/tags/bezuinigingen\" class=\"mention hashtag\" rel=\"nofollow noopener noreferrer\" target=\"_blank\">#<span>bezuinigingen</span></a> <a href=\"https://mastodon.social/tags/schoof\" class=\"mention hashtag\" rel=\"nofollow noopener noreferrer\" target=\"_blank\">#<span>schoof</span></a> <a href=\"https://mastodon.social/tags/kabinet\" class=\"mention hashtag\" rel=\"nofollow noopener noreferrer\" target=\"_blank\">#<span>kabinet</span></a></p>"
      ],
      "text/plain": [
       "<IPython.core.display.HTML object>"
      ]
     },
     "metadata": {},
     "output_type": "display_data"
    },
    {
     "name": "stdout",
     "output_type": "stream",
     "text": [
      "____________________________________________________________________________________________________\n",
      "Toot 9\n",
      "\n",
      "\n"
     ]
    },
    {
     "data": {
      "text/html": [
       "<p><span class=\"h-card\" translate=\"no\"><a href=\"https://mastodon.nl/@SandraDeHaan\" class=\"u-url mention\">@<span>SandraDeHaan</span></a></span> ahh... De traditionele VVD witwasmachine was volledig in bedrijf dus. 😅</p><p><a href=\"https://mastodon.nl/tags/Politiek\" class=\"mention hashtag\" rel=\"tag\">#<span>Politiek</span></a> <a href=\"https://mastodon.nl/tags/VVD\" class=\"mention hashtag\" rel=\"tag\">#<span>VVD</span></a></p>"
      ],
      "text/plain": [
       "<IPython.core.display.HTML object>"
      ]
     },
     "metadata": {},
     "output_type": "display_data"
    },
    {
     "name": "stdout",
     "output_type": "stream",
     "text": [
      "____________________________________________________________________________________________________\n",
      "Toot 10\n",
      "\n",
      "\n"
     ]
    },
    {
     "data": {
      "text/html": [
       "<p>Van Timmermans’ drie miljard beloofde bomen is nog geen procent geplant - <span class=\"h-card\" translate=\"no\"><a href=\"https://mastodon.nl/@volkskrant\" class=\"u-url mention\">@<span>volkskrant</span></a></span> <br /><a href=\"https://www.volkskrant.nl/kijkverder/v/2024/van-timmermans-3-miljard-beloofde-bomen-is-nog-geen-procent-geplant~v1192344/\" target=\"_blank\" rel=\"nofollow noopener noreferrer\" translate=\"no\"><span class=\"invisible\">https://www.</span><span class=\"ellipsis\">volkskrant.nl/kijkverder/v/202</span><span class=\"invisible\">4/van-timmermans-3-miljard-beloofde-bomen-is-nog-geen-procent-geplant~v1192344/</span></a></p><p>Misschien moeten we iets minder &#39;spelen&#39; met apps en cijfers en wat meer hands on aan de slag gaan?</p><p>Archive link: <a href=\"https://archive.ph/npVhW\" target=\"_blank\" rel=\"nofollow noopener noreferrer\" translate=\"no\"><span class=\"invisible\">https://</span><span class=\"\">archive.ph/npVhW</span><span class=\"invisible\"></span></a></p><p><a href=\"https://mastodon.nl/tags/Politiek\" class=\"mention hashtag\" rel=\"tag\">#<span>Politiek</span></a> <a href=\"https://mastodon.nl/tags/EU\" class=\"mention hashtag\" rel=\"tag\">#<span>EU</span></a> <a href=\"https://mastodon.nl/tags/Greendeal\" class=\"mention hashtag\" rel=\"tag\">#<span>Greendeal</span></a></p>"
      ],
      "text/plain": [
       "<IPython.core.display.HTML object>"
      ]
     },
     "metadata": {},
     "output_type": "display_data"
    },
    {
     "name": "stdout",
     "output_type": "stream",
     "text": [
      "____________________________________________________________________________________________________\n"
     ]
    }
   ],
   "source": [
    "#Print the 10 most recent toots with the specified 'q' hashtag \n",
    "q = \"#politiek\"\n",
    "search_results = API.search_v2(q)\n",
    "for n in range(10):\n",
    "    print(f\"Toot {n+1}\\n\\n\")\n",
    "    html = search_results[\"statuses\"][n][\"content\"]\n",
    "    display(HTML(html))\n",
    "    print(\"_\"*100)"
   ]
  },
  {
   "cell_type": "code",
   "execution_count": 10,
   "id": "01d65151-aae2-4bae-bd6f-780a4067f1f8",
   "metadata": {},
   "outputs": [
    {
     "name": "stdout",
     "output_type": "stream",
     "text": [
      "Toot 1\n",
      "\n"
     ]
    },
    {
     "data": {
      "text/html": [
       "<p><span class=\"h-card\" translate=\"no\"><a href=\"https://mastodon.social/@JRienke\" class=\"u-url mention\">@<span>JRienke</span></a></span> we zitten met het kabinet wat uiteindelijk het minst voor elkaar gekregen heeft en bakken met geld moet bijlappen voor de vele missers.</p><p>Slechts de VVD zal tevreden kunnen zijn: hun &#39;beleid&#39; is binnen en ze kunnen meehuilen met oppositie dat t kabinet er verder een puinhoop van maakt.</p><p>Je zou bijna denken dat ze op de achtergrond heel erg hun best hiervoor gedaan hebben.</p><p><a href=\"https://mastodon.nl/tags/Politiek\" class=\"mention hashtag\" rel=\"tag\">#<span>Politiek</span></a> <a href=\"https://mastodon.nl/tags/VVD\" class=\"mention hashtag\" rel=\"tag\">#<span>VVD</span></a> <a href=\"https://mastodon.nl/tags/dievier\" class=\"mention hashtag\" rel=\"tag\">#<span>dievier</span></a></p>"
      ],
      "text/plain": [
       "<IPython.core.display.HTML object>"
      ]
     },
     "metadata": {},
     "output_type": "display_data"
    },
    {
     "name": "stdout",
     "output_type": "stream",
     "text": [
      "Date/Time: 2024-12-04 10:05:57.482000+00:00\n",
      "____________________________________________________________________________________________________\n",
      "Toot 2\n",
      "\n"
     ]
    },
    {
     "data": {
      "text/html": [
       "<p>Nog maar een keer delen omdat het zo slecht is. Motie Bente Becker van de VVD om de overheid culturele en religieuze normen en waarden van nederlanders met een migratieachtergrond te laten bij houden. Zo kwalijk en slecht dit, discriminerend, stigmatiserend, risicovol qua registratie etc.<br>Onze normen en waarden zijn prima vastgelegd in wet- en regelgeving, daar moet iedereen zich aan houden. Ongeacht  afkomst/religie etc. De VVD is niet liberaal meer.<br><a href=\"https://mastodon.social/tags/VVD\" class=\"mention hashtag\" rel=\"nofollow noopener noreferrer\" target=\"_blank\">#<span>VVD</span></a> <a href=\"https://mastodon.social/tags/BenteBecker\" class=\"mention hashtag\" rel=\"nofollow noopener noreferrer\" target=\"_blank\">#<span>BenteBecker</span></a> <a href=\"https://mastodon.social/tags/liberalen\" class=\"mention hashtag\" rel=\"nofollow noopener noreferrer\" target=\"_blank\">#<span>liberalen</span></a> <a href=\"https://mastodon.social/tags/politiek\" class=\"mention hashtag\" rel=\"nofollow noopener noreferrer\" target=\"_blank\">#<span>politiek</span></a></p>"
      ],
      "text/plain": [
       "<IPython.core.display.HTML object>"
      ]
     },
     "metadata": {},
     "output_type": "display_data"
    },
    {
     "name": "stdout",
     "output_type": "stream",
     "text": [
      "Date/Time: 2024-12-04 08:56:36+00:00\n",
      "____________________________________________________________________________________________________\n",
      "Toot 3\n",
      "\n"
     ]
    },
    {
     "data": {
      "text/html": [
       "<p>Bezuinig niet, maar investeer in het hoger onderwijs<br /><a href=\"https://neerlandistiek.nl/2024/12/bezuinig-niet-maar-investeer-in-het-hoger-onderwijs/\" target=\"_blank\" rel=\"nofollow noopener noreferrer\" translate=\"no\"><span class=\"invisible\">https://</span><span class=\"ellipsis\">neerlandistiek.nl/2024/12/bezu</span><span class=\"invisible\">inig-niet-maar-investeer-in-het-hoger-onderwijs/</span></a></p><p>Met een groot tekort op tal van functies en de wetenschap dat een goede startkwalificatie essentieel is voor jongeren, is dit veruit een van de meest bizarre ideeën van dit kabinet.<br />Op langere termijn zal ons dit veel gaan kosten.<br />(Zeker vele malen meer dan de &#39;bezuinigingen&#39;)</p><p>Maar ... vergeet ook de onderkant van het onderwijs niet!</p><p>(Via <span class=\"h-card\" translate=\"no\"><a href=\"https://mstdn.social/@fonolog\" class=\"u-url mention\">@<span>fonolog</span></a></span> (en <span class=\"h-card\" translate=\"no\"><a href=\"https://mastodon.nl/@neerlandistiek\" class=\"u-url mention\">@<span>neerlandistiek</span></a></span> natuurlijk😉))</p><p><a href=\"https://mastodon.nl/tags/Politiek\" class=\"mention hashtag\" rel=\"tag\">#<span>Politiek</span></a> <a href=\"https://mastodon.nl/tags/Onderwijs\" class=\"mention hashtag\" rel=\"tag\">#<span>Onderwijs</span></a> <a href=\"https://mastodon.nl/tags/dievier\" class=\"mention hashtag\" rel=\"tag\">#<span>dievier</span></a></p>"
      ],
      "text/plain": [
       "<IPython.core.display.HTML object>"
      ]
     },
     "metadata": {},
     "output_type": "display_data"
    },
    {
     "name": "stdout",
     "output_type": "stream",
     "text": [
      "Date/Time: 2024-12-04 07:44:19.535000+00:00\n",
      "____________________________________________________________________________________________________\n",
      "Toot 4\n",
      "\n"
     ]
    },
    {
     "data": {
      "text/html": [
       "<p>/2</p><p>Om dat laatste te verklaren: klopt dat we vaak meer betalen in de stad. Maar de hele basis (infrastructuur, etc) is door het dichter op elkaar wonen gewoon vele malen goedkoper en beter uit te voeren dan in dunner bewoonde gebieden.</p><p>&#39;Kennelijk&#39; willen we dat ook en zijn dan ook bereid om grote verschillen te betalen voor het leven in die stad of daar buiten.<br />😉</p><p><a href=\"https://mastodon.nl/tags/Politiek\" class=\"mention hashtag\" rel=\"tag\">#<span>Politiek</span></a> <a href=\"https://mastodon.nl/tags/Bevolkingsgroei\" class=\"mention hashtag\" rel=\"tag\">#<span>Bevolkingsgroei</span></a> <a href=\"https://mastodon.nl/tags/Vol\" class=\"mention hashtag\" rel=\"tag\">#<span>Vol</span></a></p>"
      ],
      "text/plain": [
       "<IPython.core.display.HTML object>"
      ]
     },
     "metadata": {},
     "output_type": "display_data"
    },
    {
     "name": "stdout",
     "output_type": "stream",
     "text": [
      "Date/Time: 2024-12-04 05:23:29.678000+00:00\n",
      "____________________________________________________________________________________________________\n",
      "Toot 5\n",
      "\n"
     ]
    },
    {
     "data": {
      "text/html": [
       "<p>2/2 <a href=\"https://mastodon.social/tags/motie\" class=\"mention hashtag\" rel=\"nofollow noopener noreferrer\" target=\"_blank\">#<span>motie</span></a> <a href=\"https://mastodon.social/tags/BenteBecker\" class=\"mention hashtag\" rel=\"nofollow noopener noreferrer\" target=\"_blank\">#<span>BenteBecker</span></a> <a href=\"https://mastodon.social/tags/islamofobie\" class=\"mention hashtag\" rel=\"nofollow noopener noreferrer\" target=\"_blank\">#<span>islamofobie</span></a> <a href=\"https://mastodon.social/tags/politiek\" class=\"mention hashtag\" rel=\"nofollow noopener noreferrer\" target=\"_blank\">#<span>politiek</span></a> <a href=\"https://mastodon.social/tags/SP\" class=\"mention hashtag\" rel=\"nofollow noopener noreferrer\" target=\"_blank\">#<span>SP</span></a> <a href=\"https://mastodon.social/tags/CU\" class=\"mention hashtag\" rel=\"nofollow noopener noreferrer\" target=\"_blank\">#<span>CU</span></a> <a href=\"https://mastodon.social/tags/CDA\" class=\"mention hashtag\" rel=\"nofollow noopener noreferrer\" target=\"_blank\">#<span>CDA</span></a> <a href=\"https://mastodon.social/tags/SGP\" class=\"mention hashtag\" rel=\"nofollow noopener noreferrer\" target=\"_blank\">#<span>SGP</span></a> <a href=\"https://mastodon.social/tags/JA21\" class=\"mention hashtag\" rel=\"nofollow noopener noreferrer\" target=\"_blank\">#<span>JA21</span></a> <a href=\"https://mastodon.social/tags/FVD\" class=\"mention hashtag\" rel=\"nofollow noopener noreferrer\" target=\"_blank\">#<span>FVD</span></a> <a href=\"https://mastodon.social/tags/VVD\" class=\"mention hashtag\" rel=\"nofollow noopener noreferrer\" target=\"_blank\">#<span>VVD</span></a> <a href=\"https://mastodon.social/tags/PVV\" class=\"mention hashtag\" rel=\"nofollow noopener noreferrer\" target=\"_blank\">#<span>PVV</span></a> <a href=\"https://mastodon.social/tags/BBB\" class=\"mention hashtag\" rel=\"nofollow noopener noreferrer\" target=\"_blank\">#<span>BBB</span></a> <a href=\"https://mastodon.social/tags/NSC\" class=\"mention hashtag\" rel=\"nofollow noopener noreferrer\" target=\"_blank\">#<span>NSC</span></a></p>"
      ],
      "text/plain": [
       "<IPython.core.display.HTML object>"
      ]
     },
     "metadata": {},
     "output_type": "display_data"
    },
    {
     "name": "stdout",
     "output_type": "stream",
     "text": [
      "Date/Time: 2024-12-04 05:05:48+00:00\n",
      "____________________________________________________________________________________________________\n",
      "Toot 6\n",
      "\n"
     ]
    },
    {
     "data": {
      "text/html": [
       "<p>Een van de redenen waarom ik een hekel heb aan de <a href=\"https://mastodon.social/tags/SP\" class=\"mention hashtag\" rel=\"nofollow noopener noreferrer\" target=\"_blank\">#<span>SP</span></a>, met hun bruin-roze ideeën. En kijk ook even naar de gristenen van de <a href=\"https://mastodon.social/tags/CU\" class=\"mention hashtag\" rel=\"nofollow noopener noreferrer\" target=\"_blank\">#<span>CU</span></a> en <a href=\"https://mastodon.social/tags/CDA\" class=\"mention hashtag\" rel=\"nofollow noopener noreferrer\" target=\"_blank\">#<span>CDA</span></a> die op dit punt graag in bed kruipen met de extreemrechtse coalitie en deze walgelijke motie steunen.<br>Om het nog maar niet over de schijnheilen van <a href=\"https://mastodon.social/tags/NSC\" class=\"mention hashtag\" rel=\"nofollow noopener noreferrer\" target=\"_blank\">#<span>NSC</span></a> te hebben. </p><p><a href=\"https://mastodon.social/tags/motie\" class=\"mention hashtag\" rel=\"nofollow noopener noreferrer\" target=\"_blank\">#<span>motie</span></a> <a href=\"https://mastodon.social/tags/BenteBecker\" class=\"mention hashtag\" rel=\"nofollow noopener noreferrer\" target=\"_blank\">#<span>BenteBecker</span></a> <a href=\"https://mastodon.social/tags/VVD\" class=\"mention hashtag\" rel=\"nofollow noopener noreferrer\" target=\"_blank\">#<span>VVD</span></a> <a href=\"https://mastodon.social/tags/politiek\" class=\"mention hashtag\" rel=\"nofollow noopener noreferrer\" target=\"_blank\">#<span>politiek</span></a> <a href=\"https://mastodon.social/tags/islamofobie\" class=\"mention hashtag\" rel=\"nofollow noopener noreferrer\" target=\"_blank\">#<span>islamofobie</span></a></p>"
      ],
      "text/plain": [
       "<IPython.core.display.HTML object>"
      ]
     },
     "metadata": {},
     "output_type": "display_data"
    },
    {
     "name": "stdout",
     "output_type": "stream",
     "text": [
      "Date/Time: 2024-12-04 05:02:19+00:00\n",
      "____________________________________________________________________________________________________\n",
      "Toot 7\n",
      "\n"
     ]
    },
    {
     "data": {
      "text/html": [
       "<p>Het lijkt me nauwelijks serieus te nemen: “Het voorstel houdt in dat er voor zo'n 360 miljoen euro aan voorgenomen bezuinigingen wordt teruggedraaid. Dat is veel minder dan de 1,3 miljard euro waar de vijf oppositiepartijen op inzetten.”<br><a href=\"https://nos.nl/l/2546836\" rel=\"nofollow noopener noreferrer\" translate=\"no\" target=\"_blank\"><span class=\"invisible\">https://</span><span class=\"\">nos.nl/l/2546836</span><span class=\"invisible\"></span></a><br><a href=\"https://mastodon.social/tags/onderwijs\" class=\"mention hashtag\" rel=\"nofollow noopener noreferrer\" target=\"_blank\">#<span>onderwijs</span></a> <a href=\"https://mastodon.social/tags/politiek\" class=\"mention hashtag\" rel=\"nofollow noopener noreferrer\" target=\"_blank\">#<span>politiek</span></a> <a href=\"https://mastodon.social/tags/bezuinigingen\" class=\"mention hashtag\" rel=\"nofollow noopener noreferrer\" target=\"_blank\">#<span>bezuinigingen</span></a></p>"
      ],
      "text/plain": [
       "<IPython.core.display.HTML object>"
      ]
     },
     "metadata": {},
     "output_type": "display_data"
    },
    {
     "name": "stdout",
     "output_type": "stream",
     "text": [
      "Date/Time: 2024-12-02 20:18:10+00:00\n",
      "____________________________________________________________________________________________________\n",
      "Toot 8\n",
      "\n"
     ]
    },
    {
     "data": {
      "text/html": [
       "<p>\"Ambtenaren kraken onderwijsbezuinigingen, slecht nieuws voor coalitie: ‘scholen vanaf 2026 in problemen’\"<br><a href=\"https://www.ad.nl/politiek/ambtenaren-kraken-onderwijsbezuinigingen-slecht-nieuws-voor-coalitie-scholen-vanaf-2026-in-problemen~a246c306/?referrer=https%3A%2F%2Fbsky.app%2F\" rel=\"nofollow noopener noreferrer\" translate=\"no\" target=\"_blank\"><span class=\"invisible\">https://www.</span><span class=\"ellipsis\">ad.nl/politiek/ambtenaren-krak</span><span class=\"invisible\">en-onderwijsbezuinigingen-slecht-nieuws-voor-coalitie-scholen-vanaf-2026-in-problemen~a246c306/?referrer=https%3A%2F%2Fbsky.app%2F</span></a><br><a href=\"https://mastodon.social/tags/politiek\" class=\"mention hashtag\" rel=\"nofollow noopener noreferrer\" target=\"_blank\">#<span>politiek</span></a> <a href=\"https://mastodon.social/tags/onderwijs\" class=\"mention hashtag\" rel=\"nofollow noopener noreferrer\" target=\"_blank\">#<span>onderwijs</span></a> <a href=\"https://mastodon.social/tags/bezuinigingen\" class=\"mention hashtag\" rel=\"nofollow noopener noreferrer\" target=\"_blank\">#<span>bezuinigingen</span></a> <a href=\"https://mastodon.social/tags/schoof\" class=\"mention hashtag\" rel=\"nofollow noopener noreferrer\" target=\"_blank\">#<span>schoof</span></a> <a href=\"https://mastodon.social/tags/kabinet\" class=\"mention hashtag\" rel=\"nofollow noopener noreferrer\" target=\"_blank\">#<span>kabinet</span></a></p>"
      ],
      "text/plain": [
       "<IPython.core.display.HTML object>"
      ]
     },
     "metadata": {},
     "output_type": "display_data"
    },
    {
     "name": "stdout",
     "output_type": "stream",
     "text": [
      "Date/Time: 2024-12-02 13:37:26+00:00\n",
      "____________________________________________________________________________________________________\n",
      "Toot 9\n",
      "\n"
     ]
    },
    {
     "data": {
      "text/html": [
       "<p><span class=\"h-card\" translate=\"no\"><a href=\"https://mastodon.nl/@SandraDeHaan\" class=\"u-url mention\">@<span>SandraDeHaan</span></a></span> ahh... De traditionele VVD witwasmachine was volledig in bedrijf dus. 😅</p><p><a href=\"https://mastodon.nl/tags/Politiek\" class=\"mention hashtag\" rel=\"tag\">#<span>Politiek</span></a> <a href=\"https://mastodon.nl/tags/VVD\" class=\"mention hashtag\" rel=\"tag\">#<span>VVD</span></a></p>"
      ],
      "text/plain": [
       "<IPython.core.display.HTML object>"
      ]
     },
     "metadata": {},
     "output_type": "display_data"
    },
    {
     "name": "stdout",
     "output_type": "stream",
     "text": [
      "Date/Time: 2024-12-02 07:59:40.495000+00:00\n",
      "____________________________________________________________________________________________________\n",
      "Toot 10\n",
      "\n"
     ]
    },
    {
     "data": {
      "text/html": [
       "<p>Van Timmermans’ drie miljard beloofde bomen is nog geen procent geplant - <span class=\"h-card\" translate=\"no\"><a href=\"https://mastodon.nl/@volkskrant\" class=\"u-url mention\">@<span>volkskrant</span></a></span> <br /><a href=\"https://www.volkskrant.nl/kijkverder/v/2024/van-timmermans-3-miljard-beloofde-bomen-is-nog-geen-procent-geplant~v1192344/\" target=\"_blank\" rel=\"nofollow noopener noreferrer\" translate=\"no\"><span class=\"invisible\">https://www.</span><span class=\"ellipsis\">volkskrant.nl/kijkverder/v/202</span><span class=\"invisible\">4/van-timmermans-3-miljard-beloofde-bomen-is-nog-geen-procent-geplant~v1192344/</span></a></p><p>Misschien moeten we iets minder &#39;spelen&#39; met apps en cijfers en wat meer hands on aan de slag gaan?</p><p>Archive link: <a href=\"https://archive.ph/npVhW\" target=\"_blank\" rel=\"nofollow noopener noreferrer\" translate=\"no\"><span class=\"invisible\">https://</span><span class=\"\">archive.ph/npVhW</span><span class=\"invisible\"></span></a></p><p><a href=\"https://mastodon.nl/tags/Politiek\" class=\"mention hashtag\" rel=\"tag\">#<span>Politiek</span></a> <a href=\"https://mastodon.nl/tags/EU\" class=\"mention hashtag\" rel=\"tag\">#<span>EU</span></a> <a href=\"https://mastodon.nl/tags/Greendeal\" class=\"mention hashtag\" rel=\"tag\">#<span>Greendeal</span></a></p>"
      ],
      "text/plain": [
       "<IPython.core.display.HTML object>"
      ]
     },
     "metadata": {},
     "output_type": "display_data"
    },
    {
     "name": "stdout",
     "output_type": "stream",
     "text": [
      "Date/Time: 2024-12-02 05:51:04.220000+00:00\n",
      "____________________________________________________________________________________________________\n",
      "Toot 11\n",
      "\n"
     ]
    },
    {
     "data": {
      "text/html": [
       "<p>/2</p><p>Een gesprek over het politieke en persoonlijke leven van Angela Merkel | <a href=\"https://mastodon.nl/tags/Buitenhof\" class=\"mention hashtag\" rel=\"tag\">#<span>Buitenhof</span></a> - (31 min)<br /><a href=\"https://m.youtube.com/watch?v=JC9KSNd8p_k\" target=\"_blank\" rel=\"nofollow noopener noreferrer\" translate=\"no\"><span class=\"invisible\">https://</span><span class=\"ellipsis\">m.youtube.com/watch?v=JC9KSNd8</span><span class=\"invisible\">p_k</span></a></p><p>En het hele interview (YouTube)</p><p>/3</p><p><a href=\"https://mastodon.nl/tags/Politiek\" class=\"mention hashtag\" rel=\"tag\">#<span>Politiek</span></a> <a href=\"https://mastodon.nl/tags/Duitsland\" class=\"mention hashtag\" rel=\"tag\">#<span>Duitsland</span></a> <a href=\"https://mastodon.nl/tags/Merkel\" class=\"mention hashtag\" rel=\"tag\">#<span>Merkel</span></a></p>"
      ],
      "text/plain": [
       "<IPython.core.display.HTML object>"
      ]
     },
     "metadata": {},
     "output_type": "display_data"
    },
    {
     "name": "stdout",
     "output_type": "stream",
     "text": [
      "Date/Time: 2024-12-02 01:33:14.206000+00:00\n",
      "____________________________________________________________________________________________________\n",
      "Toot 12\n",
      "\n"
     ]
    },
    {
     "data": {
      "text/html": [
       "<p>Deze week in Buitenhof: Angela Merkel over &#39;Vrijheid&#39;, Caspar van den Berg en Elianne Demollin-Schneiders in gesprek over bezuinigingen in het onderwijs, Anat Saragusti over persvrijheid in Israël<br /><a href=\"https://www.vpro.nl/buitenhof/lees/in-de-uitzending/2024/1-december.html\" target=\"_blank\" rel=\"nofollow noopener noreferrer\" translate=\"no\"><span class=\"invisible\">https://www.</span><span class=\"ellipsis\">vpro.nl/buitenhof/lees/in-de-u</span><span class=\"invisible\">itzending/2024/1-december.html</span></a></p><p>Angela Merkel was zondag bij Buitenhof voor een interview.</p><p>/2</p><p><a href=\"https://mastodon.nl/tags/Politiek\" class=\"mention hashtag\" rel=\"tag\">#<span>Politiek</span></a> <a href=\"https://mastodon.nl/tags/Duitsland\" class=\"mention hashtag\" rel=\"tag\">#<span>Duitsland</span></a> <a href=\"https://mastodon.nl/tags/Merkel\" class=\"mention hashtag\" rel=\"tag\">#<span>Merkel</span></a></p>"
      ],
      "text/plain": [
       "<IPython.core.display.HTML object>"
      ]
     },
     "metadata": {},
     "output_type": "display_data"
    },
    {
     "name": "stdout",
     "output_type": "stream",
     "text": [
      "Date/Time: 2024-12-02 01:31:35.140000+00:00\n",
      "____________________________________________________________________________________________________\n",
      "Toot 13\n",
      "\n"
     ]
    },
    {
     "data": {
      "text/html": [
       "<p><span class=\"h-card\" translate=\"no\"><a href=\"https://mastodon.nl/@henkdeligt\" class=\"u-url mention\">@<span>henkdeligt</span></a></span> zo&#39;n brief waaruit blijkt dat een minister volkomen van t padje af is... 🥴</p><p>(📸 uit link ⬆️)</p><p><a href=\"https://mastodon.nl/tags/politiek\" class=\"mention hashtag\" rel=\"tag\">#<span>politiek</span></a> <a href=\"https://mastodon.nl/tags/bouwen\" class=\"mention hashtag\" rel=\"tag\">#<span>bouwen</span></a> <a href=\"https://mastodon.nl/tags/nestkastjes\" class=\"mention hashtag\" rel=\"tag\">#<span>nestkastjes</span></a></p>"
      ],
      "text/plain": [
       "<IPython.core.display.HTML object>"
      ]
     },
     "metadata": {},
     "output_type": "display_data"
    },
    {
     "name": "stdout",
     "output_type": "stream",
     "text": [
      "Date/Time: 2024-12-01 23:43:57.292000+00:00\n",
      "____________________________________________________________________________________________________\n",
      "Toot 14\n",
      "\n"
     ]
    },
    {
     "data": {
      "text/html": [
       "<p>Zeer terechte kritiek van SP.</p><p>'Waar zijn “die zogenaamde oppositiepartijen” mee bezig, vroeg Dijk zaterdag tijdens de partijraad van de SP. “Hoezo helpen CDA, CU en D66 dit kabinet aan een meerderheid? Hoezo helpen zij dit kabinet met meer bezuinigingspolitiek? Straks zetten ze de boete op studeren om in een hogere boete op ziek zijn. Het is een gevaarlijk polarisatiespel waar CDA, CU én D66 aan meewerken.'</p><p><a href=\"https://www.bnnvara.nl/joop/artikelen/jimmy-dijk-hoezo-helpen-d66-cda-en-cu-dit-kabinet-met-bezuinigingspolitiek\" rel=\"nofollow noopener noreferrer\" translate=\"no\" target=\"_blank\"><span class=\"invisible\">https://www.</span><span class=\"ellipsis\">bnnvara.nl/joop/artikelen/jimm</span><span class=\"invisible\">y-dijk-hoezo-helpen-d66-cda-en-cu-dit-kabinet-met-bezuinigingspolitiek</span></a></p><p><a href=\"https://mastodon.social/tags/collaboratie\" class=\"mention hashtag\" rel=\"nofollow noopener noreferrer\" target=\"_blank\">#<span>collaboratie</span></a> <a href=\"https://mastodon.social/tags/politiek\" class=\"mention hashtag\" rel=\"nofollow noopener noreferrer\" target=\"_blank\">#<span>politiek</span></a> <a href=\"https://mastodon.social/tags/cda\" class=\"mention hashtag\" rel=\"nofollow noopener noreferrer\" target=\"_blank\">#<span>cda</span></a> <a href=\"https://mastodon.social/tags/cu\" class=\"mention hashtag\" rel=\"nofollow noopener noreferrer\" target=\"_blank\">#<span>cu</span></a> <a href=\"https://mastodon.social/tags/d66\" class=\"mention hashtag\" rel=\"nofollow noopener noreferrer\" target=\"_blank\">#<span>d66</span></a> <a href=\"https://mastodon.social/tags/onderwijsbezuinigingen\" class=\"mention hashtag\" rel=\"nofollow noopener noreferrer\" target=\"_blank\">#<span>onderwijsbezuinigingen</span></a></p>"
      ],
      "text/plain": [
       "<IPython.core.display.HTML object>"
      ]
     },
     "metadata": {},
     "output_type": "display_data"
    },
    {
     "name": "stdout",
     "output_type": "stream",
     "text": [
      "Date/Time: 2024-12-01 09:31:52+00:00\n",
      "____________________________________________________________________________________________________\n",
      "Toot 15\n",
      "\n"
     ]
    },
    {
     "data": {
      "text/html": [
       "<p><span class=\"h-card\" translate=\"no\"><a href=\"https://mastodontech.de/@alterelefant\" class=\"u-url mention\">@<span>alterelefant</span></a></span> <span class=\"h-card\" translate=\"no\"><a href=\"https://mastodon.nl/@ChrisAalberts\" class=\"u-url mention\">@<span>ChrisAalberts</span></a></span> &#39;HET&#39; probleem van de VVD zie ik vooral samengevat in dit ⬇️ ene zinnetje. </p><p>Het kan toch eigenlijk niet zo zijn dat een &#39;politiek leider&#39; na al die jaren nog niet zeker is van haar positie, aanzien, status en leiderschap?</p><p>Dr zijj ongetwijfeld boeken vol te schrijven over het hoe en waarom. (Gaat ook ongetwijfeld gebeuren)</p><p>Ik wens de VVD vooral veel sterkte toe de komende jaren. Net als het CDA eerder, zal de VVD dat ook nodig hebben.</p><p><a href=\"https://mastodon.nl/tags/Politiek\" class=\"mention hashtag\" rel=\"tag\">#<span>Politiek</span></a> <a href=\"https://mastodon.nl/tags/VVD\" class=\"mention hashtag\" rel=\"tag\">#<span>VVD</span></a></p>"
      ],
      "text/plain": [
       "<IPython.core.display.HTML object>"
      ]
     },
     "metadata": {},
     "output_type": "display_data"
    },
    {
     "name": "stdout",
     "output_type": "stream",
     "text": [
      "Date/Time: 2024-12-01 07:12:06.740000+00:00\n",
      "____________________________________________________________________________________________________\n",
      "Toot 16\n",
      "\n"
     ]
    },
    {
     "data": {
      "text/html": [
       "<p>/2</p><p>Vergeet niet dat al die afspraken tussen Dievier eigenlijk niet veel waard zijn. Uiteindelijk gaat het om het beleid dat uitgevoerd wordt.</p><p>Daar zit het voor de VVD kennelijk wel snor. </p><p><a href=\"https://mastodon.nl/tags/Politiek\" class=\"mention hashtag\" rel=\"tag\">#<span>Politiek</span></a> <a href=\"https://mastodon.nl/tags/Dievier\" class=\"mention hashtag\" rel=\"tag\">#<span>Dievier</span></a> <a href=\"https://mastodon.nl/tags/VVD\" class=\"mention hashtag\" rel=\"tag\">#<span>VVD</span></a></p>"
      ],
      "text/plain": [
       "<IPython.core.display.HTML object>"
      ]
     },
     "metadata": {},
     "output_type": "display_data"
    },
    {
     "name": "stdout",
     "output_type": "stream",
     "text": [
      "Date/Time: 2024-11-30 18:05:06.040000+00:00\n",
      "____________________________________________________________________________________________________\n",
      "Toot 17\n",
      "\n"
     ]
    },
    {
     "data": {
      "text/html": [
       "<p>VVD worstelt met ‘onaangenaam kabinet’, maar wil door met PVV, NSC en BBB | de <span class=\"h-card\" translate=\"no\"><a href=\"https://mastodon.nl/@volkskrant\" class=\"u-url mention\">@<span>volkskrant</span></a></span><br /><a href=\"https://www.volkskrant.nl/politiek/vvd-worstelt-met-onaangenaam-kabinet-maar-wil-door-met-pvv-nsc-en-bbb~bb8590c7/\" target=\"_blank\" rel=\"nofollow noopener noreferrer\" translate=\"no\"><span class=\"invisible\">https://www.</span><span class=\"ellipsis\">volkskrant.nl/politiek/vvd-wor</span><span class=\"invisible\">stelt-met-onaangenaam-kabinet-maar-wil-door-met-pvv-nsc-en-bbb~bb8590c7/</span></a></p><p>Van Dievier is er eentje geweest die zich vanaf het begin waarschijnlijk grondig heeft voorbereid op de achtergrond. Vanaf het begin kreeg ik de indruk dat de VVD heel duidelijk gewerkt heeft aan de (voor de partij) belangrijke posten en personen. </p><p>En Yesilgöz? Die was de afleiding in de piste bij de anderen.</p><p>/2</p><p><a href=\"https://mastodon.nl/tags/Politiek\" class=\"mention hashtag\" rel=\"tag\">#<span>Politiek</span></a> <a href=\"https://mastodon.nl/tags/Dievier\" class=\"mention hashtag\" rel=\"tag\">#<span>Dievier</span></a> <a href=\"https://mastodon.nl/tags/VVD\" class=\"mention hashtag\" rel=\"tag\">#<span>VVD</span></a></p>"
      ],
      "text/plain": [
       "<IPython.core.display.HTML object>"
      ]
     },
     "metadata": {},
     "output_type": "display_data"
    },
    {
     "name": "stdout",
     "output_type": "stream",
     "text": [
      "Date/Time: 2024-11-30 18:02:25.012000+00:00\n",
      "____________________________________________________________________________________________________\n",
      "Toot 18\n",
      "\n"
     ]
    },
    {
     "data": {
      "text/html": [
       "<p>Dit is een goede actie voor een projectleider / uitvoerder. Maar of het een goede uitspraak is voor in de politiek op dit moment?<br /><a href=\"https://nos.nl/artikel/2546449-schoof-roept-coalitie-op-maak-totaalpakket-met-oppositie\" target=\"_blank\" rel=\"nofollow noopener noreferrer\" translate=\"no\"><span class=\"invisible\">https://</span><span class=\"ellipsis\">nos.nl/artikel/2546449-schoof-</span><span class=\"invisible\">roept-coalitie-op-maak-totaalpakket-met-oppositie</span></a><br /><a href=\"https://mastodon.nl/tags/dievier\" class=\"mention hashtag\" rel=\"tag\">#<span>dievier</span></a> <a href=\"https://mastodon.nl/tags/politiek\" class=\"mention hashtag\" rel=\"tag\">#<span>politiek</span></a> <a href=\"https://mastodon.nl/tags/schoof\" class=\"mention hashtag\" rel=\"tag\">#<span>schoof</span></a> <a href=\"https://mastodon.nl/tags/groenlinkspvda\" class=\"mention hashtag\" rel=\"tag\">#<span>groenlinkspvda</span></a></p>"
      ],
      "text/plain": [
       "<IPython.core.display.HTML object>"
      ]
     },
     "metadata": {},
     "output_type": "display_data"
    },
    {
     "name": "stdout",
     "output_type": "stream",
     "text": [
      "Date/Time: 2024-11-30 17:56:45.846000+00:00\n",
      "____________________________________________________________________________________________________\n",
      "Toot 19\n",
      "\n"
     ]
    },
    {
     "data": {
      "text/html": [
       "<p>Als ik af en toe op X kijk zie ik het steeds extremer worden zoals dit Tweede Kamerlid die een opdracht over klimaatverandering af doet als gepolitiseerd onderwijs.<br><a href=\"https://mastodon.social/tags/bbb\" class=\"mention hashtag\" rel=\"nofollow noopener noreferrer\" target=\"_blank\">#<span>bbb</span></a> <a href=\"https://mastodon.social/tags/politiek\" class=\"mention hashtag\" rel=\"nofollow noopener noreferrer\" target=\"_blank\">#<span>politiek</span></a> <a href=\"https://mastodon.social/tags/x\" class=\"mention hashtag\" rel=\"nofollow noopener noreferrer\" target=\"_blank\">#<span>x</span></a> <a href=\"https://mastodon.social/tags/klimaatverandering\" class=\"mention hashtag\" rel=\"nofollow noopener noreferrer\" target=\"_blank\">#<span>klimaatverandering</span></a></p>"
      ],
      "text/plain": [
       "<IPython.core.display.HTML object>"
      ]
     },
     "metadata": {},
     "output_type": "display_data"
    },
    {
     "name": "stdout",
     "output_type": "stream",
     "text": [
      "Date/Time: 2024-11-30 16:28:06+00:00\n",
      "____________________________________________________________________________________________________\n",
      "Toot 20\n",
      "\n"
     ]
    },
    {
     "data": {
      "text/html": [
       "<p>Maar gif en roundup overal blijven spuiten is blijkbaar geen bezwaar voor de veiligheid van inwoners. Ik denk dat meer mensen schade hebben van roundup dan van de wolf. Het is een onderbuikgevoel maar tegenwoordig is dat gelijk aan de waarheid toch? <a href=\"https://mastodon.nl/tags/GekkenhuisHier\" class=\"mention hashtag\" rel=\"tag\">#<span>GekkenhuisHier</span></a> <a href=\"https://mastodon.nl/tags/bbb\" class=\"mention hashtag\" rel=\"tag\">#<span>bbb</span></a> <a href=\"https://mastodon.nl/tags/politiek\" class=\"mention hashtag\" rel=\"tag\">#<span>politiek</span></a> <a href=\"https://mastodon.nl/tags/vanpadjeaf\" class=\"mention hashtag\" rel=\"tag\">#<span>vanpadjeaf</span></a><br /><a href=\"https://mastodon.nl/@BrabantsBurgerplatform/113570924719444311\" target=\"_blank\" rel=\"nofollow noopener noreferrer\" translate=\"no\"><span class=\"invisible\">https://</span><span class=\"ellipsis\">mastodon.nl/@BrabantsBurgerpla</span><span class=\"invisible\">tform/113570924719444311</span></a></p>"
      ],
      "text/plain": [
       "<IPython.core.display.HTML object>"
      ]
     },
     "metadata": {},
     "output_type": "display_data"
    },
    {
     "name": "stdout",
     "output_type": "stream",
     "text": [
      "Date/Time: 2024-11-30 08:27:17.857000+00:00\n",
      "____________________________________________________________________________________________________\n",
      "Toot 21\n",
      "\n"
     ]
    },
    {
     "data": {
      "text/html": [
       "<p>Consensus en zo min mogelijk <a href=\"https://mastodon.nl/tags/oppositie\" class=\"mention hashtag\" rel=\"tag\">#<span>oppositie</span></a> lijkt <a href=\"https://mastodon.nl/tags/Schoof\" class=\"mention hashtag\" rel=\"tag\">#<span>Schoof</span></a> wel handig. Niks zo populistisch als het afwijzen van <a href=\"https://mastodon.nl/tags/politiek\" class=\"mention hashtag\" rel=\"tag\">#<span>politiek</span></a> <a href=\"https://mastodon.nl/tags/democratie\" class=\"mention hashtag\" rel=\"tag\">#<span>democratie</span></a></p>"
      ],
      "text/plain": [
       "<IPython.core.display.HTML object>"
      ]
     },
     "metadata": {},
     "output_type": "display_data"
    },
    {
     "name": "stdout",
     "output_type": "stream",
     "text": [
      "Date/Time: 2024-11-30 06:18:00.972000+00:00\n",
      "____________________________________________________________________________________________________\n",
      "Toot 22\n",
      "\n"
     ]
    },
    {
     "data": {
      "text/html": [
       "<p>\"De gretigheid waarmee de vier oppositiepartijen zich aanbieden, geeft ze wat vertrouwen. Nu de interne verhoudingen zo verstoord zijn dat van effectief regeren nauwelijks meer sprake is, is hulp van buiten welkomer dan ooit.\"</p><p>De benenwagen van Kabinet Schoof wordt nu gevormd door <a href=\"https://mastodon.social/tags/D66\" class=\"mention hashtag\" rel=\"nofollow noopener noreferrer\" target=\"_blank\">#<span>D66</span></a>, <a href=\"https://mastodon.social/tags/CDA\" class=\"mention hashtag\" rel=\"nofollow noopener noreferrer\" target=\"_blank\">#<span>CDA</span></a>, <a href=\"https://mastodon.social/tags/CU\" class=\"mention hashtag\" rel=\"nofollow noopener noreferrer\" target=\"_blank\">#<span>CU</span></a> en <a href=\"https://mastodon.social/tags/JA21\" class=\"mention hashtag\" rel=\"nofollow noopener noreferrer\" target=\"_blank\">#<span>JA21</span></a>. Wat een treurnis. </p><p><a href=\"https://www.nrc.nl/nieuws/2024/11/29/de-coalitie-van-het-kabinet-schoof-bestaat-alleen-nog-maar-op-papier-a4874956\" rel=\"nofollow noopener noreferrer\" translate=\"no\" target=\"_blank\"><span class=\"invisible\">https://www.</span><span class=\"ellipsis\">nrc.nl/nieuws/2024/11/29/de-co</span><span class=\"invisible\">alitie-van-het-kabinet-schoof-bestaat-alleen-nog-maar-op-papier-a4874956</span></a> <a href=\"https://mastodon.social/tags/politiek\" class=\"mention hashtag\" rel=\"nofollow noopener noreferrer\" target=\"_blank\">#<span>politiek</span></a></p>"
      ],
      "text/plain": [
       "<IPython.core.display.HTML object>"
      ]
     },
     "metadata": {},
     "output_type": "display_data"
    },
    {
     "name": "stdout",
     "output_type": "stream",
     "text": [
      "Date/Time: 2024-11-30 03:50:36+00:00\n",
      "____________________________________________________________________________________________________\n",
      "Toot 23\n",
      "\n"
     ]
    },
    {
     "data": {
      "text/html": [
       "<p><span class=\"h-card\" translate=\"no\"><a href=\"https://mstdn.social/@roelgrif\" class=\"u-url mention\">@<span>roelgrif</span></a></span> <span class=\"h-card\" translate=\"no\"><a href=\"https://mastodon.education/@wimpelgrim\" class=\"u-url mention\">@<span>wimpelgrim</span></a></span> </p><p>mijn god..., <br />🙈<br />Wat erg. Kan dat mens per kerende post vervangen worden door zak aardappelen ofzo. Zo&#39;n zak zegt misschien wat minder, maar is tenminste minder schadelijk voor de reputatie van het parlement.</p><p><a href=\"https://mastodon.nl/tags/Politiek\" class=\"mention hashtag\" rel=\"tag\">#<span>Politiek</span></a> <a href=\"https://mastodon.nl/tags/bbb\" class=\"mention hashtag\" rel=\"tag\">#<span>bbb</span></a> <a href=\"https://mastodon.nl/tags/vanZanten\" class=\"mention hashtag\" rel=\"tag\">#<span>vanZanten</span></a></p>"
      ],
      "text/plain": [
       "<IPython.core.display.HTML object>"
      ]
     },
     "metadata": {},
     "output_type": "display_data"
    },
    {
     "name": "stdout",
     "output_type": "stream",
     "text": [
      "Date/Time: 2024-11-29 20:37:03.757000+00:00\n",
      "____________________________________________________________________________________________________\n",
      "Toot 24\n",
      "\n"
     ]
    },
    {
     "data": {
      "text/html": [
       "<p><span class=\"h-card\" translate=\"no\"><a href=\"https://mastodon.nl/@SandraDeHaan\" class=\"u-url mention\">@<span>SandraDeHaan</span></a></span> de tekst “Dit is echt geen goed bestuur.” klopt natuurlijk volkomen, maar slaat op zowel haar zelf (vdPlas) als minister Faber.<br />😇</p><p>📸 uit link ⬆️</p><p><a href=\"https://mastodon.nl/tags/Politiek\" class=\"mention hashtag\" rel=\"tag\">#<span>Politiek</span></a> <a href=\"https://mastodon.nl/tags/vdPlas\" class=\"mention hashtag\" rel=\"tag\">#<span>vdPlas</span></a> <a href=\"https://mastodon.nl/tags/Faber\" class=\"mention hashtag\" rel=\"tag\">#<span>Faber</span></a></p>"
      ],
      "text/plain": [
       "<IPython.core.display.HTML object>"
      ]
     },
     "metadata": {},
     "output_type": "display_data"
    },
    {
     "name": "stdout",
     "output_type": "stream",
     "text": [
      "Date/Time: 2024-11-29 16:28:51.767000+00:00\n",
      "____________________________________________________________________________________________________\n",
      "Toot 25\n",
      "\n"
     ]
    },
    {
     "data": {
      "text/html": [
       "<p>In ieder geval titel/diploma van betreffende staats-secretaris afpakken lijkt me als ze inderdaad plagiaat heeft gepleegd. Of ze moet vertrekken is een politieke afweging.<br><a href=\"https://nos.nl/artikel/2546256-universiteit-onderzoekt-scriptie-staatssecretaris-maeijer-op-mogelijk-plagiaat\" rel=\"nofollow noopener noreferrer\" translate=\"no\" target=\"_blank\"><span class=\"invisible\">https://</span><span class=\"ellipsis\">nos.nl/artikel/2546256-univers</span><span class=\"invisible\">iteit-onderzoekt-scriptie-staatssecretaris-maeijer-op-mogelijk-plagiaat</span></a><br><a href=\"https://mastodon.social/tags/Maeijer\" class=\"mention hashtag\" rel=\"nofollow noopener noreferrer\" target=\"_blank\">#<span>Maeijer</span></a> <a href=\"https://mastodon.social/tags/plagiaat\" class=\"mention hashtag\" rel=\"nofollow noopener noreferrer\" target=\"_blank\">#<span>plagiaat</span></a> <a href=\"https://mastodon.social/tags/politiek\" class=\"mention hashtag\" rel=\"nofollow noopener noreferrer\" target=\"_blank\">#<span>politiek</span></a> <a href=\"https://mastodon.social/tags/PVV\" class=\"mention hashtag\" rel=\"nofollow noopener noreferrer\" target=\"_blank\">#<span>PVV</span></a></p>"
      ],
      "text/plain": [
       "<IPython.core.display.HTML object>"
      ]
     },
     "metadata": {},
     "output_type": "display_data"
    },
    {
     "name": "stdout",
     "output_type": "stream",
     "text": [
      "Date/Time: 2024-11-29 14:35:36+00:00\n",
      "____________________________________________________________________________________________________\n",
      "Toot 26\n",
      "\n"
     ]
    },
    {
     "data": {
      "text/html": [
       "<p>Het vergiftigen van ons land gaat dus door. \"Wiersma wil dat boeren hun pesticidengebruik op vrijwillige basis verlagen, een route die eerder mislukte\"<br><a href=\"https://www.volkskrant.nl/politiek/wiersma-wil-dat-boeren-hun-pesticidengebruik-op-vrijwillige-basis-verlagen-een-route-die-eerder-mislukte~bbcc6c87/?referrer=https://t.co/\" rel=\"nofollow noopener noreferrer\" translate=\"no\" target=\"_blank\"><span class=\"invisible\">https://www.</span><span class=\"ellipsis\">volkskrant.nl/politiek/wiersma</span><span class=\"invisible\">-wil-dat-boeren-hun-pesticidengebruik-op-vrijwillige-basis-verlagen-een-route-die-eerder-mislukte~bbcc6c87/?referrer=https://t.co/</span></a><br><a href=\"https://mastodon.social/tags/BBB\" class=\"mention hashtag\" rel=\"nofollow noopener noreferrer\" target=\"_blank\">#<span>BBB</span></a> <a href=\"https://mastodon.social/tags/Wiersma\" class=\"mention hashtag\" rel=\"nofollow noopener noreferrer\" target=\"_blank\">#<span>Wiersma</span></a> <a href=\"https://mastodon.social/tags/pesticiden\" class=\"mention hashtag\" rel=\"nofollow noopener noreferrer\" target=\"_blank\">#<span>pesticiden</span></a> <a href=\"https://mastodon.social/tags/gif\" class=\"mention hashtag\" rel=\"nofollow noopener noreferrer\" target=\"_blank\">#<span>gif</span></a> <a href=\"https://mastodon.social/tags/politiek\" class=\"mention hashtag\" rel=\"nofollow noopener noreferrer\" target=\"_blank\">#<span>politiek</span></a> <a href=\"https://mastodon.social/tags/boeren\" class=\"mention hashtag\" rel=\"nofollow noopener noreferrer\" target=\"_blank\">#<span>boeren</span></a></p>"
      ],
      "text/plain": [
       "<IPython.core.display.HTML object>"
      ]
     },
     "metadata": {},
     "output_type": "display_data"
    },
    {
     "name": "stdout",
     "output_type": "stream",
     "text": [
      "Date/Time: 2024-11-29 14:24:22+00:00\n",
      "____________________________________________________________________________________________________\n",
      "Toot 27\n",
      "\n"
     ]
    },
    {
     "data": {
      "text/html": [
       "<p>Mevrouw van der Plas (BBB) zwaaide dus met een rapport in de Tweede Kamer waarvan het kabinet het onwenselijk vindt dat het wordt verspreidt en waar Israel voor op de vingers wordt getikt.<br><a href=\"https://mastodon.social/tags/BBB\" class=\"mention hashtag\" rel=\"nofollow noopener noreferrer\" target=\"_blank\">#<span>BBB</span></a> <a href=\"https://mastodon.social/tags/VanderPlas\" class=\"mention hashtag\" rel=\"nofollow noopener noreferrer\" target=\"_blank\">#<span>VanderPlas</span></a> <a href=\"https://mastodon.social/tags/TweedeKamer\" class=\"mention hashtag\" rel=\"nofollow noopener noreferrer\" target=\"_blank\">#<span>TweedeKamer</span></a> <a href=\"https://mastodon.social/tags/politiek\" class=\"mention hashtag\" rel=\"nofollow noopener noreferrer\" target=\"_blank\">#<span>politiek</span></a> <a href=\"https://mastodon.social/tags/Israel\" class=\"mention hashtag\" rel=\"nofollow noopener noreferrer\" target=\"_blank\">#<span>Israel</span></a><br><a href=\"https://www.tweedekamer.nl/kamerstukken/brieven_regering/detail?id=2024Z19825&amp;did=2024D46901\" rel=\"nofollow noopener noreferrer\" translate=\"no\" target=\"_blank\"><span class=\"invisible\">https://www.</span><span class=\"ellipsis\">tweedekamer.nl/kamerstukken/br</span><span class=\"invisible\">ieven_regering/detail?id=2024Z19825&amp;did=2024D46901</span></a></p>"
      ],
      "text/plain": [
       "<IPython.core.display.HTML object>"
      ]
     },
     "metadata": {},
     "output_type": "display_data"
    },
    {
     "name": "stdout",
     "output_type": "stream",
     "text": [
      "Date/Time: 2024-11-29 14:09:05+00:00\n",
      "____________________________________________________________________________________________________\n",
      "Toot 28\n",
      "\n"
     ]
    },
    {
     "data": {
      "text/html": [
       "<p>Kabinet zeer ontstemd over verspreiding beschuldigend Israëlisch rapport -<a href=\"https://mastodon.nl/tags/NOS\" class=\"mention hashtag\" rel=\"tag\">#<span>NOS</span></a><br /><a href=\"https://nos.nl/l/2546413\" target=\"_blank\" rel=\"nofollow noopener noreferrer\" translate=\"no\"><span class=\"invisible\">https://</span><span class=\"\">nos.nl/l/2546413</span><span class=\"invisible\"></span></a></p><p>Weer moet het kabinet een stap terugnemen in de hele discussie over die &#39;Maccabi supporters&#39;.</p><p>Misschien wordt het echt tijd om eens met die onderbuik af te rekenen als die keer op keer tot onjuiste conclusies leidt.<br />🙈</p><p><a href=\"https://mastodon.nl/tags/Politiek\" class=\"mention hashtag\" rel=\"tag\">#<span>Politiek</span></a> <a href=\"https://mastodon.nl/tags/Israel\" class=\"mention hashtag\" rel=\"tag\">#<span>Israel</span></a> <a href=\"https://mastodon.nl/tags/MaccabiIncident\" class=\"mention hashtag\" rel=\"tag\">#<span>MaccabiIncident</span></a></p>"
      ],
      "text/plain": [
       "<IPython.core.display.HTML object>"
      ]
     },
     "metadata": {},
     "output_type": "display_data"
    },
    {
     "name": "stdout",
     "output_type": "stream",
     "text": [
      "Date/Time: 2024-11-29 13:46:20.977000+00:00\n",
      "____________________________________________________________________________________________________\n",
      "Toot 29\n",
      "\n"
     ]
    },
    {
     "data": {
      "text/html": [
       "<p>Privatisering Volksbank op losse schroeven na Kamerdebat - <a href=\"https://mastodon.nl/tags/NRC\" class=\"mention hashtag\" rel=\"tag\">#<span>NRC</span></a><br /><a href=\"https://www.nrc.nl/nieuws/2024/11/29/privatisering-volksbank-op-losse-schroeven-na-kamerdebat-a4874895\" target=\"_blank\" rel=\"nofollow noopener noreferrer\" translate=\"no\"><span class=\"invisible\">https://www.</span><span class=\"ellipsis\">nrc.nl/nieuws/2024/11/29/priva</span><span class=\"invisible\">tisering-volksbank-op-losse-schroeven-na-kamerdebat-a4874895</span></a></p><p>Een volgend dossier op losse schroeven na &#39;ideetje van het kabinet&#39;*.</p><p>De NRC conclusie &#39;wordt vervolgd&#39; is dus zeer terecht.</p><p>* + erfenis van vorig kabinet.</p><p>Archive link: <a href=\"https://archive.ph/KcSyw\" target=\"_blank\" rel=\"nofollow noopener noreferrer\" translate=\"no\"><span class=\"invisible\">https://</span><span class=\"\">archive.ph/KcSyw</span><span class=\"invisible\"></span></a></p><p><a href=\"https://mastodon.nl/tags/politiek\" class=\"mention hashtag\" rel=\"tag\">#<span>politiek</span></a> <a href=\"https://mastodon.nl/tags/Volksbank\" class=\"mention hashtag\" rel=\"tag\">#<span>Volksbank</span></a> <a href=\"https://mastodon.nl/tags/Privatisering\" class=\"mention hashtag\" rel=\"tag\">#<span>Privatisering</span></a></p>"
      ],
      "text/plain": [
       "<IPython.core.display.HTML object>"
      ]
     },
     "metadata": {},
     "output_type": "display_data"
    },
    {
     "name": "stdout",
     "output_type": "stream",
     "text": [
      "Date/Time: 2024-11-29 13:19:24.845000+00:00\n",
      "____________________________________________________________________________________________________\n",
      "Toot 30\n",
      "\n"
     ]
    },
    {
     "data": {
      "text/html": [
       "<p>\"Hij schreef zijn profielwerkstuk op het atheneum over Fortuyn.<br>[...]<br>In 2016 diende Nobel samen met de lokale Fortuynistenpartij Forza! een motie in die een taaltoets voor uitkeringsgerechtigden verplicht moest stellen. Van de Meeberg: „Wat daar fantastisch aan was, was dat de motie vol met spelfouten stond. Daar heb ik ’m ontzettend mee gepest. God wat hebben we toen gelachen. Hij was er zo boos over.”</p><p>Enfin.</p><p><a href=\"https://www.nrc.nl/nieuws/2024/11/28/eerst-duidelijk-neerzetten-en-dan-sussen-dat-is-de-werkwijze-van-de-ambitieuze-staatssecretaris-jurgen-nobel-a4874839\" rel=\"nofollow noopener noreferrer\" translate=\"no\" target=\"_blank\"><span class=\"invisible\">https://www.</span><span class=\"ellipsis\">nrc.nl/nieuws/2024/11/28/eerst</span><span class=\"invisible\">-duidelijk-neerzetten-en-dan-sussen-dat-is-de-werkwijze-van-de-ambitieuze-staatssecretaris-jurgen-nobel-a4874839</span></a> <a href=\"https://mastodon.social/tags/JurgenNobel\" class=\"mention hashtag\" rel=\"nofollow noopener noreferrer\" target=\"_blank\">#<span>JurgenNobel</span></a> <a href=\"https://mastodon.social/tags/VVD\" class=\"mention hashtag\" rel=\"nofollow noopener noreferrer\" target=\"_blank\">#<span>VVD</span></a> <a href=\"https://mastodon.social/tags/politiek\" class=\"mention hashtag\" rel=\"nofollow noopener noreferrer\" target=\"_blank\">#<span>politiek</span></a></p>"
      ],
      "text/plain": [
       "<IPython.core.display.HTML object>"
      ]
     },
     "metadata": {},
     "output_type": "display_data"
    },
    {
     "name": "stdout",
     "output_type": "stream",
     "text": [
      "Date/Time: 2024-11-29 11:57:46+00:00\n",
      "____________________________________________________________________________________________________\n",
      "Toot 31\n",
      "\n"
     ]
    },
    {
     "data": {
      "text/html": [
       "<p>Bijzonder hoe de VVD geen koers meer lijkt te hebben en steeds vaker de plank misslaat.<br><a href=\"https://nos.nl/l/2546361\" rel=\"nofollow noopener noreferrer\" translate=\"no\" target=\"_blank\"><span class=\"invisible\">https://</span><span class=\"\">nos.nl/l/2546361</span><span class=\"invisible\"></span></a><br><a href=\"https://mastodon.social/tags/VVD\" class=\"mention hashtag\" rel=\"nofollow noopener noreferrer\" target=\"_blank\">#<span>VVD</span></a> <a href=\"https://mastodon.social/tags/liberalisme\" class=\"mention hashtag\" rel=\"nofollow noopener noreferrer\" target=\"_blank\">#<span>liberalisme</span></a> <a href=\"https://mastodon.social/tags/religie\" class=\"mention hashtag\" rel=\"nofollow noopener noreferrer\" target=\"_blank\">#<span>religie</span></a> <a href=\"https://mastodon.social/tags/Yesilg%C3%B6z\" class=\"mention hashtag\" rel=\"nofollow noopener noreferrer\" target=\"_blank\">#<span>Yesilgöz</span></a> <a href=\"https://mastodon.social/tags/politiek\" class=\"mention hashtag\" rel=\"nofollow noopener noreferrer\" target=\"_blank\">#<span>politiek</span></a></p>"
      ],
      "text/plain": [
       "<IPython.core.display.HTML object>"
      ]
     },
     "metadata": {},
     "output_type": "display_data"
    },
    {
     "name": "stdout",
     "output_type": "stream",
     "text": [
      "Date/Time: 2024-11-29 10:28:20+00:00\n",
      "____________________________________________________________________________________________________\n",
      "Toot 32\n",
      "\n"
     ]
    },
    {
     "data": {
      "text/html": [
       "<p><span class=\"h-card\" translate=\"no\"><a href=\"https://mastodon.nl/@ArnoJanBoere\" class=\"u-url mention\">@<span>ArnoJanBoere</span></a></span> zolang de huidige EK er nog zit is Schoof feitelijk een schoothondje van de EK.<br />Zonder EK kan hij niets voor elkaar krijgen.</p><p>(Schoof is zich denk ik daar al lang van bewust en laat niet voor niets z&#39;n ministers politiek gezien crashen met hun &#39;beleid&#39;.)</p><p><a href=\"https://mastodon.nl/tags/Politiek\" class=\"mention hashtag\" rel=\"tag\">#<span>Politiek</span></a> <a href=\"https://mastodon.nl/tags/Schoof\" class=\"mention hashtag\" rel=\"tag\">#<span>Schoof</span></a> <a href=\"https://mastodon.nl/tags/Dievier\" class=\"mention hashtag\" rel=\"tag\">#<span>Dievier</span></a></p>"
      ],
      "text/plain": [
       "<IPython.core.display.HTML object>"
      ]
     },
     "metadata": {},
     "output_type": "display_data"
    },
    {
     "name": "stdout",
     "output_type": "stream",
     "text": [
      "Date/Time: 2024-11-29 09:28:03.496000+00:00\n",
      "____________________________________________________________________________________________________\n",
      "Toot 33\n",
      "\n"
     ]
    },
    {
     "data": {
      "text/html": [
       "<p><span class=\"h-card\" translate=\"no\"><a href=\"https://mastodon.social/@xs4me2\" class=\"u-url mention\">@<span>xs4me2</span></a></span> vooral een laatste minister die nog steeds niet door heeft dat het Nederlandse politieke stelsel uit 2 (zegge: TWEE) Kamers bestaat.</p><p>Zelfs Wilders had ondertussen door dat er overleg met meerdere (oppositie) partijen nodig was om tot een meerderheid te komen.</p><p>Diverse ministers van dit kabinet zijn vsn een &#39;bijzonder niveau&#39;.</p><p><a href=\"https://mastodon.nl/tags/Politiek\" class=\"mention hashtag\" rel=\"tag\">#<span>Politiek</span></a> <a href=\"https://mastodon.nl/tags/Onderwijs\" class=\"mention hashtag\" rel=\"tag\">#<span>Onderwijs</span></a> <a href=\"https://mastodon.nl/tags/Dievier\" class=\"mention hashtag\" rel=\"tag\">#<span>Dievier</span></a></p>"
      ],
      "text/plain": [
       "<IPython.core.display.HTML object>"
      ]
     },
     "metadata": {},
     "output_type": "display_data"
    },
    {
     "name": "stdout",
     "output_type": "stream",
     "text": [
      "Date/Time: 2024-11-28 19:34:47.234000+00:00\n",
      "____________________________________________________________________________________________________\n",
      "Toot 34\n",
      "\n"
     ]
    },
    {
     "data": {
      "text/html": [
       "<p>Hmm, zo te zien is de <a href=\"https://mastodon.social/tags/PVV\" class=\"mention hashtag\" rel=\"nofollow noopener noreferrer\" target=\"_blank\">#<span>PVV</span></a> de enige van de coalitie die nu hoger staat dan met de verkiezingen van <a href=\"https://mastodon.social/tags/tk23\" class=\"mention hashtag\" rel=\"nofollow noopener noreferrer\" target=\"_blank\">#<span>tk23</span></a>.</p><p><a href=\"https://mastodon.social/tags/politiek\" class=\"mention hashtag\" rel=\"nofollow noopener noreferrer\" target=\"_blank\">#<span>politiek</span></a> <a href=\"https://mastodon.social/tags/tk2023\" class=\"mention hashtag\" rel=\"nofollow noopener noreferrer\" target=\"_blank\">#<span>tk2023</span></a> <a href=\"https://mastodon.social/tags/vvd\" class=\"mention hashtag\" rel=\"nofollow noopener noreferrer\" target=\"_blank\">#<span>vvd</span></a> <a href=\"https://mastodon.social/tags/bbb\" class=\"mention hashtag\" rel=\"nofollow noopener noreferrer\" target=\"_blank\">#<span>bbb</span></a> <a href=\"https://mastodon.social/tags/nsc\" class=\"mention hashtag\" rel=\"nofollow noopener noreferrer\" target=\"_blank\">#<span>nsc</span></a>. <a href=\"https://mastodon.nl/@peilingwijzer/113561314414507102\" rel=\"nofollow noopener noreferrer\" translate=\"no\" target=\"_blank\"><span class=\"invisible\">https://</span><span class=\"ellipsis\">mastodon.nl/@peilingwijzer/113</span><span class=\"invisible\">561314414507102</span></a></p>"
      ],
      "text/plain": [
       "<IPython.core.display.HTML object>"
      ]
     },
     "metadata": {},
     "output_type": "display_data"
    },
    {
     "name": "stdout",
     "output_type": "stream",
     "text": [
      "Date/Time: 2024-11-28 15:42:30+00:00\n",
      "____________________________________________________________________________________________________\n",
      "Toot 35\n",
      "\n"
     ]
    },
    {
     "data": {
      "text/html": [
       "<p>\"Die Bezahlkarte für Asylbewerber ist Schikane.(...) Die einzigen Gewinner sind Firmen wie Visa und Mastercard.\"</p><p><a href=\"https://jacobin.de/artikel/bezahlkarte-gefluechtete-asylbewerber-secupay\" rel=\"nofollow noopener noreferrer\" translate=\"no\" target=\"_blank\"><span class=\"invisible\">https://</span><span class=\"ellipsis\">jacobin.de/artikel/bezahlkarte</span><span class=\"invisible\">-gefluechtete-asylbewerber-secupay</span></a></p><p><a href=\"https://chaos.social/tags/Bezahlkarte\" class=\"mention hashtag\" rel=\"nofollow noopener noreferrer\" target=\"_blank\">#<span>Bezahlkarte</span></a> <a href=\"https://chaos.social/tags/Asyl\" class=\"mention hashtag\" rel=\"nofollow noopener noreferrer\" target=\"_blank\">#<span>Asyl</span></a> <a href=\"https://chaos.social/tags/Politiek\" class=\"mention hashtag\" rel=\"nofollow noopener noreferrer\" target=\"_blank\">#<span>Politiek</span></a></p>"
      ],
      "text/plain": [
       "<IPython.core.display.HTML object>"
      ]
     },
     "metadata": {},
     "output_type": "display_data"
    },
    {
     "name": "stdout",
     "output_type": "stream",
     "text": [
      "Date/Time: 2024-11-27 22:24:43+00:00\n",
      "____________________________________________________________________________________________________\n",
      "Toot 36\n",
      "\n"
     ]
    },
    {
     "data": {
      "text/html": [
       "<p><strong>Generatiekloof</strong></p><p>Interessante longread bij de Correspondent : “<a href=\"https://decorrespondent.nl/15683/waarom-links-steeds-verkiezingen-verliest-en-nee-niet-omdat-de-kiezer-links-niet-begrijpt/c69ae80a-340a-01c8-287d-24c407aa70db\" rel=\"nofollow noopener noreferrer\" target=\"_blank\">Waarom links steeds verkiezingen verliest</a>“. Boeiend en fris geschreven met mooie grafiekjes en pakkende plaatjes. Toch mis ik in dit verhaal een beetje iets, namelijk&nbsp; :</p><blockquote><p>Bij iedere verkiezing is er weer een nieuwe lading jongeren ([1]) die mogen stemmen.</p></blockquote><p>Dat betekent in feite iedere keer weer een lading kiezers die nooit eerder heeft gestemd</p><p>en nog niet als “stemvast” aan te merken is en ook niet in grafieken terug te vinden is, dus bij vergelijkingen in verschil tussen verkiezingen resultaten vind ik dat dit feit meegenomen moet worden als kanttekening.</p><p>En deze nieuwe generatie kiezers is al eerder in beeld geweest. Zo zou de opmerkelijke winst van Forum voor Democratie (Baudet en Co) een paar jaar terug mede tot stand gekomen zijn doordat jeugd de TikTok filmpjes van FvD veelvuldig keek en deelden.</p><p>Ook vermoed ik dat het succes voor BBB en PVV van afgelopen November vorig jaar mede tot stand kwam door jeugdige stemmers.</p><p>Kees van Kooten en Wim de Bie zaten samen op <a href=\"https://daltondenhaag.nl/wim_de_bie/\" rel=\"nofollow noopener noreferrer\" target=\"_blank\">dezelfde Dalton school in Den Haag</a></p><p>Dat zal misschien geen toeval zijn geweest.</p><p><a href=\"https://www.devogids.nl/verschillen-dalton-vrijeschool-montessori/\" rel=\"nofollow noopener noreferrer\" target=\"_blank\">Dalton, Montessori, en Vrijeschool</a> zijn scholen die andere methoden gebruiken dan reguliere scholen, en zonder een enorme nadruk op cijfers en prestaties.</p><p>Ik heb de indruk dat er tegenwoordig een grotere vervreemding is tussen ouders en jongeren. De enorme populariteit van computer spellen en het eventuele escapisme wat daarbij kan komen kijken is een onderdeel daarvan. Terugdenkend aan de opkomst van Punk muziek en de “No future” tijd, kunnen we nu een soort introverte stilzwijgende “No future” generatie zien. Er is allerlei angst, klimaatcrisis, oorlogen, polarisatie, allerlei fake news op social media en angst om later geen huis te kunnen bemachtigen of voldoende geld te kunnen verdienen. Zoveel om je zorgen over te maken dat het verleidelijk is om je maar stil te houden en het leven zo eenvoudig mogelijk te houden met filmpjes kijken, plaatjes delen, en gamen.</p><p>Ik heb het idee dat vervreemding en generatiekloof groter is dan pakweg twintig jaar terug.</p><p>Er zou meer gepraat moeten worden, en niet alleen op social media.</p><p>Conclusie : Aan het correspondent artikel zou ik willen toevoegen dat de meer progressieve partijen weer meer outreach en communicatie richting de jeugd zouden moeten doen en dat is dus ook inclusief een nieuwe generatie stemmers die een volgende keer het rode potlood ook mogen hanteren.</p>   <p>[1] En nieuwe Nederlanders ? Ben niet zo bekend met de verkiezing spelregels wat betreft nieuwe statushouders, expats en naar Nederland terugkerende migraten.</p><p>Iemand ?</p><p>En het artikel gebruikt niet de woorden jeugd of jongeren maar heeft wel een stukje over “Een paar jaar geleden leek het er nog op dat de jongste generaties cultureel-progressiever worden.”</p><p>[2] Er zullen ook iedere verkiezingen een aantal mensen door overlijden uit het lijstje stemgerechtigden verdwijnen. Laten we voor het gemak voor deze context even aannemen dat het dan vooral om hoogbejaarden gaat.</p><p><a rel=\"nofollow noopener noreferrer\" class=\"hashtag u-tag u-category\" href=\"https://voltooidverledentijd.noblogs.org/post/tag/jeugd/\" target=\"_blank\">#jeugd</a> <a rel=\"nofollow noopener noreferrer\" class=\"hashtag u-tag u-category\" href=\"https://voltooidverledentijd.noblogs.org/post/tag/jongeren/\" target=\"_blank\">#jongeren</a> <a rel=\"nofollow noopener noreferrer\" class=\"hashtag u-tag u-category\" href=\"https://voltooidverledentijd.noblogs.org/post/tag/politiek/\" target=\"_blank\">#politiek</a> <a rel=\"nofollow noopener noreferrer\" class=\"hashtag u-tag u-category\" href=\"https://voltooidverledentijd.noblogs.org/post/tag/verkiezingen/\" target=\"_blank\">#verkiezingen</a></p>"
      ],
      "text/plain": [
       "<IPython.core.display.HTML object>"
      ]
     },
     "metadata": {},
     "output_type": "display_data"
    },
    {
     "name": "stdout",
     "output_type": "stream",
     "text": [
      "Date/Time: 2024-11-27 19:24:54+00:00\n",
      "____________________________________________________________________________________________________\n",
      "Toot 37\n",
      "\n"
     ]
    },
    {
     "data": {
      "text/html": [
       "<p><span class=\"h-card\" translate=\"no\"><a href=\"https://mastodontech.de/@alterelefant\" class=\"u-url mention\" rel=\"nofollow noopener noreferrer\" target=\"_blank\">@<span>alterelefant</span></a></span> Ja, ik ben heel blij dat wij zo'n <a href=\"https://mastodon.social/tags/politiek\" class=\"mention hashtag\" rel=\"nofollow noopener noreferrer\" target=\"_blank\">#<span>politiek</span></a>  systeem hier niet hebben. Daarom ook graag geen hogere <a href=\"https://mastodon.social/tags/kiesdrempel\" class=\"mention hashtag\" rel=\"nofollow noopener noreferrer\" target=\"_blank\">#<span>kiesdrempel</span></a>.</p>"
      ],
      "text/plain": [
       "<IPython.core.display.HTML object>"
      ]
     },
     "metadata": {},
     "output_type": "display_data"
    },
    {
     "name": "stdout",
     "output_type": "stream",
     "text": [
      "Date/Time: 2024-11-27 19:21:58+00:00\n",
      "____________________________________________________________________________________________________\n",
      "Toot 38\n",
      "\n"
     ]
    },
    {
     "data": {
      "text/html": [
       "<p>VVD en D66 willen dat baby vanaf dag één biebpas ontvangt - <a href=\"https://mastodon.nl/tags/NRC\" class=\"mention hashtag\" rel=\"tag\">#<span>NRC</span></a><br /><a href=\"https://www.nrc.nl/nieuws/2024/11/26/vvd-en-d66-willen-dat-baby-vanaf-dag-een-biebpas-ontvangt-a4874496\" target=\"_blank\" rel=\"nofollow noopener noreferrer\" translate=\"no\"><span class=\"invisible\">https://www.</span><span class=\"ellipsis\">nrc.nl/nieuws/2024/11/26/vvd-e</span><span class=\"invisible\">n-d66-willen-dat-baby-vanaf-dag-een-biebpas-ontvangt-a4874496</span></a></p><p>Heee ... <br />Worden bibliotheken dan ook eindelijk weer als een onderdeel van de maatschappij gezien?<br />(Wat ook ondersteuning kan gebruiken. 😏)</p><p>Archive link: <a href=\"https://archive.ph/97NNl\" target=\"_blank\" rel=\"nofollow noopener noreferrer\" translate=\"no\"><span class=\"invisible\">https://</span><span class=\"\">archive.ph/97NNl</span><span class=\"invisible\"></span></a></p><p><a href=\"https://mastodon.nl/tags/Politiek\" class=\"mention hashtag\" rel=\"tag\">#<span>Politiek</span></a> <a href=\"https://mastodon.nl/tags/VVD\" class=\"mention hashtag\" rel=\"tag\">#<span>VVD</span></a> <a href=\"https://mastodon.nl/tags/Bibliotheek\" class=\"mention hashtag\" rel=\"tag\">#<span>Bibliotheek</span></a></p>"
      ],
      "text/plain": [
       "<IPython.core.display.HTML object>"
      ]
     },
     "metadata": {},
     "output_type": "display_data"
    },
    {
     "name": "stdout",
     "output_type": "stream",
     "text": [
      "Date/Time: 2024-11-26 15:39:45.491000+00:00\n",
      "____________________________________________________________________________________________________\n",
      "Toot 39\n",
      "\n"
     ]
    },
    {
     "data": {
      "text/html": [
       "<p>Gaat het kindervragenuur gelijk zorgen voor gewone kamervragen??</p><p><a href=\"https://mastodon.nl/tags/Politiek\" class=\"mention hashtag\" rel=\"tag\">#<span>Politiek</span></a> <a href=\"https://mastodon.nl/tags/Kindervragenuur\" class=\"mention hashtag\" rel=\"tag\">#<span>Kindervragenuur</span></a> <a href=\"https://mastodon.nl/tags/dievier\" class=\"mention hashtag\" rel=\"tag\">#<span>dievier</span></a></p>"
      ],
      "text/plain": [
       "<IPython.core.display.HTML object>"
      ]
     },
     "metadata": {},
     "output_type": "display_data"
    },
    {
     "name": "stdout",
     "output_type": "stream",
     "text": [
      "Date/Time: 2024-11-26 12:26:19.603000+00:00\n",
      "____________________________________________________________________________________________________\n",
      "Toot 40\n",
      "\n"
     ]
    },
    {
     "data": {
      "text/html": [
       "<p>Trump wil nog steeds hoge importtarieven op Chinese en Mexicaanse producten, maar lager dan eerder aangekondigd | de <a href=\"https://mastodon.nl/tags/Volkskrant\" class=\"mention hashtag\" rel=\"tag\">#<span>Volkskrant</span></a><br /><a href=\"https://www.volkskrant.nl/buitenland/trump-wil-nog-steeds-hoge-importtarieven-op-chinese-en-mexicaanse-producten-maar-lager-dan-eerder-aangekondigd~b48f28d5/\" target=\"_blank\" rel=\"nofollow noopener noreferrer\" translate=\"no\"><span class=\"invisible\">https://www.</span><span class=\"ellipsis\">volkskrant.nl/buitenland/trump</span><span class=\"invisible\">-wil-nog-steeds-hoge-importtarieven-op-chinese-en-mexicaanse-producten-maar-lager-dan-eerder-aangekondigd~b48f28d5/</span></a></p><p>Ahh... <br />Binnen een uur of wat krabbelt Trump dus al terug ... </p><p>T lijkt een kabinet Schoof wel. 😅</p><p><a href=\"https://mastodon.nl/tags/Politiek\" class=\"mention hashtag\" rel=\"tag\">#<span>Politiek</span></a> <a href=\"https://mastodon.nl/tags/VS\" class=\"mention hashtag\" rel=\"tag\">#<span>VS</span></a></p>"
      ],
      "text/plain": [
       "<IPython.core.display.HTML object>"
      ]
     },
     "metadata": {},
     "output_type": "display_data"
    },
    {
     "name": "stdout",
     "output_type": "stream",
     "text": [
      "Date/Time: 2024-11-26 09:57:04.500000+00:00\n",
      "____________________________________________________________________________________________________\n",
      "Toot 41\n",
      "\n"
     ]
    },
    {
     "data": {
      "text/html": [
       "<p>Mooi artikel over Minister Eppo Bruins,<br><a href=\"https://neerlandistiek.nl/2024/11/minister-van-nu-eenmaal/\" rel=\"nofollow noopener noreferrer\" translate=\"no\" target=\"_blank\"><span class=\"invisible\">https://</span><span class=\"ellipsis\">neerlandistiek.nl/2024/11/mini</span><span class=\"invisible\">ster-van-nu-eenmaal/</span></a><br><a href=\"https://mastodon.social/tags/politiek\" class=\"mention hashtag\" rel=\"nofollow noopener noreferrer\" target=\"_blank\">#<span>politiek</span></a> <a href=\"https://mastodon.social/tags/onderwijs\" class=\"mention hashtag\" rel=\"nofollow noopener noreferrer\" target=\"_blank\">#<span>onderwijs</span></a> <a href=\"https://mastodon.social/tags/bezuinigingen\" class=\"mention hashtag\" rel=\"nofollow noopener noreferrer\" target=\"_blank\">#<span>bezuinigingen</span></a> <a href=\"https://mastodon.social/tags/schoof\" class=\"mention hashtag\" rel=\"nofollow noopener noreferrer\" target=\"_blank\">#<span>schoof</span></a> <a href=\"https://mastodon.social/tags/NSC\" class=\"mention hashtag\" rel=\"nofollow noopener noreferrer\" target=\"_blank\">#<span>NSC</span></a> <a href=\"https://mastodon.social/tags/BBB\" class=\"mention hashtag\" rel=\"nofollow noopener noreferrer\" target=\"_blank\">#<span>BBB</span></a> <a href=\"https://mastodon.social/tags/PVV\" class=\"mention hashtag\" rel=\"nofollow noopener noreferrer\" target=\"_blank\">#<span>PVV</span></a> <a href=\"https://mastodon.social/tags/VVD\" class=\"mention hashtag\" rel=\"nofollow noopener noreferrer\" target=\"_blank\">#<span>VVD</span></a></p>"
      ],
      "text/plain": [
       "<IPython.core.display.HTML object>"
      ]
     },
     "metadata": {},
     "output_type": "display_data"
    },
    {
     "name": "stdout",
     "output_type": "stream",
     "text": [
      "Date/Time: 2024-11-26 08:38:57+00:00\n",
      "____________________________________________________________________________________________________\n",
      "Toot 42\n",
      "\n"
     ]
    },
    {
     "data": {
      "text/html": [
       "<p>/4<br />Duitsland kijkt kritisch terug op de Kanzlerin maar Merkel zelf vindt dat ze niet veel fout deed - <a href=\"https://mastodon.nl/tags/NRC\" class=\"mention hashtag\" rel=\"tag\">#<span>NRC</span></a> <br /><a href=\"https://www.nrc.nl/nieuws/2024/11/25/duitsland-kijkt-kritisch-terug-op-de-kanzlerin-maar-merkel-zelf-vindt-dat-ze-niet-veel-fout-deed-a4874420\" target=\"_blank\" rel=\"nofollow noopener noreferrer\" translate=\"no\"><span class=\"invisible\">https://www.</span><span class=\"ellipsis\">nrc.nl/nieuws/2024/11/25/duits</span><span class=\"invisible\">land-kijkt-kritisch-terug-op-de-kanzlerin-maar-merkel-zelf-vindt-dat-ze-niet-veel-fout-deed-a4874420</span></a></p><p>Ook de NRC besteedt uiteraard de nodige ruimte aan de memoires.</p><p>Archive link <a href=\"https://archive.ph/jLtGw\" target=\"_blank\" rel=\"nofollow noopener noreferrer\" translate=\"no\"><span class=\"invisible\">https://</span><span class=\"\">archive.ph/jLtGw</span><span class=\"invisible\"></span></a><br />(Via <span class=\"h-card\" translate=\"no\"><a href=\"https://mastodon.nl/@ChrisAalberts\" class=\"u-url mention\">@<span>ChrisAalberts</span></a></span> )</p><p><a href=\"https://mastodon.nl/tags/Politiek\" class=\"mention hashtag\" rel=\"tag\">#<span>Politiek</span></a> <a href=\"https://mastodon.nl/tags/Merkel\" class=\"mention hashtag\" rel=\"tag\">#<span>Merkel</span></a> <a href=\"https://mastodon.nl/tags/Memoires\" class=\"mention hashtag\" rel=\"tag\">#<span>Memoires</span></a></p>"
      ],
      "text/plain": [
       "<IPython.core.display.HTML object>"
      ]
     },
     "metadata": {},
     "output_type": "display_data"
    },
    {
     "name": "stdout",
     "output_type": "stream",
     "text": [
      "Date/Time: 2024-11-26 07:37:00.662000+00:00\n",
      "____________________________________________________________________________________________________\n",
      "Toot 43\n",
      "\n"
     ]
    },
    {
     "data": {
      "text/html": [
       "<p>/2<br />Een (beperkt) kijkje in het leven van Angela Merkel, de kanselier die van ‘merkeln’ een nieuw werkwoord maakte | Trouw<br /><a href=\"https://www.trouw.nl/boeken/een-beperkt-kijkje-in-het-leven-van-angela-merkel-de-kanselier-die-van-merkeln-een-nieuw-werkwoord-maakte~b679ece6/\" target=\"_blank\" rel=\"nofollow noopener noreferrer\" translate=\"no\"><span class=\"invisible\">https://www.</span><span class=\"ellipsis\">trouw.nl/boeken/een-beperkt-ki</span><span class=\"invisible\">jkje-in-het-leven-van-angela-merkel-de-kanselier-die-van-merkeln-een-nieuw-werkwoord-maakte~b679ece6/</span></a></p><p>Verder im Trouw uiteraard een uitgebreide bespreking van haar memoires.<br />/3</p><p><a href=\"https://mastodon.nl/tags/Politiek\" class=\"mention hashtag\" rel=\"tag\">#<span>Politiek</span></a> <a href=\"https://mastodon.nl/tags/Duitsland\" class=\"mention hashtag\" rel=\"tag\">#<span>Duitsland</span></a> <a href=\"https://mastodon.nl/tags/Merkel\" class=\"mention hashtag\" rel=\"tag\">#<span>Merkel</span></a></p>"
      ],
      "text/plain": [
       "<IPython.core.display.HTML object>"
      ]
     },
     "metadata": {},
     "output_type": "display_data"
    },
    {
     "name": "stdout",
     "output_type": "stream",
     "text": [
      "Date/Time: 2024-11-26 06:39:08.668000+00:00\n",
      "____________________________________________________________________________________________________\n",
      "Toot 44\n",
      "\n"
     ]
    },
    {
     "data": {
      "text/html": [
       "<p>Merkel verdedigt haar keuzes: tégen kandidaat-Navo-lidmaatschap Oekraïne, vóór toelaten vluchtelingen | <a href=\"https://mastodon.nl/tags/Trouw\" class=\"mention hashtag\" rel=\"tag\">#<span>Trouw</span></a><br /><a href=\"https://www.trouw.nl/buitenland/merkel-verdedigt-haar-keuzes-tegen-kandidaat-navo-lidmaatschap-oekraine-voor-toelaten-vluchtelingen~bc222c37/\" target=\"_blank\" rel=\"nofollow noopener noreferrer\" translate=\"no\"><span class=\"invisible\">https://www.</span><span class=\"ellipsis\">trouw.nl/buitenland/merkel-ver</span><span class=\"invisible\">dedigt-haar-keuzes-tegen-kandidaat-navo-lidmaatschap-oekraine-voor-toelaten-vluchtelingen~bc222c37/</span></a></p><p>Al vrij snel na het aantreden van Merkel kreeg ik grote bewondering voor haar. Vanaf het begin was voor mii duidelijk dat zijn de relaties tussen Oost en West veel beter zou kunnen inschatten dan wij met onze Westerse blik en &#39;zij&#39; met hun Oostelijke blik.</p><p>In dit artikel komt dat heel mooi naar voren.</p><p>En ja. Niet comfortabel voor ons ego.<br />/2</p><p><a href=\"https://mastodon.nl/tags/Politiek\" class=\"mention hashtag\" rel=\"tag\">#<span>Politiek</span></a> <a href=\"https://mastodon.nl/tags/Merkel\" class=\"mention hashtag\" rel=\"tag\">#<span>Merkel</span></a></p>"
      ],
      "text/plain": [
       "<IPython.core.display.HTML object>"
      ]
     },
     "metadata": {},
     "output_type": "display_data"
    },
    {
     "name": "stdout",
     "output_type": "stream",
     "text": [
      "Date/Time: 2024-11-26 06:35:29.074000+00:00\n",
      "____________________________________________________________________________________________________\n",
      "Toot 45\n",
      "\n"
     ]
    },
    {
     "data": {
      "text/html": [
       "<p>\"In plaats van alert te zijn op inbreuken op die vrijheidsrechten, omarmt de vvd beleid dat de staat steeds verder laat doordringen in het ­privédomein, op zoek naar onaangepasten die de ‘Nederlandse waarden en normen’ niet onderschrijven.</p><p>Een partij die haar geloofwaardigheid ondergraaft door een loopje te nemen met de eigen beginselen, dat loopt nooit goed af. De twee andere volkspartijen, cda en PvdA, kunnen daarover meepraten.\"</p><p><a href=\"https://www.groene.nl/artikel/de-anti-liberale-partij\" rel=\"nofollow noopener noreferrer\" translate=\"no\" target=\"_blank\"><span class=\"invisible\">https://www.</span><span class=\"ellipsis\">groene.nl/artikel/de-anti-libe</span><span class=\"invisible\">rale-partij</span></a></p><p><a href=\"https://mastodon.social/tags/VVD\" class=\"mention hashtag\" rel=\"nofollow noopener noreferrer\" target=\"_blank\">#<span>VVD</span></a> <a href=\"https://mastodon.social/tags/PVV\" class=\"mention hashtag\" rel=\"nofollow noopener noreferrer\" target=\"_blank\">#<span>PVV</span></a> <a href=\"https://mastodon.social/tags/Yesilgoz\" class=\"mention hashtag\" rel=\"nofollow noopener noreferrer\" target=\"_blank\">#<span>Yesilgoz</span></a> <a href=\"https://mastodon.social/tags/politiek\" class=\"mention hashtag\" rel=\"nofollow noopener noreferrer\" target=\"_blank\">#<span>politiek</span></a></p>"
      ],
      "text/plain": [
       "<IPython.core.display.HTML object>"
      ]
     },
     "metadata": {},
     "output_type": "display_data"
    },
    {
     "name": "stdout",
     "output_type": "stream",
     "text": [
      "Date/Time: 2024-11-26 06:29:21+00:00\n",
      "____________________________________________________________________________________________________\n",
      "Toot 46\n",
      "\n"
     ]
    },
    {
     "data": {
      "text/html": [
       "<p>Minister van Nu Eenmaal - <span class=\"h-card\" translate=\"no\"><a href=\"https://mastodon.nl/@neerlandistiek\" class=\"u-url mention\">@<span>neerlandistiek</span></a></span> <br /><a href=\"https://neerlandistiek.nl/2024/11/minister-van-nu-eenmaal/\" target=\"_blank\" rel=\"nofollow noopener noreferrer\" translate=\"no\"><span class=\"invisible\">https://</span><span class=\"ellipsis\">neerlandistiek.nl/2024/11/mini</span><span class=\"invisible\">ster-van-nu-eenmaal/</span></a></p><p>Een minister op volledige ramkoers met het onderwijs en op weg een heel hete winter. </p><p>(Via <span class=\"h-card\" translate=\"no\"><a href=\"https://mstdn.social/@fonolog\" class=\"u-url mention\">@<span>fonolog</span></a></span> )<br />📸 screenshot teksten leesbaar in artikel.</p><p><a href=\"https://mastodon.nl/tags/Politiek\" class=\"mention hashtag\" rel=\"tag\">#<span>Politiek</span></a> <a href=\"https://mastodon.nl/tags/Onderwijs\" class=\"mention hashtag\" rel=\"tag\">#<span>Onderwijs</span></a> <a href=\"https://mastodon.nl/tags/Bruins\" class=\"mention hashtag\" rel=\"tag\">#<span>Bruins</span></a></p>"
      ],
      "text/plain": [
       "<IPython.core.display.HTML object>"
      ]
     },
     "metadata": {},
     "output_type": "display_data"
    },
    {
     "name": "stdout",
     "output_type": "stream",
     "text": [
      "Date/Time: 2024-11-26 05:45:56.407000+00:00\n",
      "____________________________________________________________________________________________________\n",
      "Toot 47\n",
      "\n"
     ]
    },
    {
     "data": {
      "text/html": [
       "<p>Kamer verkeerd geïnformeerd over aanschaf van Israëlische afluistersystemen voor de politie die miljoenen kosten en na jaren nog steeds niet werken - <a href=\"https://mastodon.nl/tags/NRC\" class=\"mention hashtag\" rel=\"tag\">#<span>NRC</span></a><br /><a href=\"https://www.nrc.nl/nieuws/2024/11/25/kamer-verkeerd-geinformeerd-over-aanschaf-van-israelische-afluistersystemen-voor-de-politie-die-miljoenen-kosten-en-na-jaren-nog-steeds-niet-werken-a4874410\" target=\"_blank\" rel=\"nofollow noopener noreferrer\" translate=\"no\"><span class=\"invisible\">https://www.</span><span class=\"ellipsis\">nrc.nl/nieuws/2024/11/25/kamer</span><span class=\"invisible\">-verkeerd-geinformeerd-over-aanschaf-van-israelische-afluistersystemen-voor-de-politie-die-miljoenen-kosten-en-na-jaren-nog-steeds-niet-werken-a4874410</span></a></p><p>Zoo.. Schoof en Yesilgöz oo de pijnbank.<br />En vooral ... wat een drama van voor tot achter met een ministerie (en minister) die dus al jarenlang de Tweede Kamer in de maling neemt.</p><p>Archive: <a href=\"https://archive.ph/nUF4e\" target=\"_blank\" rel=\"nofollow noopener noreferrer\" translate=\"no\"><span class=\"invisible\">https://</span><span class=\"\">archive.ph/nUF4e</span><span class=\"invisible\"></span></a></p><p><a href=\"https://mastodon.nl/tags/Politiek\" class=\"mention hashtag\" rel=\"tag\">#<span>Politiek</span></a> <a href=\"https://mastodon.nl/tags/Justitie\" class=\"mention hashtag\" rel=\"tag\">#<span>Justitie</span></a> <a href=\"https://mastodon.nl/tags/Israel\" class=\"mention hashtag\" rel=\"tag\">#<span>Israel</span></a> <a href=\"https://mastodon.nl/tags/Software\" class=\"mention hashtag\" rel=\"tag\">#<span>Software</span></a> <a href=\"https://mastodon.nl/tags/Afluisreren\" class=\"mention hashtag\" rel=\"tag\">#<span>Afluisreren</span></a><br /><a href=\"https://mastodon.nl/tags/Yesilg%C3%B6z\" class=\"mention hashtag\" rel=\"tag\">#<span>Yesilgöz</span></a> <a href=\"https://mastodon.nl/tags/Schoof\" class=\"mention hashtag\" rel=\"tag\">#<span>Schoof</span></a></p>"
      ],
      "text/plain": [
       "<IPython.core.display.HTML object>"
      ]
     },
     "metadata": {},
     "output_type": "display_data"
    },
    {
     "name": "stdout",
     "output_type": "stream",
     "text": [
      "Date/Time: 2024-11-26 05:30:56.990000+00:00\n",
      "____________________________________________________________________________________________________\n",
      "Toot 48\n",
      "\n"
     ]
    },
    {
     "data": {
      "text/html": [
       "<p>‘De maatschappelijke diensttijd heeft mij weer op het juiste pad gekregen’ | de <a href=\"https://mastodon.nl/tags/Volkskrant\" class=\"mention hashtag\" rel=\"tag\">#<span>Volkskrant</span></a><br /><a href=\"https://www.volkskrant.nl/binnenland/de-maatschappelijke-diensttijd-heeft-mij-weer-op-het-juiste-pad-gekregen~b3fb6fe5/\" target=\"_blank\" rel=\"nofollow noopener noreferrer\" translate=\"no\"><span class=\"invisible\">https://www.</span><span class=\"ellipsis\">volkskrant.nl/binnenland/de-ma</span><span class=\"invisible\">atschappelijke-diensttijd-heeft-mij-weer-op-het-juiste-pad-gekregen~b3fb6fe5/</span></a></p><p>Grappig... Van de week had ik een heel gesprek over die periode in mijn leven met de conclusie dat het niet uitloten van de dienstplicht wellicht een groot verschil had gemaakt.</p><p>Die maatschappelijke diensttijd zou in mijn tijd zeker groot verschil hebben gemaakt. Hopelijk wordt dat uiteindelijk echt verder uitgebouwd tot iets moois.</p><p><a href=\"https://mastodon.nl/tags/Politiek\" class=\"mention hashtag\" rel=\"tag\">#<span>Politiek</span></a> <a href=\"https://mastodon.nl/tags/Diensttijd\" class=\"mention hashtag\" rel=\"tag\">#<span>Diensttijd</span></a> <a href=\"https://mastodon.nl/tags/mdt\" class=\"mention hashtag\" rel=\"tag\">#<span>mdt</span></a></p>"
      ],
      "text/plain": [
       "<IPython.core.display.HTML object>"
      ]
     },
     "metadata": {},
     "output_type": "display_data"
    },
    {
     "name": "stdout",
     "output_type": "stream",
     "text": [
      "Date/Time: 2024-11-26 05:30:30.235000+00:00\n",
      "____________________________________________________________________________________________________\n",
      "Toot 49\n",
      "\n"
     ]
    },
    {
     "data": {
      "text/html": [
       "<p>Hoogste tijd dat de oppositie zijn  tanden laat zien.<br><a href=\"https://nos.nl/l/2545926\" rel=\"nofollow noopener noreferrer\" translate=\"no\" target=\"_blank\"><span class=\"invisible\">https://</span><span class=\"\">nos.nl/l/2545926</span><span class=\"invisible\"></span></a></p><p><a href=\"https://mastodon.social/tags/politiek\" class=\"mention hashtag\" rel=\"nofollow noopener noreferrer\" target=\"_blank\">#<span>politiek</span></a> <a href=\"https://mastodon.social/tags/onderwijs\" class=\"mention hashtag\" rel=\"nofollow noopener noreferrer\" target=\"_blank\">#<span>onderwijs</span></a></p>"
      ],
      "text/plain": [
       "<IPython.core.display.HTML object>"
      ]
     },
     "metadata": {},
     "output_type": "display_data"
    },
    {
     "name": "stdout",
     "output_type": "stream",
     "text": [
      "Date/Time: 2024-11-25 19:09:57+00:00\n",
      "____________________________________________________________________________________________________\n",
      "Toot 50\n",
      "\n"
     ]
    },
    {
     "data": {
      "text/html": [
       "<p>JC (van Trouw): \"Ophef veroorzaken is het handelsmerk van Geert Wilders.<br>NvV: “Dat wederzijdse begrip is er echt wel. Ik heb ook begrip voor de manier van communiceren van Geert Wilders. \"</p><p>Begrip voor ophef veroorzaken, voor haat zaaien? 😩</p><p><a href=\"https://www.trouw.nl/politiek/van-vroonhoven-mist-fatsoen-binnen-de-coalitie-je-moet-je-wel-happy-voelen~b539e6dd/\" rel=\"nofollow noopener noreferrer\" translate=\"no\" target=\"_blank\"><span class=\"invisible\">https://www.</span><span class=\"ellipsis\">trouw.nl/politiek/van-vroonhov</span><span class=\"invisible\">en-mist-fatsoen-binnen-de-coalitie-je-moet-je-wel-happy-voelen~b539e6dd/</span></a></p><p>Zonder paywall:<br><a href=\"https://archive.ph/2024.11.24-214408/https://www.trouw.nl/politiek/van-vroonhoven-mist-fatsoen-binnen-de-coalitie-je-moet-je-wel-happy-voelen~b539e6dd/\" rel=\"nofollow noopener noreferrer\" translate=\"no\" target=\"_blank\"><span class=\"invisible\">https://</span><span class=\"ellipsis\">archive.ph/2024.11.24-214408/h</span><span class=\"invisible\">ttps://www.trouw.nl/politiek/van-vroonhoven-mist-fatsoen-binnen-de-coalitie-je-moet-je-wel-happy-voelen~b539e6dd/</span></a></p><p><a href=\"https://mastodon.social/tags/NSC\" class=\"mention hashtag\" rel=\"nofollow noopener noreferrer\" target=\"_blank\">#<span>NSC</span></a><br><a href=\"https://mastodon.social/tags/politiek\" class=\"mention hashtag\" rel=\"nofollow noopener noreferrer\" target=\"_blank\">#<span>politiek</span></a></p>"
      ],
      "text/plain": [
       "<IPython.core.display.HTML object>"
      ]
     },
     "metadata": {},
     "output_type": "display_data"
    },
    {
     "name": "stdout",
     "output_type": "stream",
     "text": [
      "Date/Time: 2024-11-25 13:22:11+00:00\n",
      "____________________________________________________________________________________________________\n",
      "Toot 51\n",
      "\n"
     ]
    },
    {
     "data": {
      "text/html": [
       "<p>All the best, to those protesting today against the destruction of higher education in the Netherlands. </p><p>I'm not affiliated with education, but I do share their concerns. Hopefully the message will be received &amp; persuade the current government to abolish their destructive plans. </p><p>General Education Union:<br><a href=\"https://www.aob.nl/actueel/campagne/kabinetsloopthogeronderwijs/\" rel=\"nofollow noopener noreferrer\" translate=\"no\" target=\"_blank\"><span class=\"invisible\">https://www.</span><span class=\"ellipsis\">aob.nl/actueel/campagne/kabine</span><span class=\"invisible\">tsloopthogeronderwijs/</span></a></p><p>Sign the petition:<br><a href=\"https://campagnes.degoedezaak.org/campaigns/stop-de-bezuinigingen-op-hoger-onderwijs\" rel=\"nofollow noopener noreferrer\" translate=\"no\" target=\"_blank\"><span class=\"invisible\">https://</span><span class=\"ellipsis\">campagnes.degoedezaak.org/camp</span><span class=\"invisible\">aigns/stop-de-bezuinigingen-op-hoger-onderwijs</span></a></p><p><a href=\"https://mastodon.social/tags/Onderwijs\" class=\"mention hashtag\" rel=\"nofollow noopener noreferrer\" target=\"_blank\">#<span>Onderwijs</span></a> <a href=\"https://mastodon.social/tags/Education\" class=\"mention hashtag\" rel=\"nofollow noopener noreferrer\" target=\"_blank\">#<span>Education</span></a> <a href=\"https://mastodon.social/tags/Protest\" class=\"mention hashtag\" rel=\"nofollow noopener noreferrer\" target=\"_blank\">#<span>Protest</span></a> <a href=\"https://mastodon.social/tags/NL\" class=\"mention hashtag\" rel=\"nofollow noopener noreferrer\" target=\"_blank\">#<span>NL</span></a> <a href=\"https://mastodon.social/tags/Politiek\" class=\"mention hashtag\" rel=\"nofollow noopener noreferrer\" target=\"_blank\">#<span>Politiek</span></a></p>"
      ],
      "text/plain": [
       "<IPython.core.display.HTML object>"
      ]
     },
     "metadata": {},
     "output_type": "display_data"
    },
    {
     "name": "stdout",
     "output_type": "stream",
     "text": [
      "Date/Time: 2024-11-25 11:32:01+00:00\n",
      "____________________________________________________________________________________________________\n",
      "Toot 52\n",
      "\n"
     ]
    },
    {
     "data": {
      "text/html": [
       "<p>Het verschil tussen Trump en kabinet Schoof is dat Trump zegt dat hij zijn land kapot gaat maken, maar  Schoof doet het gewoon.</p><p><a href=\"https://www.nu.nl/politiek/6336692/burgemeesters-vragen-niet-te-bezuinigen-op-hoger-onderwijs-slecht-voor-land.html\" rel=\"nofollow noopener noreferrer\" translate=\"no\" target=\"_blank\"><span class=\"invisible\">https://www.</span><span class=\"ellipsis\">nu.nl/politiek/6336692/burgeme</span><span class=\"invisible\">esters-vragen-niet-te-bezuinigen-op-hoger-onderwijs-slecht-voor-land.html</span></a></p><p><a href=\"https://mastodon.social/tags/politiek\" class=\"mention hashtag\" rel=\"nofollow noopener noreferrer\" target=\"_blank\">#<span>politiek</span></a></p>"
      ],
      "text/plain": [
       "<IPython.core.display.HTML object>"
      ]
     },
     "metadata": {},
     "output_type": "display_data"
    },
    {
     "name": "stdout",
     "output_type": "stream",
     "text": [
      "Date/Time: 2024-11-25 07:54:52+00:00\n",
      "____________________________________________________________________________________________________\n",
      "Toot 53\n",
      "\n"
     ]
    },
    {
     "data": {
      "text/html": [
       "<p>Best bizar dit, Kabinet-Schoof verhoogt de hypotheekrenteaftrek voor hogere inkomens.<br><a href=\"https://mastodon.social/tags/politiek\" class=\"mention hashtag\" rel=\"nofollow noopener noreferrer\" target=\"_blank\">#<span>politiek</span></a> <a href=\"https://mastodon.social/tags/schoof\" class=\"mention hashtag\" rel=\"nofollow noopener noreferrer\" target=\"_blank\">#<span>schoof</span></a> <a href=\"https://mastodon.social/tags/hypotheekrenteaftrek\" class=\"mention hashtag\" rel=\"nofollow noopener noreferrer\" target=\"_blank\">#<span>hypotheekrenteaftrek</span></a>. <br><a href=\"https://esb.nu/kabinet-schoof-verhoogt-de-hypotheekrenteaftrek-voor-hogere-inkomens/\" rel=\"nofollow noopener noreferrer\" translate=\"no\" target=\"_blank\"><span class=\"invisible\">https://</span><span class=\"ellipsis\">esb.nu/kabinet-schoof-verhoogt</span><span class=\"invisible\">-de-hypotheekrenteaftrek-voor-hogere-inkomens/</span></a></p>"
      ],
      "text/plain": [
       "<IPython.core.display.HTML object>"
      ]
     },
     "metadata": {},
     "output_type": "display_data"
    },
    {
     "name": "stdout",
     "output_type": "stream",
     "text": [
      "Date/Time: 2024-11-25 07:20:02+00:00\n",
      "____________________________________________________________________________________________________\n",
      "Toot 54\n",
      "\n"
     ]
    },
    {
     "data": {
      "text/html": [
       "<p>Kinderen zitten vast in de asielnoodopvang: ‘Het is hier ’s avonds heel gehorig. Soms heb ik nare dromen’ | de <a href=\"https://mastodon.nl/tags/Volkskrant\" class=\"mention hashtag\" rel=\"tag\">#<span>Volkskrant</span></a><br /><a href=\"https://www.volkskrant.nl/binnenland/kinderen-zitten-vast-in-de-asielnoodopvang-het-is-hier-s-avonds-heel-gehorig-soms-heb-ik-nare-dromen~b1d2b370/\" target=\"_blank\" rel=\"nofollow noopener noreferrer\" translate=\"no\"><span class=\"invisible\">https://www.</span><span class=\"ellipsis\">volkskrant.nl/binnenland/kinde</span><span class=\"invisible\">ren-zitten-vast-in-de-asielnoodopvang-het-is-hier-s-avonds-heel-gehorig-soms-heb-ik-nare-dromen~b1d2b370/</span></a></p><p>Willens en wetens dus te weinig doen aan opvang voor minderjarigen. Faber kan dat.</p><p><a href=\"https://mastodon.nl/tags/Politiek\" class=\"mention hashtag\" rel=\"tag\">#<span>Politiek</span></a> <a href=\"https://mastodon.nl/tags/Asiel\" class=\"mention hashtag\" rel=\"tag\">#<span>Asiel</span></a> <a href=\"https://mastodon.nl/tags/Faber\" class=\"mention hashtag\" rel=\"tag\">#<span>Faber</span></a></p>"
      ],
      "text/plain": [
       "<IPython.core.display.HTML object>"
      ]
     },
     "metadata": {},
     "output_type": "display_data"
    },
    {
     "name": "stdout",
     "output_type": "stream",
     "text": [
      "Date/Time: 2024-11-25 04:55:20.889000+00:00\n",
      "____________________________________________________________________________________________________\n",
      "Toot 55\n",
      "\n"
     ]
    },
    {
     "data": {
      "text/html": [
       "<p>Wat betekent het om zonder zorgverzekering te leven in Nederland? | <a href=\"https://mastodon.nl/tags/Zembla\" class=\"mention hashtag\" rel=\"tag\">#<span>Zembla</span></a> - <a href=\"https://mastodon.nl/tags/BNNVARA\" class=\"mention hashtag\" rel=\"tag\">#<span>BNNVARA</span></a><br /><a href=\"https://www.bnnvara.nl/artikelen/zonder-zorgverzekering-zembla\" target=\"_blank\" rel=\"nofollow noopener noreferrer\" translate=\"no\"><span class=\"invisible\">https://www.</span><span class=\"ellipsis\">bnnvara.nl/artikelen/zonder-zo</span><span class=\"invisible\">rgverzekering-zembla</span></a></p><p>Zembla over onverzekerden in Nederland met een hoofdrol voor de mensen van de Pauluskerk on Rotterdam</p><p>Op NPOstart<br /><a href=\"https://npo.nl/start/serie/zembla/seizoen-24/zembla_111/afspelen\" target=\"_blank\" rel=\"nofollow noopener noreferrer\" translate=\"no\"><span class=\"invisible\">https://</span><span class=\"ellipsis\">npo.nl/start/serie/zembla/seiz</span><span class=\"invisible\">oen-24/zembla_111/afspelen</span></a></p><p>Op NLziet<br /><a href=\"https://app.nlziet.nl/play/aFAbqumqzEOaeGERKQCPiQ\" target=\"_blank\" rel=\"nofollow noopener noreferrer\" translate=\"no\"><span class=\"invisible\">https://</span><span class=\"ellipsis\">app.nlziet.nl/play/aFAbqumqzEO</span><span class=\"invisible\">aeGERKQCPiQ</span></a></p><p><a href=\"https://mastodon.nl/tags/Politiek\" class=\"mention hashtag\" rel=\"tag\">#<span>Politiek</span></a> <a href=\"https://mastodon.nl/tags/Onverzekerden\" class=\"mention hashtag\" rel=\"tag\">#<span>Onverzekerden</span></a></p>"
      ],
      "text/plain": [
       "<IPython.core.display.HTML object>"
      ]
     },
     "metadata": {},
     "output_type": "display_data"
    },
    {
     "name": "stdout",
     "output_type": "stream",
     "text": [
      "Date/Time: 2024-11-24 22:15:36.481000+00:00\n",
      "____________________________________________________________________________________________________\n",
      "Toot 56\n",
      "\n"
     ]
    },
    {
     "data": {
      "text/html": [
       "<p><span class=\"h-card\" translate=\"no\"><a href=\"https://mastodon.nl/@LaAckxtra\" class=\"u-url mention\">@<span>LaAckxtra</span></a></span> ... Het dilemma voor NSC en haar leden.</p><p>Ik ga er van uit dat de partijlijn &#39;Omtzigt&#39; gewoon doorgezet wordt. Dat driekwart van de stemmers zich op het verkeerde neem gezet voelt (en een deel van de NSC vertegenwoordigers) is het probleem van de stemmers en de individuele leden.</p><p><a href=\"https://mastodon.nl/tags/politiek\" class=\"mention hashtag\" rel=\"tag\">#<span>politiek</span></a> <a href=\"https://mastodon.nl/tags/nsc\" class=\"mention hashtag\" rel=\"tag\">#<span>nsc</span></a></p>"
      ],
      "text/plain": [
       "<IPython.core.display.HTML object>"
      ]
     },
     "metadata": {},
     "output_type": "display_data"
    },
    {
     "name": "stdout",
     "output_type": "stream",
     "text": [
      "Date/Time: 2024-11-24 09:43:33.445000+00:00\n",
      "____________________________________________________________________________________________________\n",
      "Toot 57\n",
      "\n"
     ]
    },
    {
     "data": {
      "text/html": [
       "<p>Noodnachtopvang zorgt voor &#39;flink&#39; meer werkdruk bij aanmeldcentrum Ter Apel: &#39;Mensen zitten in een overlevingsstand&#39; - <span class=\"h-card\" translate=\"no\"><a href=\"https://mstdn.social/@rtvnoord\" class=\"u-url mention\">@<span>rtvnoord</span></a></span> <br /><a href=\"https://www.rtvnoord.nl/politiek/1239785/noodnachtopvang-zorgt-voor-flink-meer-werkdruk-bij-aanmeldcentrum-ter-apel-mensen-zitten-in-een-overlevingsstand\" target=\"_blank\" rel=\"nofollow noopener noreferrer\" translate=\"no\"><span class=\"invisible\">https://www.</span><span class=\"ellipsis\">rtvnoord.nl/politiek/1239785/n</span><span class=\"invisible\">oodnachtopvang-zorgt-voor-flink-meer-werkdruk-bij-aanmeldcentrum-ter-apel-mensen-zitten-in-een-overlevingsstand</span></a></p><p>Niets toe te voegen aan dit artikel van RTVNoord</p><p>Termen als &#39;noodnachtopvang&#39; die je eigenlijk maar zelden en alleen voor rampen zou gebruiken burgeren in als normaal dagelijks woordgebruik. </p><p><a href=\"https://mastodon.nl/tags/Politiek\" class=\"mention hashtag\" rel=\"tag\">#<span>Politiek</span></a> <a href=\"https://mastodon.nl/tags/Asiel\" class=\"mention hashtag\" rel=\"tag\">#<span>Asiel</span></a> <a href=\"https://mastodon.nl/tags/Noodnachtopvang\" class=\"mention hashtag\" rel=\"tag\">#<span>Noodnachtopvang</span></a></p>"
      ],
      "text/plain": [
       "<IPython.core.display.HTML object>"
      ]
     },
     "metadata": {},
     "output_type": "display_data"
    },
    {
     "name": "stdout",
     "output_type": "stream",
     "text": [
      "Date/Time: 2024-11-24 08:37:05.501000+00:00\n",
      "____________________________________________________________________________________________________\n",
      "Toot 58\n",
      "\n"
     ]
    },
    {
     "data": {
      "text/html": [
       "<p>Wat ik bij Pieter Omtzicht zie: Hij is een zogenaamde &#39;tweede persoon&#39;. Goed op de inhoud, goed met mensen en ziet de dingen scherp. Maar je moet hem niet in een centrale of leidende rol zetten, die druk kan niet worden gedragen. Past ook niet bij een &#39;tweede persoon&#39;.</p><p>En Omtzicht is een econometrist. Even kort door de bocht: Die bedenken voor elk probleem een model zodat het aangepakt en opgelost kan worden. <br /><a href=\"https://mastodon.nl/tags/omtzigt\" class=\"mention hashtag\" rel=\"tag\">#<span>omtzigt</span></a> <a href=\"https://mastodon.nl/tags/wilders\" class=\"mention hashtag\" rel=\"tag\">#<span>wilders</span></a> <a href=\"https://mastodon.nl/tags/polarisatie\" class=\"mention hashtag\" rel=\"tag\">#<span>polarisatie</span></a> <a href=\"https://mastodon.nl/tags/politiek\" class=\"mention hashtag\" rel=\"tag\">#<span>politiek</span></a> <a href=\"https://mastodon.nl/tags/dievier\" class=\"mention hashtag\" rel=\"tag\">#<span>dievier</span></a> <a href=\"https://mastodon.nl/tags/nsc\" class=\"mention hashtag\" rel=\"tag\">#<span>nsc</span></a></p>"
      ],
      "text/plain": [
       "<IPython.core.display.HTML object>"
      ]
     },
     "metadata": {},
     "output_type": "display_data"
    },
    {
     "name": "stdout",
     "output_type": "stream",
     "text": [
      "Date/Time: 2024-11-23 17:59:31.221000+00:00\n",
      "____________________________________________________________________________________________________\n",
      "Toot 59\n",
      "\n"
     ]
    },
    {
     "data": {
      "text/html": [
       "<p>Aparte uitspraken van Omtzigt, hij heeft geen enkele twijfel over samenwerking met PVV kennelijk, veel van zijn partijleden wel.<br>Ook kritiek op polarisatie hebben en dan niet Wilders durven noemen is gewoon laf. <a href=\"https://nos.nl/l/2545648\" rel=\"nofollow noopener noreferrer\" translate=\"no\" target=\"_blank\"><span class=\"invisible\">https://</span><span class=\"\">nos.nl/l/2545648</span><span class=\"invisible\"></span></a><br><a href=\"https://mastodon.social/tags/omtzigt\" class=\"mention hashtag\" rel=\"nofollow noopener noreferrer\" target=\"_blank\">#<span>omtzigt</span></a> <a href=\"https://mastodon.social/tags/wilders\" class=\"mention hashtag\" rel=\"nofollow noopener noreferrer\" target=\"_blank\">#<span>wilders</span></a> <a href=\"https://mastodon.social/tags/polarisatie\" class=\"mention hashtag\" rel=\"nofollow noopener noreferrer\" target=\"_blank\">#<span>polarisatie</span></a> <a href=\"https://mastodon.social/tags/politiek\" class=\"mention hashtag\" rel=\"nofollow noopener noreferrer\" target=\"_blank\">#<span>politiek</span></a></p>"
      ],
      "text/plain": [
       "<IPython.core.display.HTML object>"
      ]
     },
     "metadata": {},
     "output_type": "display_data"
    },
    {
     "name": "stdout",
     "output_type": "stream",
     "text": [
      "Date/Time: 2024-11-23 17:56:23+00:00\n",
      "____________________________________________________________________________________________________\n",
      "Toot 60\n",
      "\n"
     ]
    },
    {
     "data": {
      "text/html": [
       "<p><span class=\"h-card\" translate=\"no\"><a href=\"https://mastonederland.nl/@opiniedweiler\" class=\"u-url mention\">@<span>opiniedweiler</span></a></span> ik weet vooral niet of dit leiderschap (📸) de NSC gaat helpen op dit moment.</p><p>We gaan het zien. Ik gun Nederland een werkbare optie min of meer in het midden van het politieke spectrum. Dat is sowieso geen sinecure op het moment. Of de NSC die rol kan/wil spelen vraag ik me al tijden af.</p><p>(Afgelopen jaar merkte ik dat ik me zo&#39;n rol in het midden van de politiek ook niet kan inbeelden. Zo zit ik niet in elkaar.)</p><p><a href=\"https://mastodon.nl/tags/Politiek\" class=\"mention hashtag\" rel=\"tag\">#<span>Politiek</span></a> <a href=\"https://mastodon.nl/tags/NSC\" class=\"mention hashtag\" rel=\"tag\">#<span>NSC</span></a></p>"
      ],
      "text/plain": [
       "<IPython.core.display.HTML object>"
      ]
     },
     "metadata": {},
     "output_type": "display_data"
    },
    {
     "name": "stdout",
     "output_type": "stream",
     "text": [
      "Date/Time: 2024-11-23 17:29:24.225000+00:00\n",
      "____________________________________________________________________________________________________\n",
      "Toot 61\n",
      "\n"
     ]
    },
    {
     "data": {
      "text/html": [
       "<p>Als actief D66 lid  ben ik natuurlijk niet objectief maar Rob Jetten gaf naar mijn mening net een geweldige speech op het D66-congres. \"Ga aan de slag, of aan de kant\" <a href=\"https://mastodon.social/tags/D66\" class=\"mention hashtag\" rel=\"nofollow noopener noreferrer\" target=\"_blank\">#<span>D66</span></a> <a href=\"https://mastodon.social/tags/robjetten\" class=\"mention hashtag\" rel=\"nofollow noopener noreferrer\" target=\"_blank\">#<span>robjetten</span></a> <a href=\"https://mastodon.social/tags/politiek\" class=\"mention hashtag\" rel=\"nofollow noopener noreferrer\" target=\"_blank\">#<span>politiek</span></a><br><a href=\"https://d66.nl/liveblog/congres-120/\" rel=\"nofollow noopener noreferrer\" translate=\"no\" target=\"_blank\"><span class=\"invisible\">https://</span><span class=\"\">d66.nl/liveblog/congres-120/</span><span class=\"invisible\"></span></a></p>"
      ],
      "text/plain": [
       "<IPython.core.display.HTML object>"
      ]
     },
     "metadata": {},
     "output_type": "display_data"
    },
    {
     "name": "stdout",
     "output_type": "stream",
     "text": [
      "Date/Time: 2024-11-23 13:57:35+00:00\n",
      "____________________________________________________________________________________________________\n",
      "Toot 62\n",
      "\n"
     ]
    },
    {
     "data": {
      "text/html": [
       "<p>De Israëlische regering en sommige partijen in de Tweede Kamer doen er hard aan mee, iedere kritiek op Israël labelen als anti-semitisme, draagt bij aan polarisatie en doodslaan van elk debat.<br><a href=\"https://mastodon.social/tags/antisemitisme\" class=\"mention hashtag\" rel=\"nofollow noopener noreferrer\" target=\"_blank\">#<span>antisemitisme</span></a> <a href=\"https://mastodon.social/tags/israel\" class=\"mention hashtag\" rel=\"nofollow noopener noreferrer\" target=\"_blank\">#<span>israel</span></a> <a href=\"https://mastodon.social/tags/politiek\" class=\"mention hashtag\" rel=\"nofollow noopener noreferrer\" target=\"_blank\">#<span>politiek</span></a></p>"
      ],
      "text/plain": [
       "<IPython.core.display.HTML object>"
      ]
     },
     "metadata": {},
     "output_type": "display_data"
    },
    {
     "name": "stdout",
     "output_type": "stream",
     "text": [
      "Date/Time: 2024-11-23 12:43:19+00:00\n",
      "____________________________________________________________________________________________________\n",
      "Toot 63\n",
      "\n"
     ]
    },
    {
     "data": {
      "text/html": [
       "<p>De Kamer van Klok is een podcast van de Volkskrant elke vrijdag met uitstekende politieke duiding en humor met oa Sheila Sitalsing. Aanrader.<br><a href=\"https://open.spotify.com/episode/2WbmDBVhKqQsh57tI5RYhO?si=QVIGz-QGQVSOzo58x6k6cg\" rel=\"nofollow noopener noreferrer\" translate=\"no\" target=\"_blank\"><span class=\"invisible\">https://</span><span class=\"ellipsis\">open.spotify.com/episode/2WbmD</span><span class=\"invisible\">BVhKqQsh57tI5RYhO?si=QVIGz-QGQVSOzo58x6k6cg</span></a><br><a href=\"https://mastodon.social/tags/podcast\" class=\"mention hashtag\" rel=\"nofollow noopener noreferrer\" target=\"_blank\">#<span>podcast</span></a> <a href=\"https://mastodon.social/tags/politiek\" class=\"mention hashtag\" rel=\"nofollow noopener noreferrer\" target=\"_blank\">#<span>politiek</span></a> <a href=\"https://mastodon.social/tags/volkskrant\" class=\"mention hashtag\" rel=\"nofollow noopener noreferrer\" target=\"_blank\">#<span>volkskrant</span></a></p>"
      ],
      "text/plain": [
       "<IPython.core.display.HTML object>"
      ]
     },
     "metadata": {},
     "output_type": "display_data"
    },
    {
     "name": "stdout",
     "output_type": "stream",
     "text": [
      "Date/Time: 2024-11-23 08:35:52+00:00\n",
      "____________________________________________________________________________________________________\n",
      "Toot 64\n",
      "\n"
     ]
    },
    {
     "data": {
      "text/html": [
       "<p>Je moet te veel praten&quot; zegden wij vroeger dan.<br /><a href=\"https://mastodon.nl/tags/schoof\" class=\"mention hashtag\" rel=\"tag\">#<span>schoof</span></a> <a href=\"https://mastodon.nl/tags/politiek\" class=\"mention hashtag\" rel=\"tag\">#<span>politiek</span></a> <a href=\"https://mastodon.nl/tags/dievier\" class=\"mention hashtag\" rel=\"tag\">#<span>dievier</span></a> <a href=\"https://mastodon.nl/tags/groenlinkspvda\" class=\"mention hashtag\" rel=\"tag\">#<span>groenlinkspvda</span></a></p>"
      ],
      "text/plain": [
       "<IPython.core.display.HTML object>"
      ]
     },
     "metadata": {},
     "output_type": "display_data"
    },
    {
     "name": "stdout",
     "output_type": "stream",
     "text": [
      "Date/Time: 2024-11-22 20:42:07.188000+00:00\n",
      "____________________________________________________________________________________________________\n",
      "Toot 65\n",
      "\n"
     ]
    },
    {
     "data": {
      "text/html": [
       "<p><span class=\"h-card\" translate=\"no\"><a href=\"https://mastodon.social/@Kletskous\" class=\"u-url mention\">@<span>Kletskous</span></a></span> dat heet &#39;onwil politiek&#39;...😇</p><p>Ik begin net met kijken...</p><p><a href=\"https://mastodon.nl/tags/Politiek\" class=\"mention hashtag\" rel=\"tag\">#<span>Politiek</span></a> <a href=\"https://mastodon.nl/tags/GesprekMetMinisterPresident\" class=\"mention hashtag\" rel=\"tag\">#<span>GesprekMetMinisterPresident</span></a></p>"
      ],
      "text/plain": [
       "<IPython.core.display.HTML object>"
      ]
     },
     "metadata": {},
     "output_type": "display_data"
    },
    {
     "name": "stdout",
     "output_type": "stream",
     "text": [
      "Date/Time: 2024-11-22 18:00:10.766000+00:00\n",
      "____________________________________________________________________________________________________\n",
      "Toot 66\n",
      "\n"
     ]
    },
    {
     "data": {
      "text/html": [
       "<p>Voor de liefhebbers, Persconferentie minister-president Schoof van 22 november 2024<br>(hij is te laat)<br><a href=\"https://www.youtube.com/watch?v=TY3ak1hS7cU\" rel=\"nofollow noopener noreferrer\" translate=\"no\" target=\"_blank\"><span class=\"invisible\">https://www.</span><span class=\"ellipsis\">youtube.com/watch?v=TY3ak1hS7c</span><span class=\"invisible\">U</span></a><br><a href=\"https://mastodon.social/tags/politiek\" class=\"mention hashtag\" rel=\"nofollow noopener noreferrer\" target=\"_blank\">#<span>politiek</span></a> <a href=\"https://mastodon.social/tags/schoof\" class=\"mention hashtag\" rel=\"nofollow noopener noreferrer\" target=\"_blank\">#<span>schoof</span></a> <a href=\"https://mastodon.social/tags/kabinet\" class=\"mention hashtag\" rel=\"nofollow noopener noreferrer\" target=\"_blank\">#<span>kabinet</span></a></p>"
      ],
      "text/plain": [
       "<IPython.core.display.HTML object>"
      ]
     },
     "metadata": {},
     "output_type": "display_data"
    },
    {
     "name": "stdout",
     "output_type": "stream",
     "text": [
      "Date/Time: 2024-11-22 14:04:05+00:00\n",
      "____________________________________________________________________________________________________\n",
      "Toot 67\n",
      "\n"
     ]
    },
    {
     "data": {
      "text/html": [
       "<p>het jaarlijkste rondje frustratie met de zorgverzekeraars begint weer! we moeten weer eens een verzekering afsluiten, waarvan je wel weet wat het je gaat kosten, maar niet wat je er voor terugkrijgt omdat de onderhandelingen met alle zorgverleners nog lopen. Je koopt toch ook niet een &quot;auto&quot; zonder dat je weet welke auto het gaat worden <a href=\"https://mastodon.nl/tags/frustratie\" class=\"mention hashtag\" rel=\"tag\">#<span>frustratie</span></a> <a href=\"https://mastodon.nl/tags/politiek\" class=\"mention hashtag\" rel=\"tag\">#<span>politiek</span></a> <a href=\"https://mastodon.nl/tags/zorgverzereraars\" class=\"mention hashtag\" rel=\"tag\">#<span>zorgverzereraars</span></a> <a href=\"https://mastodon.nl/tags/asr\" class=\"mention hashtag\" rel=\"tag\">#<span>asr</span></a> <a href=\"https://mastodon.nl/tags/ciz\" class=\"mention hashtag\" rel=\"tag\">#<span>ciz</span></a> <a href=\"https://mastodon.nl/tags/achmea\" class=\"mention hashtag\" rel=\"tag\">#<span>achmea</span></a> <a href=\"https://mastodon.nl/tags/independer\" class=\"mention hashtag\" rel=\"tag\">#<span>independer</span></a></p>"
      ],
      "text/plain": [
       "<IPython.core.display.HTML object>"
      ]
     },
     "metadata": {},
     "output_type": "display_data"
    },
    {
     "name": "stdout",
     "output_type": "stream",
     "text": [
      "Date/Time: 2024-11-22 13:43:24.324000+00:00\n",
      "____________________________________________________________________________________________________\n",
      "Toot 68\n",
      "\n"
     ]
    },
    {
     "data": {
      "text/html": [
       "<p>Agema stopt medische hulp aan arbeidsmigranten die hun werk verliezen - <a href=\"https://mastodon.nl/tags/Joop\" class=\"mention hashtag\" rel=\"tag\">#<span>Joop</span></a> <br /><a href=\"https://www.bnnvara.nl/joop/artikelen/agema-stopt-medische-hulp-aan-arbeidsmigranten-die-hun-werk-verliezen\" target=\"_blank\" rel=\"nofollow noopener noreferrer\" translate=\"no\"><span class=\"invisible\">https://www.</span><span class=\"ellipsis\">bnnvara.nl/joop/artikelen/agem</span><span class=\"invisible\">a-stopt-medische-hulp-aan-arbeidsmigranten-die-hun-werk-verliezen</span></a></p><p> “We hebben het hier over een basisrecht op zorg, we zullen elke regel in Europa en bij de Wereld Gezondheidsorganisatie overschrijden als we dit rare plan van de minister gaan uitvoeren.”</p><p>Agema op ramkoers met eigenlijk met zo&#39;n beetje alles en iedereen die zich met zorg bezig houdt.</p><p>&quot;Onze artsen leggen een eed af om álle patiënten te zien en te helpen.&quot;<br /><a href=\"https://nl.m.wikipedia.org/wiki/Eed_van_Hippocrates\" target=\"_blank\" rel=\"nofollow noopener noreferrer\" translate=\"no\"><span class=\"invisible\">https://</span><span class=\"ellipsis\">nl.m.wikipedia.org/wiki/Eed_va</span><span class=\"invisible\">n_Hippocrates</span></a></p><p><a href=\"https://mastodon.nl/tags/Politiek\" class=\"mention hashtag\" rel=\"tag\">#<span>Politiek</span></a></p>"
      ],
      "text/plain": [
       "<IPython.core.display.HTML object>"
      ]
     },
     "metadata": {},
     "output_type": "display_data"
    },
    {
     "name": "stdout",
     "output_type": "stream",
     "text": [
      "Date/Time: 2024-11-22 12:34:56.588000+00:00\n",
      "____________________________________________________________________________________________________\n",
      "Toot 69\n",
      "\n"
     ]
    },
    {
     "data": {
      "text/html": [
       "<p>De basislijn is volkomen duidelijk, hieraan heeft ook de PVV zich geconformeerd. Natuurlijk kun je het niet eens zijn met het internationaal strafhof, dat is het punt niet, maar om actief daar lijnrecht tegen in te gaan, zoals Wilders van plan,  is toch wat anders. Benieuwd hoe dit gaat worden uitgelegd. <br><a href=\"https://mastodon.social/tags/PVV\" class=\"mention hashtag\" rel=\"nofollow noopener noreferrer\" target=\"_blank\">#<span>PVV</span></a> <a href=\"https://mastodon.social/tags/NSC\" class=\"mention hashtag\" rel=\"nofollow noopener noreferrer\" target=\"_blank\">#<span>NSC</span></a> <a href=\"https://mastodon.social/tags/BBB\" class=\"mention hashtag\" rel=\"nofollow noopener noreferrer\" target=\"_blank\">#<span>BBB</span></a> <a href=\"https://mastodon.social/tags/Israel\" class=\"mention hashtag\" rel=\"nofollow noopener noreferrer\" target=\"_blank\">#<span>Israel</span></a> <a href=\"https://mastodon.social/tags/Wilders\" class=\"mention hashtag\" rel=\"nofollow noopener noreferrer\" target=\"_blank\">#<span>Wilders</span></a> <a href=\"https://mastodon.social/tags/politiek\" class=\"mention hashtag\" rel=\"nofollow noopener noreferrer\" target=\"_blank\">#<span>politiek</span></a> <a href=\"https://mastodon.social/tags/kabinet\" class=\"mention hashtag\" rel=\"nofollow noopener noreferrer\" target=\"_blank\">#<span>kabinet</span></a></p>"
      ],
      "text/plain": [
       "<IPython.core.display.HTML object>"
      ]
     },
     "metadata": {},
     "output_type": "display_data"
    },
    {
     "name": "stdout",
     "output_type": "stream",
     "text": [
      "Date/Time: 2024-11-22 12:04:46+00:00\n",
      "____________________________________________________________________________________________________\n",
      "Toot 70\n",
      "\n"
     ]
    },
    {
     "data": {
      "text/html": [
       "<p>Genoeg te bespreken in de Ministerraad, bezoek Wilders aan Netanyahu en onderstaande, <a href=\"https://www.trouw.nl/binnenland/kabinet-ontkende-het-bestaan-van-asielcrisis-notitie-maar-deze-blijkt-er-wel-te-zijn~bc90f4a6/\" rel=\"nofollow noopener noreferrer\" translate=\"no\" target=\"_blank\"><span class=\"invisible\">https://www.</span><span class=\"ellipsis\">trouw.nl/binnenland/kabinet-on</span><span class=\"invisible\">tkende-het-bestaan-van-asielcrisis-notitie-maar-deze-blijkt-er-wel-te-zijn~bc90f4a6/</span></a><br><a href=\"https://mastodon.social/tags/politiek\" class=\"mention hashtag\" rel=\"nofollow noopener noreferrer\" target=\"_blank\">#<span>politiek</span></a> <a href=\"https://mastodon.social/tags/kabinet\" class=\"mention hashtag\" rel=\"nofollow noopener noreferrer\" target=\"_blank\">#<span>kabinet</span></a> <a href=\"https://mastodon.social/tags/schoof\" class=\"mention hashtag\" rel=\"nofollow noopener noreferrer\" target=\"_blank\">#<span>schoof</span></a></p>"
      ],
      "text/plain": [
       "<IPython.core.display.HTML object>"
      ]
     },
     "metadata": {},
     "output_type": "display_data"
    },
    {
     "name": "stdout",
     "output_type": "stream",
     "text": [
      "Date/Time: 2024-11-22 11:06:55+00:00\n",
      "____________________________________________________________________________________________________\n",
      "Toot 71\n",
      "\n"
     ]
    },
    {
     "data": {
      "text/html": [
       "<p>Even los van ieders persoonlijke mening over het onderwerp (Israel/Gaza ed), het is toch onbestaanbaar dat de fractievoorzitter van de grootste partij in de Tweede Kamer, die mede de huidige coalitie vormt, lijnrecht tegen de kabinetslijn ingaat of wordt dit uitgelegd als de ruimte die een kamerlid moet kunnen nemen ? 🤔 <br><a href=\"https://mastodon.social/tags/politiek\" class=\"mention hashtag\" rel=\"nofollow noopener noreferrer\" target=\"_blank\">#<span>politiek</span></a> <a href=\"https://mastodon.social/tags/wilders\" class=\"mention hashtag\" rel=\"nofollow noopener noreferrer\" target=\"_blank\">#<span>wilders</span></a> <a href=\"https://mastodon.social/tags/kabinet\" class=\"mention hashtag\" rel=\"nofollow noopener noreferrer\" target=\"_blank\">#<span>kabinet</span></a> <a href=\"https://mastodon.social/tags/schoof\" class=\"mention hashtag\" rel=\"nofollow noopener noreferrer\" target=\"_blank\">#<span>schoof</span></a> <a href=\"https://mastodon.social/tags/netanyahu\" class=\"mention hashtag\" rel=\"nofollow noopener noreferrer\" target=\"_blank\">#<span>netanyahu</span></a></p>"
      ],
      "text/plain": [
       "<IPython.core.display.HTML object>"
      ]
     },
     "metadata": {},
     "output_type": "display_data"
    },
    {
     "name": "stdout",
     "output_type": "stream",
     "text": [
      "Date/Time: 2024-11-22 10:29:52+00:00\n",
      "____________________________________________________________________________________________________\n",
      "Toot 72\n",
      "\n"
     ]
    },
    {
     "data": {
      "text/html": [
       "<p>Dit ondergraaft actief de positie van Nederland en die van het kabinet lijkt me ?<br>\"PVV-leider Wilders is van plan op korte termijn in Israël premier Netanyahu te bezoeken. Op X zegt hij er trots op te zijn \"zijn vriend Netanyahu\" binnenkort te ontmoeten. <br><a href=\"https://nos.nl/artikel/2545444-wilders-brengt-binnenkort-bezoek-aan-netanyahu\" rel=\"nofollow noopener noreferrer\" translate=\"no\" target=\"_blank\"><span class=\"invisible\">https://</span><span class=\"ellipsis\">nos.nl/artikel/2545444-wilders</span><span class=\"invisible\">-brengt-binnenkort-bezoek-aan-netanyahu</span></a><br><a href=\"https://mastodon.social/tags/politiek\" class=\"mention hashtag\" rel=\"nofollow noopener noreferrer\" target=\"_blank\">#<span>politiek</span></a> <a href=\"https://mastodon.social/tags/Wilders\" class=\"mention hashtag\" rel=\"nofollow noopener noreferrer\" target=\"_blank\">#<span>Wilders</span></a> <a href=\"https://mastodon.social/tags/kabinet\" class=\"mention hashtag\" rel=\"nofollow noopener noreferrer\" target=\"_blank\">#<span>kabinet</span></a> <a href=\"https://mastodon.social/tags/schoof\" class=\"mention hashtag\" rel=\"nofollow noopener noreferrer\" target=\"_blank\">#<span>schoof</span></a> <a href=\"https://mastodon.social/tags/netanyahu\" class=\"mention hashtag\" rel=\"nofollow noopener noreferrer\" target=\"_blank\">#<span>netanyahu</span></a></p>"
      ],
      "text/plain": [
       "<IPython.core.display.HTML object>"
      ]
     },
     "metadata": {},
     "output_type": "display_data"
    },
    {
     "name": "stdout",
     "output_type": "stream",
     "text": [
      "Date/Time: 2024-11-22 08:23:58+00:00\n",
      "____________________________________________________________________________________________________\n",
      "Toot 73\n",
      "\n"
     ]
    },
    {
     "data": {
      "text/html": [
       "<p>\"Van die leerlingen van wie de ouders in Marokko zijn geboren steeg het aandeel met havo- of vwo-advies het sterkst: van 34 procent in 2011/2012 naar 50 procent in 2022/2023.\"<br><a href=\"https://nos.nl/artikel/2545443-leerling-met-migratieachtergrond-vaker-naar-havo-of-vwo\" rel=\"nofollow noopener noreferrer\" translate=\"no\" target=\"_blank\"><span class=\"invisible\">https://</span><span class=\"ellipsis\">nos.nl/artikel/2545443-leerlin</span><span class=\"invisible\">g-met-migratieachtergrond-vaker-naar-havo-of-vwo</span></a><br><a href=\"https://mastodon.social/tags/integratie\" class=\"mention hashtag\" rel=\"nofollow noopener noreferrer\" target=\"_blank\">#<span>integratie</span></a> <a href=\"https://mastodon.social/tags/migratie\" class=\"mention hashtag\" rel=\"nofollow noopener noreferrer\" target=\"_blank\">#<span>migratie</span></a> <a href=\"https://mastodon.social/tags/politiek\" class=\"mention hashtag\" rel=\"nofollow noopener noreferrer\" target=\"_blank\">#<span>politiek</span></a> <a href=\"https://mastodon.social/tags/kabinet\" class=\"mention hashtag\" rel=\"nofollow noopener noreferrer\" target=\"_blank\">#<span>kabinet</span></a> <a href=\"https://mastodon.social/tags/schoof\" class=\"mention hashtag\" rel=\"nofollow noopener noreferrer\" target=\"_blank\">#<span>schoof</span></a></p>"
      ],
      "text/plain": [
       "<IPython.core.display.HTML object>"
      ]
     },
     "metadata": {},
     "output_type": "display_data"
    },
    {
     "name": "stdout",
     "output_type": "stream",
     "text": [
      "Date/Time: 2024-11-22 08:11:03+00:00\n",
      "____________________________________________________________________________________________________\n",
      "Toot 74\n",
      "\n"
     ]
    },
    {
     "data": {
      "text/html": [
       "<p>Benieuwd of kamerleden inmiddels ook NotebookLM (of andere AI tools) gebruiken om de bergen aan documenten die zij ontvangen te analyseren.<br>Zie bijvoorbeeld het bizarre aantal moties van de 21e (via <span class=\"h-card\" translate=\"no\"><a href=\"https://mastodon.nl/@tkdocs\" class=\"u-url mention\" rel=\"nofollow noopener noreferrer\" target=\"_blank\">@<span>tkdocs</span></a></span>  van <span class=\"h-card\" translate=\"no\"><a href=\"https://mastodon.nl/@bert_hubert\" class=\"u-url mention\" rel=\"nofollow noopener noreferrer\" target=\"_blank\">@<span>bert_hubert</span></a></span> )<br><a href=\"https://mastodon.social/tags/TweedeKamer\" class=\"mention hashtag\" rel=\"nofollow noopener noreferrer\" target=\"_blank\">#<span>TweedeKamer</span></a> <a href=\"https://mastodon.social/tags/AI\" class=\"mention hashtag\" rel=\"nofollow noopener noreferrer\" target=\"_blank\">#<span>AI</span></a> <a href=\"https://mastodon.social/tags/politiek\" class=\"mention hashtag\" rel=\"nofollow noopener noreferrer\" target=\"_blank\">#<span>politiek</span></a></p>"
      ],
      "text/plain": [
       "<IPython.core.display.HTML object>"
      ]
     },
     "metadata": {},
     "output_type": "display_data"
    },
    {
     "name": "stdout",
     "output_type": "stream",
     "text": [
      "Date/Time: 2024-11-22 08:03:09+00:00\n",
      "____________________________________________________________________________________________________\n",
      "Toot 75\n",
      "\n"
     ]
    },
    {
     "data": {
      "text/html": [
       "<p>kabinet ziet integratie probleem maar CBS ziet positieve trend migranten doorzetten <a href=\"https://www.nu.nl/binnenland/6336264/integratieprobleem-cbs-ziet-positieve-trend-migranten-doorzetten.html\" rel=\"nofollow noopener noreferrer\" translate=\"no\" target=\"_blank\"><span class=\"invisible\">https://www.</span><span class=\"ellipsis\">nu.nl/binnenland/6336264/integ</span><span class=\"invisible\">ratieprobleem-cbs-ziet-positieve-trend-migranten-doorzetten.html</span></a><br><a href=\"https://mastodon.social/tags/cbs\" class=\"mention hashtag\" rel=\"nofollow noopener noreferrer\" target=\"_blank\">#<span>cbs</span></a> <a href=\"https://mastodon.social/tags/politiek\" class=\"mention hashtag\" rel=\"nofollow noopener noreferrer\" target=\"_blank\">#<span>politiek</span></a> <a href=\"https://mastodon.social/tags/integratie\" class=\"mention hashtag\" rel=\"nofollow noopener noreferrer\" target=\"_blank\">#<span>integratie</span></a> <a href=\"https://mastodon.social/tags/migranten\" class=\"mention hashtag\" rel=\"nofollow noopener noreferrer\" target=\"_blank\">#<span>migranten</span></a></p>"
      ],
      "text/plain": [
       "<IPython.core.display.HTML object>"
      ]
     },
     "metadata": {},
     "output_type": "display_data"
    },
    {
     "name": "stdout",
     "output_type": "stream",
     "text": [
      "Date/Time: 2024-11-22 06:22:51+00:00\n",
      "____________________________________________________________________________________________________\n",
      "Toot 76\n",
      "\n"
     ]
    },
    {
     "data": {
      "text/html": [
       "<p><span class=\"h-card\" translate=\"no\"><a href=\"https://mstdn.social/@lightspeed\" class=\"u-url mention\" rel=\"nofollow noopener noreferrer\" target=\"_blank\">@<span>lightspeed</span></a></span> <span class=\"h-card\" translate=\"no\"><a href=\"https://mstdn.social/@roelgrif\" class=\"u-url mention\" rel=\"nofollow noopener noreferrer\" target=\"_blank\">@<span>roelgrif</span></a></span> Dat klopt, <a href=\"https://mastodon.social/tags/Omtzigt\" class=\"mention hashtag\" rel=\"nofollow noopener noreferrer\" target=\"_blank\">#<span>Omtzigt</span></a> heeft aanvankelijk de <a href=\"https://mastodon.social/tags/PVV\" class=\"mention hashtag\" rel=\"nofollow noopener noreferrer\" target=\"_blank\">#<span>PVV</span></a> <br>uitgesloten.</p><p><a href=\"https://mastodon.social/tags/NSC\" class=\"mention hashtag\" rel=\"nofollow noopener noreferrer\" target=\"_blank\">#<span>NSC</span></a> <a href=\"https://mastodon.social/tags/politiek\" class=\"mention hashtag\" rel=\"nofollow noopener noreferrer\" target=\"_blank\">#<span>politiek</span></a></p>"
      ],
      "text/plain": [
       "<IPython.core.display.HTML object>"
      ]
     },
     "metadata": {},
     "output_type": "display_data"
    },
    {
     "name": "stdout",
     "output_type": "stream",
     "text": [
      "Date/Time: 2024-11-21 20:24:09+00:00\n",
      "____________________________________________________________________________________________________\n",
      "Toot 77\n",
      "\n"
     ]
    },
    {
     "data": {
      "text/html": [
       "<p>Ja, dit...<br>\"Het ontbreekt de politici aan plichtsbesef\"<br>Column van Diederik Samsom <br><a href=\"https://mastodon.social/tags/politiek\" class=\"mention hashtag\" rel=\"nofollow noopener noreferrer\" target=\"_blank\">#<span>politiek</span></a></p>"
      ],
      "text/plain": [
       "<IPython.core.display.HTML object>"
      ]
     },
     "metadata": {},
     "output_type": "display_data"
    },
    {
     "name": "stdout",
     "output_type": "stream",
     "text": [
      "Date/Time: 2024-11-21 19:47:45+00:00\n",
      "____________________________________________________________________________________________________\n",
      "Toot 78\n",
      "\n"
     ]
    },
    {
     "data": {
      "text/html": [
       "<p><a href=\"https://nos.nl/liveblog/2544915-reis-minister-veldkamp-naar-israel-geschrapt-meerdere-israelische-aanvallen-in-libanon#UPDATE-container-82137747\" rel=\"nofollow noopener noreferrer\" translate=\"no\" target=\"_blank\"><span class=\"invisible\">https://</span><span class=\"ellipsis\">nos.nl/liveblog/2544915-reis-m</span><span class=\"invisible\">inister-veldkamp-naar-israel-geschrapt-meerdere-israelische-aanvallen-in-libanon#UPDATE-container-82137747</span></a></p><p><a href=\"https://mastodon.social/tags/Veldkamp\" class=\"mention hashtag\" rel=\"nofollow noopener noreferrer\" target=\"_blank\">#<span>Veldkamp</span></a> <a href=\"https://mastodon.social/tags/NSC\" class=\"mention hashtag\" rel=\"nofollow noopener noreferrer\" target=\"_blank\">#<span>NSC</span></a> <a href=\"https://mastodon.social/tags/Israel\" class=\"mention hashtag\" rel=\"nofollow noopener noreferrer\" target=\"_blank\">#<span>Israel</span></a> <a href=\"https://mastodon.social/tags/Netanyahu\" class=\"mention hashtag\" rel=\"nofollow noopener noreferrer\" target=\"_blank\">#<span>Netanyahu</span></a> <a href=\"https://mastodon.social/tags/ICC\" class=\"mention hashtag\" rel=\"nofollow noopener noreferrer\" target=\"_blank\">#<span>ICC</span></a> <a href=\"https://mastodon.social/tags/politiek\" class=\"mention hashtag\" rel=\"nofollow noopener noreferrer\" target=\"_blank\">#<span>politiek</span></a></p>"
      ],
      "text/plain": [
       "<IPython.core.display.HTML object>"
      ]
     },
     "metadata": {},
     "output_type": "display_data"
    },
    {
     "name": "stdout",
     "output_type": "stream",
     "text": [
      "Date/Time: 2024-11-21 19:06:54+00:00\n",
      "____________________________________________________________________________________________________\n",
      "Toot 79\n",
      "\n"
     ]
    },
    {
     "data": {
      "text/html": [
       "<p>Bart van Kent <a href=\"https://mastodon.social/tags/SP\" class=\"mention hashtag\" rel=\"nofollow noopener noreferrer\" target=\"_blank\">#<span>SP</span></a></p><p>PVV geeft pensioenverraad toe.</p><p>De belangen van miljoenen gepensioneerden en werkenden zetten ze bij het grofvuil. Het casinopensioen maken ze zelfs mede mogelijk.</p><p>Kiezersbedrog van het ergste soort @léon de Jong PVV en Edgar Mulder hebben de boel belazerd! <a href=\"https://mastodon.social/tags/PVV\" class=\"mention hashtag\" rel=\"nofollow noopener noreferrer\" target=\"_blank\">#<span>PVV</span></a> <a href=\"https://mastodon.social/tags/nederland\" class=\"mention hashtag\" rel=\"nofollow noopener noreferrer\" target=\"_blank\">#<span>nederland</span></a> <a href=\"https://mastodon.social/tags/fyp\" class=\"mention hashtag\" rel=\"nofollow noopener noreferrer\" target=\"_blank\">#<span>fyp</span></a> <a href=\"https://mastodon.social/tags/nederland\" class=\"mention hashtag\" rel=\"nofollow noopener noreferrer\" target=\"_blank\">#<span>nederland</span></a>🇳🇱 <a href=\"https://mastodon.social/tags/politiek\" class=\"mention hashtag\" rel=\"nofollow noopener noreferrer\" target=\"_blank\">#<span>politiek</span></a> <a href=\"https://mastodon.social/tags/tweedekamer\" class=\"mention hashtag\" rel=\"nofollow noopener noreferrer\" target=\"_blank\">#<span>tweedekamer</span></a></p>"
      ],
      "text/plain": [
       "<IPython.core.display.HTML object>"
      ]
     },
     "metadata": {},
     "output_type": "display_data"
    },
    {
     "name": "stdout",
     "output_type": "stream",
     "text": [
      "Date/Time: 2024-11-21 16:24:30+00:00\n",
      "____________________________________________________________________________________________________\n",
      "Toot 80\n",
      "\n"
     ]
    },
    {
     "data": {
      "text/html": [
       "<p>Goed zo Kati Piri: 🤜 💥 <br>\"Ik laat me niet aanpraten dat ik een minister van Buitenlandse zaken in gevaar  heb gebracht.\"</p><p><a href=\"https://www.tweedekamer.nl/vergaderingen/livedebat/plenaire-zaal\" rel=\"nofollow noopener noreferrer\" translate=\"no\" target=\"_blank\"><span class=\"invisible\">https://www.</span><span class=\"ellipsis\">tweedekamer.nl/vergaderingen/l</span><span class=\"invisible\">ivedebat/plenaire-zaal</span></a> <a href=\"https://mastodon.social/tags/debat\" class=\"mention hashtag\" rel=\"nofollow noopener noreferrer\" target=\"_blank\">#<span>debat</span></a> <a href=\"https://mastodon.social/tags/BuZa\" class=\"mention hashtag\" rel=\"nofollow noopener noreferrer\" target=\"_blank\">#<span>BuZa</span></a> <a href=\"https://mastodon.social/tags/Veldkamp\" class=\"mention hashtag\" rel=\"nofollow noopener noreferrer\" target=\"_blank\">#<span>Veldkamp</span></a> <a href=\"https://mastodon.social/tags/politiek\" class=\"mention hashtag\" rel=\"nofollow noopener noreferrer\" target=\"_blank\">#<span>politiek</span></a></p>"
      ],
      "text/plain": [
       "<IPython.core.display.HTML object>"
      ]
     },
     "metadata": {},
     "output_type": "display_data"
    },
    {
     "name": "stdout",
     "output_type": "stream",
     "text": [
      "Date/Time: 2024-11-21 13:52:06+00:00\n",
      "____________________________________________________________________________________________________\n",
      "Toot 81\n",
      "\n"
     ]
    },
    {
     "data": {
      "text/html": [
       "<p>Goed zo Kati Piri: 🤜 💥 <br>\"Ik laat me niet aanpraten dat ik een minister van Buitenlandse zaken in gevaar  heb gebracht.\"</p><p><a href=\"https://www.tweedekamer.nl/vergaderingen/livedebat/plenaire-zaal\" rel=\"nofollow noopener noreferrer\" translate=\"no\" target=\"_blank\"><span class=\"invisible\">https://www.</span><span class=\"ellipsis\">tweedekamer.nl/vergaderingen/l</span><span class=\"invisible\">ivedebat/plenaire-zaal</span></a> <a href=\"https://mastodon.social/tags/debat\" class=\"mention hashtag\" rel=\"nofollow noopener noreferrer\" target=\"_blank\">#<span>debat</span></a> <a href=\"https://mastodon.social/tags/BuZa\" class=\"mention hashtag\" rel=\"nofollow noopener noreferrer\" target=\"_blank\">#<span>BuZa</span></a> <a href=\"https://mastodon.social/tags/Veldkamp\" class=\"mention hashtag\" rel=\"nofollow noopener noreferrer\" target=\"_blank\">#<span>Veldkamp</span></a> <a href=\"https://mastodon.social/tags/politiek\" class=\"mention hashtag\" rel=\"nofollow noopener noreferrer\" target=\"_blank\">#<span>politiek</span></a></p>"
      ],
      "text/plain": [
       "<IPython.core.display.HTML object>"
      ]
     },
     "metadata": {},
     "output_type": "display_data"
    },
    {
     "name": "stdout",
     "output_type": "stream",
     "text": [
      "Date/Time: 2024-11-21 13:52:06+00:00\n",
      "____________________________________________________________________________________________________\n",
      "Toot 82\n",
      "\n"
     ]
    },
    {
     "data": {
      "text/html": [
       "<p><a href=\"https://krant.volkskrant.nl/titles/volkskrant/7929/publications/2340/pages/22/articles/2161240/23/1\" target=\"_blank\" rel=\"nofollow noopener noreferrer\" translate=\"no\"><span class=\"invisible\">https://</span><span class=\"ellipsis\">krant.volkskrant.nl/titles/vol</span><span class=\"invisible\">kskrant/7929/publications/2340/pages/22/articles/2161240/23/1</span></a><br />Begin jaren &#39;80 heb ik 2 jaar gewerkt als &#39;vrijwilliger in de ontwikkelingssamenwerking&#39; in GuineeBissau. In de jaren daarna heb ik begrepen dat er van ieder 1 gulden die naar OntwikkelingsSamenwerking ging, er 1,5 terug kwam bij het Nederlandse bedrijfsleven. Dus wie wordt er nu gekort?<br /><a href=\"https://mastodon.nl/tags/ontwikkelingssamenwerking\" class=\"mention hashtag\" rel=\"tag\">#<span>ontwikkelingssamenwerking</span></a> <a href=\"https://mastodon.nl/tags/politiek\" class=\"mention hashtag\" rel=\"tag\">#<span>politiek</span></a> <a href=\"https://mastodon.nl/tags/dievier\" class=\"mention hashtag\" rel=\"tag\">#<span>dievier</span></a> <a href=\"https://mastodon.nl/tags/klever\" class=\"mention hashtag\" rel=\"tag\">#<span>klever</span></a></p>"
      ],
      "text/plain": [
       "<IPython.core.display.HTML object>"
      ]
     },
     "metadata": {},
     "output_type": "display_data"
    },
    {
     "name": "stdout",
     "output_type": "stream",
     "text": [
      "Date/Time: 2024-11-21 13:29:37.164000+00:00\n",
      "____________________________________________________________________________________________________\n",
      "Toot 83\n",
      "\n"
     ]
    },
    {
     "data": {
      "text/html": [
       "<p>Wat een goede column in De Groene<br><a href=\"https://www.groene.nl/artikel/ranzige-liefde\" rel=\"nofollow noopener noreferrer\" translate=\"no\" target=\"_blank\"><span class=\"invisible\">https://www.</span><span class=\"ellipsis\">groene.nl/artikel/ranzige-lief</span><span class=\"invisible\">de</span></a><br><a href=\"https://mastodon.social/tags/politiek\" class=\"mention hashtag\" rel=\"nofollow noopener noreferrer\" target=\"_blank\">#<span>politiek</span></a> <a href=\"https://mastodon.social/tags/antisemitisme\" class=\"mention hashtag\" rel=\"nofollow noopener noreferrer\" target=\"_blank\">#<span>antisemitisme</span></a></p>"
      ],
      "text/plain": [
       "<IPython.core.display.HTML object>"
      ]
     },
     "metadata": {},
     "output_type": "display_data"
    },
    {
     "name": "stdout",
     "output_type": "stream",
     "text": [
      "Date/Time: 2024-11-21 10:26:30+00:00\n",
      "____________________________________________________________________________________________________\n",
      "Toot 84\n",
      "\n"
     ]
    },
    {
     "data": {
      "text/html": [
       "<p>De hufterigheid van de fractieleiders en leden van de coalitie kent geen grenzen.</p><p>Komt helemaal goed met die 'omgangsvormen.' </p><p><a href=\"https://mastodon.social/tags/NSC\" class=\"mention hashtag\" rel=\"nofollow noopener noreferrer\" target=\"_blank\">#<span>NSC</span></a> <a href=\"https://mastodon.social/tags/VVD\" class=\"mention hashtag\" rel=\"nofollow noopener noreferrer\" target=\"_blank\">#<span>VVD</span></a> <a href=\"https://mastodon.social/tags/PVV\" class=\"mention hashtag\" rel=\"nofollow noopener noreferrer\" target=\"_blank\">#<span>PVV</span></a> <a href=\"https://mastodon.social/tags/BBB\" class=\"mention hashtag\" rel=\"nofollow noopener noreferrer\" target=\"_blank\">#<span>BBB</span></a> <a href=\"https://mastodon.social/tags/politiek\" class=\"mention hashtag\" rel=\"nofollow noopener noreferrer\" target=\"_blank\">#<span>politiek</span></a></p>"
      ],
      "text/plain": [
       "<IPython.core.display.HTML object>"
      ]
     },
     "metadata": {},
     "output_type": "display_data"
    },
    {
     "name": "stdout",
     "output_type": "stream",
     "text": [
      "Date/Time: 2024-11-21 00:18:44+00:00\n",
      "____________________________________________________________________________________________________\n",
      "Toot 85\n",
      "\n"
     ]
    },
    {
     "data": {
      "text/html": [
       "<p>Is <span class=\"h-card\" translate=\"no\"><a href=\"https://bird.makeup/users/gl_pvda\" class=\"u-url mention\">@<span>gl_pvda</span></a></span> selectief over mensenrechten?</p><p>Zie de analyse in 8 slides.</p><p>Volg ons voor meer links nieuws!</p><p><span class=\"h-card\" translate=\"no\"><a href=\"https://bird.makeup/users/groenlinks\" class=\"u-url mention\">@<span>groenlinks</span></a></span> <span class=\"h-card\" translate=\"no\"><a href=\"https://bird.makeup/users/pvda\" class=\"u-url mention\">@<span>pvda</span></a></span> </p><p><a href=\"https://mastodon.nl/tags/palestina\" class=\"mention hashtag\" rel=\"tag\">#<span>palestina</span></a> <a href=\"https://mastodon.nl/tags/palestine\" class=\"mention hashtag\" rel=\"tag\">#<span>palestine</span></a> <a href=\"https://mastodon.nl/tags/genocide\" class=\"mention hashtag\" rel=\"tag\">#<span>genocide</span></a> <a href=\"https://mastodon.nl/tags/israel\" class=\"mention hashtag\" rel=\"tag\">#<span>israel</span></a> <a href=\"https://mastodon.nl/tags/libanon\" class=\"mention hashtag\" rel=\"tag\">#<span>libanon</span></a> <a href=\"https://mastodon.nl/tags/timmermans\" class=\"mention hashtag\" rel=\"tag\">#<span>timmermans</span></a> <a href=\"https://mastodon.nl/tags/volt\" class=\"mention hashtag\" rel=\"tag\">#<span>volt</span></a> <a href=\"https://mastodon.nl/tags/politiek\" class=\"mention hashtag\" rel=\"tag\">#<span>politiek</span></a> <a href=\"https://mastodon.nl/tags/nieuws\" class=\"mention hashtag\" rel=\"tag\">#<span>nieuws</span></a> <a href=\"https://mastodon.nl/tags/groenlinks\" class=\"mention hashtag\" rel=\"tag\">#<span>groenlinks</span></a> <a href=\"https://mastodon.nl/tags/pvda\" class=\"mention hashtag\" rel=\"tag\">#<span>pvda</span></a></p>"
      ],
      "text/plain": [
       "<IPython.core.display.HTML object>"
      ]
     },
     "metadata": {},
     "output_type": "display_data"
    },
    {
     "name": "stdout",
     "output_type": "stream",
     "text": [
      "Date/Time: 2024-11-20 21:50:44.749000+00:00\n",
      "____________________________________________________________________________________________________\n",
      "Toot 86\n",
      "\n"
     ]
    },
    {
     "data": {
      "text/html": [
       "<p>Uitermark: \"Wij hebben ook om Nora heen gestaan.\"</p><p>[...]</p><p>\"Ik vertaal mijn verantwoordelijkheid zo dat ik vind dat ik moet blijven.\"</p><p>[...]</p><p>Is er sprake van racisme?'</p><p>\"De minister president heeft dat duidelijk gezegd: er is en was geen sprake van racisme. Het ging erom dat de toon in het debat te hard is geworden.\"</p><p>Maar ze vindt niet dat de toon van <a href=\"https://mastodon.social/tags/Schoof\" class=\"mention hashtag\" rel=\"nofollow noopener noreferrer\" target=\"_blank\">#<span>Schoof</span></a> in zijn persconferentie te hard was. </p><p><a href=\"https://www.rtl.nl/nieuws/video/video/fda090a5-c978-4b24-abb9-d4b0bf9f3069/nsc-minister-uitermark-toon-van-het-debatfda090a5-c978-4b24-abb9-d4b0bf9f3069\" rel=\"nofollow noopener noreferrer\" translate=\"no\" target=\"_blank\"><span class=\"invisible\">https://www.</span><span class=\"ellipsis\">rtl.nl/nieuws/video/video/fda0</span><span class=\"invisible\">90a5-c978-4b24-abb9-d4b0bf9f3069/nsc-minister-uitermark-toon-van-het-debatfda090a5-c978-4b24-abb9-d4b0bf9f3069</span></a> </p><p><a href=\"https://mastodon.social/tags/Uitermark\" class=\"mention hashtag\" rel=\"nofollow noopener noreferrer\" target=\"_blank\">#<span>Uitermark</span></a> <a href=\"https://mastodon.social/tags/Achahbar\" class=\"mention hashtag\" rel=\"nofollow noopener noreferrer\" target=\"_blank\">#<span>Achahbar</span></a> <a href=\"https://mastodon.social/tags/Schoof\" class=\"mention hashtag\" rel=\"nofollow noopener noreferrer\" target=\"_blank\">#<span>Schoof</span></a> <a href=\"https://mastodon.social/tags/NSC\" class=\"mention hashtag\" rel=\"nofollow noopener noreferrer\" target=\"_blank\">#<span>NSC</span></a> <a href=\"https://mastodon.social/tags/PVV\" class=\"mention hashtag\" rel=\"nofollow noopener noreferrer\" target=\"_blank\">#<span>PVV</span></a> <a href=\"https://mastodon.social/tags/VVD\" class=\"mention hashtag\" rel=\"nofollow noopener noreferrer\" target=\"_blank\">#<span>VVD</span></a> <a href=\"https://mastodon.social/tags/BBB\" class=\"mention hashtag\" rel=\"nofollow noopener noreferrer\" target=\"_blank\">#<span>BBB</span></a> <a href=\"https://mastodon.social/tags/politiek\" class=\"mention hashtag\" rel=\"nofollow noopener noreferrer\" target=\"_blank\">#<span>politiek</span></a></p>"
      ],
      "text/plain": [
       "<IPython.core.display.HTML object>"
      ]
     },
     "metadata": {},
     "output_type": "display_data"
    },
    {
     "name": "stdout",
     "output_type": "stream",
     "text": [
      "Date/Time: 2024-11-20 21:28:08+00:00\n",
      "____________________________________________________________________________________________________\n",
      "Toot 87\n",
      "\n"
     ]
    },
    {
     "data": {
      "text/html": [
       "<p>Politiek gezien vond ik er heel veel van, maar wat zijn gezondheid betreft laat Omtzigt vooral zien hoe ingewikkeld het soms wordt met burnout (/burnoutachtige) klachten en wens ik hem vooral veel sterkte een spoedig herstel.</p><p><a href=\"https://mastodon.nl/tags/Politiek\" class=\"mention hashtag\" rel=\"tag\">#<span>Politiek</span></a> <a href=\"https://mastodon.nl/tags/Omtzigt\" class=\"mention hashtag\" rel=\"tag\">#<span>Omtzigt</span></a></p>"
      ],
      "text/plain": [
       "<IPython.core.display.HTML object>"
      ]
     },
     "metadata": {},
     "output_type": "display_data"
    },
    {
     "name": "stdout",
     "output_type": "stream",
     "text": [
      "Date/Time: 2024-11-20 19:19:20.739000+00:00\n",
      "____________________________________________________________________________________________________\n",
      "Toot 88\n",
      "\n"
     ]
    },
    {
     "data": {
      "text/html": [
       "<p>\"NSC moet nu de staatssecretarispost van Achahbar en de Kamerzetels van Hertzberger en Zeedijk opvullen. Geen probleem, denkt Van Vroonhoven: „De mensen op de kandidatenlijst staan te trappelen om te beginnen.”</p><p>Hallucinant. </p><p><a href=\"https://www.nrc.nl/nieuws/2024/11/19/twee-nsc-kamerleden-opgestapt-maar-van-vroonhoven-is-nog-in-de-ontkenningsfase-nsc-is-stabiel-a4873714\" rel=\"nofollow noopener noreferrer\" translate=\"no\" target=\"_blank\"><span class=\"invisible\">https://www.</span><span class=\"ellipsis\">nrc.nl/nieuws/2024/11/19/twee-</span><span class=\"invisible\">nsc-kamerleden-opgestapt-maar-van-vroonhoven-is-nog-in-de-ontkenningsfase-nsc-is-stabiel-a4873714</span></a>  <a href=\"https://mastodon.social/tags/vanVroonhoven\" class=\"mention hashtag\" rel=\"nofollow noopener noreferrer\" target=\"_blank\">#<span>vanVroonhoven</span></a> <a href=\"https://mastodon.social/tags/NSC\" class=\"mention hashtag\" rel=\"nofollow noopener noreferrer\" target=\"_blank\">#<span>NSC</span></a> <a href=\"https://mastodon.social/tags/politiek\" class=\"mention hashtag\" rel=\"nofollow noopener noreferrer\" target=\"_blank\">#<span>politiek</span></a></p>"
      ],
      "text/plain": [
       "<IPython.core.display.HTML object>"
      ]
     },
     "metadata": {},
     "output_type": "display_data"
    },
    {
     "name": "stdout",
     "output_type": "stream",
     "text": [
      "Date/Time: 2024-11-20 17:55:56+00:00\n",
      "____________________________________________________________________________________________________\n",
      "Toot 89\n",
      "\n"
     ]
    },
    {
     "data": {
      "text/html": [
       "<p><a href=\"https://nos.nl/artikel/2545263-medewerker-presidium-vervolgd-om-lekken-informatie-over-onderzoek-naar-arib\" rel=\"nofollow noopener noreferrer\" translate=\"no\" target=\"_blank\"><span class=\"invisible\">https://</span><span class=\"ellipsis\">nos.nl/artikel/2545263-medewer</span><span class=\"invisible\">ker-presidium-vervolgd-om-lekken-informatie-over-onderzoek-naar-arib</span></a> <a href=\"https://mastodon.social/tags/Arib\" class=\"mention hashtag\" rel=\"nofollow noopener noreferrer\" target=\"_blank\">#<span>Arib</span></a> <a href=\"https://mastodon.social/tags/presidium\" class=\"mention hashtag\" rel=\"nofollow noopener noreferrer\" target=\"_blank\">#<span>presidium</span></a> <a href=\"https://mastodon.social/tags/politiek\" class=\"mention hashtag\" rel=\"nofollow noopener noreferrer\" target=\"_blank\">#<span>politiek</span></a></p>"
      ],
      "text/plain": [
       "<IPython.core.display.HTML object>"
      ]
     },
     "metadata": {},
     "output_type": "display_data"
    },
    {
     "name": "stdout",
     "output_type": "stream",
     "text": [
      "Date/Time: 2024-11-20 17:15:41+00:00\n",
      "____________________________________________________________________________________________________\n",
      "Toot 90\n",
      "\n"
     ]
    },
    {
     "data": {
      "text/html": [
       "<p>/2</p><p>Ahh ... 2 uur later in Volkskrant:<br />NSC-leider Pieter Omtzigt keert per direct terug in Tweede Kamer | de Volkskrant<br /><a href=\"https://www.volkskrant.nl/politiek/nsc-leider-pieter-omtzigt-keert-per-direct-terug-in-tweede-kamer~b3eb7537/\" target=\"_blank\" rel=\"nofollow noopener noreferrer\" translate=\"no\"><span class=\"invisible\">https://www.</span><span class=\"ellipsis\">volkskrant.nl/politiek/nsc-lei</span><span class=\"invisible\">der-pieter-omtzigt-keert-per-direct-terug-in-tweede-kamer~b3eb7537/</span></a></p><p>Samengevat:<br /> ‘Stap voor stap weer aan het werk’</p><p><a href=\"https://mastodon.nl/tags/Politiek\" class=\"mention hashtag\" rel=\"tag\">#<span>Politiek</span></a> <a href=\"https://mastodon.nl/tags/Omtzigt\" class=\"mention hashtag\" rel=\"tag\">#<span>Omtzigt</span></a> <a href=\"https://mastodon.nl/tags/DeManDieTerugBlijftKomen\" class=\"mention hashtag\" rel=\"tag\">#<span>DeManDieTerugBlijftKomen</span></a></p>"
      ],
      "text/plain": [
       "<IPython.core.display.HTML object>"
      ]
     },
     "metadata": {},
     "output_type": "display_data"
    },
    {
     "name": "stdout",
     "output_type": "stream",
     "text": [
      "Date/Time: 2024-11-20 15:49:29.953000+00:00\n",
      "____________________________________________________________________________________________________\n",
      "Toot 91\n",
      "\n"
     ]
    },
    {
     "data": {
      "text/html": [
       "<p>Live politiek: Pieter Omtzigt keert per direct terug in Tweede Kamer | <a href=\"https://mastodon.nl/tags/Trouw\" class=\"mention hashtag\" rel=\"tag\">#<span>Trouw</span></a><br /><a href=\"https://www.trouw.nl/politiek/live-politiek-pieter-omtzigt-keert-per-direct-terug-in-tweede-kamer~bc42407e/\" target=\"_blank\" rel=\"nofollow noopener noreferrer\" translate=\"no\"><span class=\"invisible\">https://www.</span><span class=\"ellipsis\">trouw.nl/politiek/live-politie</span><span class=\"invisible\">k-pieter-omtzigt-keert-per-direct-terug-in-tweede-kamer~bc42407e/</span></a></p><p>Is er al een volgende update sinds 14:22?</p><p>/2</p><p><a href=\"https://mastodon.nl/tags/Politiek\" class=\"mention hashtag\" rel=\"tag\">#<span>Politiek</span></a> <a href=\"https://mastodon.nl/tags/Omtzigt\" class=\"mention hashtag\" rel=\"tag\">#<span>Omtzigt</span></a> <a href=\"https://mastodon.nl/tags/DeManDieTerugBlijftKomen\" class=\"mention hashtag\" rel=\"tag\">#<span>DeManDieTerugBlijftKomen</span></a></p>"
      ],
      "text/plain": [
       "<IPython.core.display.HTML object>"
      ]
     },
     "metadata": {},
     "output_type": "display_data"
    },
    {
     "name": "stdout",
     "output_type": "stream",
     "text": [
      "Date/Time: 2024-11-20 15:45:26.393000+00:00\n",
      "____________________________________________________________________________________________________\n",
      "Toot 92\n",
      "\n"
     ]
    },
    {
     "data": {
      "text/html": [
       "<p>.... </p><p>\"Vandaag is Omtzigt bij zijn fractie in de Tweede Kamer met applaus ontvangen.\"</p><p><a href=\"https://nos.nl/artikel/2545229-nsc-leider-omtzigt-per-direct-terug-in-de-kamer-maar-nog-niet-full-time\" rel=\"nofollow noopener noreferrer\" translate=\"no\" target=\"_blank\"><span class=\"invisible\">https://</span><span class=\"ellipsis\">nos.nl/artikel/2545229-nsc-lei</span><span class=\"invisible\">der-omtzigt-per-direct-terug-in-de-kamer-maar-nog-niet-full-time</span></a> <a href=\"https://mastodon.social/tags/NSC\" class=\"mention hashtag\" rel=\"nofollow noopener noreferrer\" target=\"_blank\">#<span>NSC</span></a> <a href=\"https://mastodon.social/tags/Omtzigt\" class=\"mention hashtag\" rel=\"nofollow noopener noreferrer\" target=\"_blank\">#<span>Omtzigt</span></a> <a href=\"https://mastodon.social/tags/politiek\" class=\"mention hashtag\" rel=\"nofollow noopener noreferrer\" target=\"_blank\">#<span>politiek</span></a></p>"
      ],
      "text/plain": [
       "<IPython.core.display.HTML object>"
      ]
     },
     "metadata": {},
     "output_type": "display_data"
    },
    {
     "name": "stdout",
     "output_type": "stream",
     "text": [
      "Date/Time: 2024-11-20 15:00:57+00:00\n",
      "____________________________________________________________________________________________________\n",
      "Toot 93\n",
      "\n"
     ]
    },
    {
     "data": {
      "text/html": [
       "<p>\"Als geen ander weet premier Benjamin Netanyahu ‘Amsterdam’ aan te grijpen om joden wereldwijd ervan te doordringen dat ze enkel in Israël echt veilig zijn. Daarmee misleidt hij niet alleen zijn eigen bevolking, maar draait hij ook westerse leiders een rad voor ogen. Want hoezeer de Nederlandse regering ook moeite zal doen om antisemitisme ‘hard’ aan te pakken, voor Netanyahu zal het nooit genoeg zijn.\"</p><p><a href=\"https://www.groene.nl/artikel/heel-nederland-wordt-aangevallen\" rel=\"nofollow noopener noreferrer\" translate=\"no\" target=\"_blank\"><span class=\"invisible\">https://www.</span><span class=\"ellipsis\">groene.nl/artikel/heel-nederla</span><span class=\"invisible\">nd-wordt-aangevallen</span></a> </p><p><a href=\"https://mastodon.social/tags/Israel\" class=\"mention hashtag\" rel=\"nofollow noopener noreferrer\" target=\"_blank\">#<span>Israel</span></a> <a href=\"https://mastodon.social/tags/Amsterdam\" class=\"mention hashtag\" rel=\"nofollow noopener noreferrer\" target=\"_blank\">#<span>Amsterdam</span></a> <a href=\"https://mastodon.social/tags/Maccabi\" class=\"mention hashtag\" rel=\"nofollow noopener noreferrer\" target=\"_blank\">#<span>Maccabi</span></a> <a href=\"https://mastodon.social/tags/Netanyahu\" class=\"mention hashtag\" rel=\"nofollow noopener noreferrer\" target=\"_blank\">#<span>Netanyahu</span></a> <a href=\"https://mastodon.social/tags/politiek\" class=\"mention hashtag\" rel=\"nofollow noopener noreferrer\" target=\"_blank\">#<span>politiek</span></a></p>"
      ],
      "text/plain": [
       "<IPython.core.display.HTML object>"
      ]
     },
     "metadata": {},
     "output_type": "display_data"
    },
    {
     "name": "stdout",
     "output_type": "stream",
     "text": [
      "Date/Time: 2024-11-20 12:00:50+00:00\n",
      "____________________________________________________________________________________________________\n",
      "Toot 94\n",
      "\n"
     ]
    },
    {
     "data": {
      "text/html": [
       "<p>Het bindend correctief referendum krijgt een nieuwe kans. Komt het er nu echt? | de <a href=\"https://mastodon.nl/tags/Volkskrant\" class=\"mention hashtag\" rel=\"tag\">#<span>Volkskrant</span></a><br /><a href=\"https://www.volkskrant.nl/politiek/het-bindend-correctief-referendum-krijgt-een-nieuwe-kans-komt-het-er-nu-echt~b4d903a7/\" target=\"_blank\" rel=\"nofollow noopener noreferrer\" translate=\"no\"><span class=\"invisible\">https://www.</span><span class=\"ellipsis\">volkskrant.nl/politiek/het-bin</span><span class=\"invisible\">dend-correctief-referendum-krijgt-een-nieuwe-kans-komt-het-er-nu-echt~b4d903a7/</span></a></p><p>Ik zou vooral zeggen: doe het niet!</p><p>Maar als het gaat om dit soort initiatieven vanuit de Kamer ben ik groot voorstander. </p><p><a href=\"https://mastodon.nl/tags/Politiek\" class=\"mention hashtag\" rel=\"tag\">#<span>Politiek</span></a> <a href=\"https://mastodon.nl/tags/Referemdum\" class=\"mention hashtag\" rel=\"tag\">#<span>Referemdum</span></a> <a href=\"https://mastodon.nl/tags/Initiatiefwetgeving\" class=\"mention hashtag\" rel=\"tag\">#<span>Initiatiefwetgeving</span></a></p>"
      ],
      "text/plain": [
       "<IPython.core.display.HTML object>"
      ]
     },
     "metadata": {},
     "output_type": "display_data"
    },
    {
     "name": "stdout",
     "output_type": "stream",
     "text": [
      "Date/Time: 2024-11-20 04:57:07.353000+00:00\n",
      "____________________________________________________________________________________________________\n",
      "Toot 95\n",
      "\n"
     ]
    },
    {
     "data": {
      "text/html": [
       "<p>Inkijkje in NSC land<br><a href=\"https://www.nrc.nl/nieuws/2024/11/19/rosanne-hertzberger-ik-had-liever-gezien-dat-we-met-zijn-allen-waren-gegaan-a4873752\" rel=\"nofollow noopener noreferrer\" translate=\"no\" target=\"_blank\"><span class=\"invisible\">https://www.</span><span class=\"ellipsis\">nrc.nl/nieuws/2024/11/19/rosan</span><span class=\"invisible\">ne-hertzberger-ik-had-liever-gezien-dat-we-met-zijn-allen-waren-gegaan-a4873752</span></a><br><a href=\"https://mastodon.social/tags/politiek\" class=\"mention hashtag\" rel=\"nofollow noopener noreferrer\" target=\"_blank\">#<span>politiek</span></a></p>"
      ],
      "text/plain": [
       "<IPython.core.display.HTML object>"
      ]
     },
     "metadata": {},
     "output_type": "display_data"
    },
    {
     "name": "stdout",
     "output_type": "stream",
     "text": [
      "Date/Time: 2024-11-19 20:46:59+00:00\n",
      "____________________________________________________________________________________________________\n",
      "Toot 96\n",
      "\n"
     ]
    },
    {
     "data": {
      "text/html": [
       "<p><span class=\"h-card\" translate=\"no\"><a href=\"https://mastodon.social/@ErikJonker\" class=\"u-url mention\">@<span>ErikJonker</span></a></span> </p><p>manmanman... <br />Die gifbeker gaat tot op de laatste druppel leeggedronken worden.<br />Wat zullen ze achteraf een spijt hebben van t geheim houden.<br />(Tenzij t totaal niet door de beugel kon)</p><p><a href=\"https://mastodon.nl/tags/Politiek\" class=\"mention hashtag\" rel=\"tag\">#<span>Politiek</span></a> <a href=\"https://mastodon.nl/tags/NSC\" class=\"mention hashtag\" rel=\"tag\">#<span>NSC</span></a></p>"
      ],
      "text/plain": [
       "<IPython.core.display.HTML object>"
      ]
     },
     "metadata": {},
     "output_type": "display_data"
    },
    {
     "name": "stdout",
     "output_type": "stream",
     "text": [
      "Date/Time: 2024-11-19 20:33:52.694000+00:00\n",
      "____________________________________________________________________________________________________\n",
      "Toot 97\n",
      "\n"
     ]
    },
    {
     "data": {
      "text/html": [
       "<p>\"Ik heb het bewindspersonen gevraagd, maar kreeg geen antwoord. Ze zijn roomser dan de paus, hè? Ze klappen niet uit de school over de ministerraad. Maar ze waren visueel geschokt. Laat ik het daarop houden.”<br><a href=\"https://www.nrc.nl/nieuws/2024/11/19/rosanne-hertzberger-ik-had-liever-gezien-dat-we-met-zijn-allen-waren-gegaan-a4873752\" rel=\"nofollow noopener noreferrer\" translate=\"no\" target=\"_blank\"><span class=\"invisible\">https://www.</span><span class=\"ellipsis\">nrc.nl/nieuws/2024/11/19/rosan</span><span class=\"invisible\">ne-hertzberger-ik-had-liever-gezien-dat-we-met-zijn-allen-waren-gegaan-a4873752</span></a><br><a href=\"https://mastodon.social/tags/politiek\" class=\"mention hashtag\" rel=\"nofollow noopener noreferrer\" target=\"_blank\">#<span>politiek</span></a> <a href=\"https://mastodon.social/tags/nsc\" class=\"mention hashtag\" rel=\"nofollow noopener noreferrer\" target=\"_blank\">#<span>nsc</span></a> <a href=\"https://mastodon.social/tags/nrc\" class=\"mention hashtag\" rel=\"nofollow noopener noreferrer\" target=\"_blank\">#<span>nrc</span></a> <a href=\"https://mastodon.social/tags/Hertzberger\" class=\"mention hashtag\" rel=\"nofollow noopener noreferrer\" target=\"_blank\">#<span>Hertzberger</span></a> <a href=\"https://mastodon.social/tags/kabinet\" class=\"mention hashtag\" rel=\"nofollow noopener noreferrer\" target=\"_blank\">#<span>kabinet</span></a></p>"
      ],
      "text/plain": [
       "<IPython.core.display.HTML object>"
      ]
     },
     "metadata": {},
     "output_type": "display_data"
    },
    {
     "name": "stdout",
     "output_type": "stream",
     "text": [
      "Date/Time: 2024-11-19 20:29:04+00:00\n",
      "____________________________________________________________________________________________________\n",
      "Toot 98\n",
      "\n"
     ]
    },
    {
     "data": {
      "text/html": [
       "<p>\"Er zijn wel dingen gezegd die mensen hebben beschadigd. Zelfs de naam van Mona ging rond!\" aldus <a href=\"https://mastodon.social/tags/VanDerPlas\" class=\"mention hashtag\" rel=\"nofollow noopener noreferrer\" target=\"_blank\">#<span>VanDerPlas</span></a> </p><p>*holle lach*, stel je voor, Mona Keijzer toch niet, tegen wie een aantal maanden geleden nog aangifte is gedaan ...<br> De vertrekkende NSC-Kamerleden zeggen dat vorige week 'discriminatie een gezicht heeft gekregen'.<br><a href=\"https://mastodon.social/tags/Widers\" class=\"mention hashtag\" rel=\"nofollow noopener noreferrer\" target=\"_blank\">#<span>Widers</span></a> snapt er ook niks van. Hij \"kent dat gezicht niet\". En wil 'gewoon' doorgaan. </p><p><a href=\"https://www.rtl.nl/nieuws/video/video/c9e4a665-1a7e-4893-a68b-a9345f0f916a/wilders-en-van-der-plas-begrijpen-niets-van\" rel=\"nofollow noopener noreferrer\" translate=\"no\" target=\"_blank\"><span class=\"invisible\">https://www.</span><span class=\"ellipsis\">rtl.nl/nieuws/video/video/c9e4</span><span class=\"invisible\">a665-1a7e-4893-a68b-a9345f0f916a/wilders-en-van-der-plas-begrijpen-niets-van</span></a></p><p><a href=\"https://mastodon.social/tags/politiek\" class=\"mention hashtag\" rel=\"nofollow noopener noreferrer\" target=\"_blank\">#<span>politiek</span></a> <a href=\"https://mastodon.social/tags/Schoof\" class=\"mention hashtag\" rel=\"nofollow noopener noreferrer\" target=\"_blank\">#<span>Schoof</span></a> <a href=\"https://mastodon.social/tags/Wilders\" class=\"mention hashtag\" rel=\"nofollow noopener noreferrer\" target=\"_blank\">#<span>Wilders</span></a> <a href=\"https://mastodon.social/tags/PVV\" class=\"mention hashtag\" rel=\"nofollow noopener noreferrer\" target=\"_blank\">#<span>PVV</span></a> <a href=\"https://mastodon.social/tags/NSC\" class=\"mention hashtag\" rel=\"nofollow noopener noreferrer\" target=\"_blank\">#<span>NSC</span></a> <a href=\"https://mastodon.social/tags/racisme\" class=\"mention hashtag\" rel=\"nofollow noopener noreferrer\" target=\"_blank\">#<span>racisme</span></a> <a href=\"https://mastodon.social/tags/discriminatie\" class=\"mention hashtag\" rel=\"nofollow noopener noreferrer\" target=\"_blank\">#<span>discriminatie</span></a></p>"
      ],
      "text/plain": [
       "<IPython.core.display.HTML object>"
      ]
     },
     "metadata": {},
     "output_type": "display_data"
    },
    {
     "name": "stdout",
     "output_type": "stream",
     "text": [
      "Date/Time: 2024-11-19 19:56:15+00:00\n",
      "____________________________________________________________________________________________________\n",
      "Toot 99\n",
      "\n"
     ]
    },
    {
     "data": {
      "text/html": [
       "<p>Opinie: Dat het CIDI in het Catshuis namens alle Joden sprak, is een kwalijk misverstand | de <a href=\"https://mastodon.nl/tags/Volkskrant\" class=\"mention hashtag\" rel=\"tag\">#<span>Volkskrant</span></a> <a href=\"https://mastodon.nl/tags/opinie\" class=\"mention hashtag\" rel=\"tag\">#<span>opinie</span></a> <br /><a href=\"https://www.volkskrant.nl/columns-opinie/opinie-dat-het-cidi-in-het-catshuis-namens-alle-joden-sprak-is-een-kwalijk-misverstand~b87ef9a7/\" target=\"_blank\" rel=\"nofollow noopener noreferrer\" translate=\"no\"><span class=\"invisible\">https://www.</span><span class=\"ellipsis\">volkskrant.nl/columns-opinie/o</span><span class=\"invisible\">pinie-dat-het-cidi-in-het-catshuis-namens-alle-joden-sprak-is-een-kwalijk-misverstand~b87ef9a7/</span></a></p><p>&#39;Afgelopen week sprak CIDI met het kabinet als vertegenwoordiger van de Joodse gemeenschap. Ten onrechte, schrijft Joachim Pach: CIDI vertegenwoordigt de lobby van Israël. En door te doen alsof álle Joden Israël steunen, wordt de Nederlandse samenleving tegen elkaar uitgespeeld.&#39;</p><p><a href=\"https://mastodon.nl/tags/Politiek\" class=\"mention hashtag\" rel=\"tag\">#<span>Politiek</span></a> <a href=\"https://mastodon.nl/tags/Israel\" class=\"mention hashtag\" rel=\"tag\">#<span>Israel</span></a> <a href=\"https://mastodon.nl/tags/Cidi\" class=\"mention hashtag\" rel=\"tag\">#<span>Cidi</span></a></p>"
      ],
      "text/plain": [
       "<IPython.core.display.HTML object>"
      ]
     },
     "metadata": {},
     "output_type": "display_data"
    },
    {
     "name": "stdout",
     "output_type": "stream",
     "text": [
      "Date/Time: 2024-11-19 17:02:18.310000+00:00\n",
      "____________________________________________________________________________________________________\n",
      "Toot 100\n",
      "\n"
     ]
    },
    {
     "data": {
      "text/html": [
       "<p>Nieuw Sociaal Circus <a href=\"https://mastodon.nl/tags/nsc\" class=\"mention hashtag\" rel=\"tag\">#<span>nsc</span></a> <a href=\"https://mastodon.nl/tags/politiek\" class=\"mention hashtag\" rel=\"tag\">#<span>politiek</span></a></p>"
      ],
      "text/plain": [
       "<IPython.core.display.HTML object>"
      ]
     },
     "metadata": {},
     "output_type": "display_data"
    },
    {
     "name": "stdout",
     "output_type": "stream",
     "text": [
      "Date/Time: 2024-11-19 16:55:11.317000+00:00\n",
      "____________________________________________________________________________________________________\n",
      "Toot 101\n",
      "\n"
     ]
    },
    {
     "data": {
      "text/html": [
       "<p>Ben je de huidige politiek ook helemaal zat en toe aan een geloofwaardig alternatief? Misschien ben je al lid van <a href=\"https://social.bij1.org/tags/BIJ1\" class=\"mention hashtag\" rel=\"nofollow noopener noreferrer\" target=\"_blank\">#<span>BIJ1</span></a> en benieuwd naar de mogelijkheden om je in te zetten voor de partij? Of ben je gewoon nieuwsgierig naar (lokale) politiek vanuit een radicaal <a href=\"https://social.bij1.org/tags/links\" class=\"mention hashtag\" rel=\"nofollow noopener noreferrer\" target=\"_blank\">#<span>links</span></a> perspectief? Dan is deze avond voor jou!</p><p>Kom kennismaken met BIJ1 en de jongerenafdeling <a href=\"https://social.bij1.org/tags/RADICAAL\" class=\"mention hashtag\" rel=\"nofollow noopener noreferrer\" target=\"_blank\">#<span>RADICAAL</span></a> en ontmoet gelijkgestemde jongeren. Deze kennismakingsborrel is bedoeld om op een laagdrempelige manier meer te weten te komen over BIJ1 en in contact te komen met linkse leeftijdsgenoten.</p><p>Wanneer? Vrijdag 22 November, 17:00-20:00<br>Waar? Nieuwland, Pieter Nieuwlandstraat 93, <a href=\"https://social.bij1.org/tags/Amsterdam\" class=\"mention hashtag\" rel=\"nofollow noopener noreferrer\" target=\"_blank\">#<span>Amsterdam</span></a><br>Wie? Gericht op jongeren, maar we hanteren geen leeftijdsgrens. Leden en niet-leden welkom! ✌️</p><p>RADICAAL is de jongerenorganisatie van BIJ1! RADICAAL strijd voor radicale gelijkwaardigheid, economische rechtvaardigheid en een vrij <a href=\"https://social.bij1.org/tags/Palestina\" class=\"mention hashtag\" rel=\"nofollow noopener noreferrer\" target=\"_blank\">#<span>Palestina</span></a> 🇵🇸🍉</p><p><a href=\"https://social.bij1.org/tags/FreePalestine\" class=\"mention hashtag\" rel=\"nofollow noopener noreferrer\" target=\"_blank\">#<span>FreePalestine</span></a> <a href=\"https://social.bij1.org/tags/jongeren\" class=\"mention hashtag\" rel=\"nofollow noopener noreferrer\" target=\"_blank\">#<span>jongeren</span></a> <a href=\"https://social.bij1.org/tags/politiek\" class=\"mention hashtag\" rel=\"nofollow noopener noreferrer\" target=\"_blank\">#<span>politiek</span></a> <a href=\"https://social.bij1.org/tags/BreekDeKetens\" class=\"mention hashtag\" rel=\"nofollow noopener noreferrer\" target=\"_blank\">#<span>BreekDeKetens</span></a> <a href=\"https://social.bij1.org/tags/BekenKleur\" class=\"mention hashtag\" rel=\"nofollow noopener noreferrer\" target=\"_blank\">#<span>BekenKleur</span></a> <a href=\"https://social.bij1.org/tags/KomBIJ1\" class=\"mention hashtag\" rel=\"nofollow noopener noreferrer\" target=\"_blank\">#<span>KomBIJ1</span></a></p>"
      ],
      "text/plain": [
       "<IPython.core.display.HTML object>"
      ]
     },
     "metadata": {},
     "output_type": "display_data"
    },
    {
     "name": "stdout",
     "output_type": "stream",
     "text": [
      "Date/Time: 2024-11-19 16:51:29+00:00\n",
      "____________________________________________________________________________________________________\n",
      "Toot 102\n",
      "\n"
     ]
    },
    {
     "data": {
      "text/html": [
       "<p>De Israëlische minister van buitenlandse zaken heeft dus gewoon gejokt...<br>Uitermark: vooraf geen Israëlische waarschuwing ontvangen voor rellen Amsterdam - <a href=\"https://nos.nl/l/2545092\" rel=\"nofollow noopener noreferrer\" translate=\"no\" target=\"_blank\"><span class=\"invisible\">https://</span><span class=\"\">nos.nl/l/2545092</span><span class=\"invisible\"></span></a><br><a href=\"https://mastodon.social/tags/israel\" class=\"mention hashtag\" rel=\"nofollow noopener noreferrer\" target=\"_blank\">#<span>israel</span></a> <a href=\"https://mastodon.social/tags/politiek\" class=\"mention hashtag\" rel=\"nofollow noopener noreferrer\" target=\"_blank\">#<span>politiek</span></a></p>"
      ],
      "text/plain": [
       "<IPython.core.display.HTML object>"
      ]
     },
     "metadata": {},
     "output_type": "display_data"
    },
    {
     "name": "stdout",
     "output_type": "stream",
     "text": [
      "Date/Time: 2024-11-19 16:49:36+00:00\n",
      "____________________________________________________________________________________________________\n",
      "Toot 103\n",
      "\n"
     ]
    },
    {
     "data": {
      "text/html": [
       "<p>Goed om te herhalen, wat je er ook van vindt, maar niemand kan ontkennen of bevestigen dat er sprake is geweest van racistische en/of discriminatoire uitspraken in de Ministerraad, we weten het gewoon niet zeker, tenzij we de notulen kunnen inzien... ondanks dat journalisten en politici van alles roepen.<br> <a href=\"https://mastodon.social/tags/politiek\" class=\"mention hashtag\" rel=\"nofollow noopener noreferrer\" target=\"_blank\">#<span>politiek</span></a></p>"
      ],
      "text/plain": [
       "<IPython.core.display.HTML object>"
      ]
     },
     "metadata": {},
     "output_type": "display_data"
    },
    {
     "name": "stdout",
     "output_type": "stream",
     "text": [
      "Date/Time: 2024-11-19 16:21:53+00:00\n",
      "____________________________________________________________________________________________________\n",
      "Toot 104\n",
      "\n"
     ]
    },
    {
     "data": {
      "text/html": [
       "<p><span class=\"h-card\" translate=\"no\"><a href=\"https://mastodon.social/@QuantumAspect\" class=\"u-url mention\" rel=\"nofollow noopener noreferrer\" target=\"_blank\">@<span>QuantumAspect</span></a></span> </p><p>\"Het land moet bestuurd worden\"<br>\"Hoop werk te doen\"<br>\"Onze stinkende best doen.\"<br>\"Schouders eronder\"<br>\"Vooruit kijken\"<br>\"Kiezer niet in de steek laten\"<br>\"De grote problemen in het land eindelijk oplossen\"</p><p><a href=\"https://mastodon.social/tags/NSC\" class=\"mention hashtag\" rel=\"nofollow noopener noreferrer\" target=\"_blank\">#<span>NSC</span></a> <a href=\"https://mastodon.social/tags/politiek\" class=\"mention hashtag\" rel=\"nofollow noopener noreferrer\" target=\"_blank\">#<span>politiek</span></a></p>"
      ],
      "text/plain": [
       "<IPython.core.display.HTML object>"
      ]
     },
     "metadata": {},
     "output_type": "display_data"
    },
    {
     "name": "stdout",
     "output_type": "stream",
     "text": [
      "Date/Time: 2024-11-19 13:25:53+00:00\n",
      "____________________________________________________________________________________________________\n",
      "Toot 105\n",
      "\n"
     ]
    },
    {
     "data": {
      "text/html": [
       "<p>\"De rest van de NSC-fractie gaat volgens Van Vroonhoven \"met volle kracht vooruit\", net als het NSC-smaldeel in het kabinet.\"</p><p>De Titanic is er niks bij. <a href=\"https://mastodon.social/tags/NSC\" class=\"mention hashtag\" rel=\"nofollow noopener noreferrer\" target=\"_blank\">#<span>NSC</span></a> </p><p><a href=\"https://nos.nl/artikel/2545083-twee-nsc-kamerleden-stappen-op-na-vertrek-achahbar-hekelen-gebrek-aan-fatsoen\" rel=\"nofollow noopener noreferrer\" translate=\"no\" target=\"_blank\"><span class=\"invisible\">https://</span><span class=\"ellipsis\">nos.nl/artikel/2545083-twee-ns</span><span class=\"invisible\">c-kamerleden-stappen-op-na-vertrek-achahbar-hekelen-gebrek-aan-fatsoen</span></a> <a href=\"https://mastodon.social/tags/politiek\" class=\"mention hashtag\" rel=\"nofollow noopener noreferrer\" target=\"_blank\">#<span>politiek</span></a> <a href=\"https://mastodon.social/tags/racisme\" class=\"mention hashtag\" rel=\"nofollow noopener noreferrer\" target=\"_blank\">#<span>racisme</span></a> <a href=\"https://mastodon.social/tags/Schoof\" class=\"mention hashtag\" rel=\"nofollow noopener noreferrer\" target=\"_blank\">#<span>Schoof</span></a> <a href=\"https://mastodon.social/tags/Wilders\" class=\"mention hashtag\" rel=\"nofollow noopener noreferrer\" target=\"_blank\">#<span>Wilders</span></a> <a href=\"https://mastodon.social/tags/PVV\" class=\"mention hashtag\" rel=\"nofollow noopener noreferrer\" target=\"_blank\">#<span>PVV</span></a></p>"
      ],
      "text/plain": [
       "<IPython.core.display.HTML object>"
      ]
     },
     "metadata": {},
     "output_type": "display_data"
    },
    {
     "name": "stdout",
     "output_type": "stream",
     "text": [
      "Date/Time: 2024-11-19 13:11:45+00:00\n",
      "____________________________________________________________________________________________________\n",
      "Toot 106\n",
      "\n"
     ]
    },
    {
     "data": {
      "text/html": [
       "<p>'Begin juli, tijdens zijn eerste grote debat, had Schoof het al eens gezegd.‘Er zitten geen racisten in dit kabinet.’ Als hij die uitspraak wil handhaven is er duidelijkheid nodig. Het makkelijkste zou zijn om de notulen van de ministerraad te openbaren, iets waar de oppositie om vraagt. Zoiets moet je niet lichtzinnig doen, het mag geen gewoonte worden, maar het is in dit geval de enige gepaste route.'</p><p><a href=\"https://www.groene.nl/artikel/verdrijf-die-bruine-wolk-premier-dick-schoof\" rel=\"nofollow noopener noreferrer\" translate=\"no\" target=\"_blank\"><span class=\"invisible\">https://www.</span><span class=\"ellipsis\">groene.nl/artikel/verdrijf-die</span><span class=\"invisible\">-bruine-wolk-premier-dick-schoof</span></a><br><a href=\"https://mastodon.social/tags/Schoof\" class=\"mention hashtag\" rel=\"nofollow noopener noreferrer\" target=\"_blank\">#<span>Schoof</span></a> <a href=\"https://mastodon.social/tags/Wilders\" class=\"mention hashtag\" rel=\"nofollow noopener noreferrer\" target=\"_blank\">#<span>Wilders</span></a> <a href=\"https://mastodon.social/tags/PVV\" class=\"mention hashtag\" rel=\"nofollow noopener noreferrer\" target=\"_blank\">#<span>PVV</span></a> <a href=\"https://mastodon.social/tags/racisme\" class=\"mention hashtag\" rel=\"nofollow noopener noreferrer\" target=\"_blank\">#<span>racisme</span></a> <a href=\"https://mastodon.social/tags/politiek\" class=\"mention hashtag\" rel=\"nofollow noopener noreferrer\" target=\"_blank\">#<span>politiek</span></a></p>"
      ],
      "text/plain": [
       "<IPython.core.display.HTML object>"
      ]
     },
     "metadata": {},
     "output_type": "display_data"
    },
    {
     "name": "stdout",
     "output_type": "stream",
     "text": [
      "Date/Time: 2024-11-19 05:23:50+00:00\n",
      "____________________________________________________________________________________________________\n",
      "Toot 107\n",
      "\n"
     ]
    },
    {
     "data": {
      "text/html": [
       "<p>2/2 </p><p>'Wederhoor:<br>Gom van Strien zegt in een reactie het „echt schandalig” te vinden dat het gerechtshof in het arrest oordeelt over zijn handelwijze zonder dat hij is gehoord.</p><p>Wat vindt u van de inhoud van het arrest?</p><p>„Ik ga er gewoon niet op in.”</p><p><a href=\"https://www.nrc.nl/nieuws/2024/11/18/gerechtshof-pvv-senator-gom-van-strien-verhulde-zakelijk-belang-a4873534\" rel=\"nofollow noopener noreferrer\" translate=\"no\" target=\"_blank\"><span class=\"invisible\">https://www.</span><span class=\"ellipsis\">nrc.nl/nieuws/2024/11/18/gerec</span><span class=\"invisible\">htshof-pvv-senator-gom-van-strien-verhulde-zakelijk-belang-a4873534</span></a> <a href=\"https://mastodon.social/tags/vanStrien\" class=\"mention hashtag\" rel=\"nofollow noopener noreferrer\" target=\"_blank\">#<span>vanStrien</span></a> <a href=\"https://mastodon.social/tags/PVV\" class=\"mention hashtag\" rel=\"nofollow noopener noreferrer\" target=\"_blank\">#<span>PVV</span></a> <a href=\"https://mastodon.social/tags/politiek\" class=\"mention hashtag\" rel=\"nofollow noopener noreferrer\" target=\"_blank\">#<span>politiek</span></a></p>"
      ],
      "text/plain": [
       "<IPython.core.display.HTML object>"
      ]
     },
     "metadata": {},
     "output_type": "display_data"
    },
    {
     "name": "stdout",
     "output_type": "stream",
     "text": [
      "Date/Time: 2024-11-19 01:50:06+00:00\n",
      "____________________________________________________________________________________________________\n",
      "Toot 108\n",
      "\n"
     ]
    },
    {
     "data": {
      "text/html": [
       "<p>\"Joost Eerdmans, der kleinburgers kleinburgerst, heeft met zijn JA21 één zetel, die evenwel in Hilversum geparkeerd staat, waar hij voortdurend mag aanschuiven bij allerhande talkshows om een ‘redelijke’ variant van buitenlanderhaat te debiteren. Vorige week zei hij daar dat het sinds Fortuyn ‘alleen maar erger’ is geworden met de integratie, waarna hij volgens rechts-populistisch gebruik het debat saboteerde met platitudes over ‘wegkijken’ en ‘benoemen’.\"</p><p><a href=\"https://www.volkskrant.nl/columns-van-de-dag/het-maakt-niet-uit-of-immigranten-het-te-goed-of-niet-goed-genoeg-doen-het-land-uit-moeten-ze-linksom-of-rechtsom~bd97a4e7/\" rel=\"nofollow noopener noreferrer\" translate=\"no\" target=\"_blank\"><span class=\"invisible\">https://www.</span><span class=\"ellipsis\">volkskrant.nl/columns-van-de-d</span><span class=\"invisible\">ag/het-maakt-niet-uit-of-immigranten-het-te-goed-of-niet-goed-genoeg-doen-het-land-uit-moeten-ze-linksom-of-rechtsom~bd97a4e7/</span></a> <a href=\"https://mastodon.social/tags/politiek\" class=\"mention hashtag\" rel=\"nofollow noopener noreferrer\" target=\"_blank\">#<span>politiek</span></a></p>"
      ],
      "text/plain": [
       "<IPython.core.display.HTML object>"
      ]
     },
     "metadata": {},
     "output_type": "display_data"
    },
    {
     "name": "stdout",
     "output_type": "stream",
     "text": [
      "Date/Time: 2024-11-19 00:47:31+00:00\n",
      "____________________________________________________________________________________________________\n",
      "Toot 109\n",
      "\n"
     ]
    },
    {
     "data": {
      "text/html": [
       "<p>\"Heinen zei dat dit kabinet een liberaal kabinet is.\"</p><p>Hou maar op verder Eelco, nu weten we helemaal zeker dat je liegt.</p><p><a href=\"https://nos.nl/artikel/2544963-heinen-pisnijdig-over-aan-hem-toegeschreven-uitspraken-in-ministerraad\" rel=\"nofollow noopener noreferrer\" translate=\"no\" target=\"_blank\"><span class=\"invisible\">https://</span><span class=\"ellipsis\">nos.nl/artikel/2544963-heinen-</span><span class=\"invisible\">pisnijdig-over-aan-hem-toegeschreven-uitspraken-in-ministerraad</span></a> <a href=\"https://mastodon.social/tags/kabinetscrisis\" class=\"mention hashtag\" rel=\"nofollow noopener noreferrer\" target=\"_blank\">#<span>kabinetscrisis</span></a>  <a href=\"https://mastodon.social/tags/EelcoHeinen\" class=\"mention hashtag\" rel=\"nofollow noopener noreferrer\" target=\"_blank\">#<span>EelcoHeinen</span></a> <a href=\"https://mastodon.social/tags/VVD\" class=\"mention hashtag\" rel=\"nofollow noopener noreferrer\" target=\"_blank\">#<span>VVD</span></a> <a href=\"https://mastodon.social/tags/politiek\" class=\"mention hashtag\" rel=\"nofollow noopener noreferrer\" target=\"_blank\">#<span>politiek</span></a></p>"
      ],
      "text/plain": [
       "<IPython.core.display.HTML object>"
      ]
     },
     "metadata": {},
     "output_type": "display_data"
    },
    {
     "name": "stdout",
     "output_type": "stream",
     "text": [
      "Date/Time: 2024-11-19 00:38:34+00:00\n",
      "____________________________________________________________________________________________________\n",
      "Toot 110\n",
      "\n"
     ]
    },
    {
     "data": {
      "text/html": [
       "<p>'Toch niet ...'</p><p>De messias houdt ons allemaal weer enorm in spanning. </p><p><a href=\"https://nos.nl/artikel/2544993-nsc-omtzigt-morgen-toch-niet-terug-in-kamer\" rel=\"nofollow noopener noreferrer\" translate=\"no\" target=\"_blank\"><span class=\"invisible\">https://</span><span class=\"ellipsis\">nos.nl/artikel/2544993-nsc-omt</span><span class=\"invisible\">zigt-morgen-toch-niet-terug-in-kamer</span></a> <a href=\"https://mastodon.social/tags/Omtzigt\" class=\"mention hashtag\" rel=\"nofollow noopener noreferrer\" target=\"_blank\">#<span>Omtzigt</span></a> <a href=\"https://mastodon.social/tags/NSC\" class=\"mention hashtag\" rel=\"nofollow noopener noreferrer\" target=\"_blank\">#<span>NSC</span></a> <a href=\"https://mastodon.social/tags/politiek\" class=\"mention hashtag\" rel=\"nofollow noopener noreferrer\" target=\"_blank\">#<span>politiek</span></a></p>"
      ],
      "text/plain": [
       "<IPython.core.display.HTML object>"
      ]
     },
     "metadata": {},
     "output_type": "display_data"
    },
    {
     "name": "stdout",
     "output_type": "stream",
     "text": [
      "Date/Time: 2024-11-19 00:14:23+00:00\n",
      "____________________________________________________________________________________________________\n",
      "Toot 111\n",
      "\n"
     ]
    },
    {
     "data": {
      "text/html": [
       "<p>Dhr. Heinen was volgens mij niet het slachtoffer hier.... <a href=\"https://nos.nl/artikel/2544963-heinen-verdrietig-en-pisnijdig-over-aan-hem-toegeschreven-uitspraken\" rel=\"nofollow noopener noreferrer\" translate=\"no\" target=\"_blank\"><span class=\"invisible\">https://</span><span class=\"ellipsis\">nos.nl/artikel/2544963-heinen-</span><span class=\"invisible\">verdrietig-en-pisnijdig-over-aan-hem-toegeschreven-uitspraken</span></a><br><a href=\"https://mastodon.social/tags/Achahbar\" class=\"mention hashtag\" rel=\"nofollow noopener noreferrer\" target=\"_blank\">#<span>Achahbar</span></a> <a href=\"https://mastodon.social/tags/politiek\" class=\"mention hashtag\" rel=\"nofollow noopener noreferrer\" target=\"_blank\">#<span>politiek</span></a> <a href=\"https://mastodon.social/tags/Heinen\" class=\"mention hashtag\" rel=\"nofollow noopener noreferrer\" target=\"_blank\">#<span>Heinen</span></a> <a href=\"https://mastodon.social/tags/Schoof\" class=\"mention hashtag\" rel=\"nofollow noopener noreferrer\" target=\"_blank\">#<span>Schoof</span></a> <a href=\"https://mastodon.social/tags/Kabinet\" class=\"mention hashtag\" rel=\"nofollow noopener noreferrer\" target=\"_blank\">#<span>Kabinet</span></a></p>"
      ],
      "text/plain": [
       "<IPython.core.display.HTML object>"
      ]
     },
     "metadata": {},
     "output_type": "display_data"
    },
    {
     "name": "stdout",
     "output_type": "stream",
     "text": [
      "Date/Time: 2024-11-18 15:50:31+00:00\n",
      "____________________________________________________________________________________________________\n",
      "Toot 112\n",
      "\n"
     ]
    },
    {
     "data": {
      "text/html": [
       "<p>Voordeel voor de PVV is wel dat er elke week wat ophef ergens over is waardoor we niet toekomen aan de vraag wat ze nu daadwerkelijk realiseren voor Nederland in dit kabinet (antwoord: vrijwel niets)<br><a href=\"https://mastodon.social/tags/PVV\" class=\"mention hashtag\" rel=\"nofollow noopener noreferrer\" target=\"_blank\">#<span>PVV</span></a> <a href=\"https://mastodon.social/tags/Politiek\" class=\"mention hashtag\" rel=\"nofollow noopener noreferrer\" target=\"_blank\">#<span>Politiek</span></a> <a href=\"https://mastodon.social/tags/ophef\" class=\"mention hashtag\" rel=\"nofollow noopener noreferrer\" target=\"_blank\">#<span>ophef</span></a></p>"
      ],
      "text/plain": [
       "<IPython.core.display.HTML object>"
      ]
     },
     "metadata": {},
     "output_type": "display_data"
    },
    {
     "name": "stdout",
     "output_type": "stream",
     "text": [
      "Date/Time: 2024-11-18 13:51:43+00:00\n",
      "____________________________________________________________________________________________________\n",
      "Toot 113\n",
      "\n"
     ]
    },
    {
     "data": {
      "text/html": [
       "<p>PVV-er van Strien, \"„Ik laat me niet wegsturen door een paar mensen, ook al zijn het rechters, die over mij, maar zonder mij oordelen. Ongelooflijk vind ik dit. Noteert u dat maar.”<br>Hij vergeet even dat in een rechtstaat die rechters daar dus wel voor zijn, oordelen.</p><p><a href=\"https://mastodon.social/tags/PVV\" class=\"mention hashtag\" rel=\"nofollow noopener noreferrer\" target=\"_blank\">#<span>PVV</span></a> <a href=\"https://mastodon.social/tags/politiek\" class=\"mention hashtag\" rel=\"nofollow noopener noreferrer\" target=\"_blank\">#<span>politiek</span></a> <a href=\"https://mastodon.social/tags/vanstrien\" class=\"mention hashtag\" rel=\"nofollow noopener noreferrer\" target=\"_blank\">#<span>vanstrien</span></a></p>"
      ],
      "text/plain": [
       "<IPython.core.display.HTML object>"
      ]
     },
     "metadata": {},
     "output_type": "display_data"
    },
    {
     "name": "stdout",
     "output_type": "stream",
     "text": [
      "Date/Time: 2024-11-18 13:21:41+00:00\n",
      "____________________________________________________________________________________________________\n",
      "Toot 114\n",
      "\n"
     ]
    },
    {
     "data": {
      "text/html": [
       "<p>Bijzonder weer...even niet opgelet en daarna moet Faber kennelijk  repareren...<br><a href=\"https://www.parool.nl/nederland/minister-faber-weigert-met-voormalig-invalwoordvoerder-van-burgemeester-halsema-te-werken~b26bb1f6/\" rel=\"nofollow noopener noreferrer\" translate=\"no\" target=\"_blank\"><span class=\"invisible\">https://www.</span><span class=\"ellipsis\">parool.nl/nederland/minister-f</span><span class=\"invisible\">aber-weigert-met-voormalig-invalwoordvoerder-van-burgemeester-halsema-te-werken~b26bb1f6/</span></a><br><a href=\"https://mastodon.social/tags/faber\" class=\"mention hashtag\" rel=\"nofollow noopener noreferrer\" target=\"_blank\">#<span>faber</span></a> <a href=\"https://mastodon.social/tags/pvv\" class=\"mention hashtag\" rel=\"nofollow noopener noreferrer\" target=\"_blank\">#<span>pvv</span></a> <a href=\"https://mastodon.social/tags/politiek\" class=\"mention hashtag\" rel=\"nofollow noopener noreferrer\" target=\"_blank\">#<span>politiek</span></a></p>"
      ],
      "text/plain": [
       "<IPython.core.display.HTML object>"
      ]
     },
     "metadata": {},
     "output_type": "display_data"
    },
    {
     "name": "stdout",
     "output_type": "stream",
     "text": [
      "Date/Time: 2024-11-18 11:49:18+00:00\n",
      "____________________________________________________________________________________________________\n",
      "Toot 115\n",
      "\n"
     ]
    },
    {
     "data": {
      "text/html": [
       "<p>2/2 \"Al meteen vanaf het begin bleek dat een papieren werkelijkheid te zijn,’ aldus Politiek verslaggever Lamyae Aharouay over de basislijn waar NSC’ers, zoals vertrokken staatssecretaris Nora Achahbar, volgens haar naar blijven verwijzen. Past de basislijn nog wel degelijk bij de toon van het debat? Dit speelt steeds meer op bij NSC’ers. Zo ook bij minister van binnenlandse zaken, Judith Uitermark, benadrukt Lamyae.</p><p><a href=\"https://www.youtube.com/watch?v=2JeIj5YdGRo\" rel=\"nofollow noopener noreferrer\" translate=\"no\" target=\"_blank\"><span class=\"invisible\">https://www.</span><span class=\"ellipsis\">youtube.com/watch?v=2JeIj5YdGR</span><span class=\"invisible\">o</span></a></p><p><a href=\"https://mastodon.social/tags/NSC\" class=\"mention hashtag\" rel=\"nofollow noopener noreferrer\" target=\"_blank\">#<span>NSC</span></a> <a href=\"https://mastodon.social/tags/Achahbar\" class=\"mention hashtag\" rel=\"nofollow noopener noreferrer\" target=\"_blank\">#<span>Achahbar</span></a> <a href=\"https://mastodon.social/tags/Uitermark\" class=\"mention hashtag\" rel=\"nofollow noopener noreferrer\" target=\"_blank\">#<span>Uitermark</span></a> <a href=\"https://mastodon.social/tags/Schoof\" class=\"mention hashtag\" rel=\"nofollow noopener noreferrer\" target=\"_blank\">#<span>Schoof</span></a> <a href=\"https://mastodon.social/tags/Wilders\" class=\"mention hashtag\" rel=\"nofollow noopener noreferrer\" target=\"_blank\">#<span>Wilders</span></a> <a href=\"https://mastodon.social/tags/politiek\" class=\"mention hashtag\" rel=\"nofollow noopener noreferrer\" target=\"_blank\">#<span>politiek</span></a></p>"
      ],
      "text/plain": [
       "<IPython.core.display.HTML object>"
      ]
     },
     "metadata": {},
     "output_type": "display_data"
    },
    {
     "name": "stdout",
     "output_type": "stream",
     "text": [
      "Date/Time: 2024-11-17 18:52:53+00:00\n",
      "____________________________________________________________________________________________________\n",
      "Toot 116\n",
      "\n"
     ]
    },
    {
     "data": {
      "text/html": [
       "<p>2/2 ... Ter meerdere eer en glorie van zichzelf. En later ter meerdere eer en glorie van de verheffing van de mensen die in het mondiale zuiden leefden; “development” zijn we dat na de Tweede Wereldoorlog gaan noemen.&quot;</p><p>Nee hoor, we spreken dat woord niet uit, we handelen er alleen maar naar.</p><p><a href=\"https://mastodon.nl/tags/DeVier\" class=\"mention hashtag\" rel=\"tag\">#<span>DeVier</span></a> <a href=\"https://mastodon.nl/tags/Politiek\" class=\"mention hashtag\" rel=\"tag\">#<span>Politiek</span></a> <a href=\"https://mastodon.nl/tags/PVV\" class=\"mention hashtag\" rel=\"tag\">#<span>PVV</span></a> <a href=\"https://mastodon.nl/tags/Schoof\" class=\"mention hashtag\" rel=\"tag\">#<span>Schoof</span></a> <a href=\"https://mastodon.nl/tags/groenlinkspvda\" class=\"mention hashtag\" rel=\"tag\">#<span>groenlinkspvda</span></a> <a href=\"https://mastodon.nl/tags/economie\" class=\"mention hashtag\" rel=\"tag\">#<span>economie</span></a> <a href=\"https://mastodon.nl/tags/kapitalisme\" class=\"mention hashtag\" rel=\"tag\">#<span>kapitalisme</span></a> <a href=\"https://mastodon.nl/tags/AmitavGhosh\" class=\"mention hashtag\" rel=\"tag\">#<span>AmitavGhosh</span></a></p>"
      ],
      "text/plain": [
       "<IPython.core.display.HTML object>"
      ]
     },
     "metadata": {},
     "output_type": "display_data"
    },
    {
     "name": "stdout",
     "output_type": "stream",
     "text": [
      "Date/Time: 2024-11-17 13:41:43.357000+00:00\n",
      "____________________________________________________________________________________________________\n",
      "Toot 117\n",
      "\n"
     ]
    },
    {
     "data": {
      "text/html": [
       "<p>1/2 Lees De vloek van de nootmuskaat van Amitav Ghosh ( <a href=\"https://www.atlascontact.nl/2024/03/07/erasmusprijs-2024-toegekend-aan-amitav-ghosh/\" target=\"_blank\" rel=\"nofollow noopener noreferrer\" translate=\"no\"><span class=\"invisible\">https://www.</span><span class=\"ellipsis\">atlascontact.nl/2024/03/07/era</span><span class=\"invisible\">smusprijs-2024-toegekend-aan-amitav-ghosh/</span></a> ) en je begrijpt deze uitspraak van de schrijver. </p><p>&quot;Het kapitalisme is niet een op zichzelf staand economisch systeem, maar geworteld in een wereldbeeld waarin de witte westerse man zichzelf als heer en meester beschouwde waaraan de rest van de wereld onderworpen diende te worden. .... </p><p><a href=\"https://mastodon.nl/tags/DeVier\" class=\"mention hashtag\" rel=\"tag\">#<span>DeVier</span></a> <a href=\"https://mastodon.nl/tags/Politiek\" class=\"mention hashtag\" rel=\"tag\">#<span>Politiek</span></a> <a href=\"https://mastodon.nl/tags/PVV\" class=\"mention hashtag\" rel=\"tag\">#<span>PVV</span></a> <a href=\"https://mastodon.nl/tags/Schoof\" class=\"mention hashtag\" rel=\"tag\">#<span>Schoof</span></a> <a href=\"https://mastodon.nl/tags/groenlinkspvda\" class=\"mention hashtag\" rel=\"tag\">#<span>groenlinkspvda</span></a> <a href=\"https://mastodon.nl/tags/economie\" class=\"mention hashtag\" rel=\"tag\">#<span>economie</span></a> <a href=\"https://mastodon.nl/tags/kapitalisme\" class=\"mention hashtag\" rel=\"tag\">#<span>kapitalisme</span></a> <a href=\"https://mastodon.nl/tags/AmitavGhosh\" class=\"mention hashtag\" rel=\"tag\">#<span>AmitavGhosh</span></a></p>"
      ],
      "text/plain": [
       "<IPython.core.display.HTML object>"
      ]
     },
     "metadata": {},
     "output_type": "display_data"
    },
    {
     "name": "stdout",
     "output_type": "stream",
     "text": [
      "Date/Time: 2024-11-17 13:41:14.628000+00:00\n",
      "____________________________________________________________________________________________________\n",
      "Toot 118\n",
      "\n"
     ]
    },
    {
     "data": {
      "text/html": [
       "<p>\"Een van de slachtoffers van Trump-II is het cliché van Europa als supertanker die nooit van koers verandert. Meer clichés zullen volgen. Europa verandert als een gek.\"<br><a href=\"https://www.nrc.nl/nieuws/2024/11/16/europa-verandert-als-een-gek-a4873381\" rel=\"nofollow noopener noreferrer\" translate=\"no\" target=\"_blank\"><span class=\"invisible\">https://www.</span><span class=\"ellipsis\">nrc.nl/nieuws/2024/11/16/europ</span><span class=\"invisible\">a-verandert-als-een-gek-a4873381</span></a><br><a href=\"https://mastodon.social/tags/eu\" class=\"mention hashtag\" rel=\"nofollow noopener noreferrer\" target=\"_blank\">#<span>eu</span></a> <a href=\"https://mastodon.social/tags/politiek\" class=\"mention hashtag\" rel=\"nofollow noopener noreferrer\" target=\"_blank\">#<span>politiek</span></a> <a href=\"https://mastodon.social/tags/europa\" class=\"mention hashtag\" rel=\"nofollow noopener noreferrer\" target=\"_blank\">#<span>europa</span></a></p>"
      ],
      "text/plain": [
       "<IPython.core.display.HTML object>"
      ]
     },
     "metadata": {},
     "output_type": "display_data"
    },
    {
     "name": "stdout",
     "output_type": "stream",
     "text": [
      "Date/Time: 2024-11-16 11:59:56+00:00\n",
      "____________________________________________________________________________________________________\n",
      "Toot 119\n",
      "\n"
     ]
    },
    {
     "data": {
      "text/html": [
       "<p>De fundamentele ongelijke behandeling die kabinet Schoof introduceert krachtig samengevat. Door Sheila Sitalsing.<br><a href=\"https://mastodon.social/tags/schoof\" class=\"mention hashtag\" rel=\"nofollow noopener noreferrer\" target=\"_blank\">#<span>schoof</span></a> <a href=\"https://mastodon.social/tags/kabinet\" class=\"mention hashtag\" rel=\"nofollow noopener noreferrer\" target=\"_blank\">#<span>kabinet</span></a> <a href=\"https://mastodon.social/tags/politiek\" class=\"mention hashtag\" rel=\"nofollow noopener noreferrer\" target=\"_blank\">#<span>politiek</span></a> <a href=\"https://mastodon.social/tags/SheilaSitalsing\" class=\"mention hashtag\" rel=\"nofollow noopener noreferrer\" target=\"_blank\">#<span>SheilaSitalsing</span></a></p>"
      ],
      "text/plain": [
       "<IPython.core.display.HTML object>"
      ]
     },
     "metadata": {},
     "output_type": "display_data"
    },
    {
     "name": "stdout",
     "output_type": "stream",
     "text": [
      "Date/Time: 2024-11-16 11:18:06+00:00\n",
      "____________________________________________________________________________________________________\n",
      "Toot 120\n",
      "\n"
     ]
    },
    {
     "data": {
      "text/html": [
       "<p><span class=\"h-card\" translate=\"no\"><a href=\"https://mastodon.social/@touaregtweet\" class=\"u-url mention\" rel=\"nofollow noopener noreferrer\" target=\"_blank\">@<span>touaregtweet</span></a></span> Ik begrijp haar niet.</p><p>Ze had enorm veel macht, inside kennis, staatssecretaris, voorheen officier van justistie, rechter, kennis van extremisme, fraude en levensdelicten - ze had enorme troefkaarten.</p><p>Vervolgens maakt ze het zelf persoonlijk met zo'n flutbrief en mogen racisten doorgaan.</p><p>Heeft NSC gezegd dat ze zo graag een Constitueel Hof willen? Moest daarom respect voor de grondwet in de ijskast worden gezet? 🤪</p><p><a href=\"https://mastodon.social/tags/nsc\" class=\"mention hashtag\" rel=\"nofollow noopener noreferrer\" target=\"_blank\">#<span>nsc</span></a><br><a href=\"https://mastodon.social/tags/achahbar\" class=\"mention hashtag\" rel=\"nofollow noopener noreferrer\" target=\"_blank\">#<span>achahbar</span></a> <br><a href=\"https://mastodon.social/tags/politiek\" class=\"mention hashtag\" rel=\"nofollow noopener noreferrer\" target=\"_blank\">#<span>politiek</span></a></p>"
      ],
      "text/plain": [
       "<IPython.core.display.HTML object>"
      ]
     },
     "metadata": {},
     "output_type": "display_data"
    },
    {
     "name": "stdout",
     "output_type": "stream",
     "text": [
      "Date/Time: 2024-11-16 10:53:46+00:00\n",
      "____________________________________________________________________________________________________\n",
      "Toot 121\n",
      "\n"
     ]
    },
    {
     "data": {
      "text/html": [
       "<p><span class=\"h-card\" translate=\"no\"><a href=\"https://mastodon.social/@touaregtweet\" class=\"u-url mention\" rel=\"nofollow noopener noreferrer\" target=\"_blank\">@<span>touaregtweet</span></a></span> Ik begrijp haar niet.</p><p>Ze had enorm veel macht, inside kennis, staatssecretaris, voorheen officier van justistie, rechter, kennis van extremisme, fraude en levensdelicten - ze had enorme troefkaarten.</p><p>Vervolgens maakt ze het zelf persoonlijk met zo'n flutbrief en mogen racisten doorgaan.</p><p>Heeft NSC gezegd dat ze zo graag een Constitueel Hof willen? Moest daarom respect voor de grondwet in de ijskast worden gezet? 🤪</p><p><a href=\"https://mastodon.social/tags/nsc\" class=\"mention hashtag\" rel=\"nofollow noopener noreferrer\" target=\"_blank\">#<span>nsc</span></a><br><a href=\"https://mastodon.social/tags/achahbar\" class=\"mention hashtag\" rel=\"nofollow noopener noreferrer\" target=\"_blank\">#<span>achahbar</span></a> <br><a href=\"https://mastodon.social/tags/politiek\" class=\"mention hashtag\" rel=\"nofollow noopener noreferrer\" target=\"_blank\">#<span>politiek</span></a></p>"
      ],
      "text/plain": [
       "<IPython.core.display.HTML object>"
      ]
     },
     "metadata": {},
     "output_type": "display_data"
    },
    {
     "name": "stdout",
     "output_type": "stream",
     "text": [
      "Date/Time: 2024-11-16 10:53:46+00:00\n",
      "____________________________________________________________________________________________________\n",
      "Toot 122\n",
      "\n"
     ]
    },
    {
     "data": {
      "text/html": [
       "<p>\"Haast, haast, haast om het volksgevoel te bedienen. Ook Paul is een ‘mens met een migratieachtergrond’, maar zij hoort bij de groep ‘talentvolle Nederlanders’ die premier Schoof ter plekke in het leven riep. De opzichtige poging te verzachten maakte zijn woorden hard. Er zijn ook goede buitenlanders, iedereen kent er wel één.\"</p><p><a href=\"https://www.volkskrant.nl/columns-van-de-dag/met-dit-kabinet-met-deze-premier-heeft-geert-wilders-geen-harde-woorden-meer-nodig~bd116f5e/\" rel=\"nofollow noopener noreferrer\" translate=\"no\" target=\"_blank\"><span class=\"invisible\">https://www.</span><span class=\"ellipsis\">volkskrant.nl/columns-van-de-d</span><span class=\"invisible\">ag/met-dit-kabinet-met-deze-premier-heeft-geert-wilders-geen-harde-woorden-meer-nodig~bd116f5e/</span></a> <a href=\"https://mastodon.social/tags/Schoof\" class=\"mention hashtag\" rel=\"nofollow noopener noreferrer\" target=\"_blank\">#<span>Schoof</span></a> <a href=\"https://mastodon.social/tags/Wilders\" class=\"mention hashtag\" rel=\"nofollow noopener noreferrer\" target=\"_blank\">#<span>Wilders</span></a> <a href=\"https://mastodon.social/tags/PVV\" class=\"mention hashtag\" rel=\"nofollow noopener noreferrer\" target=\"_blank\">#<span>PVV</span></a> <a href=\"https://mastodon.social/tags/VVD\" class=\"mention hashtag\" rel=\"nofollow noopener noreferrer\" target=\"_blank\">#<span>VVD</span></a> <a href=\"https://mastodon.social/tags/NSC\" class=\"mention hashtag\" rel=\"nofollow noopener noreferrer\" target=\"_blank\">#<span>NSC</span></a> <a href=\"https://mastodon.social/tags/BBB\" class=\"mention hashtag\" rel=\"nofollow noopener noreferrer\" target=\"_blank\">#<span>BBB</span></a> <a href=\"https://mastodon.social/tags/Grondwet\" class=\"mention hashtag\" rel=\"nofollow noopener noreferrer\" target=\"_blank\">#<span>Grondwet</span></a> <a href=\"https://mastodon.social/tags/racisme\" class=\"mention hashtag\" rel=\"nofollow noopener noreferrer\" target=\"_blank\">#<span>racisme</span></a> <a href=\"https://mastodon.social/tags/kabinetscrisis\" class=\"mention hashtag\" rel=\"nofollow noopener noreferrer\" target=\"_blank\">#<span>kabinetscrisis</span></a> <a href=\"https://mastodon.social/tags/politiek\" class=\"mention hashtag\" rel=\"nofollow noopener noreferrer\" target=\"_blank\">#<span>politiek</span></a></p>"
      ],
      "text/plain": [
       "<IPython.core.display.HTML object>"
      ]
     },
     "metadata": {},
     "output_type": "display_data"
    },
    {
     "name": "stdout",
     "output_type": "stream",
     "text": [
      "Date/Time: 2024-11-16 10:34:42+00:00\n",
      "____________________________________________________________________________________________________\n",
      "Toot 123\n",
      "\n"
     ]
    },
    {
     "data": {
      "text/html": [
       "<p>Wordt wakker, ontgrendeld telefoon en opent een nieuwssite. </p><p>Is het kabinet al gevallen? </p><p><a href=\"https://mastodon.social/tags/politiek\" class=\"mention hashtag\" rel=\"nofollow noopener noreferrer\" target=\"_blank\">#<span>politiek</span></a> <a href=\"https://mastodon.social/tags/pvv\" class=\"mention hashtag\" rel=\"nofollow noopener noreferrer\" target=\"_blank\">#<span>pvv</span></a> <a href=\"https://mastodon.social/tags/nsc\" class=\"mention hashtag\" rel=\"nofollow noopener noreferrer\" target=\"_blank\">#<span>nsc</span></a> <a href=\"https://mastodon.social/tags/bbb\" class=\"mention hashtag\" rel=\"nofollow noopener noreferrer\" target=\"_blank\">#<span>bbb</span></a> <a href=\"https://mastodon.social/tags/vvd\" class=\"mention hashtag\" rel=\"nofollow noopener noreferrer\" target=\"_blank\">#<span>vvd</span></a> <a href=\"https://mastodon.social/tags/schoof\" class=\"mention hashtag\" rel=\"nofollow noopener noreferrer\" target=\"_blank\">#<span>schoof</span></a></p><p><a href=\"https://nos.nl/artikel/2544676-kabinet-schoof-na-nieuwe-crisis-verder-stabiliteit-blijft-een-vraagteken\" rel=\"nofollow noopener noreferrer\" translate=\"no\" target=\"_blank\"><span class=\"invisible\">https://</span><span class=\"ellipsis\">nos.nl/artikel/2544676-kabinet</span><span class=\"invisible\">-schoof-na-nieuwe-crisis-verder-stabiliteit-blijft-een-vraagteken</span></a></p>"
      ],
      "text/plain": [
       "<IPython.core.display.HTML object>"
      ]
     },
     "metadata": {},
     "output_type": "display_data"
    },
    {
     "name": "stdout",
     "output_type": "stream",
     "text": [
      "Date/Time: 2024-11-16 09:00:01+00:00\n",
      "____________________________________________________________________________________________________\n",
      "Toot 124\n",
      "\n"
     ]
    },
    {
     "data": {
      "text/html": [
       "<p>Nog even los van wat de feiten zijn, maar de reactie \"het was geen racisme dus we kunnen door\" is volstrekt bizar, alsof dat het criterium is.<br><a href=\"https://mastodon.social/tags/schoof\" class=\"mention hashtag\" rel=\"nofollow noopener noreferrer\" target=\"_blank\">#<span>schoof</span></a> <a href=\"https://mastodon.social/tags/kabinet\" class=\"mention hashtag\" rel=\"nofollow noopener noreferrer\" target=\"_blank\">#<span>kabinet</span></a> <a href=\"https://mastodon.social/tags/politiek\" class=\"mention hashtag\" rel=\"nofollow noopener noreferrer\" target=\"_blank\">#<span>politiek</span></a> <a href=\"https://mastodon.social/tags/nsc\" class=\"mention hashtag\" rel=\"nofollow noopener noreferrer\" target=\"_blank\">#<span>nsc</span></a> <a href=\"https://mastodon.social/tags/achahbar\" class=\"mention hashtag\" rel=\"nofollow noopener noreferrer\" target=\"_blank\">#<span>achahbar</span></a> <a href=\"https://mastodon.social/tags/vanvroonhoven\" class=\"mention hashtag\" rel=\"nofollow noopener noreferrer\" target=\"_blank\">#<span>vanvroonhoven</span></a></p>"
      ],
      "text/plain": [
       "<IPython.core.display.HTML object>"
      ]
     },
     "metadata": {},
     "output_type": "display_data"
    },
    {
     "name": "stdout",
     "output_type": "stream",
     "text": [
      "Date/Time: 2024-11-16 07:24:18+00:00\n",
      "____________________________________________________________________________________________________\n",
      "Toot 125\n",
      "\n"
     ]
    },
    {
     "data": {
      "text/html": [
       "<p>Ontluisterende toelichting van Mevrouw Van Vroonhoven, NSC over vertrek Achahbar.<br><a href=\"https://www.telegraaf.nl/video/1584067645/van-vroonhoven-stellig-na-crisis-geen-sprake-van-racisme\" rel=\"nofollow noopener noreferrer\" translate=\"no\" target=\"_blank\"><span class=\"invisible\">https://www.</span><span class=\"ellipsis\">telegraaf.nl/video/1584067645/</span><span class=\"invisible\">van-vroonhoven-stellig-na-crisis-geen-sprake-van-racisme</span></a></p><p><a href=\"https://mastodon.social/tags/politiek\" class=\"mention hashtag\" rel=\"nofollow noopener noreferrer\" target=\"_blank\">#<span>politiek</span></a> <a href=\"https://mastodon.social/tags/NSC\" class=\"mention hashtag\" rel=\"nofollow noopener noreferrer\" target=\"_blank\">#<span>NSC</span></a> <a href=\"https://mastodon.social/tags/achahbar\" class=\"mention hashtag\" rel=\"nofollow noopener noreferrer\" target=\"_blank\">#<span>achahbar</span></a></p>"
      ],
      "text/plain": [
       "<IPython.core.display.HTML object>"
      ]
     },
     "metadata": {},
     "output_type": "display_data"
    },
    {
     "name": "stdout",
     "output_type": "stream",
     "text": [
      "Date/Time: 2024-11-16 07:16:45+00:00\n",
      "____________________________________________________________________________________________________\n",
      "Toot 126\n",
      "\n"
     ]
    },
    {
     "data": {
      "text/html": [
       "<p>De zelfdestructie van het NSC is echt ongekend.<br><a href=\"https://mastodon.social/tags/NSC\" class=\"mention hashtag\" rel=\"nofollow noopener noreferrer\" target=\"_blank\">#<span>NSC</span></a> <a href=\"https://mastodon.social/tags/politiek\" class=\"mention hashtag\" rel=\"nofollow noopener noreferrer\" target=\"_blank\">#<span>politiek</span></a></p>"
      ],
      "text/plain": [
       "<IPython.core.display.HTML object>"
      ]
     },
     "metadata": {},
     "output_type": "display_data"
    },
    {
     "name": "stdout",
     "output_type": "stream",
     "text": [
      "Date/Time: 2024-11-16 06:53:29+00:00\n",
      "____________________________________________________________________________________________________\n",
      "Toot 127\n",
      "\n"
     ]
    },
    {
     "data": {
      "text/html": [
       "<p><a href=\"https://mastodon.social/tags/nadiabouras\" class=\"mention hashtag\" rel=\"nofollow noopener noreferrer\" target=\"_blank\">#<span>nadiabouras</span></a> <a href=\"https://mastodon.social/tags/politiek\" class=\"mention hashtag\" rel=\"nofollow noopener noreferrer\" target=\"_blank\">#<span>politiek</span></a> <a href=\"https://mastodon.social/tags/racisme\" class=\"mention hashtag\" rel=\"nofollow noopener noreferrer\" target=\"_blank\">#<span>racisme</span></a> <a href=\"https://mastodon.social/tags/NSC\" class=\"mention hashtag\" rel=\"nofollow noopener noreferrer\" target=\"_blank\">#<span>NSC</span></a> <a href=\"https://mastodon.social/tags/PVV\" class=\"mention hashtag\" rel=\"nofollow noopener noreferrer\" target=\"_blank\">#<span>PVV</span></a> <a href=\"https://mastodon.social/tags/VVD\" class=\"mention hashtag\" rel=\"nofollow noopener noreferrer\" target=\"_blank\">#<span>VVD</span></a> <a href=\"https://mastodon.social/tags/BBB\" class=\"mention hashtag\" rel=\"nofollow noopener noreferrer\" target=\"_blank\">#<span>BBB</span></a> <a href=\"https://mastodon.social/tags/Schoof\" class=\"mention hashtag\" rel=\"nofollow noopener noreferrer\" target=\"_blank\">#<span>Schoof</span></a> <a href=\"https://mastodon.social/tags/Wilders\" class=\"mention hashtag\" rel=\"nofollow noopener noreferrer\" target=\"_blank\">#<span>Wilders</span></a></p>"
      ],
      "text/plain": [
       "<IPython.core.display.HTML object>"
      ]
     },
     "metadata": {},
     "output_type": "display_data"
    },
    {
     "name": "stdout",
     "output_type": "stream",
     "text": [
      "Date/Time: 2024-11-16 03:50:41+00:00\n",
      "____________________________________________________________________________________________________\n",
      "Toot 128\n",
      "\n"
     ]
    },
    {
     "data": {
      "text/html": [
       "<p>“Het tast mijn gevoel van veiligheid aan. Het is ook een keiharde aanval op de academische vrijheid. Ik heb er slecht van geslapen. Het is gif. Mensen als Wierd Duk zijn een bedreiging voor het vrije debat. Op X heeft hij het over de islamistische vijfde colonne. Een heel kwalijke term, die moet verhullen dat hij het over moslims heeft.\"</p><p><a href=\"https://www.parool.nl/israelische-fans-aangevallen-in-amsterdam/het-kabinet-is-gebaat-bij-een-beeld-van-bange-joden-en-een-bende-woeste-marokkanen-zegt-migratiehistoricus-nadia-bouras~bca14469/\" rel=\"nofollow noopener noreferrer\" translate=\"no\" target=\"_blank\"><span class=\"invisible\">https://www.</span><span class=\"ellipsis\">parool.nl/israelische-fans-aan</span><span class=\"invisible\">gevallen-in-amsterdam/het-kabinet-is-gebaat-bij-een-beeld-van-bange-joden-en-een-bende-woeste-marokkanen-zegt-migratiehistoricus-nadia-bouras~bca14469/</span></a></p><p><a href=\"https://mastodon.social/tags/NadiaBouras\" class=\"mention hashtag\" rel=\"nofollow noopener noreferrer\" target=\"_blank\">#<span>NadiaBouras</span></a> <a href=\"https://mastodon.social/tags/racisme\" class=\"mention hashtag\" rel=\"nofollow noopener noreferrer\" target=\"_blank\">#<span>racisme</span></a> <a href=\"https://mastodon.social/tags/islamophobie\" class=\"mention hashtag\" rel=\"nofollow noopener noreferrer\" target=\"_blank\">#<span>islamophobie</span></a> <a href=\"https://mastodon.social/tags/politiek\" class=\"mention hashtag\" rel=\"nofollow noopener noreferrer\" target=\"_blank\">#<span>politiek</span></a> <a href=\"https://mastodon.social/tags/WierdDuk\" class=\"mention hashtag\" rel=\"nofollow noopener noreferrer\" target=\"_blank\">#<span>WierdDuk</span></a> <a href=\"https://mastodon.social/tags/PVV\" class=\"mention hashtag\" rel=\"nofollow noopener noreferrer\" target=\"_blank\">#<span>PVV</span></a> <a href=\"https://mastodon.social/tags/NSC\" class=\"mention hashtag\" rel=\"nofollow noopener noreferrer\" target=\"_blank\">#<span>NSC</span></a> <a href=\"https://mastodon.social/tags/VVD\" class=\"mention hashtag\" rel=\"nofollow noopener noreferrer\" target=\"_blank\">#<span>VVD</span></a> <a href=\"https://mastodon.social/tags/BBB\" class=\"mention hashtag\" rel=\"nofollow noopener noreferrer\" target=\"_blank\">#<span>BBB</span></a> <a href=\"https://mastodon.social/tags/Schoof\" class=\"mention hashtag\" rel=\"nofollow noopener noreferrer\" target=\"_blank\">#<span>Schoof</span></a> <a href=\"https://mastodon.social/tags/Wilders\" class=\"mention hashtag\" rel=\"nofollow noopener noreferrer\" target=\"_blank\">#<span>Wilders</span></a></p>"
      ],
      "text/plain": [
       "<IPython.core.display.HTML object>"
      ]
     },
     "metadata": {},
     "output_type": "display_data"
    },
    {
     "name": "stdout",
     "output_type": "stream",
     "text": [
      "Date/Time: 2024-11-16 03:26:09+00:00\n",
      "____________________________________________________________________________________________________\n",
      "Toot 129\n",
      "\n"
     ]
    },
    {
     "data": {
      "text/html": [
       "<p>Als <a href=\"https://mastodon.social/tags/Schoof\" class=\"mention hashtag\" rel=\"nofollow noopener noreferrer\" target=\"_blank\">#<span>Schoof</span></a> niks uit de Ministerraad mag meedelen, want geheim en vertrouwelijk, dan geldt dat m.i. ook voor het informeren van de fractievoorzitters hierover.  Dus kan <a href=\"https://mastodon.social/tags/vanVroonhoven\" class=\"mention hashtag\" rel=\"nofollow noopener noreferrer\" target=\"_blank\">#<span>vanVroonhoven</span></a> ook niet weten of er wel of niet sprake is van racisme.  <a href=\"https://mastodon.social/tags/kabinetscrisis\" class=\"mention hashtag\" rel=\"nofollow noopener noreferrer\" target=\"_blank\">#<span>kabinetscrisis</span></a> <a href=\"https://mastodon.social/tags/NSC\" class=\"mention hashtag\" rel=\"nofollow noopener noreferrer\" target=\"_blank\">#<span>NSC</span></a> <a href=\"https://mastodon.social/tags/politiek\" class=\"mention hashtag\" rel=\"nofollow noopener noreferrer\" target=\"_blank\">#<span>politiek</span></a></p>"
      ],
      "text/plain": [
       "<IPython.core.display.HTML object>"
      ]
     },
     "metadata": {},
     "output_type": "display_data"
    },
    {
     "name": "stdout",
     "output_type": "stream",
     "text": [
      "Date/Time: 2024-11-16 01:12:29+00:00\n",
      "____________________________________________________________________________________________________\n",
      "Toot 130\n",
      "\n"
     ]
    },
    {
     "data": {
      "text/html": [
       "<p>Reactie van Esther Ouwehand.</p><p><a href=\"https://mastodon.social/tags/pvdd\" class=\"mention hashtag\" rel=\"nofollow noopener noreferrer\" target=\"_blank\">#<span>pvdd</span></a><br><a href=\"https://mastodon.social/tags/racisten\" class=\"mention hashtag\" rel=\"nofollow noopener noreferrer\" target=\"_blank\">#<span>racisten</span></a><br><a href=\"https://mastodon.social/tags/KabinetSchoof\" class=\"mention hashtag\" rel=\"nofollow noopener noreferrer\" target=\"_blank\">#<span>KabinetSchoof</span></a><br><a href=\"https://mastodon.social/tags/politiek\" class=\"mention hashtag\" rel=\"nofollow noopener noreferrer\" target=\"_blank\">#<span>politiek</span></a></p>"
      ],
      "text/plain": [
       "<IPython.core.display.HTML object>"
      ]
     },
     "metadata": {},
     "output_type": "display_data"
    },
    {
     "name": "stdout",
     "output_type": "stream",
     "text": [
      "Date/Time: 2024-11-15 21:47:14+00:00\n",
      "____________________________________________________________________________________________________\n",
      "Toot 131\n",
      "\n"
     ]
    },
    {
     "data": {
      "text/html": [
       "<p>Als dit soort woorden inderdaad zijn gewisseld, heeft Achahbar het gelijk volledig aan haar zijde. <a href=\"https://mastodon.social/tags/nsc\" class=\"mention hashtag\" rel=\"nofollow noopener noreferrer\" target=\"_blank\">#<span>nsc</span></a> <a href=\"https://mastodon.social/tags/kabinet\" class=\"mention hashtag\" rel=\"nofollow noopener noreferrer\" target=\"_blank\">#<span>kabinet</span></a>  <a href=\"https://mastodon.social/tags/politiek\" class=\"mention hashtag\" rel=\"nofollow noopener noreferrer\" target=\"_blank\">#<span>politiek</span></a><br><a href=\"https://www.nd.nl/nieuws/politiek/1246917/voortbestaan-kabinet-aan-zijden-draadje-om-racistische-uitlat#closemodal\" rel=\"nofollow noopener noreferrer\" translate=\"no\" target=\"_blank\"><span class=\"invisible\">https://www.</span><span class=\"ellipsis\">nd.nl/nieuws/politiek/1246917/</span><span class=\"invisible\">voortbestaan-kabinet-aan-zijden-draadje-om-racistische-uitlat#closemodal</span></a></p>"
      ],
      "text/plain": [
       "<IPython.core.display.HTML object>"
      ]
     },
     "metadata": {},
     "output_type": "display_data"
    },
    {
     "name": "stdout",
     "output_type": "stream",
     "text": [
      "Date/Time: 2024-11-15 21:26:16+00:00\n",
      "____________________________________________________________________________________________________\n",
      "Toot 132\n",
      "\n"
     ]
    },
    {
     "data": {
      "text/html": [
       "<p>Alle NSC bewindslieden blijven zitten, Achahbar vertrekt. Dus of laatstgenoemde was een aansteller of de NSC is volstrekt niet solidair en al haar principes kwijt...<br><a href=\"https://mastodon.social/tags/nsc\" class=\"mention hashtag\" rel=\"nofollow noopener noreferrer\" target=\"_blank\">#<span>nsc</span></a> <a href=\"https://mastodon.social/tags/politiek\" class=\"mention hashtag\" rel=\"nofollow noopener noreferrer\" target=\"_blank\">#<span>politiek</span></a> <a href=\"https://mastodon.social/tags/kabinet\" class=\"mention hashtag\" rel=\"nofollow noopener noreferrer\" target=\"_blank\">#<span>kabinet</span></a></p>"
      ],
      "text/plain": [
       "<IPython.core.display.HTML object>"
      ]
     },
     "metadata": {},
     "output_type": "display_data"
    },
    {
     "name": "stdout",
     "output_type": "stream",
     "text": [
      "Date/Time: 2024-11-15 21:13:47+00:00\n",
      "____________________________________________________________________________________________________\n",
      "Toot 133\n",
      "\n"
     ]
    },
    {
     "data": {
      "text/html": [
       "<p>Zorgen bij ministeries over ongewenste inmenging Israël in Nederlands debat.<br><a href=\"https://www.volkskrant.nl/binnenland/zorgen-bij-ministeries-over-ongewenste-inmenging-israel-in-nederlands-debat~baa860e8/\" rel=\"nofollow noopener noreferrer\" translate=\"no\" target=\"_blank\"><span class=\"invisible\">https://www.</span><span class=\"ellipsis\">volkskrant.nl/binnenland/zorge</span><span class=\"invisible\">n-bij-ministeries-over-ongewenste-inmenging-israel-in-nederlands-debat~baa860e8/</span></a><br><a href=\"https://mastodon.social/tags/israel\" class=\"mention hashtag\" rel=\"nofollow noopener noreferrer\" target=\"_blank\">#<span>israel</span></a> <a href=\"https://mastodon.social/tags/politiek\" class=\"mention hashtag\" rel=\"nofollow noopener noreferrer\" target=\"_blank\">#<span>politiek</span></a></p>"
      ],
      "text/plain": [
       "<IPython.core.display.HTML object>"
      ]
     },
     "metadata": {},
     "output_type": "display_data"
    },
    {
     "name": "stdout",
     "output_type": "stream",
     "text": [
      "Date/Time: 2024-11-15 20:37:56+00:00\n",
      "____________________________________________________________________________________________________\n",
      "Toot 134\n",
      "\n"
     ]
    },
    {
     "data": {
      "text/html": [
       "<p>Prachtige foto dit, ik snap het wel , al die journalisten, hartstikke eng, maar mensen gaan er vast allemaal mooie politieke onderschriften bij bedenken , die blik ook 😃<br><a href=\"https://mastodon.social/tags/nsc\" class=\"mention hashtag\" rel=\"nofollow noopener noreferrer\" target=\"_blank\">#<span>nsc</span></a> <a href=\"https://mastodon.social/tags/kabinetscrisis\" class=\"mention hashtag\" rel=\"nofollow noopener noreferrer\" target=\"_blank\">#<span>kabinetscrisis</span></a> <a href=\"https://mastodon.social/tags/vanvroonhoven\" class=\"mention hashtag\" rel=\"nofollow noopener noreferrer\" target=\"_blank\">#<span>vanvroonhoven</span></a> <a href=\"https://mastodon.social/tags/politiek\" class=\"mention hashtag\" rel=\"nofollow noopener noreferrer\" target=\"_blank\">#<span>politiek</span></a></p>"
      ],
      "text/plain": [
       "<IPython.core.display.HTML object>"
      ]
     },
     "metadata": {},
     "output_type": "display_data"
    },
    {
     "name": "stdout",
     "output_type": "stream",
     "text": [
      "Date/Time: 2024-11-15 19:58:46+00:00\n",
      "____________________________________________________________________________________________________\n",
      "Toot 135\n",
      "\n"
     ]
    },
    {
     "data": {
      "text/html": [
       "<p>Sven Kockelmann, de Nederlandse Tucker Carlson, samen met Thomas van Groningen en DJ Jopie in the house. We boffen weer enorm, qua duiding. <a href=\"https://mastodon.social/tags/NPO1\" class=\"mention hashtag\" rel=\"nofollow noopener noreferrer\" target=\"_blank\">#<span>NPO1</span></a> <a href=\"https://mastodon.social/tags/politiek\" class=\"mention hashtag\" rel=\"nofollow noopener noreferrer\" target=\"_blank\">#<span>politiek</span></a> </p><p><a href=\"https://mastodon.social/tags/kabinetscrisis\" class=\"mention hashtag\" rel=\"nofollow noopener noreferrer\" target=\"_blank\">#<span>kabinetscrisis</span></a> </p><p>Gelukkig kunnen we ook gewoon hier naar kijken. Net zo informatief.<br>👇 <br><a href=\"https://npo.nl/start/live?channel=NPO+Politiek+en+Nieuws\" rel=\"nofollow noopener noreferrer\" translate=\"no\" target=\"_blank\"><span class=\"invisible\">https://</span><span class=\"ellipsis\">npo.nl/start/live?channel=NPO+</span><span class=\"invisible\">Politiek+en+Nieuws</span></a></p>"
      ],
      "text/plain": [
       "<IPython.core.display.HTML object>"
      ]
     },
     "metadata": {},
     "output_type": "display_data"
    },
    {
     "name": "stdout",
     "output_type": "stream",
     "text": [
      "Date/Time: 2024-11-15 19:38:57+00:00\n",
      "____________________________________________________________________________________________________\n",
      "Toot 136\n",
      "\n"
     ]
    },
    {
     "data": {
      "text/html": [
       "<p>Dat tuig van de Telegraaf is alvast begonnen met het afmaken van <a href=\"https://mastodon.social/tags/Achahbar\" class=\"mention hashtag\" rel=\"nofollow noopener noreferrer\" target=\"_blank\">#<span>Achahbar</span></a>. </p><p><a href=\"https://mastodon.social/tags/kabinetscrisis\" class=\"mention hashtag\" rel=\"nofollow noopener noreferrer\" target=\"_blank\">#<span>kabinetscrisis</span></a> <a href=\"https://mastodon.social/tags/politiek\" class=\"mention hashtag\" rel=\"nofollow noopener noreferrer\" target=\"_blank\">#<span>politiek</span></a></p>"
      ],
      "text/plain": [
       "<IPython.core.display.HTML object>"
      ]
     },
     "metadata": {},
     "output_type": "display_data"
    },
    {
     "name": "stdout",
     "output_type": "stream",
     "text": [
      "Date/Time: 2024-11-15 19:21:29+00:00\n",
      "____________________________________________________________________________________________________\n",
      "Toot 137\n",
      "\n"
     ]
    },
    {
     "data": {
      "text/html": [
       "<p>Idee dat anti-semitisme op een of andere manier meer verbonden is met Islam dan Christendom, illustreert vooral gebrek aan historische kennis.<br><a href=\"https://mastodon.social/tags/politiek\" class=\"mention hashtag\" rel=\"nofollow noopener noreferrer\" target=\"_blank\">#<span>politiek</span></a> <a href=\"https://mastodon.social/tags/islam\" class=\"mention hashtag\" rel=\"nofollow noopener noreferrer\" target=\"_blank\">#<span>islam</span></a> <a href=\"https://mastodon.social/tags/christendom\" class=\"mention hashtag\" rel=\"nofollow noopener noreferrer\" target=\"_blank\">#<span>christendom</span></a> <a href=\"https://mastodon.social/tags/antisemitisme\" class=\"mention hashtag\" rel=\"nofollow noopener noreferrer\" target=\"_blank\">#<span>antisemitisme</span></a></p>"
      ],
      "text/plain": [
       "<IPython.core.display.HTML object>"
      ]
     },
     "metadata": {},
     "output_type": "display_data"
    },
    {
     "name": "stdout",
     "output_type": "stream",
     "text": [
      "Date/Time: 2024-11-15 18:36:03+00:00\n",
      "____________________________________________________________________________________________________\n",
      "Toot 138\n",
      "\n"
     ]
    },
    {
     "data": {
      "text/html": [
       "<p>Als ik van Vroonhoven (NSC) hoorde , dan gaan ze gewoon door, alleen een toverformule verzinnen om alle plooien weer even glad te strijken, iets in de trant van we begrijpen de persoonlijke afweging van de Stas etcetera <br><a href=\"https://mastodon.social/tags/kabinetscrisis\" class=\"mention hashtag\" rel=\"nofollow noopener noreferrer\" target=\"_blank\">#<span>kabinetscrisis</span></a> <a href=\"https://mastodon.social/tags/nsc\" class=\"mention hashtag\" rel=\"nofollow noopener noreferrer\" target=\"_blank\">#<span>nsc</span></a> <a href=\"https://mastodon.social/tags/vanvroonhoven\" class=\"mention hashtag\" rel=\"nofollow noopener noreferrer\" target=\"_blank\">#<span>vanvroonhoven</span></a> <a href=\"https://mastodon.social/tags/politiek\" class=\"mention hashtag\" rel=\"nofollow noopener noreferrer\" target=\"_blank\">#<span>politiek</span></a></p>"
      ],
      "text/plain": [
       "<IPython.core.display.HTML object>"
      ]
     },
     "metadata": {},
     "output_type": "display_data"
    },
    {
     "name": "stdout",
     "output_type": "stream",
     "text": [
      "Date/Time: 2024-11-15 18:24:14+00:00\n",
      "____________________________________________________________________________________________________\n",
      "Toot 139\n",
      "\n"
     ]
    },
    {
     "data": {
      "text/html": [
       "<p>Toko Eddo heeft eten bezorgd bij het Catshuis 😋 , aan het eten zal het niet liggen, na een uitgebreide Indische rijsttafel pakken ze de draad misschien weer op 😃<br><a href=\"https://mastodon.social/tags/politiek\" class=\"mention hashtag\" rel=\"nofollow noopener noreferrer\" target=\"_blank\">#<span>politiek</span></a> <a href=\"https://mastodon.social/tags/kabinetscrisis\" class=\"mention hashtag\" rel=\"nofollow noopener noreferrer\" target=\"_blank\">#<span>kabinetscrisis</span></a> <a href=\"https://mastodon.social/tags/nsc\" class=\"mention hashtag\" rel=\"nofollow noopener noreferrer\" target=\"_blank\">#<span>nsc</span></a> <a href=\"https://mastodon.social/tags/Schoof\" class=\"mention hashtag\" rel=\"nofollow noopener noreferrer\" target=\"_blank\">#<span>Schoof</span></a></p>"
      ],
      "text/plain": [
       "<IPython.core.display.HTML object>"
      ]
     },
     "metadata": {},
     "output_type": "display_data"
    },
    {
     "name": "stdout",
     "output_type": "stream",
     "text": [
      "Date/Time: 2024-11-15 16:50:23+00:00\n",
      "____________________________________________________________________________________________________\n",
      "Toot 140\n",
      "\n"
     ]
    },
    {
     "data": {
      "text/html": [
       "<p>Alle ministers van NSC treden af maar NSC gedoogt het kabinet nog wel vanuit de Tweede Kamer daarna, mogelijk scenario?<br><a href=\"https://mastodon.social/tags/NSC\" class=\"mention hashtag\" rel=\"nofollow noopener noreferrer\" target=\"_blank\">#<span>NSC</span></a> <a href=\"https://mastodon.social/tags/politiek\" class=\"mention hashtag\" rel=\"nofollow noopener noreferrer\" target=\"_blank\">#<span>politiek</span></a> <a href=\"https://mastodon.social/tags/kabinetscrisis\" class=\"mention hashtag\" rel=\"nofollow noopener noreferrer\" target=\"_blank\">#<span>kabinetscrisis</span></a> <a href=\"https://mastodon.social/tags/schoof\" class=\"mention hashtag\" rel=\"nofollow noopener noreferrer\" target=\"_blank\">#<span>schoof</span></a></p>"
      ],
      "text/plain": [
       "<IPython.core.display.HTML object>"
      ]
     },
     "metadata": {},
     "output_type": "display_data"
    },
    {
     "name": "stdout",
     "output_type": "stream",
     "text": [
      "Date/Time: 2024-11-15 16:23:34+00:00\n",
      "____________________________________________________________________________________________________\n",
      "Toot 141\n",
      "\n"
     ]
    },
    {
     "data": {
      "text/html": [
       "<p>Alle ministers van NSC treden af maar NSC gedoogt het kabinet nog wel vanuit de Tweede Kamer daarna, mogelijk scenario?<br><a href=\"https://mastodon.social/tags/NSC\" class=\"mention hashtag\" rel=\"nofollow noopener noreferrer\" target=\"_blank\">#<span>NSC</span></a> <a href=\"https://mastodon.social/tags/politiek\" class=\"mention hashtag\" rel=\"nofollow noopener noreferrer\" target=\"_blank\">#<span>politiek</span></a> <a href=\"https://mastodon.social/tags/kabinetscrisis\" class=\"mention hashtag\" rel=\"nofollow noopener noreferrer\" target=\"_blank\">#<span>kabinetscrisis</span></a> <a href=\"https://mastodon.social/tags/schoof\" class=\"mention hashtag\" rel=\"nofollow noopener noreferrer\" target=\"_blank\">#<span>schoof</span></a></p>"
      ],
      "text/plain": [
       "<IPython.core.display.HTML object>"
      ]
     },
     "metadata": {},
     "output_type": "display_data"
    },
    {
     "name": "stdout",
     "output_type": "stream",
     "text": [
      "Date/Time: 2024-11-15 16:23:34+00:00\n",
      "____________________________________________________________________________________________________\n",
      "Toot 142\n",
      "\n"
     ]
    },
    {
     "data": {
      "text/html": [
       "<p><span class=\"h-card\" translate=\"no\"><a href=\"https://mastodon.nl/@StellaQuasten\" class=\"u-url mention\">@<span>StellaQuasten</span></a></span> ohh... Maar alle ruimte voor speculatie. Een groot verschil zal maken wie racistisch dusdanig uit de bocht vloog dat NSC leden er niet mee konden leven.<br />Is t Schoof, een/meerdere pvv-leden of VVD / B3?</p><p><a href=\"https://mastodon.nl/tags/Politiek\" class=\"mention hashtag\" rel=\"tag\">#<span>Politiek</span></a> <a href=\"https://mastodon.nl/tags/Crisis\" class=\"mention hashtag\" rel=\"tag\">#<span>Crisis</span></a> <a href=\"https://mastodon.nl/tags/dievier\" class=\"mention hashtag\" rel=\"tag\">#<span>dievier</span></a></p>"
      ],
      "text/plain": [
       "<IPython.core.display.HTML object>"
      ]
     },
     "metadata": {},
     "output_type": "display_data"
    },
    {
     "name": "stdout",
     "output_type": "stream",
     "text": [
      "Date/Time: 2024-11-15 15:06:09.834000+00:00\n",
      "____________________________________________________________________________________________________\n",
      "Toot 143\n",
      "\n"
     ]
    },
    {
     "data": {
      "text/html": [
       "<p><span class=\"h-card\" translate=\"no\"><a href=\"https://mastodon.nl/@StellaQuasten\" class=\"u-url mention\">@<span>StellaQuasten</span></a></span> ahh... Dat betekent eenvoudig ook dat voor 1800 uur het kabinet nog niet gevallen is .😉</p><p>(Wellicht/misschien/hopelijk wel gaat vallen, maar verdere speculatie heeft dus geen zin)</p><p><a href=\"https://mastodon.nl/tags/Politiek\" class=\"mention hashtag\" rel=\"tag\">#<span>Politiek</span></a></p>"
      ],
      "text/plain": [
       "<IPython.core.display.HTML object>"
      ]
     },
     "metadata": {},
     "output_type": "display_data"
    },
    {
     "name": "stdout",
     "output_type": "stream",
     "text": [
      "Date/Time: 2024-11-15 14:58:58.987000+00:00\n",
      "____________________________________________________________________________________________________\n",
      "Toot 144\n",
      "\n"
     ]
    },
    {
     "data": {
      "text/html": [
       "<p>Van Bluesky maar ook op X via een betrouwbare bron meestal, kabinet gevallen. Maar nog niet bevestigd door andere bronnen voor zover ik kan zien, voorzichtigheid blijft geboden. Zelf lijkt me het beter voor de oppositie als het kabinet net niet valt....de komende uren zullen uitsluitsel geven.<br><a href=\"https://mastodon.social/tags/politiek\" class=\"mention hashtag\" rel=\"nofollow noopener noreferrer\" target=\"_blank\">#<span>politiek</span></a> <a href=\"https://mastodon.social/tags/kabinetscrisis\" class=\"mention hashtag\" rel=\"nofollow noopener noreferrer\" target=\"_blank\">#<span>kabinetscrisis</span></a></p>"
      ],
      "text/plain": [
       "<IPython.core.display.HTML object>"
      ]
     },
     "metadata": {},
     "output_type": "display_data"
    },
    {
     "name": "stdout",
     "output_type": "stream",
     "text": [
      "Date/Time: 2024-11-15 14:44:49+00:00\n",
      "____________________________________________________________________________________________________\n",
      "Toot 145\n",
      "\n"
     ]
    },
    {
     "data": {
      "text/html": [
       "<p>\"Geert Wilders doorkruist opnieuw het Israëlbeleid van zijn eigen kabinet. De PVV-leider is van plan om van 8 tot 10 december Israël en mogelijk ook de Palestijnse gebieden te bezoeken – op uitnodiging van een extremistische kolonistenleider die internationaal lobbyt voor annexatie van de Westelijke Jordaanoever.\"</p><p><a href=\"https://www.nrc.nl/nieuws/2024/11/14/wilders-plant-bezoek-aan-israel-op-uitnodiging-van-extremistische-kolonistenleider-a4873181\" rel=\"nofollow noopener noreferrer\" translate=\"no\" target=\"_blank\"><span class=\"invisible\">https://www.</span><span class=\"ellipsis\">nrc.nl/nieuws/2024/11/14/wilde</span><span class=\"invisible\">rs-plant-bezoek-aan-israel-op-uitnodiging-van-extremistische-kolonistenleider-a4873181</span></a></p><p><a href=\"https://mastodon.social/tags/PVV\" class=\"mention hashtag\" rel=\"nofollow noopener noreferrer\" target=\"_blank\">#<span>PVV</span></a> <a href=\"https://mastodon.social/tags/Israel\" class=\"mention hashtag\" rel=\"nofollow noopener noreferrer\" target=\"_blank\">#<span>Israel</span></a> <a href=\"https://mastodon.social/tags/extreemrechts\" class=\"mention hashtag\" rel=\"nofollow noopener noreferrer\" target=\"_blank\">#<span>extreemrechts</span></a> <a href=\"https://mastodon.social/tags/bezetting\" class=\"mention hashtag\" rel=\"nofollow noopener noreferrer\" target=\"_blank\">#<span>bezetting</span></a> <a href=\"https://mastodon.social/tags/racisme\" class=\"mention hashtag\" rel=\"nofollow noopener noreferrer\" target=\"_blank\">#<span>racisme</span></a> <a href=\"https://mastodon.social/tags/politiek\" class=\"mention hashtag\" rel=\"nofollow noopener noreferrer\" target=\"_blank\">#<span>politiek</span></a></p>"
      ],
      "text/plain": [
       "<IPython.core.display.HTML object>"
      ]
     },
     "metadata": {},
     "output_type": "display_data"
    },
    {
     "name": "stdout",
     "output_type": "stream",
     "text": [
      "Date/Time: 2024-11-15 14:00:31+00:00\n",
      "____________________________________________________________________________________________________\n",
      "Toot 146\n",
      "\n"
     ]
    },
    {
     "data": {
      "text/html": [
       "<p>\"Wat is er anders in Nederland en voor de Nederlanders na uw ambtstermijn?</p><p>Vertrouwen komt te voet en gaat te paard. Ik hoop dat het vertrouwen in de overheid zoveel mogelijk hersteld is.\" </p><p>Ik dacht het niet.  </p><p><a href=\"https://mastodon.social/tags/Achahbar\" class=\"mention hashtag\" rel=\"nofollow noopener noreferrer\" target=\"_blank\">#<span>Achahbar</span></a> <a href=\"https://mastodon.social/tags/NSC\" class=\"mention hashtag\" rel=\"nofollow noopener noreferrer\" target=\"_blank\">#<span>NSC</span></a> <a href=\"https://mastodon.social/tags/politiek\" class=\"mention hashtag\" rel=\"nofollow noopener noreferrer\" target=\"_blank\">#<span>politiek</span></a></p><p><a href=\"https://partijnieuwsociaalcontract.nl/onze-bewindspersonen/nora-achahbar\" rel=\"nofollow noopener noreferrer\" translate=\"no\" target=\"_blank\"><span class=\"invisible\">https://</span><span class=\"ellipsis\">partijnieuwsociaalcontract.nl/</span><span class=\"invisible\">onze-bewindspersonen/nora-achahbar</span></a></p>"
      ],
      "text/plain": [
       "<IPython.core.display.HTML object>"
      ]
     },
     "metadata": {},
     "output_type": "display_data"
    },
    {
     "name": "stdout",
     "output_type": "stream",
     "text": [
      "Date/Time: 2024-11-15 13:52:37+00:00\n",
      "____________________________________________________________________________________________________\n",
      "Toot 147\n",
      "\n"
     ]
    },
    {
     "data": {
      "text/html": [
       "<p>Via Elodie Verweij, ja helaas nog op X, <br>Crisissfeer in het kabinet. Drie kwartier geleden is de mr geschorst, zodat de vier partijen hun fracties bij kunnen praten over de ontstane situatie. Meerdere NSC’ers dreigen op te stappen  <a href=\"https://mastodon.social/tags/kabinetscrisis\" class=\"mention hashtag\" rel=\"nofollow noopener noreferrer\" target=\"_blank\">#<span>kabinetscrisis</span></a> <a href=\"https://mastodon.social/tags/politiek\" class=\"mention hashtag\" rel=\"nofollow noopener noreferrer\" target=\"_blank\">#<span>politiek</span></a> <a href=\"https://mastodon.social/tags/nsc\" class=\"mention hashtag\" rel=\"nofollow noopener noreferrer\" target=\"_blank\">#<span>nsc</span></a> <a href=\"https://mastodon.social/tags/achahbar\" class=\"mention hashtag\" rel=\"nofollow noopener noreferrer\" target=\"_blank\">#<span>achahbar</span></a></p>"
      ],
      "text/plain": [
       "<IPython.core.display.HTML object>"
      ]
     },
     "metadata": {},
     "output_type": "display_data"
    },
    {
     "name": "stdout",
     "output_type": "stream",
     "text": [
      "Date/Time: 2024-11-15 13:49:22+00:00\n",
      "____________________________________________________________________________________________________\n",
      "Toot 148\n",
      "\n"
     ]
    },
    {
     "data": {
      "text/html": [
       "<p>Goed om de CV te lezen van Nora Achahbar,  geen lichtgewicht ofzo, veel ervaring, weet als voormalig Officier van Justitie denk ik best wat door de beugel kan en wat  niet.<br><a href=\"https://nl.m.wikipedia.org/wiki/Nora_Achahbar\" rel=\"nofollow noopener noreferrer\" translate=\"no\" target=\"_blank\"><span class=\"invisible\">https://</span><span class=\"ellipsis\">nl.m.wikipedia.org/wiki/Nora_A</span><span class=\"invisible\">chahbar</span></a><br><a href=\"https://mastodon.social/tags/politiek\" class=\"mention hashtag\" rel=\"nofollow noopener noreferrer\" target=\"_blank\">#<span>politiek</span></a> <a href=\"https://mastodon.social/tags/achahbar\" class=\"mention hashtag\" rel=\"nofollow noopener noreferrer\" target=\"_blank\">#<span>achahbar</span></a> <a href=\"https://mastodon.social/tags/kabinet\" class=\"mention hashtag\" rel=\"nofollow noopener noreferrer\" target=\"_blank\">#<span>kabinet</span></a></p>"
      ],
      "text/plain": [
       "<IPython.core.display.HTML object>"
      ]
     },
     "metadata": {},
     "output_type": "display_data"
    },
    {
     "name": "stdout",
     "output_type": "stream",
     "text": [
      "Date/Time: 2024-11-15 13:45:38+00:00\n",
      "____________________________________________________________________________________________________\n",
      "Toot 149\n",
      "\n"
     ]
    },
    {
     "data": {
      "text/html": [
       "<p>5/5 <br>En nog wat, koppenmaker van de <a href=\"https://mastodon.social/tags/NOS\" class=\"mention hashtag\" rel=\"nofollow noopener noreferrer\" target=\"_blank\">#<span>NOS</span></a>, staatssecretaris Achahbar vertrekt niet \"uit onvrede over integratiediscussie\", maar zoals verderop in het artikel staat, omdat er volgens haar racistische uitspraken zijn gedaan in de ministerraad. En niet alleen door <a href=\"https://mastodon.social/tags/PVV\" class=\"mention hashtag\" rel=\"nofollow noopener noreferrer\" target=\"_blank\">#<span>PVV</span></a> bewindslieden. </p><p><a href=\"https://nos.nl/artikel/2544589-nsc-staatssecretaris-achahbar-vertrekt-uit-onvrede-over-integratiediscussie\" rel=\"nofollow noopener noreferrer\" translate=\"no\" target=\"_blank\"><span class=\"invisible\">https://</span><span class=\"ellipsis\">nos.nl/artikel/2544589-nsc-sta</span><span class=\"invisible\">atssecretaris-achahbar-vertrekt-uit-onvrede-over-integratiediscussie</span></a><br><a href=\"https://mastodon.social/tags/NSC\" class=\"mention hashtag\" rel=\"nofollow noopener noreferrer\" target=\"_blank\">#<span>NSC</span></a> <a href=\"https://mastodon.social/tags/politiek\" class=\"mention hashtag\" rel=\"nofollow noopener noreferrer\" target=\"_blank\">#<span>politiek</span></a></p>"
      ],
      "text/plain": [
       "<IPython.core.display.HTML object>"
      ]
     },
     "metadata": {},
     "output_type": "display_data"
    },
    {
     "name": "stdout",
     "output_type": "stream",
     "text": [
      "Date/Time: 2024-11-15 13:36:27+00:00\n",
      "____________________________________________________________________________________________________\n",
      "Toot 150\n",
      "\n"
     ]
    },
    {
     "data": {
      "text/html": [
       "<p>Joh, het schijnt dat er racisten in het kabinet zitten. Wie had dat nu verwacht? 🙃 </p><p><a href=\"https://mastodon.social/tags/schoof\" class=\"mention hashtag\" rel=\"nofollow noopener noreferrer\" target=\"_blank\">#<span>schoof</span></a> <a href=\"https://mastodon.social/tags/pvv\" class=\"mention hashtag\" rel=\"nofollow noopener noreferrer\" target=\"_blank\">#<span>pvv</span></a> <a href=\"https://mastodon.social/tags/nsc\" class=\"mention hashtag\" rel=\"nofollow noopener noreferrer\" target=\"_blank\">#<span>nsc</span></a> <a href=\"https://mastodon.social/tags/bbb\" class=\"mention hashtag\" rel=\"nofollow noopener noreferrer\" target=\"_blank\">#<span>bbb</span></a> <a href=\"https://mastodon.social/tags/tk23\" class=\"mention hashtag\" rel=\"nofollow noopener noreferrer\" target=\"_blank\">#<span>tk23</span></a> <a href=\"https://mastodon.social/tags/politiek\" class=\"mention hashtag\" rel=\"nofollow noopener noreferrer\" target=\"_blank\">#<span>politiek</span></a><br><a href=\"https://nos.nl/l/2544589\" rel=\"nofollow noopener noreferrer\" translate=\"no\" target=\"_blank\"><span class=\"invisible\">https://</span><span class=\"\">nos.nl/l/2544589</span><span class=\"invisible\"></span></a></p>"
      ],
      "text/plain": [
       "<IPython.core.display.HTML object>"
      ]
     },
     "metadata": {},
     "output_type": "display_data"
    },
    {
     "name": "stdout",
     "output_type": "stream",
     "text": [
      "Date/Time: 2024-11-15 13:29:46+00:00\n",
      "____________________________________________________________________________________________________\n",
      "Toot 151\n",
      "\n"
     ]
    },
    {
     "data": {
      "text/html": [
       "<p>Je kunt als persoon best loyaal zijn aan een partij maar bij de NSC-bewindslieden kan ik me best voorstellen dat de motivatie kan ontbreken om hier verder mee door te gaan. Zeker als je buiten de politiek andere leuke dingen kunt doen. Waarom jezelf nog 3 jaar gaan zitten ergeren...<br><a href=\"https://mastodon.social/tags/NSC\" class=\"mention hashtag\" rel=\"nofollow noopener noreferrer\" target=\"_blank\">#<span>NSC</span></a> <a href=\"https://mastodon.social/tags/kabinet\" class=\"mention hashtag\" rel=\"nofollow noopener noreferrer\" target=\"_blank\">#<span>kabinet</span></a> <a href=\"https://mastodon.social/tags/politiek\" class=\"mention hashtag\" rel=\"nofollow noopener noreferrer\" target=\"_blank\">#<span>politiek</span></a> <a href=\"https://mastodon.social/tags/schoof\" class=\"mention hashtag\" rel=\"nofollow noopener noreferrer\" target=\"_blank\">#<span>schoof</span></a></p>"
      ],
      "text/plain": [
       "<IPython.core.display.HTML object>"
      ]
     },
     "metadata": {},
     "output_type": "display_data"
    },
    {
     "name": "stdout",
     "output_type": "stream",
     "text": [
      "Date/Time: 2024-11-15 13:17:58+00:00\n",
      "____________________________________________________________________________________________________\n",
      "Toot 152\n",
      "\n"
     ]
    },
    {
     "data": {
      "text/html": [
       "<p>4/4   \"Aanleiding zouden uitspraken zijn afgelopen maandag tijdens de ministerraad, die volgens Achahbar racistisch zouden zijn.\"</p><p>Ik hoop dat ze aangifte doet. </p><p><a href=\"https://www.rtl.nl/nieuws/politiek/artikel/5480639/staatssecretaris-achahbar-stapt-op-vanwege-integratiediscussie\" rel=\"nofollow noopener noreferrer\" translate=\"no\" target=\"_blank\"><span class=\"invisible\">https://www.</span><span class=\"ellipsis\">rtl.nl/nieuws/politiek/artikel</span><span class=\"invisible\">/5480639/staatssecretaris-achahbar-stapt-op-vanwege-integratiediscussie</span></a></p><p><a href=\"https://mastodon.social/tags/Achahbar\" class=\"mention hashtag\" rel=\"nofollow noopener noreferrer\" target=\"_blank\">#<span>Achahbar</span></a>  <a href=\"https://mastodon.social/tags/NSC\" class=\"mention hashtag\" rel=\"nofollow noopener noreferrer\" target=\"_blank\">#<span>NSC</span></a> <a href=\"https://mastodon.social/tags/politiek\" class=\"mention hashtag\" rel=\"nofollow noopener noreferrer\" target=\"_blank\">#<span>politiek</span></a></p>"
      ],
      "text/plain": [
       "<IPython.core.display.HTML object>"
      ]
     },
     "metadata": {},
     "output_type": "display_data"
    },
    {
     "name": "stdout",
     "output_type": "stream",
     "text": [
      "Date/Time: 2024-11-15 13:04:25+00:00\n",
      "____________________________________________________________________________________________________\n",
      "Toot 153\n",
      "\n"
     ]
    },
    {
     "data": {
      "text/html": [
       "<p>Ik gok dat Wilders niets op X gaat delen over het vertrek van <a href=\"https://mastodon.social/tags/Achahbar\" class=\"mention hashtag\" rel=\"nofollow noopener noreferrer\" target=\"_blank\">#<span>Achahbar</span></a>, behalve als hij een laatste duwtje wil geven richting de val van dit kabinet.<br><a href=\"https://mastodon.social/tags/politiek\" class=\"mention hashtag\" rel=\"nofollow noopener noreferrer\" target=\"_blank\">#<span>politiek</span></a> <a href=\"https://mastodon.social/tags/kabinet\" class=\"mention hashtag\" rel=\"nofollow noopener noreferrer\" target=\"_blank\">#<span>kabinet</span></a> <a href=\"https://mastodon.social/tags/schoof\" class=\"mention hashtag\" rel=\"nofollow noopener noreferrer\" target=\"_blank\">#<span>schoof</span></a></p>"
      ],
      "text/plain": [
       "<IPython.core.display.HTML object>"
      ]
     },
     "metadata": {},
     "output_type": "display_data"
    },
    {
     "name": "stdout",
     "output_type": "stream",
     "text": [
      "Date/Time: 2024-11-15 12:38:20+00:00\n",
      "____________________________________________________________________________________________________\n",
      "Toot 154\n",
      "\n"
     ]
    },
    {
     "data": {
      "text/html": [
       "<p>One down, more to come ... <br>(na <a href=\"https://mastodon.social/tags/Idsinga\" class=\"mention hashtag\" rel=\"nofollow noopener noreferrer\" target=\"_blank\">#<span>Idsinga</span></a>) </p><p>\"Afgelopen maandag, tijdens de ministerraad, zou het hoog opgelopen zijn, en zouden naar de mening van Achahbar racistische uitspraken zijn gedaan. Achahbar zou toen al hebben aangegeven als bewindspersoon bezwaren te hebben tegen bepaald woordgebruik door haar collega's.\"</p><p>Gaat lekker in dit extreem-rechts kabinet, onder leiding van <a href=\"https://mastodon.social/tags/DickSchoof\" class=\"mention hashtag\" rel=\"nofollow noopener noreferrer\" target=\"_blank\">#<span>DickSchoof</span></a> aka <a href=\"https://mastodon.social/tags/Wilders\" class=\"mention hashtag\" rel=\"nofollow noopener noreferrer\" target=\"_blank\">#<span>Wilders</span></a>, de 'premier van iedereen'. Fuck off.</p><p><a href=\"https://nos.nl/artikel/2544589-nsc-staatssecretaris-achahbar-vertrekt-uit-onvrede-over-integratiediscussie\" rel=\"nofollow noopener noreferrer\" translate=\"no\" target=\"_blank\"><span class=\"invisible\">https://</span><span class=\"ellipsis\">nos.nl/artikel/2544589-nsc-sta</span><span class=\"invisible\">atssecretaris-achahbar-vertrekt-uit-onvrede-over-integratiediscussie</span></a></p><p><a href=\"https://mastodon.social/tags/NSC\" class=\"mention hashtag\" rel=\"nofollow noopener noreferrer\" target=\"_blank\">#<span>NSC</span></a> <a href=\"https://mastodon.social/tags/politiek\" class=\"mention hashtag\" rel=\"nofollow noopener noreferrer\" target=\"_blank\">#<span>politiek</span></a></p>"
      ],
      "text/plain": [
       "<IPython.core.display.HTML object>"
      ]
     },
     "metadata": {},
     "output_type": "display_data"
    },
    {
     "name": "stdout",
     "output_type": "stream",
     "text": [
      "Date/Time: 2024-11-15 12:30:27+00:00\n",
      "____________________________________________________________________________________________________\n",
      "Toot 155\n",
      "\n"
     ]
    },
    {
     "data": {
      "text/html": [
       "<p>Nog meer onrust in het kabinet, Staatssecretaris vertrekt, waar we zitten we naar te kijken vraag ik me af en toe af.... <br><a href=\"https://nos.nl/artikel/2544589-nsc-staatssecretaris-achahbar-vertrekt-uit-onvrede-over-integratiediscussie\" rel=\"nofollow noopener noreferrer\" translate=\"no\" target=\"_blank\"><span class=\"invisible\">https://</span><span class=\"ellipsis\">nos.nl/artikel/2544589-nsc-sta</span><span class=\"invisible\">atssecretaris-achahbar-vertrekt-uit-onvrede-over-integratiediscussie</span></a><br><a href=\"https://mastodon.social/tags/NSC\" class=\"mention hashtag\" rel=\"nofollow noopener noreferrer\" target=\"_blank\">#<span>NSC</span></a> <a href=\"https://mastodon.social/tags/Achahbar\" class=\"mention hashtag\" rel=\"nofollow noopener noreferrer\" target=\"_blank\">#<span>Achahbar</span></a> <a href=\"https://mastodon.social/tags/politiek\" class=\"mention hashtag\" rel=\"nofollow noopener noreferrer\" target=\"_blank\">#<span>politiek</span></a> <a href=\"https://mastodon.social/tags/schoof\" class=\"mention hashtag\" rel=\"nofollow noopener noreferrer\" target=\"_blank\">#<span>schoof</span></a> <a href=\"https://mastodon.social/tags/kabinet\" class=\"mention hashtag\" rel=\"nofollow noopener noreferrer\" target=\"_blank\">#<span>kabinet</span></a></p>"
      ],
      "text/plain": [
       "<IPython.core.display.HTML object>"
      ]
     },
     "metadata": {},
     "output_type": "display_data"
    },
    {
     "name": "stdout",
     "output_type": "stream",
     "text": [
      "Date/Time: 2024-11-15 12:23:52+00:00\n",
      "____________________________________________________________________________________________________\n",
      "Toot 156\n",
      "\n"
     ]
    },
    {
     "data": {
      "text/html": [
       "<p>NSC ziet mogelijkheid voor herstel koppeling groei en ontwikkelingshulp | de <a href=\"https://mastodon.nl/tags/Volkskrant\" class=\"mention hashtag\" rel=\"tag\">#<span>Volkskrant</span></a><br /><a href=\"https://www.volkskrant.nl/politiek/nsc-ziet-mogelijkheid-voor-herstel-koppeling-groei-en-ontwikkelingshulp~bbf318b5/\" target=\"_blank\" rel=\"nofollow noopener noreferrer\" translate=\"no\"><span class=\"invisible\">https://www.</span><span class=\"ellipsis\">volkskrant.nl/politiek/nsc-zie</span><span class=\"invisible\">t-mogelijkheid-voor-herstel-koppeling-groei-en-ontwikkelingshulp~bbf318b5/</span></a></p><p>Ach ... Kenden jullie die mop van een kabinet dat ontwikkelingshulp eigenlijk maar gewoon wilde afschaffen?</p><p>😇😇😇</p><p><a href=\"https://mastodon.nl/tags/Politiek\" class=\"mention hashtag\" rel=\"tag\">#<span>Politiek</span></a> <a href=\"https://mastodon.nl/tags/dievier\" class=\"mention hashtag\" rel=\"tag\">#<span>dievier</span></a> <a href=\"https://mastodon.nl/tags/Ontwikkelingshulp\" class=\"mention hashtag\" rel=\"tag\">#<span>Ontwikkelingshulp</span></a></p>"
      ],
      "text/plain": [
       "<IPython.core.display.HTML object>"
      ]
     },
     "metadata": {},
     "output_type": "display_data"
    },
    {
     "name": "stdout",
     "output_type": "stream",
     "text": [
      "Date/Time: 2024-11-15 05:54:08.512000+00:00\n",
      "____________________________________________________________________________________________________\n",
      "Toot 157\n",
      "\n"
     ]
    },
    {
     "data": {
      "text/html": [
       "<p>Het lijkt een strategie te zijn. Het ergste scenario wordt gecreëerd, iets dat eigenlijk niet haalbaar is, en daarna doen alsof ze concessies doen om uiteindelijk uit te komen bij wat ze eigenlijk van plan waren.  </p><p>Hetzelfde gebeurde met de noodwet: die is van tafel, en nu moeten we tevreden zijn want de noodwet is er niet. Wel zijn er strengere migratiemaatregelen ingevoerd.</p><p> <a href=\"https://chaos.social/tags/politiek\" class=\"mention hashtag\" rel=\"nofollow noopener noreferrer\" target=\"_blank\">#<span>politiek</span></a> <a href=\"https://chaos.social/tags/strategie\" class=\"mention hashtag\" rel=\"nofollow noopener noreferrer\" target=\"_blank\">#<span>strategie</span></a> <a href=\"https://chaos.social/tags/bangmakerij\" class=\"mention hashtag\" rel=\"nofollow noopener noreferrer\" target=\"_blank\">#<span>bangmakerij</span></a></p><p>2/2</p>"
      ],
      "text/plain": [
       "<IPython.core.display.HTML object>"
      ]
     },
     "metadata": {},
     "output_type": "display_data"
    },
    {
     "name": "stdout",
     "output_type": "stream",
     "text": [
      "Date/Time: 2024-11-15 05:31:12+00:00\n",
      "____________________________________________________________________________________________________\n",
      "Toot 158\n",
      "\n"
     ]
    },
    {
     "data": {
      "text/html": [
       "<p>Geen btw-verhoging op boeken?!</p><p>\"We zijn blij en opgelucht dat na al die maanden onzekerheid nu de dramatische btw-verhoging op boeken van tafel gaat\"</p><p><a href=\"https://nos.nl/artikel/2544523-cultuur-en-sportorganisaties-opgelucht-maar-alert-na-schrappen-btw-verhoging\" rel=\"nofollow noopener noreferrer\" translate=\"no\" target=\"_blank\"><span class=\"invisible\">https://</span><span class=\"ellipsis\">nos.nl/artikel/2544523-cultuur</span><span class=\"invisible\">-en-sportorganisaties-opgelucht-maar-alert-na-schrappen-btw-verhoging</span></a></p><p>Ik voel me een beetje in de war... Gisteren las ik nog andere berichten. </p><p> <a href=\"https://chaos.social/tags/btw\" class=\"mention hashtag\" rel=\"nofollow noopener noreferrer\" target=\"_blank\">#<span>btw</span></a> <a href=\"https://chaos.social/tags/cultuur\" class=\"mention hashtag\" rel=\"nofollow noopener noreferrer\" target=\"_blank\">#<span>cultuur</span></a> <a href=\"https://chaos.social/tags/sport\" class=\"mention hashtag\" rel=\"nofollow noopener noreferrer\" target=\"_blank\">#<span>sport</span></a> <a href=\"https://chaos.social/tags/boeken\" class=\"mention hashtag\" rel=\"nofollow noopener noreferrer\" target=\"_blank\">#<span>boeken</span></a> <a href=\"https://chaos.social/tags/politiek\" class=\"mention hashtag\" rel=\"nofollow noopener noreferrer\" target=\"_blank\">#<span>politiek</span></a> </p><p>1/2</p>"
      ],
      "text/plain": [
       "<IPython.core.display.HTML object>"
      ]
     },
     "metadata": {},
     "output_type": "display_data"
    },
    {
     "name": "stdout",
     "output_type": "stream",
     "text": [
      "Date/Time: 2024-11-15 05:30:45+00:00\n",
      "____________________________________________________________________________________________________\n",
      "Toot 159\n",
      "\n"
     ]
    },
    {
     "data": {
      "text/html": [
       "<p>2/2   (zie ook vorige post, m.b.t. tweets van Nadia Bouras)<br>“Ik zeg niet dat ze antisemitisch zijn”. Vlak nadat hij precies dat gezegd heeft. Ondertussen zijn hij en soortgenoten al tijden het idee warm aan het maken dat er zuiveringen moeten komen bij instellingen als universiteiten en ministeries. Zie ook Amerika, <a href=\"https://mastodon.social/tags/Trump\" class=\"mention hashtag\" rel=\"nofollow noopener noreferrer\" target=\"_blank\">#<span>Trump</span></a><br>Overigens kun je hier melding maken,  ook anoniem:<br><a href=\"https://discriminatie.nl/\" rel=\"nofollow noopener noreferrer\" translate=\"no\" target=\"_blank\"><span class=\"invisible\">https://</span><span class=\"\">discriminatie.nl/</span><span class=\"invisible\"></span></a><br><a href=\"https://mastodon.social/tags/Yesilgoz\" class=\"mention hashtag\" rel=\"nofollow noopener noreferrer\" target=\"_blank\">#<span>Yesilgoz</span></a> <a href=\"https://mastodon.social/tags/wierdduk\" class=\"mention hashtag\" rel=\"nofollow noopener noreferrer\" target=\"_blank\">#<span>wierdduk</span></a> <a href=\"https://mastodon.social/tags/nadiabouras\" class=\"mention hashtag\" rel=\"nofollow noopener noreferrer\" target=\"_blank\">#<span>nadiabouras</span></a> <br><a href=\"https://mastodon.social/tags/politiek\" class=\"mention hashtag\" rel=\"nofollow noopener noreferrer\" target=\"_blank\">#<span>politiek</span></a> <a href=\"https://mastodon.social/tags/racisme\" class=\"mention hashtag\" rel=\"nofollow noopener noreferrer\" target=\"_blank\">#<span>racisme</span></a> <a href=\"https://mastodon.social/tags/antisemitisme\" class=\"mention hashtag\" rel=\"nofollow noopener noreferrer\" target=\"_blank\">#<span>antisemitisme</span></a> <a href=\"https://mastodon.social/tags/VI\" class=\"mention hashtag\" rel=\"nofollow noopener noreferrer\" target=\"_blank\">#<span>VI</span></a> <a href=\"https://mastodon.social/tags/media\" class=\"mention hashtag\" rel=\"nofollow noopener noreferrer\" target=\"_blank\">#<span>media</span></a> <a href=\"https://mastodon.social/tags/racisme\" class=\"mention hashtag\" rel=\"nofollow noopener noreferrer\" target=\"_blank\">#<span>racisme</span></a> <a href=\"https://mastodon.social/tags/islamofobie\" class=\"mention hashtag\" rel=\"nofollow noopener noreferrer\" target=\"_blank\">#<span>islamofobie</span></a></p>"
      ],
      "text/plain": [
       "<IPython.core.display.HTML object>"
      ]
     },
     "metadata": {},
     "output_type": "display_data"
    },
    {
     "name": "stdout",
     "output_type": "stream",
     "text": [
      "Date/Time: 2024-11-15 02:34:23+00:00\n",
      "____________________________________________________________________________________________________\n",
      "Toot 160\n",
      "\n"
     ]
    },
    {
     "data": {
      "text/html": [
       "<p>1/2 </p><p><a href=\"https://mastodon.social/tags/politiek\" class=\"mention hashtag\" rel=\"nofollow noopener noreferrer\" target=\"_blank\">#<span>politiek</span></a> <a href=\"https://mastodon.social/tags/racisme\" class=\"mention hashtag\" rel=\"nofollow noopener noreferrer\" target=\"_blank\">#<span>racisme</span></a> <a href=\"https://mastodon.social/tags/antisemitisme\" class=\"mention hashtag\" rel=\"nofollow noopener noreferrer\" target=\"_blank\">#<span>antisemitisme</span></a> <a href=\"https://mastodon.social/tags/Yesligoz\" class=\"mention hashtag\" rel=\"nofollow noopener noreferrer\" target=\"_blank\">#<span>Yesligoz</span></a> <a href=\"https://mastodon.social/tags/Duk\" class=\"mention hashtag\" rel=\"nofollow noopener noreferrer\" target=\"_blank\">#<span>Duk</span></a> <a href=\"https://mastodon.social/tags/VI\" class=\"mention hashtag\" rel=\"nofollow noopener noreferrer\" target=\"_blank\">#<span>VI</span></a> <a href=\"https://mastodon.social/tags/media\" class=\"mention hashtag\" rel=\"nofollow noopener noreferrer\" target=\"_blank\">#<span>media</span></a> </p><p>🎯 👇 ❗</p><p>[betreffend videofragment waarin <a href=\"https://mastodon.social/tags/wierdduk\" class=\"mention hashtag\" rel=\"nofollow noopener noreferrer\" target=\"_blank\">#<span>wierdduk</span></a> op <a href=\"https://mastodon.social/tags/yesilgoz\" class=\"mention hashtag\" rel=\"nofollow noopener noreferrer\" target=\"_blank\">#<span>yesilgoz</span></a> reageert in de volgende post]</p>"
      ],
      "text/plain": [
       "<IPython.core.display.HTML object>"
      ]
     },
     "metadata": {},
     "output_type": "display_data"
    },
    {
     "name": "stdout",
     "output_type": "stream",
     "text": [
      "Date/Time: 2024-11-15 02:04:12+00:00\n",
      "____________________________________________________________________________________________________\n",
      "Toot 161\n",
      "\n"
     ]
    },
    {
     "data": {
      "text/html": [
       "<p>1/2 </p><p><a href=\"https://mastodon.social/tags/politiek\" class=\"mention hashtag\" rel=\"nofollow noopener noreferrer\" target=\"_blank\">#<span>politiek</span></a> <a href=\"https://mastodon.social/tags/racisme\" class=\"mention hashtag\" rel=\"nofollow noopener noreferrer\" target=\"_blank\">#<span>racisme</span></a> <a href=\"https://mastodon.social/tags/antisemitisme\" class=\"mention hashtag\" rel=\"nofollow noopener noreferrer\" target=\"_blank\">#<span>antisemitisme</span></a> <a href=\"https://mastodon.social/tags/Yesligoz\" class=\"mention hashtag\" rel=\"nofollow noopener noreferrer\" target=\"_blank\">#<span>Yesligoz</span></a> <a href=\"https://mastodon.social/tags/Duk\" class=\"mention hashtag\" rel=\"nofollow noopener noreferrer\" target=\"_blank\">#<span>Duk</span></a> <a href=\"https://mastodon.social/tags/VI\" class=\"mention hashtag\" rel=\"nofollow noopener noreferrer\" target=\"_blank\">#<span>VI</span></a> <a href=\"https://mastodon.social/tags/media\" class=\"mention hashtag\" rel=\"nofollow noopener noreferrer\" target=\"_blank\">#<span>media</span></a> </p><p>🎯 👇 ❗</p><p>[betreffend videofragment waarin <a href=\"https://mastodon.social/tags/wierdduk\" class=\"mention hashtag\" rel=\"nofollow noopener noreferrer\" target=\"_blank\">#<span>wierdduk</span></a> op <a href=\"https://mastodon.social/tags/yesilgoz\" class=\"mention hashtag\" rel=\"nofollow noopener noreferrer\" target=\"_blank\">#<span>yesilgoz</span></a> reageert in de volgende post]</p>"
      ],
      "text/plain": [
       "<IPython.core.display.HTML object>"
      ]
     },
     "metadata": {},
     "output_type": "display_data"
    },
    {
     "name": "stdout",
     "output_type": "stream",
     "text": [
      "Date/Time: 2024-11-15 02:04:12+00:00\n",
      "____________________________________________________________________________________________________\n",
      "Toot 162\n",
      "\n"
     ]
    },
    {
     "data": {
      "text/html": [
       "<p>⏫ ⏫  3/3 <br><a href=\"https://mastodon.social/tags/RamseyNasr\" class=\"mention hashtag\" rel=\"nofollow noopener noreferrer\" target=\"_blank\">#<span>RamseyNasr</span></a> plaatste een gesproken column op zijn socials over de politieke reacties op het geweld in Amsterdam. \"Ik vind het verschrikkelijk hoe politici in plaats van proberen de orde en rust een beetje te herstellen, eigenlijk niet capabel zijn om dit land te leiden.\"</p><p>Hadden we maar mensen zoals hij in de politiek, die zo welbesproken en helder vertellen wat het probleem is in Nederland.<br><a href=\"https://mastodon.social/tags/Amsterdam\" class=\"mention hashtag\" rel=\"nofollow noopener noreferrer\" target=\"_blank\">#<span>Amsterdam</span></a> <a href=\"https://mastodon.social/tags/Maccabi\" class=\"mention hashtag\" rel=\"nofollow noopener noreferrer\" target=\"_blank\">#<span>Maccabi</span></a> <a href=\"https://mastodon.social/tags/Israel\" class=\"mention hashtag\" rel=\"nofollow noopener noreferrer\" target=\"_blank\">#<span>Israel</span></a> <a href=\"https://mastodon.social/tags/IDF\" class=\"mention hashtag\" rel=\"nofollow noopener noreferrer\" target=\"_blank\">#<span>IDF</span></a> <a href=\"https://mastodon.social/tags/politiek\" class=\"mention hashtag\" rel=\"nofollow noopener noreferrer\" target=\"_blank\">#<span>politiek</span></a> <a href=\"https://mastodon.social/tags/Schoof\" class=\"mention hashtag\" rel=\"nofollow noopener noreferrer\" target=\"_blank\">#<span>Schoof</span></a> <a href=\"https://mastodon.social/tags/Wilders\" class=\"mention hashtag\" rel=\"nofollow noopener noreferrer\" target=\"_blank\">#<span>Wilders</span></a> <a href=\"https://mastodon.social/tags/islamophobie\" class=\"mention hashtag\" rel=\"nofollow noopener noreferrer\" target=\"_blank\">#<span>islamophobie</span></a> <a href=\"https://mastodon.social/tags/racisme\" class=\"mention hashtag\" rel=\"nofollow noopener noreferrer\" target=\"_blank\">#<span>racisme</span></a> <a href=\"https://mastodon.social/tags/Palestine\" class=\"mention hashtag\" rel=\"nofollow noopener noreferrer\" target=\"_blank\">#<span>Palestine</span></a></p>"
      ],
      "text/plain": [
       "<IPython.core.display.HTML object>"
      ]
     },
     "metadata": {},
     "output_type": "display_data"
    },
    {
     "name": "stdout",
     "output_type": "stream",
     "text": [
      "Date/Time: 2024-11-15 00:48:50+00:00\n",
      "____________________________________________________________________________________________________\n",
      "Toot 163\n",
      "\n"
     ]
    },
    {
     "data": {
      "text/html": [
       "<p>Moskeeën doen aangifte tegen staatssecretaris Nobel om uitspraken</p><p><a href=\"https://www.trouw.nl/binnenland/liveblog-rellen-amsterdam-moskeeen-doen-aangifte-tegen-staatssecretaris-nobel-om-uitspraken~b57cd0f0/?moment_id=e8990909-90c9-4de6-831b-54f5b1969021\" rel=\"nofollow noopener noreferrer\" translate=\"no\" target=\"_blank\"><span class=\"invisible\">https://www.</span><span class=\"ellipsis\">trouw.nl/binnenland/liveblog-r</span><span class=\"invisible\">ellen-amsterdam-moskeeen-doen-aangifte-tegen-staatssecretaris-nobel-om-uitspraken~b57cd0f0/?moment_id=e8990909-90c9-4de6-831b-54f5b1969021</span></a>  <a href=\"https://mastodon.social/tags/JurgenNobel\" class=\"mention hashtag\" rel=\"nofollow noopener noreferrer\" target=\"_blank\">#<span>JurgenNobel</span></a> <a href=\"https://mastodon.social/tags/VVD\" class=\"mention hashtag\" rel=\"nofollow noopener noreferrer\" target=\"_blank\">#<span>VVD</span></a></p><p>Het <a href=\"https://mastodon.social/tags/OM\" class=\"mention hashtag\" rel=\"nofollow noopener noreferrer\" target=\"_blank\">#<span>OM</span></a> zal de aangifte vast wel weer seponeren, net als bij <a href=\"https://mastodon.social/tags/MonaKeijzer\" class=\"mention hashtag\" rel=\"nofollow noopener noreferrer\" target=\"_blank\">#<span>MonaKeijzer</span></a> <a href=\"https://mastodon.social/tags/BBB\" class=\"mention hashtag\" rel=\"nofollow noopener noreferrer\" target=\"_blank\">#<span>BBB</span></a> </p><p>Ze weten precies hoe ver ze kunnen gaan, met hun strafbare uitlatingen.</p><p><a href=\"https://www.om.nl/actueel/nieuws/2024/07/12/om-seponeert-aangiftes-van-groepsbelediging-tegen-mona-keijzer\" rel=\"nofollow noopener noreferrer\" translate=\"no\" target=\"_blank\"><span class=\"invisible\">https://www.</span><span class=\"ellipsis\">om.nl/actueel/nieuws/2024/07/1</span><span class=\"invisible\">2/om-seponeert-aangiftes-van-groepsbelediging-tegen-mona-keijzer</span></a> </p><p><a href=\"https://mastodon.social/tags/islamophobie\" class=\"mention hashtag\" rel=\"nofollow noopener noreferrer\" target=\"_blank\">#<span>islamophobie</span></a> <a href=\"https://mastodon.social/tags/politiek\" class=\"mention hashtag\" rel=\"nofollow noopener noreferrer\" target=\"_blank\">#<span>politiek</span></a></p>"
      ],
      "text/plain": [
       "<IPython.core.display.HTML object>"
      ]
     },
     "metadata": {},
     "output_type": "display_data"
    },
    {
     "name": "stdout",
     "output_type": "stream",
     "text": [
      "Date/Time: 2024-11-15 00:26:43+00:00\n",
      "____________________________________________________________________________________________________\n",
      "Toot 164\n",
      "\n"
     ]
    },
    {
     "data": {
      "text/html": [
       "<p>3/3   Zo. Steek die ook maar in je zak, <a href=\"https://mastodon.social/tags/vanderPlas\" class=\"mention hashtag\" rel=\"nofollow noopener noreferrer\" target=\"_blank\">#<span>vanderPlas</span></a>. </p><p><a href=\"https://nos.nl/liveblog/2544203-nog-acht-mensen-vast-na-rellen-verdachte-uit-opsporing-verzocht-meldt-zich#UPDATE-container-81989682\" rel=\"nofollow noopener noreferrer\" translate=\"no\" target=\"_blank\"><span class=\"invisible\">https://</span><span class=\"ellipsis\">nos.nl/liveblog/2544203-nog-ac</span><span class=\"invisible\">ht-mensen-vast-na-rellen-verdachte-uit-opsporing-verzocht-meldt-zich#UPDATE-container-81989682</span></a> <a href=\"https://mastodon.social/tags/debat\" class=\"mention hashtag\" rel=\"nofollow noopener noreferrer\" target=\"_blank\">#<span>debat</span></a> <a href=\"https://mastodon.social/tags/censuur\" class=\"mention hashtag\" rel=\"nofollow noopener noreferrer\" target=\"_blank\">#<span>censuur</span></a> <a href=\"https://mastodon.social/tags/BBB\" class=\"mention hashtag\" rel=\"nofollow noopener noreferrer\" target=\"_blank\">#<span>BBB</span></a> <a href=\"https://mastodon.social/tags/politiek\" class=\"mention hashtag\" rel=\"nofollow noopener noreferrer\" target=\"_blank\">#<span>politiek</span></a></p>"
      ],
      "text/plain": [
       "<IPython.core.display.HTML object>"
      ]
     },
     "metadata": {},
     "output_type": "display_data"
    },
    {
     "name": "stdout",
     "output_type": "stream",
     "text": [
      "Date/Time: 2024-11-14 23:06:17+00:00\n",
      "____________________________________________________________________________________________________\n",
      "Toot 165\n",
      "\n"
     ]
    },
    {
     "data": {
      "text/html": [
       "<p>Geert Wilders, the Netherlands’ most powerful politician, will visit Israeli leaders who openly want to ethnically cleanse Gaza and annex the West Bank.</p><p>This utter contempt for international law and the humanity of Palestinians? </p><p>A shrug from our governing coalition, which includes Wilders’ party.</p><p><a href=\"https://www.nrc.nl/nieuws/2024/11/14/wilders-plant-bezoek-aan-israel-op-uitnodiging-van-extremistische-kolonistenleider-a4873181\" rel=\"nofollow noopener noreferrer\" translate=\"no\" target=\"_blank\"><span class=\"invisible\">https://www.</span><span class=\"ellipsis\">nrc.nl/nieuws/2024/11/14/wilde</span><span class=\"invisible\">rs-plant-bezoek-aan-israel-op-uitnodiging-van-extremistische-kolonistenleider-a4873181</span></a></p><p><a href=\"https://eupolicy.social/tags/Israel\" class=\"mention hashtag\" rel=\"nofollow noopener noreferrer\" target=\"_blank\">#<span>Israel</span></a> <a href=\"https://eupolicy.social/tags/Palestine\" class=\"mention hashtag\" rel=\"nofollow noopener noreferrer\" target=\"_blank\">#<span>Palestine</span></a> <a href=\"https://eupolicy.social/tags/Gaza\" class=\"mention hashtag\" rel=\"nofollow noopener noreferrer\" target=\"_blank\">#<span>Gaza</span></a> <a href=\"https://eupolicy.social/tags/WestBank\" class=\"mention hashtag\" rel=\"nofollow noopener noreferrer\" target=\"_blank\">#<span>WestBank</span></a> <a href=\"https://eupolicy.social/tags/FarRight\" class=\"mention hashtag\" rel=\"nofollow noopener noreferrer\" target=\"_blank\">#<span>FarRight</span></a> <a href=\"https://eupolicy.social/tags/Wilders\" class=\"mention hashtag\" rel=\"nofollow noopener noreferrer\" target=\"_blank\">#<span>Wilders</span></a> <a href=\"https://eupolicy.social/tags/Nederland\" class=\"mention hashtag\" rel=\"nofollow noopener noreferrer\" target=\"_blank\">#<span>Nederland</span></a> <a href=\"https://eupolicy.social/tags/Netherlands\" class=\"mention hashtag\" rel=\"nofollow noopener noreferrer\" target=\"_blank\">#<span>Netherlands</span></a> <a href=\"https://eupolicy.social/tags/Politiek\" class=\"mention hashtag\" rel=\"nofollow noopener noreferrer\" target=\"_blank\">#<span>Politiek</span></a> <a href=\"https://eupolicy.social/tags/DieVier\" class=\"mention hashtag\" rel=\"nofollow noopener noreferrer\" target=\"_blank\">#<span>DieVier</span></a></p>"
      ],
      "text/plain": [
       "<IPython.core.display.HTML object>"
      ]
     },
     "metadata": {},
     "output_type": "display_data"
    },
    {
     "name": "stdout",
     "output_type": "stream",
     "text": [
      "Date/Time: 2024-11-14 21:25:43+00:00\n",
      "____________________________________________________________________________________________________\n",
      "Toot 166\n",
      "\n"
     ]
    },
    {
     "data": {
      "text/html": [
       "<p><span class=\"h-card\" translate=\"no\"><a href=\"https://mastodon.nl/@henkdeligt\" class=\"u-url mention\">@<span>henkdeligt</span></a></span> wat een soap ....</p><p>In een soapserie zou het script afgewezen worden: te ongeloofwaardig.</p><p><a href=\"https://mastodon.nl/tags/Politiek\" class=\"mention hashtag\" rel=\"tag\">#<span>Politiek</span></a> <a href=\"https://mastodon.nl/tags/BTW\" class=\"mention hashtag\" rel=\"tag\">#<span>BTW</span></a></p>"
      ],
      "text/plain": [
       "<IPython.core.display.HTML object>"
      ]
     },
     "metadata": {},
     "output_type": "display_data"
    },
    {
     "name": "stdout",
     "output_type": "stream",
     "text": [
      "Date/Time: 2024-11-14 14:51:03.962000+00:00\n",
      "____________________________________________________________________________________________________\n",
      "Toot 167\n",
      "\n"
     ]
    },
    {
     "data": {
      "text/html": [
       "<p>Techneut Jan Post (63) kan bijna alles repareren, maar dat mag hij niet | <a href=\"https://mastodon.nl/tags/Trouw\" class=\"mention hashtag\" rel=\"tag\">#<span>Trouw</span></a><br /><a href=\"https://www.trouw.nl/duurzaamheid-economie/techneut-jan-post-63-kan-bijna-alles-repareren-maar-dat-mag-hij-niet~b2fcf4f2/\" target=\"_blank\" rel=\"nofollow noopener noreferrer\" translate=\"no\"><span class=\"invisible\">https://www.</span><span class=\"ellipsis\">trouw.nl/duurzaamheid-economie</span><span class=\"invisible\">/techneut-jan-post-63-kan-bijna-alles-repareren-maar-dat-mag-hij-niet~b2fcf4f2/</span></a></p><p>Toen bekend werd dat dit zo desastreus uitpakte voor het duurzaam hergebruiken van onderdelen hebben overheid en politiek natuurlijk versneld maatregelen getroffen om er voor te zorgen dat de afvalberg niet onnodig nog groter wordt.</p><p>🙈🙈🙈<br />Archive: <a href=\"https://archive.ph/2a1UW\" target=\"_blank\" rel=\"nofollow noopener noreferrer\" translate=\"no\"><span class=\"invisible\">https://</span><span class=\"\">archive.ph/2a1UW</span><span class=\"invisible\"></span></a></p><p><a href=\"https://mastodon.nl/tags/Politiek\" class=\"mention hashtag\" rel=\"tag\">#<span>Politiek</span></a> <a href=\"https://mastodon.nl/tags/Recycling\" class=\"mention hashtag\" rel=\"tag\">#<span>Recycling</span></a> <a href=\"https://mastodon.nl/tags/Afval\" class=\"mention hashtag\" rel=\"tag\">#<span>Afval</span></a></p>"
      ],
      "text/plain": [
       "<IPython.core.display.HTML object>"
      ]
     },
     "metadata": {},
     "output_type": "display_data"
    },
    {
     "name": "stdout",
     "output_type": "stream",
     "text": [
      "Date/Time: 2024-11-14 04:53:42.952000+00:00\n",
      "____________________________________________________________________________________________________\n",
      "Toot 168\n",
      "\n"
     ]
    },
    {
     "data": {
      "text/html": [
       "<p>Wilders en Yesilgöz vinden mijn opvatting, dat Israel misdaden tegen de menselijkheid(*) pleegt, zogenaamd \"antisemitisch\". </p><p>Dat hebben ze me honderd keer uitgelegd.  </p><p>Kan straks mijn Nederlandersschap worden afgepakt wegens dit \"anti-semitisme\", gedeeld door elke mensenrechtenorganisatie op de planeet?</p><p>(*) ja ook genocide zoals gedefinieerd in het genocideverdrag, maar over MtdM twijfelt echt niemand, ook NL politici niet. </p><p><a href=\"https://eupolicy.social/tags/DieVier\" class=\"mention hashtag\" rel=\"nofollow noopener noreferrer\" target=\"_blank\">#<span>DieVier</span></a> <a href=\"https://eupolicy.social/tags/Nederland\" class=\"mention hashtag\" rel=\"nofollow noopener noreferrer\" target=\"_blank\">#<span>Nederland</span></a> <a href=\"https://eupolicy.social/tags/Politiek\" class=\"mention hashtag\" rel=\"nofollow noopener noreferrer\" target=\"_blank\">#<span>Politiek</span></a> <a href=\"https://eupolicy.social/tags/Wilders\" class=\"mention hashtag\" rel=\"nofollow noopener noreferrer\" target=\"_blank\">#<span>Wilders</span></a> <a href=\"https://eupolicy.social/tags/Schoof\" class=\"mention hashtag\" rel=\"nofollow noopener noreferrer\" target=\"_blank\">#<span>Schoof</span></a> <a href=\"https://eupolicy.social/tags/ExtreemRechts\" class=\"mention hashtag\" rel=\"nofollow noopener noreferrer\" target=\"_blank\">#<span>ExtreemRechts</span></a></p>"
      ],
      "text/plain": [
       "<IPython.core.display.HTML object>"
      ]
     },
     "metadata": {},
     "output_type": "display_data"
    },
    {
     "name": "stdout",
     "output_type": "stream",
     "text": [
      "Date/Time: 2024-11-13 23:06:17+00:00\n",
      "____________________________________________________________________________________________________\n",
      "Toot 169\n",
      "\n"
     ]
    },
    {
     "data": {
      "text/html": [
       "<p>De <a href=\"https://mastodon.nl/tags/PvdD\" class=\"mention hashtag\" rel=\"tag\">#<span>PvdD</span></a> en <a href=\"https://mastodon.nl/tags/GroenLinksPvdA\" class=\"mention hashtag\" rel=\"tag\">#<span>GroenLinksPvdA</span></a> wijzen <a href=\"https://mastodon.nl/tags/Wilders\" class=\"mention hashtag\" rel=\"tag\">#<span>Wilders</span></a> erop dat zijn vriend <a href=\"https://mastodon.nl/tags/Orban\" class=\"mention hashtag\" rel=\"tag\">#<span>Orban</span></a> ook een antisemiet is. Sterk van mijn partijen! <a href=\"https://mastodon.nl/tags/politiek\" class=\"mention hashtag\" rel=\"tag\">#<span>politiek</span></a> <a href=\"https://mastodon.nl/tags/debat\" class=\"mention hashtag\" rel=\"tag\">#<span>debat</span></a></p>"
      ],
      "text/plain": [
       "<IPython.core.display.HTML object>"
      ]
     },
     "metadata": {},
     "output_type": "display_data"
    },
    {
     "name": "stdout",
     "output_type": "stream",
     "text": [
      "Date/Time: 2024-11-13 19:26:08.228000+00:00\n",
      "____________________________________________________________________________________________________\n",
      "Toot 170\n",
      "\n"
     ]
    },
    {
     "data": {
      "text/html": [
       "<p>Meer kamerleden moeten de introductiecursus staatsrecht gaan herhalen, ze gaan niet over Amsterdam, dat is zogenaamde driehoek, de tekorten bij de politie, daar kunnen we de oa VVD op aanspreken lijkt me gezien hun constante aanwezigheid in afgelopen kabinetten.<br><a href=\"https://mastodon.social/tags/politiek\" class=\"mention hashtag\" rel=\"nofollow noopener noreferrer\" target=\"_blank\">#<span>politiek</span></a> <a href=\"https://mastodon.social/tags/vvd\" class=\"mention hashtag\" rel=\"nofollow noopener noreferrer\" target=\"_blank\">#<span>vvd</span></a> <a href=\"https://mastodon.social/tags/amsterdam\" class=\"mention hashtag\" rel=\"nofollow noopener noreferrer\" target=\"_blank\">#<span>amsterdam</span></a> <a href=\"https://mastodon.social/tags/politie\" class=\"mention hashtag\" rel=\"nofollow noopener noreferrer\" target=\"_blank\">#<span>politie</span></a></p>"
      ],
      "text/plain": [
       "<IPython.core.display.HTML object>"
      ]
     },
     "metadata": {},
     "output_type": "display_data"
    },
    {
     "name": "stdout",
     "output_type": "stream",
     "text": [
      "Date/Time: 2024-11-13 19:18:52+00:00\n",
      "____________________________________________________________________________________________________\n",
      "Toot 171\n",
      "\n"
     ]
    },
    {
     "data": {
      "text/html": [
       "<p>De grenzen voor denaturalisatie worden steeds verder verlegd. Nationaliteit Schoof gaat verder waar Rutte gebleven is: het Nederlanderschap is voor personen met een migratieachtergrond nooit onvoorwaardelijk.<br><a href=\"https://www.nrc.nl/nieuws/2024/11/13/de-grenzen-voor-denaturalisatie-worden-steeds-verder-verlegd-a4872970\" rel=\"nofollow noopener noreferrer\" translate=\"no\" target=\"_blank\"><span class=\"invisible\">https://www.</span><span class=\"ellipsis\">nrc.nl/nieuws/2024/11/13/de-gr</span><span class=\"invisible\">enzen-voor-denaturalisatie-worden-steeds-verder-verlegd-a4872970</span></a><br><a href=\"https://mastodon.social/tags/politiek\" class=\"mention hashtag\" rel=\"nofollow noopener noreferrer\" target=\"_blank\">#<span>politiek</span></a> <a href=\"https://mastodon.social/tags/nationaliteit\" class=\"mention hashtag\" rel=\"nofollow noopener noreferrer\" target=\"_blank\">#<span>nationaliteit</span></a> <a href=\"https://mastodon.social/tags/schoof\" class=\"mention hashtag\" rel=\"nofollow noopener noreferrer\" target=\"_blank\">#<span>schoof</span></a></p>"
      ],
      "text/plain": [
       "<IPython.core.display.HTML object>"
      ]
     },
     "metadata": {},
     "output_type": "display_data"
    },
    {
     "name": "stdout",
     "output_type": "stream",
     "text": [
      "Date/Time: 2024-11-13 18:07:02+00:00\n",
      "____________________________________________________________________________________________________\n",
      "Toot 172\n",
      "\n"
     ]
    },
    {
     "data": {
      "text/html": [
       "<p>Livestream: Plenaire zaal | Tweede Kamer der Staten-Generaal<br /><a href=\"https://www.tweedekamer.nl/vergaderingen/livedebat/plenaire-zaal\" target=\"_blank\" rel=\"nofollow noopener noreferrer\" translate=\"no\"><span class=\"invisible\">https://www.</span><span class=\"ellipsis\">tweedekamer.nl/vergaderingen/l</span><span class=\"invisible\">ivedebat/plenaire-zaal</span></a></p><p>Dinerpause in de Tweede Kamer.</p><p>Om 18:10 gaat de vergadering verder met de eerste termijn van het kabinet.</p><p>(En echt ... Ik heb nog nooit meegemaakt dat die jongens en meisjes zich netjes aan die tijd houden.<br />Kom op ... een beetje discipline mag soms ook wel. 🤓)</p><p><a href=\"https://mastodon.nl/tags/Politiek\" class=\"mention hashtag\" rel=\"tag\">#<span>Politiek</span></a> <a href=\"https://mastodon.nl/tags/Debat\" class=\"mention hashtag\" rel=\"tag\">#<span>Debat</span></a> <a href=\"https://mastodon.nl/tags/Maccabi\" class=\"mention hashtag\" rel=\"tag\">#<span>Maccabi</span></a></p>"
      ],
      "text/plain": [
       "<IPython.core.display.HTML object>"
      ]
     },
     "metadata": {},
     "output_type": "display_data"
    },
    {
     "name": "stdout",
     "output_type": "stream",
     "text": [
      "Date/Time: 2024-11-13 16:17:36.525000+00:00\n",
      "____________________________________________________________________________________________________\n",
      "Toot 173\n",
      "\n"
     ]
    },
    {
     "data": {
      "text/html": [
       "<p>Dilan <a href=\"https://mastodon.nl/tags/Yesilgoz\" class=\"mention hashtag\" rel=\"tag\">#<span>Yesilgoz</span></a> <br />Giftige splijtzwam vol <a href=\"https://mastodon.nl/tags/ZondebokPolitiek\" class=\"mention hashtag\" rel=\"tag\">#<span>ZondebokPolitiek</span></a> <br />Onwaarachtig, respectloos, denigrerend en gevaarlijk<br /><a href=\"https://debatdirect.tweedekamer.nl/2024-11-13/binnenlandse-zaken/plenaire-zaal/geweldsincidenten-in-amsterdam-13-32/markeringen?event=speaker2024-11-13T15%3A15%3A39%2B0100\" target=\"_blank\" rel=\"nofollow noopener noreferrer\" translate=\"no\"><span class=\"invisible\">https://</span><span class=\"ellipsis\">debatdirect.tweedekamer.nl/202</span><span class=\"invisible\">4-11-13/binnenlandse-zaken/plenaire-zaal/geweldsincidenten-in-amsterdam-13-32/markeringen?event=speaker2024-11-13T15%3A15%3A39%2B0100</span></a></p>"
      ],
      "text/plain": [
       "<IPython.core.display.HTML object>"
      ]
     },
     "metadata": {},
     "output_type": "display_data"
    },
    {
     "name": "stdout",
     "output_type": "stream",
     "text": [
      "Date/Time: 2024-11-13 14:45:37.194000+00:00\n",
      "____________________________________________________________________________________________________\n",
      "Toot 174\n",
      "\n"
     ]
    },
    {
     "data": {
      "text/html": [
       "<p>\"Benoemen\" is het nieuwe eufemisme voor \"Beweren zonder bewijs\", en het nieuwe synoniem voor populisme.</p><p><a href=\"https://mastodon.online/tags/politiek\" class=\"mention hashtag\" rel=\"nofollow noopener noreferrer\" target=\"_blank\">#<span>politiek</span></a> <a href=\"https://mastodon.online/tags/populisme\" class=\"mention hashtag\" rel=\"nofollow noopener noreferrer\" target=\"_blank\">#<span>populisme</span></a> <a href=\"https://mastodon.online/tags/pvv\" class=\"mention hashtag\" rel=\"nofollow noopener noreferrer\" target=\"_blank\">#<span>pvv</span></a> <a href=\"https://mastodon.online/tags/vvd\" class=\"mention hashtag\" rel=\"nofollow noopener noreferrer\" target=\"_blank\">#<span>vvd</span></a> <a href=\"https://mastodon.online/tags/bbb\" class=\"mention hashtag\" rel=\"nofollow noopener noreferrer\" target=\"_blank\">#<span>bbb</span></a></p>"
      ],
      "text/plain": [
       "<IPython.core.display.HTML object>"
      ]
     },
     "metadata": {},
     "output_type": "display_data"
    },
    {
     "name": "stdout",
     "output_type": "stream",
     "text": [
      "Date/Time: 2024-11-13 14:05:11+00:00\n",
      "____________________________________________________________________________________________________\n",
      "Toot 175\n",
      "\n"
     ]
    },
    {
     "data": {
      "text/html": [
       "<p>\"In Nederland bestaat in politiek en media opvallend veel aanhang voor de theorie dat antirechtsstatelijke politici vooral de macht gegeven moet worden, omdat hun populariteit dan snel zal afnemen. Laat hun glans maar uitdrogen in de zon! Door hun incompetentie, is het idee, zullen ze hun kiezers teleurstellen, die daarna zullen terugkeren op het nest van de middenpartijen.\"</p><p><a href=\"https://www.groene.nl/artikel/hergroeperen\" rel=\"nofollow noopener noreferrer\" translate=\"no\" target=\"_blank\"><span class=\"invisible\">https://www.</span><span class=\"\">groene.nl/artikel/hergroeperen</span><span class=\"invisible\"></span></a> <a href=\"https://mastodon.social/tags/politiek\" class=\"mention hashtag\" rel=\"nofollow noopener noreferrer\" target=\"_blank\">#<span>politiek</span></a></p>"
      ],
      "text/plain": [
       "<IPython.core.display.HTML object>"
      ]
     },
     "metadata": {},
     "output_type": "display_data"
    },
    {
     "name": "stdout",
     "output_type": "stream",
     "text": [
      "Date/Time: 2024-11-13 13:54:17+00:00\n",
      "____________________________________________________________________________________________________\n",
      "Toot 176\n",
      "\n"
     ]
    },
    {
     "data": {
      "text/html": [
       "<p>Over hoe voetbalgeweld in Nederland volledig uit de hand loopt,<br><a href=\"https://www.nu.nl/voetbal/6335270/explosief-naar-bus-van-jeugdteam-feyenoord-gegooid-bij-oefenduel-in-utrecht.html\" rel=\"nofollow noopener noreferrer\" translate=\"no\" target=\"_blank\"><span class=\"invisible\">https://www.</span><span class=\"ellipsis\">nu.nl/voetbal/6335270/explosie</span><span class=\"invisible\">f-naar-bus-van-jeugdteam-feyenoord-gegooid-bij-oefenduel-in-utrecht.html</span></a><br><a href=\"https://mastodon.social/tags/sport\" class=\"mention hashtag\" rel=\"nofollow noopener noreferrer\" target=\"_blank\">#<span>sport</span></a> <a href=\"https://mastodon.social/tags/voetbal\" class=\"mention hashtag\" rel=\"nofollow noopener noreferrer\" target=\"_blank\">#<span>voetbal</span></a> <a href=\"https://mastodon.social/tags/politiek\" class=\"mention hashtag\" rel=\"nofollow noopener noreferrer\" target=\"_blank\">#<span>politiek</span></a></p>"
      ],
      "text/plain": [
       "<IPython.core.display.HTML object>"
      ]
     },
     "metadata": {},
     "output_type": "display_data"
    },
    {
     "name": "stdout",
     "output_type": "stream",
     "text": [
      "Date/Time: 2024-11-13 12:25:15+00:00\n",
      "____________________________________________________________________________________________________\n",
      "Toot 177\n",
      "\n"
     ]
    },
    {
     "data": {
      "text/html": [
       "<p>Democratisch gezien is het belangrijkste debat over de rellen in Amsterdam al geweest, namelijk in de gemeenteraad. De Tweede Kamer gaat nu vrees ik een dag lang napraten, profileren en polariseren. <br><a href=\"https://mastodon.social/tags/politiek\" class=\"mention hashtag\" rel=\"nofollow noopener noreferrer\" target=\"_blank\">#<span>politiek</span></a> <a href=\"https://mastodon.social/tags/amsterdam\" class=\"mention hashtag\" rel=\"nofollow noopener noreferrer\" target=\"_blank\">#<span>amsterdam</span></a> <a href=\"https://mastodon.social/tags/tweedekamer\" class=\"mention hashtag\" rel=\"nofollow noopener noreferrer\" target=\"_blank\">#<span>tweedekamer</span></a></p>"
      ],
      "text/plain": [
       "<IPython.core.display.HTML object>"
      ]
     },
     "metadata": {},
     "output_type": "display_data"
    },
    {
     "name": "stdout",
     "output_type": "stream",
     "text": [
      "Date/Time: 2024-11-13 08:44:45+00:00\n",
      "____________________________________________________________________________________________________\n",
      "Toot 178\n",
      "\n"
     ]
    },
    {
     "data": {
      "text/html": [
       "<p>Premier Schoof: burgemeester Halsema belde donderdagnacht op verkeerde telefoon - <a href=\"https://mastodon.nl/tags/RTLNieuws\" class=\"mention hashtag\" rel=\"tag\">#<span>RTLNieuws</span></a><br /><a href=\"https://www.rtl.nl/nieuws/politiek/artikel/5480133/premier-schoof-burgemeester-halsema-belde-donderdagnacht-op\" target=\"_blank\" rel=\"nofollow noopener noreferrer\" translate=\"no\"><span class=\"invisible\">https://www.</span><span class=\"ellipsis\">rtl.nl/nieuws/politiek/artikel</span><span class=\"invisible\">/5480133/premier-schoof-burgemeester-halsema-belde-donderdagnacht-op</span></a></p><p>Zeg RTL nieuws ..</p><p>Doet eens even een normale kop die een echte lading draagt.</p><p><a href=\"https://mastodon.nl/tags/politiek\" class=\"mention hashtag\" rel=\"tag\">#<span>politiek</span></a></p>"
      ],
      "text/plain": [
       "<IPython.core.display.HTML object>"
      ]
     },
     "metadata": {},
     "output_type": "display_data"
    },
    {
     "name": "stdout",
     "output_type": "stream",
     "text": [
      "Date/Time: 2024-11-12 18:46:18.695000+00:00\n",
      "____________________________________________________________________________________________________\n",
      "Toot 179\n",
      "\n"
     ]
    },
    {
     "data": {
      "text/html": [
       "<p>Bang dat het debat in de Tweede Kamer morgen over de rellen in Amsterdam alleen maar een een podium wordt voor profilering, wat de polarisatie alleen maar gaat versterken. Wilders zal ongetwijfeld nog wat prikkelende uitspraken doen waarop andere partijen moeten reageren etc.<br> <a href=\"https://mastodon.social/tags/politiek\" class=\"mention hashtag\" rel=\"nofollow noopener noreferrer\" target=\"_blank\">#<span>politiek</span></a></p>"
      ],
      "text/plain": [
       "<IPython.core.display.HTML object>"
      ]
     },
     "metadata": {},
     "output_type": "display_data"
    },
    {
     "name": "stdout",
     "output_type": "stream",
     "text": [
      "Date/Time: 2024-11-12 18:37:16+00:00\n",
      "____________________________________________________________________________________________________\n",
      "Toot 180\n",
      "\n"
     ]
    },
    {
     "data": {
      "text/html": [
       "<p><a href=\"https://mastodon.nl/tags/opinie\" class=\"mention hashtag\" rel=\"tag\">#<span>opinie</span></a>  ‘Journalisten, (be)grijp uw macht’ - <span class=\"h-card\" translate=\"no\"><a href=\"https://mastodon.nl/@bert_hubert\" class=\"u-url mention\">@<span>bert_hubert</span></a></span> <br /><a href=\"https://www.villamedia.nl/artikel/opinie-journalisten-begrijp-uw-macht?cduid=05bf4e53-f0df-4823-ae46-d487cb24cb6c\" target=\"_blank\" rel=\"nofollow noopener noreferrer\" translate=\"no\"><span class=\"invisible\">https://www.</span><span class=\"ellipsis\">villamedia.nl/artikel/opinie-j</span><span class=\"invisible\">ournalisten-begrijp-uw-macht?cduid=05bf4e53-f0df-4823-ae46-d487cb24cb6c</span></a></p><p>Die poortwachtersfunctie.. Volgens mij is die om de praktijk wel de belangrijkste factor om de politiek goed te laten functioneren.</p><p><a href=\"https://mastodon.nl/tags/Politiek\" class=\"mention hashtag\" rel=\"tag\">#<span>Politiek</span></a> <a href=\"https://mastodon.nl/tags/Journalistiek\" class=\"mention hashtag\" rel=\"tag\">#<span>Journalistiek</span></a> <a href=\"https://mastodon.nl/tags/Poortwachter\" class=\"mention hashtag\" rel=\"tag\">#<span>Poortwachter</span></a></p>"
      ],
      "text/plain": [
       "<IPython.core.display.HTML object>"
      ]
     },
     "metadata": {},
     "output_type": "display_data"
    },
    {
     "name": "stdout",
     "output_type": "stream",
     "text": [
      "Date/Time: 2024-11-12 15:16:47.074000+00:00\n",
      "____________________________________________________________________________________________________\n",
      "Toot 181\n",
      "\n"
     ]
    },
    {
     "data": {
      "text/html": [
       "<p>Wanneer volgt de volgende?</p><p><a href=\"https://mastodon.nl/tags/Politiek\" class=\"mention hashtag\" rel=\"tag\">#<span>Politiek</span></a> <a href=\"https://mastodon.nl/tags/Kabinet\" class=\"mention hashtag\" rel=\"tag\">#<span>Kabinet</span></a></p>"
      ],
      "text/plain": [
       "<IPython.core.display.HTML object>"
      ]
     },
     "metadata": {},
     "output_type": "display_data"
    },
    {
     "name": "stdout",
     "output_type": "stream",
     "text": [
      "Date/Time: 2024-11-12 12:38:02.808000+00:00\n",
      "____________________________________________________________________________________________________\n",
      "Toot 182\n",
      "\n"
     ]
    },
    {
     "data": {
      "text/html": [
       "<p>Aldus <a href=\"https://mastodon.social/tags/DickSchoof\" class=\"mention hashtag\" rel=\"nofollow noopener noreferrer\" target=\"_blank\">#<span>DickSchoof</span></a>, de premier 'van alle Nederlanders'...</p><p>- <a href=\"https://mastodon.social/tags/nietmijnpremier\" class=\"mention hashtag\" rel=\"nofollow noopener noreferrer\" target=\"_blank\">#<span>nietmijnpremier</span></a> <br>- <a href=\"https://mastodon.social/tags/ikWildersniet\" class=\"mention hashtag\" rel=\"nofollow noopener noreferrer\" target=\"_blank\">#<span>ikWildersniet</span></a> </p><p><a href=\"https://www.ad.nl/politiek/schoof-wil-van-kritiek-in-nasleep-van-geweld-in-amsterdam-niets-weten-ik-heb-gedaan-wat-moest~aef8ff2a/\" rel=\"nofollow noopener noreferrer\" translate=\"no\" target=\"_blank\"><span class=\"invisible\">https://www.</span><span class=\"ellipsis\">ad.nl/politiek/schoof-wil-van-</span><span class=\"invisible\">kritiek-in-nasleep-van-geweld-in-amsterdam-niets-weten-ik-heb-gedaan-wat-moest~aef8ff2a/</span></a> <a href=\"https://mastodon.social/tags/Schoof\" class=\"mention hashtag\" rel=\"nofollow noopener noreferrer\" target=\"_blank\">#<span>Schoof</span></a> <a href=\"https://mastodon.social/tags/Wilders\" class=\"mention hashtag\" rel=\"nofollow noopener noreferrer\" target=\"_blank\">#<span>Wilders</span></a> <a href=\"https://mastodon.social/tags/politiek\" class=\"mention hashtag\" rel=\"nofollow noopener noreferrer\" target=\"_blank\">#<span>politiek</span></a></p>"
      ],
      "text/plain": [
       "<IPython.core.display.HTML object>"
      ]
     },
     "metadata": {},
     "output_type": "display_data"
    },
    {
     "name": "stdout",
     "output_type": "stream",
     "text": [
      "Date/Time: 2024-11-12 04:03:58+00:00\n",
      "____________________________________________________________________________________________________\n",
      "Toot 183\n",
      "\n"
     ]
    },
    {
     "data": {
      "text/html": [
       "<p>Klinkt als het publiek bij een gemiddelde risicowedstrijd...<br>\"Premier Schoof ziet groot probleem met de integratie: ‘Hun gedrag is schokkend, moreel volstrekt ontaard\"<br><a href=\"https://www.volkskrant.nl/nieuws-achtergrond/premier-schoof-ziet-groot-probleem-met-de-integratie-hun-gedrag-is-schokkend-moreel-volstrekt-ontaard~bdd2bafd/\" rel=\"nofollow noopener noreferrer\" translate=\"no\" target=\"_blank\"><span class=\"invisible\">https://www.</span><span class=\"ellipsis\">volkskrant.nl/nieuws-achtergro</span><span class=\"invisible\">nd/premier-schoof-ziet-groot-probleem-met-de-integratie-hun-gedrag-is-schokkend-moreel-volstrekt-ontaard~bdd2bafd/</span></a><br><a href=\"https://mastodon.social/tags/politiek\" class=\"mention hashtag\" rel=\"nofollow noopener noreferrer\" target=\"_blank\">#<span>politiek</span></a> <a href=\"https://mastodon.social/tags/Schoof\" class=\"mention hashtag\" rel=\"nofollow noopener noreferrer\" target=\"_blank\">#<span>Schoof</span></a></p>"
      ],
      "text/plain": [
       "<IPython.core.display.HTML object>"
      ]
     },
     "metadata": {},
     "output_type": "display_data"
    },
    {
     "name": "stdout",
     "output_type": "stream",
     "text": [
      "Date/Time: 2024-11-11 17:43:07+00:00\n",
      "____________________________________________________________________________________________________\n",
      "Toot 184\n",
      "\n"
     ]
    },
    {
     "data": {
      "text/html": [
       "<p>Dat wordt echt heel interessant de effectiviteit van grenscontroles, Mathijs Bouwman telde al eens wat.....😂 <br><a href=\"https://mastodon.social/tags/grenscontroles\" class=\"mention hashtag\" rel=\"nofollow noopener noreferrer\" target=\"_blank\">#<span>grenscontroles</span></a> <a href=\"https://mastodon.social/tags/politiek\" class=\"mention hashtag\" rel=\"nofollow noopener noreferrer\" target=\"_blank\">#<span>politiek</span></a></p>"
      ],
      "text/plain": [
       "<IPython.core.display.HTML object>"
      ]
     },
     "metadata": {},
     "output_type": "display_data"
    },
    {
     "name": "stdout",
     "output_type": "stream",
     "text": [
      "Date/Time: 2024-11-11 15:51:33+00:00\n",
      "____________________________________________________________________________________________________\n",
      "Toot 185\n",
      "\n"
     ]
    },
    {
     "data": {
      "text/html": [
       "<p>\"De grenscontroles worden \"zodanig uitgevoerd\" dat het niet ten koste gaat van het economische en woon-werkverkeer in de grensregio's, zegt het ministerie.\" <br>Dat kan natuurlijk niet als je serieus en effectief wilt controleren.<br><a href=\"https://www.nu.nl/politiek/6334990/nederland-gaat-vanaf-9-december-nog-meer-controleren-aan-de-grens.html\" rel=\"nofollow noopener noreferrer\" translate=\"no\" target=\"_blank\"><span class=\"invisible\">https://www.</span><span class=\"ellipsis\">nu.nl/politiek/6334990/nederla</span><span class=\"invisible\">nd-gaat-vanaf-9-december-nog-meer-controleren-aan-de-grens.html</span></a><br><a href=\"https://mastodon.social/tags/grenscontroles\" class=\"mention hashtag\" rel=\"nofollow noopener noreferrer\" target=\"_blank\">#<span>grenscontroles</span></a> <a href=\"https://mastodon.social/tags/politiek\" class=\"mention hashtag\" rel=\"nofollow noopener noreferrer\" target=\"_blank\">#<span>politiek</span></a></p>"
      ],
      "text/plain": [
       "<IPython.core.display.HTML object>"
      ]
     },
     "metadata": {},
     "output_type": "display_data"
    },
    {
     "name": "stdout",
     "output_type": "stream",
     "text": [
      "Date/Time: 2024-11-11 15:31:25+00:00\n",
      "____________________________________________________________________________________________________\n",
      "Toot 186\n",
      "\n"
     ]
    },
    {
     "data": {
      "text/html": [
       "<p>\"De rijkste man ter wereld gaf niet alleen extreemrechtse desinformatie vrij baan op Twitter, maar betaalde zelfs mensen om op Trump te stemmen. Musk heeft het presidentschap voor Trump gekocht en daar wil hij wat voor terug. Quid pro quo, zoals de Amerikanen zeggen.\"</p><p><a href=\"https://archive.md/mXkDl#selection-1185.264-1185.388\" rel=\"nofollow noopener noreferrer\" translate=\"no\" target=\"_blank\"><span class=\"invisible\">https://</span><span class=\"ellipsis\">archive.md/mXkDl#selection-118</span><span class=\"invisible\">5.264-1185.388</span></a> </p><p><a href=\"https://www.volkskrant.nl/columns-van-de-dag/we-zitten-in-een-informatieoorlog-en-we-zijn-keihard-aan-het-verliezen~b4e2f330/\" rel=\"nofollow noopener noreferrer\" translate=\"no\" target=\"_blank\"><span class=\"invisible\">https://www.</span><span class=\"ellipsis\">volkskrant.nl/columns-van-de-d</span><span class=\"invisible\">ag/we-zitten-in-een-informatieoorlog-en-we-zijn-keihard-aan-het-verliezen~b4e2f330/</span></a></p><p><a href=\"https://mastodon.social/tags/Trump\" class=\"mention hashtag\" rel=\"nofollow noopener noreferrer\" target=\"_blank\">#<span>Trump</span></a> <a href=\"https://mastodon.social/tags/ElonMusk\" class=\"mention hashtag\" rel=\"nofollow noopener noreferrer\" target=\"_blank\">#<span>ElonMusk</span></a>  <a href=\"https://mastodon.social/tags/politiek\" class=\"mention hashtag\" rel=\"nofollow noopener noreferrer\" target=\"_blank\">#<span>politiek</span></a></p>"
      ],
      "text/plain": [
       "<IPython.core.display.HTML object>"
      ]
     },
     "metadata": {},
     "output_type": "display_data"
    },
    {
     "name": "stdout",
     "output_type": "stream",
     "text": [
      "Date/Time: 2024-11-11 14:39:18+00:00\n",
      "____________________________________________________________________________________________________\n",
      "Toot 187\n",
      "\n"
     ]
    },
    {
     "data": {
      "text/html": [
       "<p>Grote zorgen in Den Haag: het kabinet dreigt weg te zakken in het stikstofmoeras | <a href=\"https://mastodon.nl/tags/Trouw\" class=\"mention hashtag\" rel=\"tag\">#<span>Trouw</span></a><br /><a href=\"https://www.trouw.nl/duurzaamheid-economie/grote-zorgen-in-den-haag-het-kabinet-dreigt-weg-te-zakken-in-het-stikstofmoeras~ba9d9225/\" target=\"_blank\" rel=\"nofollow noopener noreferrer\" translate=\"no\"><span class=\"invisible\">https://www.</span><span class=\"ellipsis\">trouw.nl/duurzaamheid-economie</span><span class=\"invisible\">/grote-zorgen-in-den-haag-het-kabinet-dreigt-weg-te-zakken-in-het-stikstofmoeras~ba9d9225/</span></a></p><p>Gaan we nog wat zien van onze Femke Wiersma vandaag?<br />Morgen is haar grote dag voor de rechtbank. 😇</p><p>Archive: <a href=\"https://archive.ph/5e747\" target=\"_blank\" rel=\"nofollow noopener noreferrer\" translate=\"no\"><span class=\"invisible\">https://</span><span class=\"\">archive.ph/5e747</span><span class=\"invisible\"></span></a></p><p><a href=\"https://mastodon.nl/tags/Politiek\" class=\"mention hashtag\" rel=\"tag\">#<span>Politiek</span></a> <a href=\"https://mastodon.nl/tags/Stikstof\" class=\"mention hashtag\" rel=\"tag\">#<span>Stikstof</span></a> <a href=\"https://mastodon.nl/tags/Greenpeace\" class=\"mention hashtag\" rel=\"tag\">#<span>Greenpeace</span></a> <a href=\"https://mastodon.nl/tags/Wiersma\" class=\"mention hashtag\" rel=\"tag\">#<span>Wiersma</span></a></p>"
      ],
      "text/plain": [
       "<IPython.core.display.HTML object>"
      ]
     },
     "metadata": {},
     "output_type": "display_data"
    },
    {
     "name": "stdout",
     "output_type": "stream",
     "text": [
      "Date/Time: 2024-11-11 14:29:40.968000+00:00\n",
      "____________________________________________________________________________________________________\n",
      "Toot 188\n",
      "\n"
     ]
    },
    {
     "data": {
      "text/html": [
       "<p>\"Ingaan tegen mensen die ontkennen dat er een genocide plaats vindt, of vrolijk zingen dat er in Gaza geen scholen zijn omdat alle kinderen dood zijn, maken ons verdacht. Israëli’s zijn altijd het slachtoffer, dat moeten we heel goed onthouden. Het protest tegen Herzog was met terugwerkende kracht waarschijnlijk gewoon ook antisemitisch. Genocide was niet bewezen, wie dachten we wel dat we waren? \"</p><p><a href=\"https://sargasso.nl/amsterdam-die-vreselijk-antisemitische-stad/\" rel=\"nofollow noopener noreferrer\" translate=\"no\" target=\"_blank\"><span class=\"invisible\">https://</span><span class=\"ellipsis\">sargasso.nl/amsterdam-die-vres</span><span class=\"invisible\">elijk-antisemitische-stad/</span></a> <a href=\"https://mastodon.social/tags/Amsterdam\" class=\"mention hashtag\" rel=\"nofollow noopener noreferrer\" target=\"_blank\">#<span>Amsterdam</span></a> <a href=\"https://mastodon.social/tags/Maccabi\" class=\"mention hashtag\" rel=\"nofollow noopener noreferrer\" target=\"_blank\">#<span>Maccabi</span></a> <a href=\"https://mastodon.social/tags/hooligans\" class=\"mention hashtag\" rel=\"nofollow noopener noreferrer\" target=\"_blank\">#<span>hooligans</span></a> <a href=\"https://mastodon.social/tags/Israel\" class=\"mention hashtag\" rel=\"nofollow noopener noreferrer\" target=\"_blank\">#<span>Israel</span></a> <a href=\"https://mastodon.social/tags/politiek\" class=\"mention hashtag\" rel=\"nofollow noopener noreferrer\" target=\"_blank\">#<span>politiek</span></a></p>"
      ],
      "text/plain": [
       "<IPython.core.display.HTML object>"
      ]
     },
     "metadata": {},
     "output_type": "display_data"
    },
    {
     "name": "stdout",
     "output_type": "stream",
     "text": [
      "Date/Time: 2024-11-11 10:52:38+00:00\n",
      "____________________________________________________________________________________________________\n",
      "Toot 189\n",
      "\n"
     ]
    },
    {
     "data": {
      "text/html": [
       "<p>Ik hoop dat politiek en kabinet meer aandacht gaan besteden aan onderwerpen zoals onderwijs, economie, innovatie, gezondheidszorg, huizenmarkt, arbeidsmigratie ed en niet alleen van ophef naar ophef rennen....<br>Ik ben bang dat we weer de hele week over de rellen in Amsterdam praten 😞 <br><a href=\"https://mastodon.social/tags/politiek\" class=\"mention hashtag\" rel=\"nofollow noopener noreferrer\" target=\"_blank\">#<span>politiek</span></a> <a href=\"https://mastodon.social/tags/ophef\" class=\"mention hashtag\" rel=\"nofollow noopener noreferrer\" target=\"_blank\">#<span>ophef</span></a> <a href=\"https://mastodon.social/tags/kabinet\" class=\"mention hashtag\" rel=\"nofollow noopener noreferrer\" target=\"_blank\">#<span>kabinet</span></a></p>"
      ],
      "text/plain": [
       "<IPython.core.display.HTML object>"
      ]
     },
     "metadata": {},
     "output_type": "display_data"
    },
    {
     "name": "stdout",
     "output_type": "stream",
     "text": [
      "Date/Time: 2024-11-11 07:51:55+00:00\n",
      "____________________________________________________________________________________________________\n",
      "Toot 190\n",
      "\n"
     ]
    },
    {
     "data": {
      "text/html": [
       "<p>Jimmy Dijk <a href=\"https://mastodon.social/tags/SP\" class=\"mention hashtag\" rel=\"nofollow noopener noreferrer\" target=\"_blank\">#<span>SP</span></a></p><p>Laten we samen sterker zijn dan de politici die uit politieke belangen mensen tegen elkaar opzetten.</p><p>Laten we samen met alle mensen en organisaties die hiertoe bereid zijn handelingsperspectief bieden.</p><p>Laten we hoop en moed inzetten zodat mensen aansluiten bij onze eisen voor een staakt-het-vuren en vrede.</p><p><a href=\"https://mastodon.social/tags/politiek\" class=\"mention hashtag\" rel=\"nofollow noopener noreferrer\" target=\"_blank\">#<span>politiek</span></a> <a href=\"https://mastodon.social/tags/groningen\" class=\"mention hashtag\" rel=\"nofollow noopener noreferrer\" target=\"_blank\">#<span>groningen</span></a> <a href=\"https://mastodon.social/tags/actie\" class=\"mention hashtag\" rel=\"nofollow noopener noreferrer\" target=\"_blank\">#<span>actie</span></a> <a href=\"https://mastodon.social/tags/vrede\" class=\"mention hashtag\" rel=\"nofollow noopener noreferrer\" target=\"_blank\">#<span>vrede</span></a> <a href=\"https://mastodon.social/tags/oorlog\" class=\"mention hashtag\" rel=\"nofollow noopener noreferrer\" target=\"_blank\">#<span>oorlog</span></a> <a href=\"https://mastodon.social/tags/gaza\" class=\"mention hashtag\" rel=\"nofollow noopener noreferrer\" target=\"_blank\">#<span>gaza</span></a> <a href=\"https://mastodon.social/tags/israel\" class=\"mention hashtag\" rel=\"nofollow noopener noreferrer\" target=\"_blank\">#<span>israel</span></a> <a href=\"https://mastodon.social/tags/jimmydijk\" class=\"mention hashtag\" rel=\"nofollow noopener noreferrer\" target=\"_blank\">#<span>jimmydijk</span></a> <a href=\"https://mastodon.social/tags/sp\" class=\"mention hashtag\" rel=\"nofollow noopener noreferrer\" target=\"_blank\">#<span>sp</span></a> <a href=\"https://mastodon.social/tags/spnl\" class=\"mention hashtag\" rel=\"nofollow noopener noreferrer\" target=\"_blank\">#<span>spnl</span></a> <a href=\"https://mastodon.social/tags/TweedeKamer\" class=\"mention hashtag\" rel=\"nofollow noopener noreferrer\" target=\"_blank\">#<span>TweedeKamer</span></a></p>"
      ],
      "text/plain": [
       "<IPython.core.display.HTML object>"
      ]
     },
     "metadata": {},
     "output_type": "display_data"
    },
    {
     "name": "stdout",
     "output_type": "stream",
     "text": [
      "Date/Time: 2024-11-10 20:43:35+00:00\n",
      "____________________________________________________________________________________________________\n",
      "Toot 191\n",
      "\n"
     ]
    },
    {
     "data": {
      "text/html": [
       "<p>En deze sluit er soort van op aan<br><a href=\"https://helendecruz.substack.com/p/explaining-the-anti-incumbency-backlash\" rel=\"nofollow noopener noreferrer\" translate=\"no\" target=\"_blank\"><span class=\"invisible\">https://</span><span class=\"ellipsis\">helendecruz.substack.com/p/exp</span><span class=\"invisible\">laining-the-anti-incumbency-backlash</span></a><br><a href=\"https://mastodon.social/tags/politiek\" class=\"mention hashtag\" rel=\"nofollow noopener noreferrer\" target=\"_blank\">#<span>politiek</span></a> <a href=\"https://mastodon.social/tags/maatschappij\" class=\"mention hashtag\" rel=\"nofollow noopener noreferrer\" target=\"_blank\">#<span>maatschappij</span></a></p>"
      ],
      "text/plain": [
       "<IPython.core.display.HTML object>"
      ]
     },
     "metadata": {},
     "output_type": "display_data"
    },
    {
     "name": "stdout",
     "output_type": "stream",
     "text": [
      "Date/Time: 2024-11-10 16:38:42+00:00\n",
      "____________________________________________________________________________________________________\n",
      "Toot 192\n",
      "\n"
     ]
    },
    {
     "data": {
      "text/html": [
       "<p>De toolbox van een dictator: zo leg je de journalistiek het zwijgen op</p><p>Drie bewezen effectieve tools die (aspirant) dictators gebruiken om het vrije woord de das om te doen.</p><p><a href=\"https://www.vpro.nl/programmas/tegenlicht/lees/artikelen/2024/you-cant-kill-the-story/dictator-journalist-zwijgen-opleggen.html?tid=TIDP21343507X15FE8CDB6D584A27A1CEACF9DC9340B9YI6&amp;utm_content=jjjjmmdd_NB_TEGENLICHT&amp;utm_campaign=NB_Tegenlicht_10112024&amp;utm_medium=email&amp;utm_source=VPRO\" rel=\"nofollow noopener noreferrer\" translate=\"no\" target=\"_blank\"><span class=\"invisible\">https://www.</span><span class=\"ellipsis\">vpro.nl/programmas/tegenlicht/</span><span class=\"invisible\">lees/artikelen/2024/you-cant-kill-the-story/dictator-journalist-zwijgen-opleggen.html?tid=TIDP21343507X15FE8CDB6D584A27A1CEACF9DC9340B9YI6&amp;utm_content=jjjjmmdd_NB_TEGENLICHT&amp;utm_campaign=NB_Tegenlicht_10112024&amp;utm_medium=email&amp;utm_source=VPRO</span></a> <br><a href=\"https://mastodon.social/tags/VPRO\" class=\"mention hashtag\" rel=\"nofollow noopener noreferrer\" target=\"_blank\">#<span>VPRO</span></a> <span class=\"h-card\" translate=\"no\"><a href=\"https://mstdn.social/@vpro\" class=\"u-url mention\" rel=\"nofollow noopener noreferrer\" target=\"_blank\">@<span>vpro</span></a></span> <a href=\"https://mastodon.social/tags/tegenlicht\" class=\"mention hashtag\" rel=\"nofollow noopener noreferrer\" target=\"_blank\">#<span>tegenlicht</span></a> <span class=\"h-card\" translate=\"no\"><a href=\"https://mastodon.green/@tegenlicht\" class=\"u-url mention\" rel=\"nofollow noopener noreferrer\" target=\"_blank\">@<span>tegenlicht</span></a></span> <br><a href=\"https://mastodon.social/tags/jornalistiek\" class=\"mention hashtag\" rel=\"nofollow noopener noreferrer\" target=\"_blank\">#<span>jornalistiek</span></a> <a href=\"https://mastodon.social/tags/media\" class=\"mention hashtag\" rel=\"nofollow noopener noreferrer\" target=\"_blank\">#<span>media</span></a> <a href=\"https://mastodon.social/tags/politiek\" class=\"mention hashtag\" rel=\"nofollow noopener noreferrer\" target=\"_blank\">#<span>politiek</span></a></p>"
      ],
      "text/plain": [
       "<IPython.core.display.HTML object>"
      ]
     },
     "metadata": {},
     "output_type": "display_data"
    },
    {
     "name": "stdout",
     "output_type": "stream",
     "text": [
      "Date/Time: 2024-11-10 14:04:33+00:00\n",
      "____________________________________________________________________________________________________\n",
      "Toot 193\n",
      "\n"
     ]
    },
    {
     "data": {
      "text/html": [
       "<p>‘ik kreeg ook telkens de vraag of de sancties niet een onbenullig onderwerp waren. Ze zouden toch niet werken. </p><p>Maar dat is niet wat ik ervoer in mijn onderzoek. En op een gegeven moment begon het me te dagen: ik hoor gewoon steeds Poetins propaganda. Hij wil dat iedereen in het Westen denkt dat de sancties niet werken, dat de kosten voor ons hoger zijn dan de kosten voor Rusland, zodat de steun voor sancties afneemt.’ </p><p><a href=\"https://www.ftm.nl/artikelen/interview-stephanie-baker-punishing-putin-boek?share=dnpk36BHI%2B9HytPt9fRp53jV%2BDvSR63w%2F1L4XPBzhGpFS8XkedTP4TmACDPr\" rel=\"nofollow noopener noreferrer\" translate=\"no\" target=\"_blank\"><span class=\"invisible\">https://www.</span><span class=\"ellipsis\">ftm.nl/artikelen/interview-ste</span><span class=\"invisible\">phanie-baker-punishing-putin-boek?share=dnpk36BHI%2B9HytPt9fRp53jV%2BDvSR63w%2F1L4XPBzhGpFS8XkedTP4TmACDPr</span></a> <a href=\"https://mastodon.social/tags/Rusland\" class=\"mention hashtag\" rel=\"nofollow noopener noreferrer\" target=\"_blank\">#<span>Rusland</span></a> <a href=\"https://mastodon.social/tags/Oekraine\" class=\"mention hashtag\" rel=\"nofollow noopener noreferrer\" target=\"_blank\">#<span>Oekraine</span></a> <a href=\"https://mastodon.social/tags/economie\" class=\"mention hashtag\" rel=\"nofollow noopener noreferrer\" target=\"_blank\">#<span>economie</span></a> <a href=\"https://mastodon.social/tags/sancties\" class=\"mention hashtag\" rel=\"nofollow noopener noreferrer\" target=\"_blank\">#<span>sancties</span></a> <a href=\"https://mastodon.social/tags/politiek\" class=\"mention hashtag\" rel=\"nofollow noopener noreferrer\" target=\"_blank\">#<span>politiek</span></a></p>"
      ],
      "text/plain": [
       "<IPython.core.display.HTML object>"
      ]
     },
     "metadata": {},
     "output_type": "display_data"
    },
    {
     "name": "stdout",
     "output_type": "stream",
     "text": [
      "Date/Time: 2024-11-10 12:50:35+00:00\n",
      "____________________________________________________________________________________________________\n",
      "Toot 194\n",
      "\n"
     ]
    },
    {
     "data": {
      "text/html": [
       "<p>“[…] ik hoor gewoon steeds Poetins propaganda. Hij wil dat iedereen in het Westen denkt dat de sancties niet werken, dat de kosten voor ons hoger zijn dan de kosten voor Rusland, zodat de steun voor sancties afneemt”</p><p><a href=\"https://mastodon.social/tags/sactiesrusland\" class=\"mention hashtag\" rel=\"nofollow noopener noreferrer\" target=\"_blank\">#<span>sactiesrusland</span></a> <a href=\"https://mastodon.social/tags/politiek\" class=\"mention hashtag\" rel=\"nofollow noopener noreferrer\" target=\"_blank\">#<span>politiek</span></a> <a href=\"https://mastodon.social/tags/oorlog\" class=\"mention hashtag\" rel=\"nofollow noopener noreferrer\" target=\"_blank\">#<span>oorlog</span></a> </p><p><a href=\"https://www.ftm.nl/artikelen/interview-stephanie-baker-punishing-putin-boek\" rel=\"nofollow noopener noreferrer\" translate=\"no\" target=\"_blank\"><span class=\"invisible\">https://www.</span><span class=\"ellipsis\">ftm.nl/artikelen/interview-ste</span><span class=\"invisible\">phanie-baker-punishing-putin-boek</span></a></p>"
      ],
      "text/plain": [
       "<IPython.core.display.HTML object>"
      ]
     },
     "metadata": {},
     "output_type": "display_data"
    },
    {
     "name": "stdout",
     "output_type": "stream",
     "text": [
      "Date/Time: 2024-11-10 07:47:51+00:00\n",
      "____________________________________________________________________________________________________\n",
      "Toot 195\n",
      "\n"
     ]
    },
    {
     "data": {
      "text/html": [
       "<p>/2<br />Hoe erg de boel wel helemaal vastgelopen is laten deze uitspraken van wen paar rechters zien.</p><p>Rechter laat toeslagenouders maanden langer wachten | <a href=\"https://mastodon.nl/tags/Trouw\" class=\"mention hashtag\" rel=\"tag\">#<span>Trouw</span></a><br /><a href=\"https://www.trouw.nl/binnenland/rechter-laat-toeslagenouders-maanden-langer-wachten~bc887e85/\" target=\"_blank\" rel=\"nofollow noopener noreferrer\" translate=\"no\"><span class=\"invisible\">https://www.</span><span class=\"ellipsis\">trouw.nl/binnenland/rechter-la</span><span class=\"invisible\">at-toeslagenouders-maanden-langer-wachten~bc887e85/</span></a></p><p>De chaos wordt zo groot dat de rechter kennelijk moet concluderen dat een redelijke termijn veel langer moet mogen duren.</p><p>Archive: <br /><a href=\"https://archive.ph/jBPC0\" target=\"_blank\" rel=\"nofollow noopener noreferrer\" translate=\"no\"><span class=\"invisible\">https://</span><span class=\"\">archive.ph/jBPC0</span><span class=\"invisible\"></span></a></p><p><a href=\"https://mastodon.nl/tags/Politiek\" class=\"mention hashtag\" rel=\"tag\">#<span>Politiek</span></a> <a href=\"https://mastodon.nl/tags/Toeslagen\" class=\"mention hashtag\" rel=\"tag\">#<span>Toeslagen</span></a></p>"
      ],
      "text/plain": [
       "<IPython.core.display.HTML object>"
      ]
     },
     "metadata": {},
     "output_type": "display_data"
    },
    {
     "name": "stdout",
     "output_type": "stream",
     "text": [
      "Date/Time: 2024-11-10 06:13:14.793000+00:00\n",
      "____________________________________________________________________________________________________\n",
      "Toot 196\n",
      "\n"
     ]
    },
    {
     "data": {
      "text/html": [
       "<p>Voor toeslagenouders is vertrouwen veel belangrijker dan geld | <a href=\"https://mastodon.nl/tags/Trouw\" class=\"mention hashtag\" rel=\"tag\">#<span>Trouw</span></a><br /><a href=\"https://www.trouw.nl/binnenland/voor-toeslagenouders-is-vertrouwen-veel-belangrijker-dan-geld~b2d8a393/\" target=\"_blank\" rel=\"nofollow noopener noreferrer\" translate=\"no\"><span class=\"invisible\">https://www.</span><span class=\"ellipsis\">trouw.nl/binnenland/voor-toesl</span><span class=\"invisible\">agenouders-is-vertrouwen-veel-belangrijker-dan-geld~b2d8a393/</span></a></p><p>Zolang de overheid geen einde maakt aan het bestaan van afdelingen die werken op de manier waarop Toeslagen en de schades in Groningen werden afgehandeld, blijft het onmogelijk voor diezelfde overheid om dit soort problemen op te lossen.</p><p>Als het niet in het DNA zit om problemen op te lossen en te voorkomen, is de overheid eigenlijk kansloos.</p><p>Archive:<br /><a href=\"https://archive.ph/Rx9HU\" target=\"_blank\" rel=\"nofollow noopener noreferrer\" translate=\"no\"><span class=\"invisible\">https://</span><span class=\"\">archive.ph/Rx9HU</span><span class=\"invisible\"></span></a></p><p>/2</p><p><a href=\"https://mastodon.nl/tags/Politiek\" class=\"mention hashtag\" rel=\"tag\">#<span>Politiek</span></a> <a href=\"https://mastodon.nl/tags/Toeslagen\" class=\"mention hashtag\" rel=\"tag\">#<span>Toeslagen</span></a></p>"
      ],
      "text/plain": [
       "<IPython.core.display.HTML object>"
      ]
     },
     "metadata": {},
     "output_type": "display_data"
    },
    {
     "name": "stdout",
     "output_type": "stream",
     "text": [
      "Date/Time: 2024-11-10 05:55:16.170000+00:00\n",
      "____________________________________________________________________________________________________\n",
      "Toot 197\n",
      "\n"
     ]
    },
    {
     "data": {
      "text/html": [
       "<p>Caroline <a href=\"https://mastodon.social/tags/vanderPlas\" class=\"mention hashtag\" rel=\"nofollow noopener noreferrer\" target=\"_blank\">#<span>vanderPlas</span></a> legt nog even aan de bereidwillige pers in Amstelveen uit wat er aan de hand was in <a href=\"https://mastodon.social/tags/Amsterdam\" class=\"mention hashtag\" rel=\"nofollow noopener noreferrer\" target=\"_blank\">#<span>Amsterdam</span></a> Want zij weet dingen. </p><p><a href=\"https://mastodon.social/tags/Israel\" class=\"mention hashtag\" rel=\"nofollow noopener noreferrer\" target=\"_blank\">#<span>Israel</span></a> <a href=\"https://mastodon.social/tags/Maccabi\" class=\"mention hashtag\" rel=\"nofollow noopener noreferrer\" target=\"_blank\">#<span>Maccabi</span></a> <a href=\"https://mastodon.social/tags/hooligans\" class=\"mention hashtag\" rel=\"nofollow noopener noreferrer\" target=\"_blank\">#<span>hooligans</span></a> <a href=\"https://mastodon.social/tags/media\" class=\"mention hashtag\" rel=\"nofollow noopener noreferrer\" target=\"_blank\">#<span>media</span></a> <a href=\"https://mastodon.social/tags/frame\" class=\"mention hashtag\" rel=\"nofollow noopener noreferrer\" target=\"_blank\">#<span>frame</span></a> <a href=\"https://mastodon.social/tags/fakenews\" class=\"mention hashtag\" rel=\"nofollow noopener noreferrer\" target=\"_blank\">#<span>fakenews</span></a> <a href=\"https://mastodon.social/tags/politiek\" class=\"mention hashtag\" rel=\"nofollow noopener noreferrer\" target=\"_blank\">#<span>politiek</span></a> <br><a href=\"https://mastodon.social/tags/BBB\" class=\"mention hashtag\" rel=\"nofollow noopener noreferrer\" target=\"_blank\">#<span>BBB</span></a></p>"
      ],
      "text/plain": [
       "<IPython.core.display.HTML object>"
      ]
     },
     "metadata": {},
     "output_type": "display_data"
    },
    {
     "name": "stdout",
     "output_type": "stream",
     "text": [
      "Date/Time: 2024-11-09 19:02:46+00:00\n",
      "____________________________________________________________________________________________________\n",
      "Toot 198\n",
      "\n"
     ]
    },
    {
     "data": {
      "text/html": [
       "<p>Dat een stelletje raddraaiers (aan beide zijden) zoveel aandacht krijgt en zelfs boven een klimaattop gaat maakt mij nog pessimistischer over onze toekomst dan ik al was. </p><p><a href=\"https://mastodon.social/tags/politiek\" class=\"mention hashtag\" rel=\"nofollow noopener noreferrer\" target=\"_blank\">#<span>politiek</span></a> <a href=\"https://mastodon.social/tags/Schoof\" class=\"mention hashtag\" rel=\"nofollow noopener noreferrer\" target=\"_blank\">#<span>Schoof</span></a></p>"
      ],
      "text/plain": [
       "<IPython.core.display.HTML object>"
      ]
     },
     "metadata": {},
     "output_type": "display_data"
    },
    {
     "name": "stdout",
     "output_type": "stream",
     "text": [
      "Date/Time: 2024-11-09 18:13:43+00:00\n",
      "____________________________________________________________________________________________________\n",
      "Toot 199\n",
      "\n"
     ]
    },
    {
     "data": {
      "text/html": [
       "<p>Een \"asielcrisis\",  is er niet, noodmaatregelen lijken niet nodig, alleen opvang beter spreiden over gemeenten met de spreidingswet en we lossen de problemen op, Opvallende daling aantal asielzoekers Ter Apel - <a href=\"https://nos.nl/l/2543838\" rel=\"nofollow noopener noreferrer\" translate=\"no\" target=\"_blank\"><span class=\"invisible\">https://</span><span class=\"\">nos.nl/l/2543838</span><span class=\"invisible\"></span></a><br><a href=\"https://mastodon.social/tags/politiek\" class=\"mention hashtag\" rel=\"nofollow noopener noreferrer\" target=\"_blank\">#<span>politiek</span></a> <a href=\"https://mastodon.social/tags/asiel\" class=\"mention hashtag\" rel=\"nofollow noopener noreferrer\" target=\"_blank\">#<span>asiel</span></a> <a href=\"https://mastodon.social/tags/schoof\" class=\"mention hashtag\" rel=\"nofollow noopener noreferrer\" target=\"_blank\">#<span>schoof</span></a> <a href=\"https://mastodon.social/tags/faber\" class=\"mention hashtag\" rel=\"nofollow noopener noreferrer\" target=\"_blank\">#<span>faber</span></a> <a href=\"https://mastodon.social/tags/pvv\" class=\"mention hashtag\" rel=\"nofollow noopener noreferrer\" target=\"_blank\">#<span>pvv</span></a></p>"
      ],
      "text/plain": [
       "<IPython.core.display.HTML object>"
      ]
     },
     "metadata": {},
     "output_type": "display_data"
    },
    {
     "name": "stdout",
     "output_type": "stream",
     "text": [
      "Date/Time: 2024-11-09 16:55:24+00:00\n",
      "____________________________________________________________________________________________________\n",
      "Toot 200\n",
      "\n"
     ]
    },
    {
     "data": {
      "text/html": [
       "<p>Dit is echt  grappig 🤣 voor wie genoemde “wetenschapper” kent…maar er zijn gelukkig wel bitterballen!<br><a href=\"https://mastodon.social/tags/bbb\" class=\"mention hashtag\" rel=\"nofollow noopener noreferrer\" target=\"_blank\">#<span>bbb</span></a> <a href=\"https://mastodon.social/tags/politiek\" class=\"mention hashtag\" rel=\"nofollow noopener noreferrer\" target=\"_blank\">#<span>politiek</span></a></p>"
      ],
      "text/plain": [
       "<IPython.core.display.HTML object>"
      ]
     },
     "metadata": {},
     "output_type": "display_data"
    },
    {
     "name": "stdout",
     "output_type": "stream",
     "text": [
      "Date/Time: 2024-11-09 16:20:28+00:00\n",
      "____________________________________________________________________________________________________\n",
      "Toot 201\n",
      "\n"
     ]
    },
    {
     "data": {
      "text/html": [
       "<p>Dit is echt  grappig 🤣 voor wie genoemde “wetenschapper” kent…maar er zijn gelukkig wel bitterballen!<br><a href=\"https://mastodon.social/tags/bbb\" class=\"mention hashtag\" rel=\"nofollow noopener noreferrer\" target=\"_blank\">#<span>bbb</span></a> <a href=\"https://mastodon.social/tags/politiek\" class=\"mention hashtag\" rel=\"nofollow noopener noreferrer\" target=\"_blank\">#<span>politiek</span></a></p>"
      ],
      "text/plain": [
       "<IPython.core.display.HTML object>"
      ]
     },
     "metadata": {},
     "output_type": "display_data"
    },
    {
     "name": "stdout",
     "output_type": "stream",
     "text": [
      "Date/Time: 2024-11-09 16:20:28+00:00\n",
      "____________________________________________________________________________________________________\n",
      "Toot 202\n",
      "\n"
     ]
    },
    {
     "data": {
      "text/html": [
       "<p>Het wordt hoe langer hoe gekker. <br>Ik vermoed overigens dat die klimaattop sowieso al niet hoog op de agenda stond van <a href=\"https://mastodon.social/tags/Schoof\" class=\"mention hashtag\" rel=\"nofollow noopener noreferrer\" target=\"_blank\">#<span>Schoof</span></a>. Liever houdt hij het 'antisemitische' vuurtje nog even brandend, waar zoveel kolen op gegooid zijn door de usual suspects.</p><p><a href=\"https://mastodon.social/tags/nietmijnpremier\" class=\"mention hashtag\" rel=\"nofollow noopener noreferrer\" target=\"_blank\">#<span>nietmijnpremier</span></a> <br><a href=\"https://mastodon.social/tags/Amsterdam\" class=\"mention hashtag\" rel=\"nofollow noopener noreferrer\" target=\"_blank\">#<span>Amsterdam</span></a> <a href=\"https://mastodon.social/tags/Maccabi\" class=\"mention hashtag\" rel=\"nofollow noopener noreferrer\" target=\"_blank\">#<span>Maccabi</span></a> <a href=\"https://mastodon.social/tags/hooligans\" class=\"mention hashtag\" rel=\"nofollow noopener noreferrer\" target=\"_blank\">#<span>hooligans</span></a> <a href=\"https://mastodon.social/tags/israel\" class=\"mention hashtag\" rel=\"nofollow noopener noreferrer\" target=\"_blank\">#<span>israel</span></a> <a href=\"https://mastodon.social/tags/fakenews\" class=\"mention hashtag\" rel=\"nofollow noopener noreferrer\" target=\"_blank\">#<span>fakenews</span></a> <a href=\"https://mastodon.social/tags/media\" class=\"mention hashtag\" rel=\"nofollow noopener noreferrer\" target=\"_blank\">#<span>media</span></a>  <a href=\"https://mastodon.social/tags/politiek\" class=\"mention hashtag\" rel=\"nofollow noopener noreferrer\" target=\"_blank\">#<span>politiek</span></a> </p><p><a href=\"https://nos.nl/artikel/2543844-premier-schoof-niet-naar-vn-klimaattop-vanwege-nasleep-geweld-amsterdam\" rel=\"nofollow noopener noreferrer\" translate=\"no\" target=\"_blank\"><span class=\"invisible\">https://</span><span class=\"ellipsis\">nos.nl/artikel/2543844-premier</span><span class=\"invisible\">-schoof-niet-naar-vn-klimaattop-vanwege-nasleep-geweld-amsterdam</span></a></p>"
      ],
      "text/plain": [
       "<IPython.core.display.HTML object>"
      ]
     },
     "metadata": {},
     "output_type": "display_data"
    },
    {
     "name": "stdout",
     "output_type": "stream",
     "text": [
      "Date/Time: 2024-11-09 14:58:04+00:00\n",
      "____________________________________________________________________________________________________\n",
      "Toot 203\n",
      "\n"
     ]
    },
    {
     "data": {
      "text/html": [
       "<p>Het wordt pijnlijk als straks na maanden debatteren en ophef, duidelijk wordt dat asiel echt het minst belangrijke deel van de migratie is,  het is een splinter (asiel) vergeleken met de balk (arbeidsmigratie). Politieke partijen in het kabinet weten dit maar houden hun mond. De strategie lijkt de PVV (zeer waarschijnlijk ) te laten falen en straks de schuld te kunnen geven.<br><a href=\"https://mastodon.social/tags/pvv\" class=\"mention hashtag\" rel=\"nofollow noopener noreferrer\" target=\"_blank\">#<span>pvv</span></a> <a href=\"https://mastodon.social/tags/vvd\" class=\"mention hashtag\" rel=\"nofollow noopener noreferrer\" target=\"_blank\">#<span>vvd</span></a> <a href=\"https://mastodon.social/tags/nsc\" class=\"mention hashtag\" rel=\"nofollow noopener noreferrer\" target=\"_blank\">#<span>nsc</span></a> <a href=\"https://mastodon.social/tags/politiek\" class=\"mention hashtag\" rel=\"nofollow noopener noreferrer\" target=\"_blank\">#<span>politiek</span></a> <a href=\"https://mastodon.social/tags/asiel\" class=\"mention hashtag\" rel=\"nofollow noopener noreferrer\" target=\"_blank\">#<span>asiel</span></a></p>"
      ],
      "text/plain": [
       "<IPython.core.display.HTML object>"
      ]
     },
     "metadata": {},
     "output_type": "display_data"
    },
    {
     "name": "stdout",
     "output_type": "stream",
     "text": [
      "Date/Time: 2024-11-09 14:13:19+00:00\n",
      "____________________________________________________________________________________________________\n",
      "Toot 204\n",
      "\n"
     ]
    },
    {
     "data": {
      "text/html": [
       "<p>'in het woedende publiek begaven zich ook radicaalrechtse relschoppers, onder wie leden van Revuelta, de jongerenpartij van VOX. Diezelfde politieke partij heeft aangehouden relschoppers aangeboden hun juridische kosten te betalen.</p><p>De Spaanse krant El País publiceerde kort daarna interne stukken van de partij. Daaruit blijkt dat ze actief een campagne zijn gestart waarin wordt ontkend dat klimaatverandering een rol heeft gespeeld bij de overstromingen.'<br><a href=\"https://nos.nl/artikel/2543821-onvrede-over-de-spaanse-politiek-na-natuurramp-hoe-kon-dit-zo-mislopen\" rel=\"nofollow noopener noreferrer\" translate=\"no\" target=\"_blank\"><span class=\"invisible\">https://</span><span class=\"ellipsis\">nos.nl/artikel/2543821-onvrede</span><span class=\"invisible\">-over-de-spaanse-politiek-na-natuurramp-hoe-kon-dit-zo-mislopen</span></a> <a href=\"https://mastodon.social/tags/Spanje\" class=\"mention hashtag\" rel=\"nofollow noopener noreferrer\" target=\"_blank\">#<span>Spanje</span></a> <a href=\"https://mastodon.social/tags/politiek\" class=\"mention hashtag\" rel=\"nofollow noopener noreferrer\" target=\"_blank\">#<span>politiek</span></a></p>"
      ],
      "text/plain": [
       "<IPython.core.display.HTML object>"
      ]
     },
     "metadata": {},
     "output_type": "display_data"
    },
    {
     "name": "stdout",
     "output_type": "stream",
     "text": [
      "Date/Time: 2024-11-09 14:00:21+00:00\n",
      "____________________________________________________________________________________________________\n",
      "Toot 205\n",
      "\n"
     ]
    },
    {
     "data": {
      "text/html": [
       "<p><a href=\"https://www.spanjevandaag.com/09/11/2024/de-crisis-van-de-regionale-premier-carlos-mazon-in-de-schaduw-van-de-dana/\" rel=\"nofollow noopener noreferrer\" translate=\"no\" target=\"_blank\"><span class=\"invisible\">https://www.</span><span class=\"ellipsis\">spanjevandaag.com/09/11/2024/d</span><span class=\"invisible\">e-crisis-van-de-regionale-premier-carlos-mazon-in-de-schaduw-van-de-dana/</span></a> <a href=\"https://mastodon.social/tags/Spanje\" class=\"mention hashtag\" rel=\"nofollow noopener noreferrer\" target=\"_blank\">#<span>Spanje</span></a> <a href=\"https://mastodon.social/tags/politiek\" class=\"mention hashtag\" rel=\"nofollow noopener noreferrer\" target=\"_blank\">#<span>politiek</span></a> <a href=\"https://mastodon.social/tags/klimaat\" class=\"mention hashtag\" rel=\"nofollow noopener noreferrer\" target=\"_blank\">#<span>klimaat</span></a></p>"
      ],
      "text/plain": [
       "<IPython.core.display.HTML object>"
      ]
     },
     "metadata": {},
     "output_type": "display_data"
    },
    {
     "name": "stdout",
     "output_type": "stream",
     "text": [
      "Date/Time: 2024-11-09 13:53:31+00:00\n",
      "____________________________________________________________________________________________________\n",
      "Toot 206\n",
      "\n"
     ]
    },
    {
     "data": {
      "text/html": [
       "<p><strong>Politiek zwaar weer &amp; tegengas: Van toeslagen naar basisinkomen</strong></p><p>Vereniging Basisinkomen: ‘Met de verkiezing van Trump in de VS komt de wereld in zwaar weer terecht. Maar&nbsp; je afvragen waarom die Amerikanen zo’n gekke en gevaarlijke man kiezen betekent ook je afvragen waarom Wilders in Nederland de grootste partij is.</p><p>Misschien heeft dat te maken met het feit dat veel mensen hun zekerheden kwijt zijn. Dat creëert een verlangen naar vroeger. Alleen gaat dat natuurlijk niet, wat weer meer frustratie oplevert. Steeds meer mensen hebben geen bestaanszekerheid meer. Andere definities van armoede kunnen dat niet verhullen. De regering Wilders maakt het nog erger.</p><p>ZZP-ers gaan scherper gecontroleerd worden. Het gevolg is dat 200.000 zorg ZZP-ers zich afvragen of ze wel door kunnen. Zij willen niet in vaste dienst en gaan de zorg verlaten. Met een basisinkomen zouden er juiste meer ZZP-ers komen, ook in de zorg.</p><p>Er is een mooie landelijke regeling dat gemeenten zwerfjongeren een tijdelijk basisinkomen mogen geven. Het Eindhovens Dagblad kopte ‘Proef met basisinkomen geslaagd’. Maar nu is de regering voornemens deze regeling af te schaffen, terwijl acht gemeenten er mee bezig zijn.</p><p>Staatssecretaris Folkert Idsinga had als VVD kamerlid al door dat er wat veranderen moet. Hij zei kort voor zijn aftreden dat hij varianten aan de Tweede Kamer zou voorleggen om de toeslagen te vervangen door een basistoelage die onafhankelijk is van je inkomen. Feitelijk een soort basisinkomen. Nu hij weg is moeten we maar afwachten of zijn opvolger de stukken van de ambtenaren naar de Tweede Kamer stuurt.’</p><p><strong>Bijeenkomst</strong></p><p>Vereniging Basisinkomen Nederland: ‘We gaan niet bij de pakken neerzitten. We organiseren samen met de drie basisinkomen werkgroepen van GL-PvdA, D66 en VOLT de bijeenkomst van toeslagen naar basisinkomen. En roepen iedereen op om 14 december een middagje vrij te maken en naar Utrecht te komen. Om te laten zien dat er een onderstroom is die de andere kant op wil. Om je medestanders te ontmoeten.’</p><p>DEBAT:&nbsp; december Stapsgewijs naar Basisinkomen. Op 14 zaterdag 14 december 2024 is er een bijeenkomst voor leden van politieke partijen, die bezig zijn basisinkomen. Niet-partijleden zijn ook van harte welkom. Zaterdagmiddag 14 december 13:00 – 17:00 uur. Geertekerk, Geertekerkhof 23, 3511 XC Utrecht.</p><p>Zie details: <a href=\"https://basisinkomen.nl/event/stapsgewijs-naar-basisinkomen-vooraankondiging/\" rel=\"nofollow noopener noreferrer\" target=\"_blank\">https://basisinkomen.nl/event/stapsgewijs-naar-basisinkomen-vooraankondiging/</a></p> Bron Basisinkomen Nederland <p><a rel=\"nofollow noopener noreferrer\" class=\"hashtag u-tag u-category\" href=\"https://boeddhistischdagblad.nl/tag/basisinkomen/\" target=\"_blank\">#basisinkomen</a> <a rel=\"nofollow noopener noreferrer\" class=\"hashtag u-tag u-category\" href=\"https://boeddhistischdagblad.nl/tag/bijeenkomst-politiek/\" target=\"_blank\">#bijeenkomstPolitiek</a> <a rel=\"nofollow noopener noreferrer\" class=\"hashtag u-tag u-category\" href=\"https://boeddhistischdagblad.nl/tag/trump/\" target=\"_blank\">#Trump</a> <a rel=\"nofollow noopener noreferrer\" class=\"hashtag u-tag u-category\" href=\"https://boeddhistischdagblad.nl/tag/wilders/\" target=\"_blank\">#wilders</a> <a rel=\"nofollow noopener noreferrer\" class=\"hashtag u-tag u-category\" href=\"https://boeddhistischdagblad.nl/tag/zorg/\" target=\"_blank\">#zorg</a> <a rel=\"nofollow noopener noreferrer\" class=\"hashtag u-tag u-category\" href=\"https://boeddhistischdagblad.nl/tag/zzp/\" target=\"_blank\">#zzp</a></p>"
      ],
      "text/plain": [
       "<IPython.core.display.HTML object>"
      ]
     },
     "metadata": {},
     "output_type": "display_data"
    },
    {
     "name": "stdout",
     "output_type": "stream",
     "text": [
      "Date/Time: 2024-11-09 13:14:15+00:00\n",
      "____________________________________________________________________________________________________\n",
      "Toot 207\n",
      "\n"
     ]
    },
    {
     "data": {
      "text/html": [
       "<p>\"De klimaatsite CarbonBrief berekende aan het begin van de Amerikaanse verkiezingscampagne dat de terugkeer van Trump in het Witte Huis kan leiden tot in totaal 4 miljard ton extra aan CO2-uitstoot. Die hoeveelheid zou alle uitstoot die de wereld in de afgelopen vijf jaar uitspaarde door duurzame opwekking, ruimschoots tenietdoen.\"</p><p><a href=\"https://nos.nl/artikel/2543795-team-trump-bereidt-terugtrekking-uit-klimaatakkoord-voor\" rel=\"nofollow noopener noreferrer\" translate=\"no\" target=\"_blank\"><span class=\"invisible\">https://</span><span class=\"ellipsis\">nos.nl/artikel/2543795-team-tr</span><span class=\"invisible\">ump-bereidt-terugtrekking-uit-klimaatakkoord-voor</span></a> </p><p><a href=\"https://mastodon.social/tags/Trump\" class=\"mention hashtag\" rel=\"nofollow noopener noreferrer\" target=\"_blank\">#<span>Trump</span></a> <a href=\"https://mastodon.social/tags/klimaatverandering\" class=\"mention hashtag\" rel=\"nofollow noopener noreferrer\" target=\"_blank\">#<span>klimaatverandering</span></a> <a href=\"https://mastodon.social/tags/politiek\" class=\"mention hashtag\" rel=\"nofollow noopener noreferrer\" target=\"_blank\">#<span>politiek</span></a></p>"
      ],
      "text/plain": [
       "<IPython.core.display.HTML object>"
      ]
     },
     "metadata": {},
     "output_type": "display_data"
    },
    {
     "name": "stdout",
     "output_type": "stream",
     "text": [
      "Date/Time: 2024-11-09 09:52:57+00:00\n",
      "____________________________________________________________________________________________________\n",
      "Toot 208\n",
      "\n"
     ]
    },
    {
     "data": {
      "text/html": [
       "<p>Als boer zou ik wanhopig worden van het beleid van dit kabinet, geen enkel uitzicht op een structurele oplossing voor het mestprobleem. <a href=\"https://mastodon.social/tags/BBB\" class=\"mention hashtag\" rel=\"nofollow noopener noreferrer\" target=\"_blank\">#<span>BBB</span></a> <a href=\"https://mastodon.social/tags/politiek\" class=\"mention hashtag\" rel=\"nofollow noopener noreferrer\" target=\"_blank\">#<span>politiek</span></a> <a href=\"https://mastodon.social/tags/mest\" class=\"mention hashtag\" rel=\"nofollow noopener noreferrer\" target=\"_blank\">#<span>mest</span></a> <a href=\"https://mastodon.social/tags/boeren\" class=\"mention hashtag\" rel=\"nofollow noopener noreferrer\" target=\"_blank\">#<span>boeren</span></a><br>Minister Wiersma: maatregelen zullen mestprobleem niet helemaal oplossen - <a href=\"https://nos.nl/l/2543609\" rel=\"nofollow noopener noreferrer\" translate=\"no\" target=\"_blank\"><span class=\"invisible\">https://</span><span class=\"\">nos.nl/l/2543609</span><span class=\"invisible\"></span></a></p>"
      ],
      "text/plain": [
       "<IPython.core.display.HTML object>"
      ]
     },
     "metadata": {},
     "output_type": "display_data"
    },
    {
     "name": "stdout",
     "output_type": "stream",
     "text": [
      "Date/Time: 2024-11-09 09:05:28+00:00\n",
      "____________________________________________________________________________________________________\n",
      "Toot 209\n",
      "\n"
     ]
    },
    {
     "data": {
      "text/html": [
       "<p>Situatie rond staatssecretaris Chris Jansen (PVV) op ministerie Infrastructuur &amp; Waterstaat escaleert.<br>Onrust Na omstreden uitspraken van Jansen zitten twee beleidsadviseurs ziek thuis en trekken 175 ambtenaren aan de bel in een vrijdagmiddag verstuurde brandbrief.<br><a href=\"https://mastodon.social/tags/politiek\" class=\"mention hashtag\" rel=\"nofollow noopener noreferrer\" target=\"_blank\">#<span>politiek</span></a> <a href=\"https://mastodon.social/tags/pvv\" class=\"mention hashtag\" rel=\"nofollow noopener noreferrer\" target=\"_blank\">#<span>pvv</span></a> <a href=\"https://mastodon.social/tags/chrisjansen\" class=\"mention hashtag\" rel=\"nofollow noopener noreferrer\" target=\"_blank\">#<span>chrisjansen</span></a> <br>Situatie rond staatssecretaris Chris Jansen (PVV) op ministerie Infrastructuur &amp; Waterstaat escaleert <a href=\"https://www.nrc.nl/nieuws/2024/11/08/onrust-situatie-rond-staatssecretaris-chris-jansen-pvv-op-ministerie-infrastructuur-waterstaat-escaleert-a4872443\" rel=\"nofollow noopener noreferrer\" translate=\"no\" target=\"_blank\"><span class=\"invisible\">https://www.</span><span class=\"ellipsis\">nrc.nl/nieuws/2024/11/08/onrus</span><span class=\"invisible\">t-situatie-rond-staatssecretaris-chris-jansen-pvv-op-ministerie-infrastructuur-waterstaat-escaleert-a4872443</span></a></p>"
      ],
      "text/plain": [
       "<IPython.core.display.HTML object>"
      ]
     },
     "metadata": {},
     "output_type": "display_data"
    },
    {
     "name": "stdout",
     "output_type": "stream",
     "text": [
      "Date/Time: 2024-11-08 18:02:12+00:00\n",
      "____________________________________________________________________________________________________\n",
      "Toot 210\n",
      "\n"
     ]
    },
    {
     "data": {
      "text/html": [
       "<p>Dit soort belangrijke dingen die iedereen raken sneeuwen volstrekt onder door alle ophef. Alles wordt duurder voor iedereen.<br>Tweede Kamer steunt btw-verhogingen, ondanks felle kritiek van oppositie - <a href=\"https://nos.nl/l/2543726\" rel=\"nofollow noopener noreferrer\" translate=\"no\" target=\"_blank\"><span class=\"invisible\">https://</span><span class=\"\">nos.nl/l/2543726</span><span class=\"invisible\"></span></a><br><a href=\"https://mastodon.social/tags/politiek\" class=\"mention hashtag\" rel=\"nofollow noopener noreferrer\" target=\"_blank\">#<span>politiek</span></a> <a href=\"https://mastodon.social/tags/btw\" class=\"mention hashtag\" rel=\"nofollow noopener noreferrer\" target=\"_blank\">#<span>btw</span></a> <a href=\"https://mastodon.social/tags/pvv\" class=\"mention hashtag\" rel=\"nofollow noopener noreferrer\" target=\"_blank\">#<span>pvv</span></a> <a href=\"https://mastodon.social/tags/vvd\" class=\"mention hashtag\" rel=\"nofollow noopener noreferrer\" target=\"_blank\">#<span>vvd</span></a></p>"
      ],
      "text/plain": [
       "<IPython.core.display.HTML object>"
      ]
     },
     "metadata": {},
     "output_type": "display_data"
    },
    {
     "name": "stdout",
     "output_type": "stream",
     "text": [
      "Date/Time: 2024-11-08 16:31:20+00:00\n",
      "____________________________________________________________________________________________________\n",
      "Toot 211\n",
      "\n"
     ]
    },
    {
     "data": {
      "text/html": [
       "<p>Waarom gaat een fractie-voorzitter een Minister van een ander land ontvangen? Ongepast en ongebruikelijk. Schoffering van het protocol, er zijn toch ook vice-premiers? (zoals Agema)<br><a href=\"https://mastodon.social/tags/Wilders\" class=\"mention hashtag\" rel=\"nofollow noopener noreferrer\" target=\"_blank\">#<span>Wilders</span></a> <a href=\"https://mastodon.social/tags/Schoof\" class=\"mention hashtag\" rel=\"nofollow noopener noreferrer\" target=\"_blank\">#<span>Schoof</span></a> <a href=\"https://mastodon.social/tags/politiek\" class=\"mention hashtag\" rel=\"nofollow noopener noreferrer\" target=\"_blank\">#<span>politiek</span></a></p>"
      ],
      "text/plain": [
       "<IPython.core.display.HTML object>"
      ]
     },
     "metadata": {},
     "output_type": "display_data"
    },
    {
     "name": "stdout",
     "output_type": "stream",
     "text": [
      "Date/Time: 2024-11-08 15:48:32+00:00\n",
      "____________________________________________________________________________________________________\n",
      "Toot 212\n",
      "\n"
     ]
    },
    {
     "data": {
      "text/html": [
       "<p>Niet eensgezind optrekken of gezamenlijk actie ondernemen maar elkaar de les lezen , wat een politieke armoede deze coalitie. Nog los van de inhoud van de discussie.<br><a href=\"https://mastodon.social/tags/politiek\" class=\"mention hashtag\" rel=\"nofollow noopener noreferrer\" target=\"_blank\">#<span>politiek</span></a> <a href=\"https://mastodon.social/tags/pvv\" class=\"mention hashtag\" rel=\"nofollow noopener noreferrer\" target=\"_blank\">#<span>pvv</span></a> <a href=\"https://mastodon.social/tags/vvd\" class=\"mention hashtag\" rel=\"nofollow noopener noreferrer\" target=\"_blank\">#<span>vvd</span></a> <a href=\"https://mastodon.social/tags/wilders\" class=\"mention hashtag\" rel=\"nofollow noopener noreferrer\" target=\"_blank\">#<span>wilders</span></a></p>"
      ],
      "text/plain": [
       "<IPython.core.display.HTML object>"
      ]
     },
     "metadata": {},
     "output_type": "display_data"
    },
    {
     "name": "stdout",
     "output_type": "stream",
     "text": [
      "Date/Time: 2024-11-08 15:10:44+00:00\n",
      "____________________________________________________________________________________________________\n",
      "Toot 213\n",
      "\n"
     ]
    },
    {
     "data": {
      "text/html": [
       "<p><span class=\"h-card\" translate=\"no\"><a href=\"https://mastodon.social/@johannesbeers\" class=\"u-url mention\">@<span>johannesbeers</span></a></span></p><p>/2<br />Dat betekent wel dat wij (gebruikers/lezers) veel meer journalisten/media stelselmatig moeten ondersteunen:</p><p>Journalistiek is niet gratis!</p><p>Vooral bij onderzoek kost dat vele uren werk waar een journalist &#39;gewoon&#39; z&#39;n, brood mee moet kunnen verdienen.</p><p><a href=\"https://mastodon.nl/tags/Politiek\" class=\"mention hashtag\" rel=\"tag\">#<span>Politiek</span></a> <a href=\"https://mastodon.nl/tags/Media\" class=\"mention hashtag\" rel=\"tag\">#<span>Media</span></a> <a href=\"https://mastodon.nl/tags/Journalistiek\" class=\"mention hashtag\" rel=\"tag\">#<span>Journalistiek</span></a></p>"
      ],
      "text/plain": [
       "<IPython.core.display.HTML object>"
      ]
     },
     "metadata": {},
     "output_type": "display_data"
    },
    {
     "name": "stdout",
     "output_type": "stream",
     "text": [
      "Date/Time: 2024-11-08 12:11:04.033000+00:00\n",
      "____________________________________________________________________________________________________\n",
      "Toot 214\n",
      "\n"
     ]
    },
    {
     "data": {
      "text/html": [
       "<p><span class=\"h-card\" translate=\"no\"><a href=\"https://mastodon.social/@johannesbeers\" class=\"u-url mention\">@<span>johannesbeers</span></a></span> omdat menig Haagse journalist (en media) niet in ongenade wil vallen en daarmee geen aantrekkelijke gasten aan talkshowtafels krijgt.</p><p>Eigenlijk corrumperem ze elkaar al heel lang en weten dat ook eigenlijk wel.<br />Een oplossing is er alleen niet. Aan beide kanten teveel belangen om dit in stand te houden.</p><p>9k denk dat we het meer en meer zullen moeten hebben van journalisten die dankzij internet meer zelfstandig of in kleiner verband een bestaan kunnen opbouwen.<br />/2</p><p><a href=\"https://mastodon.nl/tags/Politiek\" class=\"mention hashtag\" rel=\"tag\">#<span>Politiek</span></a> <a href=\"https://mastodon.nl/tags/Media\" class=\"mention hashtag\" rel=\"tag\">#<span>Media</span></a></p>"
      ],
      "text/plain": [
       "<IPython.core.display.HTML object>"
      ]
     },
     "metadata": {},
     "output_type": "display_data"
    },
    {
     "name": "stdout",
     "output_type": "stream",
     "text": [
      "Date/Time: 2024-11-08 12:08:30.416000+00:00\n",
      "____________________________________________________________________________________________________\n",
      "Toot 215\n",
      "\n"
     ]
    },
    {
     "data": {
      "text/html": [
       "<p>Wat ik echt eng vind is de voortdurende toenemende polarisatie, door het conflict in Gaza, dat leidt tot incidenten en geweld, bepaalde politici grijpen dat weer aan om verder te polariseren en zo door...<br>De politieke samenstelling van ons huidige kabinet helpt daar niet bij. We hebben mensen nodig die misstanden hard aanpakken maar tegelijk kalmte uitstralen en proberen te depolariseren ipv er politiek een slaatje uit te slaan.<br><a href=\"https://mastodon.social/tags/politiek\" class=\"mention hashtag\" rel=\"nofollow noopener noreferrer\" target=\"_blank\">#<span>politiek</span></a> <a href=\"https://mastodon.social/tags/polarisatie\" class=\"mention hashtag\" rel=\"nofollow noopener noreferrer\" target=\"_blank\">#<span>polarisatie</span></a> <a href=\"https://mastodon.social/tags/amsterdam\" class=\"mention hashtag\" rel=\"nofollow noopener noreferrer\" target=\"_blank\">#<span>amsterdam</span></a> <a href=\"https://mastodon.social/tags/wilders\" class=\"mention hashtag\" rel=\"nofollow noopener noreferrer\" target=\"_blank\">#<span>wilders</span></a></p>"
      ],
      "text/plain": [
       "<IPython.core.display.HTML object>"
      ]
     },
     "metadata": {},
     "output_type": "display_data"
    },
    {
     "name": "stdout",
     "output_type": "stream",
     "text": [
      "Date/Time: 2024-11-08 10:31:21+00:00\n",
      "____________________________________________________________________________________________________\n",
      "Toot 216\n",
      "\n"
     ]
    },
    {
     "data": {
      "text/html": [
       "<p>\"Waarom dacht hij dat hij met Trump kon werken? Nee, hij kan niet beweren dat hij dacht dat hij Trump de goede kant op kon duwen. Hij wilde gewoon zelf ook op het podium staan. ‘Het was allemaal ego, het was allemaal trots’, zegt Scaramucci. Hij was geen haar beter dan Trump dus, maar hé, hij probeert het nu tenminste ongedaan te maken.\"</p><p><a href=\"https://www.groene.nl/artikel/payback-time\" rel=\"nofollow noopener noreferrer\" translate=\"no\" target=\"_blank\"><span class=\"invisible\">https://www.</span><span class=\"\">groene.nl/artikel/payback-time</span><span class=\"invisible\"></span></a> <a href=\"https://mastodon.social/tags/Trump\" class=\"mention hashtag\" rel=\"nofollow noopener noreferrer\" target=\"_blank\">#<span>Trump</span></a> <a href=\"https://mastodon.social/tags/Scaramucci\" class=\"mention hashtag\" rel=\"nofollow noopener noreferrer\" target=\"_blank\">#<span>Scaramucci</span></a> <a href=\"https://mastodon.social/tags/politiek\" class=\"mention hashtag\" rel=\"nofollow noopener noreferrer\" target=\"_blank\">#<span>politiek</span></a></p>"
      ],
      "text/plain": [
       "<IPython.core.display.HTML object>"
      ]
     },
     "metadata": {},
     "output_type": "display_data"
    },
    {
     "name": "stdout",
     "output_type": "stream",
     "text": [
      "Date/Time: 2024-11-08 10:05:10+00:00\n",
      "____________________________________________________________________________________________________\n",
      "Toot 217\n",
      "\n"
     ]
    },
    {
     "data": {
      "text/html": [
       "<p>‘Ik diesel gewoon door’, zegt asielminister Faber. Maar de Kamer vraagt zich af: waarmee precies? | de <a href=\"https://mastodon.nl/tags/Volkskrant\" class=\"mention hashtag\" rel=\"tag\">#<span>Volkskrant</span></a><br /><a href=\"https://www.volkskrant.nl/politiek/ik-diesel-gewoon-door-zegt-asielminister-faber-maar-de-kamer-vraagt-zich-af-waarmee-precies~b2d55613/\" target=\"_blank\" rel=\"nofollow noopener noreferrer\" translate=\"no\"><span class=\"invisible\">https://www.</span><span class=\"ellipsis\">volkskrant.nl/politiek/ik-dies</span><span class=\"invisible\">el-gewoon-door-zegt-asielminister-faber-maar-de-kamer-vraagt-zich-af-waarmee-precies~b2d55613/</span></a></p><p>&#39;Coalitiepartijen PVV, VVD, NSC en BBB bemoeien zich niet tot nauwelijks met het debat.&#39;</p><p>Laten we gewoon even vaststellen dat <a href=\"https://mastodon.nl/tags/dievier\" class=\"mention hashtag\" rel=\"tag\">#<span>dievier</span></a> het helemaal prima vinden dat een totaal incapabele minister op haar post blijft zitten.</p><p>Al vast een reminder voor een volgende keer dat u eventueel op een van die partijen gaat stemmen.</p><p><a href=\"https://mastodon.nl/tags/Politiek\" class=\"mention hashtag\" rel=\"tag\">#<span>Politiek</span></a> <a href=\"https://mastodon.nl/tags/Faber\" class=\"mention hashtag\" rel=\"tag\">#<span>Faber</span></a> <a href=\"https://mastodon.nl/tags/Begroting\" class=\"mention hashtag\" rel=\"tag\">#<span>Begroting</span></a></p>"
      ],
      "text/plain": [
       "<IPython.core.display.HTML object>"
      ]
     },
     "metadata": {},
     "output_type": "display_data"
    },
    {
     "name": "stdout",
     "output_type": "stream",
     "text": [
      "Date/Time: 2024-11-08 06:22:21.499000+00:00\n",
      "____________________________________________________________________________________________________\n",
      "Toot 218\n",
      "\n"
     ]
    },
    {
     "data": {
      "text/html": [
       "<p>\"Bij ieder landbouwdebat wordt steeds duidelijker dat de veehouderij afstevent op een pijnlijke sanering. Bedrijven zullen stoppen of omvallen, omdat ze met minder vee niet rondkomen of de kosten van mestafzet niet kunnen betalen. Ook kan er een „generieke korting” op dierenrechten komen, waardoor veehouders wel moeten inkrimpen. De zorg is dat boeren zullen frauderen met hun mestboekhouding, of illegaal overtollige mest gaan uitrijden.\"</p><p><a href=\"https://www.nrc.nl/nieuws/2024/11/07/ieder-landbouwdebat-wordt-duidelijker-dat-nederland-afstevent-op-een-pijnlijke-sanering-onder-veehouders-a4872278\" rel=\"nofollow noopener noreferrer\" translate=\"no\" target=\"_blank\"><span class=\"invisible\">https://www.</span><span class=\"ellipsis\">nrc.nl/nieuws/2024/11/07/ieder</span><span class=\"invisible\">-landbouwdebat-wordt-duidelijker-dat-nederland-afstevent-op-een-pijnlijke-sanering-onder-veehouders-a4872278</span></a> <a href=\"https://mastodon.social/tags/BBB\" class=\"mention hashtag\" rel=\"nofollow noopener noreferrer\" target=\"_blank\">#<span>BBB</span></a> <a href=\"https://mastodon.social/tags/politiek\" class=\"mention hashtag\" rel=\"nofollow noopener noreferrer\" target=\"_blank\">#<span>politiek</span></a></p>"
      ],
      "text/plain": [
       "<IPython.core.display.HTML object>"
      ]
     },
     "metadata": {},
     "output_type": "display_data"
    },
    {
     "name": "stdout",
     "output_type": "stream",
     "text": [
      "Date/Time: 2024-11-08 00:15:27+00:00\n",
      "____________________________________________________________________________________________________\n",
      "Toot 219\n",
      "\n"
     ]
    },
    {
     "data": {
      "text/html": [
       "<p>\"NSC bleef volhouden vertrouwen te hebben in de plannen van Faber. \"Besturen is ook bijsturen\", zei NSC'er Diederik Boomsma. \"Als blijkt dat dat nodig is, dan zullen we dat ook doen.\"</p><p>Natuurlijk, vertrouwen. Daar is ook alle reden toe. <a href=\"https://mastodon.social/tags/kuch\" class=\"mention hashtag\" rel=\"nofollow noopener noreferrer\" target=\"_blank\">#<span>kuch</span></a>  </p><p><a href=\"https://www.nu.nl/politiek/6334547/faber-lijnrecht-tegenover-oppositie-over-totaal-onverantwoordelijke-asielbegroting.html\" rel=\"nofollow noopener noreferrer\" translate=\"no\" target=\"_blank\"><span class=\"invisible\">https://www.</span><span class=\"ellipsis\">nu.nl/politiek/6334547/faber-l</span><span class=\"invisible\">ijnrecht-tegenover-oppositie-over-totaal-onverantwoordelijke-asielbegroting.html</span></a> <br><a href=\"https://mastodon.social/tags/NSC\" class=\"mention hashtag\" rel=\"nofollow noopener noreferrer\" target=\"_blank\">#<span>NSC</span></a> <a href=\"https://mastodon.social/tags/Boomsma\" class=\"mention hashtag\" rel=\"nofollow noopener noreferrer\" target=\"_blank\">#<span>Boomsma</span></a> <a href=\"https://mastodon.social/tags/PVV\" class=\"mention hashtag\" rel=\"nofollow noopener noreferrer\" target=\"_blank\">#<span>PVV</span></a> <a href=\"https://mastodon.social/tags/Faber\" class=\"mention hashtag\" rel=\"nofollow noopener noreferrer\" target=\"_blank\">#<span>Faber</span></a> <a href=\"https://mastodon.social/tags/politiek\" class=\"mention hashtag\" rel=\"nofollow noopener noreferrer\" target=\"_blank\">#<span>politiek</span></a></p>"
      ],
      "text/plain": [
       "<IPython.core.display.HTML object>"
      ]
     },
     "metadata": {},
     "output_type": "display_data"
    },
    {
     "name": "stdout",
     "output_type": "stream",
     "text": [
      "Date/Time: 2024-11-07 22:31:36+00:00\n",
      "____________________________________________________________________________________________________\n",
      "Toot 220\n",
      "\n"
     ]
    },
    {
     "data": {
      "text/html": [
       "<p>‘Ik diesel gewoon door’, zegt asielminister Faber. Maar de Kamer vraagt zich af: waarmee precies?</p><p><a href=\"https://www.volkskrant.nl/politiek/ik-diesel-gewoon-door-zegt-asielminister-faber-maar-de-kamer-vraagt-zich-af-waarmee-precies~b2d55613/\" rel=\"nofollow noopener noreferrer\" translate=\"no\" target=\"_blank\"><span class=\"invisible\">https://www.</span><span class=\"ellipsis\">volkskrant.nl/politiek/ik-dies</span><span class=\"invisible\">el-gewoon-door-zegt-asielminister-faber-maar-de-kamer-vraagt-zich-af-waarmee-precies~b2d55613/</span></a></p><p><a href=\"https://www.tweedekamer.nl/kamerstukken/plenaire_verslagen/detail/2024-2025/21\" rel=\"nofollow noopener noreferrer\" translate=\"no\" target=\"_blank\"><span class=\"invisible\">https://www.</span><span class=\"ellipsis\">tweedekamer.nl/kamerstukken/pl</span><span class=\"invisible\">enaire_verslagen/detail/2024-2025/21</span></a></p><p><a href=\"https://mastodon.social/tags/PVV\" class=\"mention hashtag\" rel=\"nofollow noopener noreferrer\" target=\"_blank\">#<span>PVV</span></a> <a href=\"https://mastodon.social/tags/Faber\" class=\"mention hashtag\" rel=\"nofollow noopener noreferrer\" target=\"_blank\">#<span>Faber</span></a> <a href=\"https://mastodon.social/tags/asielbegroting\" class=\"mention hashtag\" rel=\"nofollow noopener noreferrer\" target=\"_blank\">#<span>asielbegroting</span></a> <a href=\"https://mastodon.social/tags/asiel\" class=\"mention hashtag\" rel=\"nofollow noopener noreferrer\" target=\"_blank\">#<span>asiel</span></a> <a href=\"https://mastodon.social/tags/asielnoodmaatregelenwet\" class=\"mention hashtag\" rel=\"nofollow noopener noreferrer\" target=\"_blank\">#<span>asielnoodmaatregelenwet</span></a> <a href=\"https://mastodon.social/tags/politiek\" class=\"mention hashtag\" rel=\"nofollow noopener noreferrer\" target=\"_blank\">#<span>politiek</span></a></p>"
      ],
      "text/plain": [
       "<IPython.core.display.HTML object>"
      ]
     },
     "metadata": {},
     "output_type": "display_data"
    },
    {
     "name": "stdout",
     "output_type": "stream",
     "text": [
      "Date/Time: 2024-11-07 22:17:21+00:00\n",
      "____________________________________________________________________________________________________\n",
      "Toot 221\n",
      "\n"
     ]
    },
    {
     "data": {
      "text/html": [
       "<p>‘Ik diesel gewoon door’, zegt asielminister Faber. Maar de Kamer vraagt zich af: waarmee precies?</p><p><a href=\"https://www.volkskrant.nl/politiek/ik-diesel-gewoon-door-zegt-asielminister-faber-maar-de-kamer-vraagt-zich-af-waarmee-precies~b2d55613/\" rel=\"nofollow noopener noreferrer\" translate=\"no\" target=\"_blank\"><span class=\"invisible\">https://www.</span><span class=\"ellipsis\">volkskrant.nl/politiek/ik-dies</span><span class=\"invisible\">el-gewoon-door-zegt-asielminister-faber-maar-de-kamer-vraagt-zich-af-waarmee-precies~b2d55613/</span></a></p><p><a href=\"https://www.tweedekamer.nl/kamerstukken/plenaire_verslagen/detail/2024-2025/21\" rel=\"nofollow noopener noreferrer\" translate=\"no\" target=\"_blank\"><span class=\"invisible\">https://www.</span><span class=\"ellipsis\">tweedekamer.nl/kamerstukken/pl</span><span class=\"invisible\">enaire_verslagen/detail/2024-2025/21</span></a></p><p><a href=\"https://mastodon.social/tags/PVV\" class=\"mention hashtag\" rel=\"nofollow noopener noreferrer\" target=\"_blank\">#<span>PVV</span></a> <a href=\"https://mastodon.social/tags/Faber\" class=\"mention hashtag\" rel=\"nofollow noopener noreferrer\" target=\"_blank\">#<span>Faber</span></a> <a href=\"https://mastodon.social/tags/asielbegroting\" class=\"mention hashtag\" rel=\"nofollow noopener noreferrer\" target=\"_blank\">#<span>asielbegroting</span></a> <a href=\"https://mastodon.social/tags/asiel\" class=\"mention hashtag\" rel=\"nofollow noopener noreferrer\" target=\"_blank\">#<span>asiel</span></a> <a href=\"https://mastodon.social/tags/asielnoodmaatregelenwet\" class=\"mention hashtag\" rel=\"nofollow noopener noreferrer\" target=\"_blank\">#<span>asielnoodmaatregelenwet</span></a> <a href=\"https://mastodon.social/tags/politiek\" class=\"mention hashtag\" rel=\"nofollow noopener noreferrer\" target=\"_blank\">#<span>politiek</span></a></p>"
      ],
      "text/plain": [
       "<IPython.core.display.HTML object>"
      ]
     },
     "metadata": {},
     "output_type": "display_data"
    },
    {
     "name": "stdout",
     "output_type": "stream",
     "text": [
      "Date/Time: 2024-11-07 22:17:21+00:00\n",
      "____________________________________________________________________________________________________\n",
      "Toot 222\n",
      "\n"
     ]
    },
    {
     "data": {
      "text/html": [
       "<p>‘Ik schaam me helemaal niet kapot’, zegt asielminister Marjolein Faber</p><p>Klopt.</p><p><a href=\"https://www.trouw.nl/politiek/ik-schaam-me-helemaal-niet-kapot-zegt-asielminister-marjolein-faber~b5dc373c/\" rel=\"nofollow noopener noreferrer\" translate=\"no\" target=\"_blank\"><span class=\"invisible\">https://www.</span><span class=\"ellipsis\">trouw.nl/politiek/ik-schaam-me</span><span class=\"invisible\">-helemaal-niet-kapot-zegt-asielminister-marjolein-faber~b5dc373c/</span></a></p><p><a href=\"https://www.tweedekamer.nl/kamerstukken/plenaire_verslagen/detail/2024-2025/21\" rel=\"nofollow noopener noreferrer\" translate=\"no\" target=\"_blank\"><span class=\"invisible\">https://www.</span><span class=\"ellipsis\">tweedekamer.nl/kamerstukken/pl</span><span class=\"invisible\">enaire_verslagen/detail/2024-2025/21</span></a> </p><p><a href=\"https://mastodon.social/tags/Faber\" class=\"mention hashtag\" rel=\"nofollow noopener noreferrer\" target=\"_blank\">#<span>Faber</span></a> <a href=\"https://mastodon.social/tags/PVV\" class=\"mention hashtag\" rel=\"nofollow noopener noreferrer\" target=\"_blank\">#<span>PVV</span></a> <a href=\"https://mastodon.social/tags/asielnoodmaatregelenwet\" class=\"mention hashtag\" rel=\"nofollow noopener noreferrer\" target=\"_blank\">#<span>asielnoodmaatregelenwet</span></a> <br><a href=\"https://mastodon.social/tags/asielbegroting\" class=\"mention hashtag\" rel=\"nofollow noopener noreferrer\" target=\"_blank\">#<span>asielbegroting</span></a> <a href=\"https://mastodon.social/tags/politiek\" class=\"mention hashtag\" rel=\"nofollow noopener noreferrer\" target=\"_blank\">#<span>politiek</span></a></p>"
      ],
      "text/plain": [
       "<IPython.core.display.HTML object>"
      ]
     },
     "metadata": {},
     "output_type": "display_data"
    },
    {
     "name": "stdout",
     "output_type": "stream",
     "text": [
      "Date/Time: 2024-11-07 21:58:30+00:00\n",
      "____________________________________________________________________________________________________\n",
      "Toot 223\n",
      "\n"
     ]
    },
    {
     "data": {
      "text/html": [
       "<p>Minister <a href=\"https://mastodon.social/tags/Faber\" class=\"mention hashtag\" rel=\"nofollow noopener noreferrer\" target=\"_blank\">#<span>Faber</span></a> kort even wat af, voor de duidelijkheid, begrijpt u wel.</p><p>\"Dat is een van de maatregelen die we gaan nemen. Die komt ook in — ik noem het even in de afgekorte vorm — de spoedwet. Dat is de asielnoodmaatregelenwet, die ik even afkort tot \"spoedwet\". Dan weet iedereen waar ik het over heb.\"</p><p><a href=\"https://www.tweedekamer.nl/kamerstukken/plenaire_verslagen/detail/2024-2025/21\" rel=\"nofollow noopener noreferrer\" translate=\"no\" target=\"_blank\"><span class=\"invisible\">https://www.</span><span class=\"ellipsis\">tweedekamer.nl/kamerstukken/pl</span><span class=\"invisible\">enaire_verslagen/detail/2024-2025/21</span></a></p><p><a href=\"https://mastodon.social/tags/PVV\" class=\"mention hashtag\" rel=\"nofollow noopener noreferrer\" target=\"_blank\">#<span>PVV</span></a> <a href=\"https://mastodon.social/tags/politiek\" class=\"mention hashtag\" rel=\"nofollow noopener noreferrer\" target=\"_blank\">#<span>politiek</span></a> <a href=\"https://mastodon.social/tags/asielnoodmaatregelenwet\" class=\"mention hashtag\" rel=\"nofollow noopener noreferrer\" target=\"_blank\">#<span>asielnoodmaatregelenwet</span></a></p>"
      ],
      "text/plain": [
       "<IPython.core.display.HTML object>"
      ]
     },
     "metadata": {},
     "output_type": "display_data"
    },
    {
     "name": "stdout",
     "output_type": "stream",
     "text": [
      "Date/Time: 2024-11-07 21:49:53+00:00\n",
      "____________________________________________________________________________________________________\n",
      "Toot 224\n",
      "\n"
     ]
    },
    {
     "data": {
      "text/html": [
       "<p><span class=\"h-card\" translate=\"no\"><a href=\"https://mas.to/@rolf\" class=\"u-url mention\">@<span>rolf</span></a></span> we hebben t kabinet van de falende plannen.. Een plan dat wel zou werken door laten gaan is dan natuurlijk van de zotte en moet ook ten koste van alles voorkomen worden.</p><p><a href=\"https://mastodon.nl/tags/Politiek\" class=\"mention hashtag\" rel=\"tag\">#<span>Politiek</span></a> <a href=\"https://mastodon.nl/tags/dievier\" class=\"mention hashtag\" rel=\"tag\">#<span>dievier</span></a></p>"
      ],
      "text/plain": [
       "<IPython.core.display.HTML object>"
      ]
     },
     "metadata": {},
     "output_type": "display_data"
    },
    {
     "name": "stdout",
     "output_type": "stream",
     "text": [
      "Date/Time: 2024-11-07 13:50:28.857000+00:00\n",
      "____________________________________________________________________________________________________\n",
      "Toot 225\n",
      "\n"
     ]
    },
    {
     "data": {
      "text/html": [
       "<p>2/2  'Plato wees op een bijzonder risico voor tirannen: dat zij uiteindelijk zouden worden omringd door jaknikkers en ‘enablers’. Aristoteles maakte zich zorgen dat in een democratie een rijke en getalenteerde demagoog zich maar al te gemakkelijk meester zou kunnen maken van de geesten van de bevolking. Zich bewust van deze en andere risico’s hebben de opstellers van de grondwet een systeem van ‘checks and balances’ ontworpen. '</p><p><a href=\"https://mastodon.social/tags/Trump\" class=\"mention hashtag\" rel=\"nofollow noopener noreferrer\" target=\"_blank\">#<span>Trump</span></a> <a href=\"https://mastodon.social/tags/politiek\" class=\"mention hashtag\" rel=\"nofollow noopener noreferrer\" target=\"_blank\">#<span>politiek</span></a></p>"
      ],
      "text/plain": [
       "<IPython.core.display.HTML object>"
      ]
     },
     "metadata": {},
     "output_type": "display_data"
    },
    {
     "name": "stdout",
     "output_type": "stream",
     "text": [
      "Date/Time: 2024-11-07 11:25:58+00:00\n",
      "____________________________________________________________________________________________________\n",
      "Toot 226\n",
      "\n"
     ]
    },
    {
     "data": {
      "text/html": [
       "<p>Archief <span class=\"h-card\" translate=\"no\"><a href=\"https://social.groene.nl/@DeGroene\" class=\"u-url mention\" rel=\"nofollow noopener noreferrer\" target=\"_blank\">@<span>DeGroene</span></a></span> </p><p>Essay Timothy Snyder -  20 jan.'21</p><p>'Inzicht in het verleden helpt ons om het heden te begrijpen. Begrip van het fascisme werpt verhelderend licht op het presidentschap van Trump, de motivatie van de woedende meutes – en wat hierna gaat komen.  Is het rechtse witte nationalisme de grootste terroristische dreiging in Amerika?'</p><p>De hogepriester van de grote leugen</p><p><a href=\"https://www.groene.nl/artikel/de-hogepriester-van-de-grote-leugen\" rel=\"nofollow noopener noreferrer\" translate=\"no\" target=\"_blank\"><span class=\"invisible\">https://www.</span><span class=\"ellipsis\">groene.nl/artikel/de-hogepries</span><span class=\"invisible\">ter-van-de-grote-leugen</span></a><br><a href=\"https://mastodon.social/tags/Trump\" class=\"mention hashtag\" rel=\"nofollow noopener noreferrer\" target=\"_blank\">#<span>Trump</span></a> <a href=\"https://mastodon.social/tags/fascisme\" class=\"mention hashtag\" rel=\"nofollow noopener noreferrer\" target=\"_blank\">#<span>fascisme</span></a> <a href=\"https://mastodon.social/tags/politiek\" class=\"mention hashtag\" rel=\"nofollow noopener noreferrer\" target=\"_blank\">#<span>politiek</span></a></p>"
      ],
      "text/plain": [
       "<IPython.core.display.HTML object>"
      ]
     },
     "metadata": {},
     "output_type": "display_data"
    },
    {
     "name": "stdout",
     "output_type": "stream",
     "text": [
      "Date/Time: 2024-11-07 11:21:48+00:00\n",
      "____________________________________________________________________________________________________\n",
      "Toot 227\n",
      "\n"
     ]
    },
    {
     "data": {
      "text/html": [
       "<p>Archief <span class=\"h-card\" translate=\"no\"><a href=\"https://social.groene.nl/@DeGroene\" class=\"u-url mention\" rel=\"nofollow noopener noreferrer\" target=\"_blank\">@<span>DeGroene</span></a></span> 28 aug.'24 </p><p>Wraak en vernietiging </p><p>'Een ‘experiment in autocratie’, zo omschrijft de historicus Heather Cox Richardson de vier Trump-jaren van 2016 tot 2020 in haar boek Democracy Awakening: Notes on the State of America. Nog vier jaar zou het experiment tot een nieuwe norm maken. Trumps eigen woorden voeden de vrees dat de mogelijkheid voor Amerika om daarna nog een andere koers in te slaan weleens verdwenen zou kunnen zijn.'</p><p><a href=\"https://www.groene.nl/artikel/wraak-en-vernietiging\" rel=\"nofollow noopener noreferrer\" translate=\"no\" target=\"_blank\"><span class=\"invisible\">https://www.</span><span class=\"ellipsis\">groene.nl/artikel/wraak-en-ver</span><span class=\"invisible\">nietiging</span></a> <a href=\"https://mastodon.social/tags/Trump\" class=\"mention hashtag\" rel=\"nofollow noopener noreferrer\" target=\"_blank\">#<span>Trump</span></a> <a href=\"https://mastodon.social/tags/politiek\" class=\"mention hashtag\" rel=\"nofollow noopener noreferrer\" target=\"_blank\">#<span>politiek</span></a></p>"
      ],
      "text/plain": [
       "<IPython.core.display.HTML object>"
      ]
     },
     "metadata": {},
     "output_type": "display_data"
    },
    {
     "name": "stdout",
     "output_type": "stream",
     "text": [
      "Date/Time: 2024-11-07 11:02:11+00:00\n",
      "____________________________________________________________________________________________________\n",
      "Toot 228\n",
      "\n"
     ]
    },
    {
     "data": {
      "text/html": [
       "<p>2/2   <a href=\"https://mastodon.social/tags/Trump\" class=\"mention hashtag\" rel=\"nofollow noopener noreferrer\" target=\"_blank\">#<span>Trump</span></a> <a href=\"https://mastodon.social/tags/fascist\" class=\"mention hashtag\" rel=\"nofollow noopener noreferrer\" target=\"_blank\">#<span>fascist</span></a> <a href=\"https://mastodon.social/tags/politiek\" class=\"mention hashtag\" rel=\"nofollow noopener noreferrer\" target=\"_blank\">#<span>politiek</span></a></p><p><a href=\"https://www.groene.nl/artikel/wraak-op-iedereen\" rel=\"nofollow noopener noreferrer\" translate=\"no\" target=\"_blank\"><span class=\"invisible\">https://www.</span><span class=\"ellipsis\">groene.nl/artikel/wraak-op-ied</span><span class=\"invisible\">ereen</span></a></p>"
      ],
      "text/plain": [
       "<IPython.core.display.HTML object>"
      ]
     },
     "metadata": {},
     "output_type": "display_data"
    },
    {
     "name": "stdout",
     "output_type": "stream",
     "text": [
      "Date/Time: 2024-11-07 10:57:02+00:00\n",
      "____________________________________________________________________________________________________\n",
      "Toot 229\n",
      "\n"
     ]
    },
    {
     "data": {
      "text/html": [
       "<p>Wraak op iedereen</p><p>\"Bij Trump-II hoort de vaststelling dat Trump niet een uitschieter was, een freak accident dat alleen mogelijk was door Amerika’s winner-takes-all systeem en de verwachting van veel kiezers dat Trump een normale conservatief plus capriolen was. Maar de capriolen zíjn Trumps politiek en de waarheid is: dit is de president die Amerika wil.\"</p><p><a href=\"https://www.groene.nl/artikel/wraak-op-iedereen\" rel=\"nofollow noopener noreferrer\" translate=\"no\" target=\"_blank\"><span class=\"invisible\">https://www.</span><span class=\"ellipsis\">groene.nl/artikel/wraak-op-ied</span><span class=\"invisible\">ereen</span></a> <a href=\"https://mastodon.social/tags/Trump\" class=\"mention hashtag\" rel=\"nofollow noopener noreferrer\" target=\"_blank\">#<span>Trump</span></a> <a href=\"https://mastodon.social/tags/fascist\" class=\"mention hashtag\" rel=\"nofollow noopener noreferrer\" target=\"_blank\">#<span>fascist</span></a> <a href=\"https://mastodon.social/tags/politiek\" class=\"mention hashtag\" rel=\"nofollow noopener noreferrer\" target=\"_blank\">#<span>politiek</span></a></p>"
      ],
      "text/plain": [
       "<IPython.core.display.HTML object>"
      ]
     },
     "metadata": {},
     "output_type": "display_data"
    },
    {
     "name": "stdout",
     "output_type": "stream",
     "text": [
      "Date/Time: 2024-11-07 10:54:38+00:00\n",
      "____________________________________________________________________________________________________\n",
      "Toot 230\n",
      "\n"
     ]
    },
    {
     "data": {
      "text/html": [
       "<p>WTF? Dit geloof je toch niet? Laten we ons beleid voorschrijven door opiniepijlers, en dan ook nog de meest discutabele van de opiniepijlers?</p><p>“Daarnaast vroeg ze opiniepeiler Maurice de Hond om raad”</p><p>“Desgevraagd zegt De Hond dat hij die stelling baseert op zijn eigen kennis en observaties. ‘Het is niet precies onderzocht.’”</p><p><a href=\"https://mastodon.social/tags/politiek\" class=\"mention hashtag\" rel=\"nofollow noopener noreferrer\" target=\"_blank\">#<span>politiek</span></a> <a href=\"https://mastodon.social/tags/tk23\" class=\"mention hashtag\" rel=\"nofollow noopener noreferrer\" target=\"_blank\">#<span>tk23</span></a> <a href=\"https://mastodon.social/tags/schoof\" class=\"mention hashtag\" rel=\"nofollow noopener noreferrer\" target=\"_blank\">#<span>schoof</span></a> <a href=\"https://mastodon.social/tags/pvv\" class=\"mention hashtag\" rel=\"nofollow noopener noreferrer\" target=\"_blank\">#<span>pvv</span></a> <a href=\"https://mastodon.social/tags/nsc\" class=\"mention hashtag\" rel=\"nofollow noopener noreferrer\" target=\"_blank\">#<span>nsc</span></a> <a href=\"https://mastodon.social/tags/vvd\" class=\"mention hashtag\" rel=\"nofollow noopener noreferrer\" target=\"_blank\">#<span>vvd</span></a> <a href=\"https://mastodon.social/tags/bbb\" class=\"mention hashtag\" rel=\"nofollow noopener noreferrer\" target=\"_blank\">#<span>bbb</span></a></p><p><a href=\"https://www.ftm.nl/artikelen/maurice-de-hond-ai-halveert-administratiedruk-zorg\" rel=\"nofollow noopener noreferrer\" translate=\"no\" target=\"_blank\"><span class=\"invisible\">https://www.</span><span class=\"ellipsis\">ftm.nl/artikelen/maurice-de-ho</span><span class=\"invisible\">nd-ai-halveert-administratiedruk-zorg</span></a></p>"
      ],
      "text/plain": [
       "<IPython.core.display.HTML object>"
      ]
     },
     "metadata": {},
     "output_type": "display_data"
    },
    {
     "name": "stdout",
     "output_type": "stream",
     "text": [
      "Date/Time: 2024-11-07 06:56:41+00:00\n",
      "____________________________________________________________________________________________________\n",
      "Toot 231\n",
      "\n"
     ]
    },
    {
     "data": {
      "text/html": [
       "<p>Scholz gaat pas in januari (!) de vertrouwensvraag aan de bondsdag stellen, hij heeft geen haast kennelijk, het land mag in crisis blijven. <a href=\"https://nos.nl/l/2543508\" rel=\"nofollow noopener noreferrer\" translate=\"no\" target=\"_blank\"><span class=\"invisible\">https://</span><span class=\"\">nos.nl/l/2543508</span><span class=\"invisible\"></span></a><br><a href=\"https://mastodon.social/tags/politiek\" class=\"mention hashtag\" rel=\"nofollow noopener noreferrer\" target=\"_blank\">#<span>politiek</span></a> <a href=\"https://mastodon.social/tags/duitsland\" class=\"mention hashtag\" rel=\"nofollow noopener noreferrer\" target=\"_blank\">#<span>duitsland</span></a></p>"
      ],
      "text/plain": [
       "<IPython.core.display.HTML object>"
      ]
     },
     "metadata": {},
     "output_type": "display_data"
    },
    {
     "name": "stdout",
     "output_type": "stream",
     "text": [
      "Date/Time: 2024-11-07 06:08:27+00:00\n",
      "____________________________________________________________________________________________________\n",
      "Toot 232\n",
      "\n"
     ]
    },
    {
     "data": {
      "text/html": [
       "<p>Goede samenvatting van wat met Trumps strafzaken gaat gebeuren. Geen gevangenis maar Witte Huis: 'Strafzaken tegen Trump zullen in rook opgaan' - <a href=\"https://nos.nl/l/2543525\" rel=\"nofollow noopener noreferrer\" translate=\"no\" target=\"_blank\"><span class=\"invisible\">https://</span><span class=\"\">nos.nl/l/2543525</span><span class=\"invisible\"></span></a><br><a href=\"https://mastodon.social/tags/trump\" class=\"mention hashtag\" rel=\"nofollow noopener noreferrer\" target=\"_blank\">#<span>trump</span></a> <a href=\"https://mastodon.social/tags/politiek\" class=\"mention hashtag\" rel=\"nofollow noopener noreferrer\" target=\"_blank\">#<span>politiek</span></a></p>"
      ],
      "text/plain": [
       "<IPython.core.display.HTML object>"
      ]
     },
     "metadata": {},
     "output_type": "display_data"
    },
    {
     "name": "stdout",
     "output_type": "stream",
     "text": [
      "Date/Time: 2024-11-07 05:35:13+00:00\n",
      "____________________________________________________________________________________________________\n",
      "Toot 233\n",
      "\n"
     ]
    },
    {
     "data": {
      "text/html": [
       "<p>Noorden gaat gedesillusioneerd naar huis na topoverleg over Lelylijn en Nedersaksenlijn: &#39;Teleurgesteld en verbaasd’ - <span class=\"h-card\" translate=\"no\"><a href=\"https://mstdn.social/@rtvnoord\" class=\"u-url mention\">@<span>rtvnoord</span></a></span> <br /><a href=\"https://www.rtvnoord.nl/politiek/1233341/noorden-gaat-gedesillusioneerd-naar-huis-na-topoverleg-over-lelylijn-en-nedersaksenlijn-teleurgesteld-en-verbaasd\" target=\"_blank\" rel=\"nofollow noopener noreferrer\" translate=\"no\"><span class=\"invisible\">https://www.</span><span class=\"ellipsis\">rtvnoord.nl/politiek/1233341/n</span><span class=\"invisible\">oorden-gaat-gedesillusioneerd-naar-huis-na-topoverleg-over-lelylijn-en-nedersaksenlijn-teleurgesteld-en-verbaasd</span></a></p><p>Nog een project waar dit keer wegens &#39;vaagheid&#39; geen enkel schot meer zit. Het Noorden en Oosten wordt weer op eens op een zijspoor gezet. </p><p><a href=\"https://mastodon.nl/tags/Politiek\" class=\"mention hashtag\" rel=\"tag\">#<span>Politiek</span></a> <a href=\"https://mastodon.nl/tags/Lelylijn\" class=\"mention hashtag\" rel=\"tag\">#<span>Lelylijn</span></a> <a href=\"https://mastodon.nl/tags/Nedersaksenlijn\" class=\"mention hashtag\" rel=\"tag\">#<span>Nedersaksenlijn</span></a></p>"
      ],
      "text/plain": [
       "<IPython.core.display.HTML object>"
      ]
     },
     "metadata": {},
     "output_type": "display_data"
    },
    {
     "name": "stdout",
     "output_type": "stream",
     "text": [
      "Date/Time: 2024-11-06 21:24:10.066000+00:00\n",
      "____________________________________________________________________________________________________\n",
      "Toot 234\n",
      "\n"
     ]
    },
    {
     "data": {
      "text/html": [
       "<p>Ja hoor, natuurlijk, een'pas op de plaats' ...  <a href=\"https://mastodon.social/tags/BBB\" class=\"mention hashtag\" rel=\"nofollow noopener noreferrer\" target=\"_blank\">#<span>BBB</span></a> <a href=\"https://mastodon.social/tags/PVV\" class=\"mention hashtag\" rel=\"nofollow noopener noreferrer\" target=\"_blank\">#<span>PVV</span></a> </p><p><a href=\"https://nos.nl/artikel/2543474-pvv-bbb-niet-blij-met-extra-klimaatplannen-oppositie-voorziet-weer-kabinetscrisis\" rel=\"nofollow noopener noreferrer\" translate=\"no\" target=\"_blank\"><span class=\"invisible\">https://</span><span class=\"ellipsis\">nos.nl/artikel/2543474-pvv-bbb</span><span class=\"invisible\">-niet-blij-met-extra-klimaatplannen-oppositie-voorziet-weer-kabinetscrisis</span></a> <a href=\"https://mastodon.social/tags/politiek\" class=\"mention hashtag\" rel=\"nofollow noopener noreferrer\" target=\"_blank\">#<span>politiek</span></a></p>"
      ],
      "text/plain": [
       "<IPython.core.display.HTML object>"
      ]
     },
     "metadata": {},
     "output_type": "display_data"
    },
    {
     "name": "stdout",
     "output_type": "stream",
     "text": [
      "Date/Time: 2024-11-06 19:07:37+00:00\n",
      "____________________________________________________________________________________________________\n",
      "Toot 235\n",
      "\n"
     ]
    },
    {
     "data": {
      "text/html": [
       "<p>Wiersma (BBB): stikstofprobleem vooral aanpakken met miljarden voor innovatie - <a href=\"https://mastodon.nl/tags/NOS\" class=\"mention hashtag\" rel=\"tag\">#<span>NOS</span></a> <br /><a href=\"https://nos.nl/l/2543481\" target=\"_blank\" rel=\"nofollow noopener noreferrer\" translate=\"no\"><span class=\"invisible\">https://</span><span class=\"\">nos.nl/l/2543481</span><span class=\"invisible\"></span></a></p><p>Zoo... </p><p>De eerste slag heeft Greenpeace dus gelijk al binnen. </p><p><a href=\"https://mastodon.nl/tags/Politiek\" class=\"mention hashtag\" rel=\"tag\">#<span>Politiek</span></a> <a href=\"https://mastodon.nl/tags/Stikstof\" class=\"mention hashtag\" rel=\"tag\">#<span>Stikstof</span></a> <a href=\"https://mastodon.nl/tags/Greenpeace\" class=\"mention hashtag\" rel=\"tag\">#<span>Greenpeace</span></a> <a href=\"https://mastodon.nl/tags/Wiersma\" class=\"mention hashtag\" rel=\"tag\">#<span>Wiersma</span></a> <a href=\"https://mastodon.nl/tags/Boeren\" class=\"mention hashtag\" rel=\"tag\">#<span>Boeren</span></a></p>"
      ],
      "text/plain": [
       "<IPython.core.display.HTML object>"
      ]
     },
     "metadata": {},
     "output_type": "display_data"
    },
    {
     "name": "stdout",
     "output_type": "stream",
     "text": [
      "Date/Time: 2024-11-06 17:08:48.102000+00:00\n",
      "____________________________________________________________________________________________________\n",
      "Toot 236\n",
      "\n"
     ]
    },
    {
     "data": {
      "text/html": [
       "<p>Europa &amp; Nederland moeten écht stappen nemen om los te komen van de bigtech multinationals. </p><p>Zie ook deze oproep aan NL regering van <span class=\"h-card\" translate=\"no\"><a href=\"https://social.publicspaces.net/@publicspaces\" class=\"u-url mention\" rel=\"nofollow noopener noreferrer\" target=\"_blank\">@<span>publicspaces</span></a></span> <span class=\"h-card\" translate=\"no\"><a href=\"https://waag.social/@waag\" class=\"u-url mention\" rel=\"nofollow noopener noreferrer\" target=\"_blank\">@<span>waag</span></a></span> <span class=\"h-card\" translate=\"no\"><a href=\"https://todon.nl/@commonsnetwork\" class=\"u-url mention\" rel=\"nofollow noopener noreferrer\" target=\"_blank\">@<span>commonsnetwork</span></a></span></p><p><a href=\"https://publicspaces.net/2024/11/06/in-onze-brief-aan-de-commissie-digitale-zaken-zetten-we-digitale-autonomie-op-de-agenda/\" rel=\"nofollow noopener noreferrer\" translate=\"no\" target=\"_blank\"><span class=\"invisible\">https://</span><span class=\"ellipsis\">publicspaces.net/2024/11/06/in</span><span class=\"invisible\">-onze-brief-aan-de-commissie-digitale-zaken-zetten-we-digitale-autonomie-op-de-agenda/</span></a></p><p>De NL overheid is vrijwel geheel afhankelijk van bigtech uit de VS. En de trend neigt naar nog meer afhankelijkheid, zoals <span class=\"h-card\" translate=\"no\"><a href=\"https://mastodon.nl/@bert_hubert\" class=\"u-url mention\" rel=\"nofollow noopener noreferrer\" target=\"_blank\">@<span>bert_hubert</span></a></span> hier beschrijft: </p><p><a href=\"https://berthub.eu/articles/posts/de-totale-keuze-voor-microsoft\" rel=\"nofollow noopener noreferrer\" translate=\"no\" target=\"_blank\"><span class=\"invisible\">https://</span><span class=\"ellipsis\">berthub.eu/articles/posts/de-t</span><span class=\"invisible\">otale-keuze-voor-microsoft</span></a></p><p>Dit moeten we stoppen, voor het echt helemaal te laat is. </p><p><a href=\"https://mastodon.social/tags/OpenSource\" class=\"mention hashtag\" rel=\"nofollow noopener noreferrer\" target=\"_blank\">#<span>OpenSource</span></a> <a href=\"https://mastodon.social/tags/TechPolicy\" class=\"mention hashtag\" rel=\"nofollow noopener noreferrer\" target=\"_blank\">#<span>TechPolicy</span></a> <a href=\"https://mastodon.social/tags/Politiek\" class=\"mention hashtag\" rel=\"nofollow noopener noreferrer\" target=\"_blank\">#<span>Politiek</span></a> <a href=\"https://mastodon.social/tags/DOSA\" class=\"mention hashtag\" rel=\"nofollow noopener noreferrer\" target=\"_blank\">#<span>DOSA</span></a> <a href=\"https://mastodon.social/tags/EU\" class=\"mention hashtag\" rel=\"nofollow noopener noreferrer\" target=\"_blank\">#<span>EU</span></a> <a href=\"https://mastodon.social/tags/Digital\" class=\"mention hashtag\" rel=\"nofollow noopener noreferrer\" target=\"_blank\">#<span>Digital</span></a> <a href=\"https://mastodon.social/tags/Tech\" class=\"mention hashtag\" rel=\"nofollow noopener noreferrer\" target=\"_blank\">#<span>Tech</span></a></p>"
      ],
      "text/plain": [
       "<IPython.core.display.HTML object>"
      ]
     },
     "metadata": {},
     "output_type": "display_data"
    },
    {
     "name": "stdout",
     "output_type": "stream",
     "text": [
      "Date/Time: 2024-11-06 14:35:44+00:00\n",
      "____________________________________________________________________________________________________\n",
      "Toot 237\n",
      "\n"
     ]
    },
    {
     "data": {
      "text/html": [
       "<p>Van Meijeren weet weer te provoceren door de term 'omvolking' te gebruiken, <a href=\"https://mastodon.social/tags/Bosma\" class=\"mention hashtag\" rel=\"nofollow noopener noreferrer\" target=\"_blank\">#<span>Bosma</span></a> doet een halfzachte poging om hem daarbij te corrigeren, waardoor van Meijeren weer de vermoorde onschuld uit kan hangen.  </p><p>Zo ziek van deze neofascisten. </p><p><a href=\"https://www.tweedekamer.nl/debat_en_vergadering/plenaire_vergaderingen/details/activiteit?id=2024A05300\" rel=\"nofollow noopener noreferrer\" translate=\"no\" target=\"_blank\"><span class=\"invisible\">https://www.</span><span class=\"ellipsis\">tweedekamer.nl/debat_en_vergad</span><span class=\"invisible\">ering/plenaire_vergaderingen/details/activiteit?id=2024A05300</span></a></p><p><a href=\"https://mastodon.social/tags/debat\" class=\"mention hashtag\" rel=\"nofollow noopener noreferrer\" target=\"_blank\">#<span>debat</span></a> <a href=\"https://mastodon.social/tags/politiek\" class=\"mention hashtag\" rel=\"nofollow noopener noreferrer\" target=\"_blank\">#<span>politiek</span></a></p>"
      ],
      "text/plain": [
       "<IPython.core.display.HTML object>"
      ]
     },
     "metadata": {},
     "output_type": "display_data"
    },
    {
     "name": "stdout",
     "output_type": "stream",
     "text": [
      "Date/Time: 2024-11-05 19:38:06+00:00\n",
      "____________________________________________________________________________________________________\n",
      "Toot 238\n",
      "\n"
     ]
    },
    {
     "data": {
      "text/html": [
       "<p>Deze draaideurcrimineel wil ook nog wat zeggen. </p><p>Leuk, hij heeft ook een kaartje meegenomen met een grafiek, die hij trots laat zien aan een vrijwel lege Kamer. </p><p><a href=\"https://www.tweedekamer.nl/debat_en_vergadering/plenaire_vergaderingen/details/activiteit?id=2024A05300\" rel=\"nofollow noopener noreferrer\" translate=\"no\" target=\"_blank\"><span class=\"invisible\">https://www.</span><span class=\"ellipsis\">tweedekamer.nl/debat_en_vergad</span><span class=\"invisible\">ering/plenaire_vergaderingen/details/activiteit?id=2024A05300</span></a> <a href=\"https://mastodon.social/tags/debat\" class=\"mention hashtag\" rel=\"nofollow noopener noreferrer\" target=\"_blank\">#<span>debat</span></a> <a href=\"https://mastodon.social/tags/asielbegroting\" class=\"mention hashtag\" rel=\"nofollow noopener noreferrer\" target=\"_blank\">#<span>asielbegroting</span></a> <a href=\"https://mastodon.social/tags/politiek\" class=\"mention hashtag\" rel=\"nofollow noopener noreferrer\" target=\"_blank\">#<span>politiek</span></a></p>"
      ],
      "text/plain": [
       "<IPython.core.display.HTML object>"
      ]
     },
     "metadata": {},
     "output_type": "display_data"
    },
    {
     "name": "stdout",
     "output_type": "stream",
     "text": [
      "Date/Time: 2024-11-05 19:30:29+00:00\n",
      "____________________________________________________________________________________________________\n",
      "Toot 239\n",
      "\n"
     ]
    },
    {
     "data": {
      "text/html": [
       "<p>Deze <a href=\"https://mastodon.social/tags/Boomsma\" class=\"mention hashtag\" rel=\"nofollow noopener noreferrer\" target=\"_blank\">#<span>Boomsma</span></a> <a href=\"https://mastodon.social/tags/NSC\" class=\"mention hashtag\" rel=\"nofollow noopener noreferrer\" target=\"_blank\">#<span>NSC</span></a> (voorheen <a href=\"https://mastodon.social/tags/CDA\" class=\"mention hashtag\" rel=\"nofollow noopener noreferrer\" target=\"_blank\">#<span>CDA</span></a>)  deugt ook voor geen meter. <br>Met zijn mooie praatjes tijdens zijn maidenspeech, waarin hij 'de andere wind die in Europa is gaan waaien' nog maar eens aanhaalt.  </p><p><a href=\"https://www.tweedekamer.nl/debat_en_vergadering/plenaire_vergaderingen/details/activiteit?id=2024A05300\" rel=\"nofollow noopener noreferrer\" translate=\"no\" target=\"_blank\"><span class=\"invisible\">https://www.</span><span class=\"ellipsis\">tweedekamer.nl/debat_en_vergad</span><span class=\"invisible\">ering/plenaire_vergaderingen/details/activiteit?id=2024A05300</span></a></p><p><a href=\"https://mastodon.social/tags/debat\" class=\"mention hashtag\" rel=\"nofollow noopener noreferrer\" target=\"_blank\">#<span>debat</span></a> <a href=\"https://mastodon.social/tags/asielbegroting\" class=\"mention hashtag\" rel=\"nofollow noopener noreferrer\" target=\"_blank\">#<span>asielbegroting</span></a> <a href=\"https://mastodon.social/tags/opvangcrisis\" class=\"mention hashtag\" rel=\"nofollow noopener noreferrer\" target=\"_blank\">#<span>opvangcrisis</span></a> <a href=\"https://mastodon.social/tags/politiek\" class=\"mention hashtag\" rel=\"nofollow noopener noreferrer\" target=\"_blank\">#<span>politiek</span></a></p>"
      ],
      "text/plain": [
       "<IPython.core.display.HTML object>"
      ]
     },
     "metadata": {},
     "output_type": "display_data"
    },
    {
     "name": "stdout",
     "output_type": "stream",
     "text": [
      "Date/Time: 2024-11-05 17:50:58+00:00\n",
      "____________________________________________________________________________________________________\n",
      "Toot 240\n",
      "\n"
     ]
    },
    {
     "data": {
      "text/html": [
       "<p><span class=\"h-card\" translate=\"no\"><a href=\"https://social.linux.pizza/@ewelling\" class=\"u-url mention\" rel=\"nofollow noopener noreferrer\" target=\"_blank\">@<span>ewelling</span></a></span> Deze VVD-er maakt het er ook niet bepaald beter op.<br>Queenie Rajkowski heeft ze geloof ik. <br>Enfin, VVD = PVV. </p><p><a href=\"https://mastodon.social/tags/debat\" class=\"mention hashtag\" rel=\"nofollow noopener noreferrer\" target=\"_blank\">#<span>debat</span></a> <a href=\"https://mastodon.social/tags/asielbegroting\" class=\"mention hashtag\" rel=\"nofollow noopener noreferrer\" target=\"_blank\">#<span>asielbegroting</span></a> <a href=\"https://mastodon.social/tags/opvangcrisis\" class=\"mention hashtag\" rel=\"nofollow noopener noreferrer\" target=\"_blank\">#<span>opvangcrisis</span></a> <a href=\"https://mastodon.social/tags/politiek\" class=\"mention hashtag\" rel=\"nofollow noopener noreferrer\" target=\"_blank\">#<span>politiek</span></a></p>"
      ],
      "text/plain": [
       "<IPython.core.display.HTML object>"
      ]
     },
     "metadata": {},
     "output_type": "display_data"
    },
    {
     "name": "stdout",
     "output_type": "stream",
     "text": [
      "Date/Time: 2024-11-05 17:18:45+00:00\n",
      "____________________________________________________________________________________________________\n",
      "Toot 241\n",
      "\n"
     ]
    },
    {
     "data": {
      "text/html": [
       "<p><span class=\"h-card\" translate=\"no\"><a href=\"https://social.linux.pizza/@ewelling\" class=\"u-url mention\" rel=\"nofollow noopener noreferrer\" target=\"_blank\">@<span>ewelling</span></a></span> Deze VVD-er maakt het er ook niet bepaald beter op.<br>Queenie Rajkowski heeft ze geloof ik. <br>Enfin, VVD = PVV. </p><p><a href=\"https://mastodon.social/tags/debat\" class=\"mention hashtag\" rel=\"nofollow noopener noreferrer\" target=\"_blank\">#<span>debat</span></a> <a href=\"https://mastodon.social/tags/asielbegroting\" class=\"mention hashtag\" rel=\"nofollow noopener noreferrer\" target=\"_blank\">#<span>asielbegroting</span></a> <a href=\"https://mastodon.social/tags/opvangcrisis\" class=\"mention hashtag\" rel=\"nofollow noopener noreferrer\" target=\"_blank\">#<span>opvangcrisis</span></a> <a href=\"https://mastodon.social/tags/politiek\" class=\"mention hashtag\" rel=\"nofollow noopener noreferrer\" target=\"_blank\">#<span>politiek</span></a></p>"
      ],
      "text/plain": [
       "<IPython.core.display.HTML object>"
      ]
     },
     "metadata": {},
     "output_type": "display_data"
    },
    {
     "name": "stdout",
     "output_type": "stream",
     "text": [
      "Date/Time: 2024-11-05 17:18:45+00:00\n",
      "____________________________________________________________________________________________________\n",
      "Toot 242\n",
      "\n"
     ]
    },
    {
     "data": {
      "text/html": [
       "<p>Ongelofelijk, de stupiditeit van dit PVV-kamerlid, Marina Vondeling. Op alle vragen van de kamer over het falende asielbeleid, dat niets doet aan de opvangproblemen, alleen maar op de opvang wil bezuinigen en de chaos in de asielketen bewust groter maakt, als antwoord geeft: <br>\"Wij verwachten gewoon dat de instroom gaat dalen door onze maatregelen.\" En dat zeker tien keer herhaalt.</p><p><a href=\"https://www.tweedekamer.nl/debat_en_vergadering/plenaire_vergaderingen?fromdate=05/11/2024&amp;todate=05/11/2024\" rel=\"nofollow noopener noreferrer\" translate=\"no\" target=\"_blank\"><span class=\"invisible\">https://www.</span><span class=\"ellipsis\">tweedekamer.nl/debat_en_vergad</span><span class=\"invisible\">ering/plenaire_vergaderingen?fromdate=05/11/2024&amp;todate=05/11/2024</span></a> <a href=\"https://mastodon.social/tags/PVV\" class=\"mention hashtag\" rel=\"nofollow noopener noreferrer\" target=\"_blank\">#<span>PVV</span></a> <a href=\"https://mastodon.social/tags/asielbegroting\" class=\"mention hashtag\" rel=\"nofollow noopener noreferrer\" target=\"_blank\">#<span>asielbegroting</span></a> <a href=\"https://mastodon.social/tags/debat\" class=\"mention hashtag\" rel=\"nofollow noopener noreferrer\" target=\"_blank\">#<span>debat</span></a> <a href=\"https://mastodon.social/tags/politiek\" class=\"mention hashtag\" rel=\"nofollow noopener noreferrer\" target=\"_blank\">#<span>politiek</span></a> <a href=\"https://mastodon.social/tags/opvangcrisis\" class=\"mention hashtag\" rel=\"nofollow noopener noreferrer\" target=\"_blank\">#<span>opvangcrisis</span></a></p>"
      ],
      "text/plain": [
       "<IPython.core.display.HTML object>"
      ]
     },
     "metadata": {},
     "output_type": "display_data"
    },
    {
     "name": "stdout",
     "output_type": "stream",
     "text": [
      "Date/Time: 2024-11-05 16:46:17+00:00\n",
      "____________________________________________________________________________________________________\n",
      "Toot 243\n",
      "\n"
     ]
    },
    {
     "data": {
      "text/html": [
       "<p>Nu al geen zin in de beantwoording van de kamervragen door <a href=\"https://mastodon.social/tags/Faber\" class=\"mention hashtag\" rel=\"nofollow noopener noreferrer\" target=\"_blank\">#<span>Faber</span></a>, met alle dooddoeners, de herhaalde 'nogmaals' en zelfgenoegzame stupide oneliners. </p><p><a href=\"https://www.tweedekamer.nl/debat_en_vergadering/plenaire_vergaderingen?fromdate=05/11/2024&amp;todate=05/11/2024\" rel=\"nofollow noopener noreferrer\" translate=\"no\" target=\"_blank\"><span class=\"invisible\">https://www.</span><span class=\"ellipsis\">tweedekamer.nl/debat_en_vergad</span><span class=\"invisible\">ering/plenaire_vergaderingen?fromdate=05/11/2024&amp;todate=05/11/2024</span></a><br><a href=\"https://mastodon.social/tags/debat\" class=\"mention hashtag\" rel=\"nofollow noopener noreferrer\" target=\"_blank\">#<span>debat</span></a> <a href=\"https://mastodon.social/tags/PVV\" class=\"mention hashtag\" rel=\"nofollow noopener noreferrer\" target=\"_blank\">#<span>PVV</span></a> <a href=\"https://mastodon.social/tags/politiek\" class=\"mention hashtag\" rel=\"nofollow noopener noreferrer\" target=\"_blank\">#<span>politiek</span></a></p>"
      ],
      "text/plain": [
       "<IPython.core.display.HTML object>"
      ]
     },
     "metadata": {},
     "output_type": "display_data"
    },
    {
     "name": "stdout",
     "output_type": "stream",
     "text": [
      "Date/Time: 2024-11-05 16:15:02+00:00\n",
      "____________________________________________________________________________________________________\n",
      "Toot 244\n",
      "\n"
     ]
    },
    {
     "data": {
      "text/html": [
       "<p>Goh. </p><p><a href=\"https://nos.nl/artikel/2543346-veelbesproken-gokwet-werkt-niet-kwetsbare-spelers-onvoldoende-beschermd\" rel=\"nofollow noopener noreferrer\" translate=\"no\" target=\"_blank\"><span class=\"invisible\">https://</span><span class=\"ellipsis\">nos.nl/artikel/2543346-veelbes</span><span class=\"invisible\">proken-gokwet-werkt-niet-kwetsbare-spelers-onvoldoende-beschermd</span></a> <a href=\"https://mastodon.social/tags/gokwet\" class=\"mention hashtag\" rel=\"nofollow noopener noreferrer\" target=\"_blank\">#<span>gokwet</span></a> <a href=\"https://mastodon.social/tags/politiek\" class=\"mention hashtag\" rel=\"nofollow noopener noreferrer\" target=\"_blank\">#<span>politiek</span></a></p>"
      ],
      "text/plain": [
       "<IPython.core.display.HTML object>"
      ]
     },
     "metadata": {},
     "output_type": "display_data"
    },
    {
     "name": "stdout",
     "output_type": "stream",
     "text": [
      "Date/Time: 2024-11-05 15:15:18+00:00\n",
      "____________________________________________________________________________________________________\n",
      "Toot 245\n",
      "\n"
     ]
    },
    {
     "data": {
      "text/html": [
       "<p>\"Een aantal ambities, zoals het opdoeken van complete overheidsdiensten, is wellicht te hoog gegrepen. Maar anders dan in de twee jaar in zijn eerste ambtstermijn waarin Trump met een Republikeins Congres regeerde, heeft hij nu een vastberaden team en minder geduld. Een gebrek aan Democratische tegenmacht zou bovendien een obstakel verwijderen om de rechtsstaat naar zijn hand te zetten.\"</p><p><a href=\"https://archive.ph/2CnGr\" rel=\"nofollow noopener noreferrer\" translate=\"no\" target=\"_blank\"><span class=\"invisible\">https://</span><span class=\"\">archive.ph/2CnGr</span><span class=\"invisible\"></span></a></p><p><a href=\"https://www.standaard.be/cnt/dmf20241103_95709733\" rel=\"nofollow noopener noreferrer\" translate=\"no\" target=\"_blank\"><span class=\"invisible\">https://www.</span><span class=\"ellipsis\">standaard.be/cnt/dmf20241103_9</span><span class=\"invisible\">5709733</span></a></p><p><a href=\"https://mastodon.social/tags/Trump\" class=\"mention hashtag\" rel=\"nofollow noopener noreferrer\" target=\"_blank\">#<span>Trump</span></a> <a href=\"https://mastodon.social/tags/politiek\" class=\"mention hashtag\" rel=\"nofollow noopener noreferrer\" target=\"_blank\">#<span>politiek</span></a></p>"
      ],
      "text/plain": [
       "<IPython.core.display.HTML object>"
      ]
     },
     "metadata": {},
     "output_type": "display_data"
    },
    {
     "name": "stdout",
     "output_type": "stream",
     "text": [
      "Date/Time: 2024-11-05 09:59:33+00:00\n",
      "____________________________________________________________________________________________________\n",
      "Toot 246\n",
      "\n"
     ]
    },
    {
     "data": {
      "text/html": [
       "<p>Wachtlijsten IND lopen op, onbegrip in Kamer over asielbezuinigingen<br>Wachtlijsten IND lopen op, onbegrip in Kamer over asielbezuinigingen -  best bizar van 9,8 miljard in 2026 naar 2,9 miljard in het jaar daarna, <a href=\"https://nos.nl/l/2543293\" rel=\"nofollow noopener noreferrer\" translate=\"no\" target=\"_blank\"><span class=\"invisible\">https://</span><span class=\"\">nos.nl/l/2543293</span><span class=\"invisible\"></span></a><br><a href=\"https://mastodon.social/tags/politiek\" class=\"mention hashtag\" rel=\"nofollow noopener noreferrer\" target=\"_blank\">#<span>politiek</span></a> <a href=\"https://mastodon.social/tags/faber\" class=\"mention hashtag\" rel=\"nofollow noopener noreferrer\" target=\"_blank\">#<span>faber</span></a> <a href=\"https://mastodon.social/tags/pvv\" class=\"mention hashtag\" rel=\"nofollow noopener noreferrer\" target=\"_blank\">#<span>pvv</span></a> <a href=\"https://mastodon.social/tags/asiel\" class=\"mention hashtag\" rel=\"nofollow noopener noreferrer\" target=\"_blank\">#<span>asiel</span></a> <a href=\"https://mastodon.social/tags/ind\" class=\"mention hashtag\" rel=\"nofollow noopener noreferrer\" target=\"_blank\">#<span>ind</span></a></p>"
      ],
      "text/plain": [
       "<IPython.core.display.HTML object>"
      ]
     },
     "metadata": {},
     "output_type": "display_data"
    },
    {
     "name": "stdout",
     "output_type": "stream",
     "text": [
      "Date/Time: 2024-11-05 06:21:34+00:00\n",
      "____________________________________________________________________________________________________\n",
      "Toot 247\n",
      "\n"
     ]
    },
    {
     "data": {
      "text/html": [
       "<p>Antony Blinken, minister van Buitenlandse Zaken<br>De insider</p><p><a href=\"https://www.groene.nl/artikel/de-insider\" rel=\"nofollow noopener noreferrer\" translate=\"no\" target=\"_blank\"><span class=\"invisible\">https://www.</span><span class=\"\">groene.nl/artikel/de-insider</span><span class=\"invisible\"></span></a> <a href=\"https://mastodon.social/tags/Blinken\" class=\"mention hashtag\" rel=\"nofollow noopener noreferrer\" target=\"_blank\">#<span>Blinken</span></a> <a href=\"https://mastodon.social/tags/politiek\" class=\"mention hashtag\" rel=\"nofollow noopener noreferrer\" target=\"_blank\">#<span>politiek</span></a></p>"
      ],
      "text/plain": [
       "<IPython.core.display.HTML object>"
      ]
     },
     "metadata": {},
     "output_type": "display_data"
    },
    {
     "name": "stdout",
     "output_type": "stream",
     "text": [
      "Date/Time: 2024-11-04 15:25:21+00:00\n",
      "____________________________________________________________________________________________________\n",
      "Toot 248\n",
      "\n"
     ]
    },
    {
     "data": {
      "text/html": [
       "<p>...</p><p>\"Een NSC-topstuk zegt zelfs dat Idsinga bereid zou zijn terug te keren op zijn post mits Wilders zijn excuses maakt.\" </p><p><a href=\"https://www.ad.nl/politiek/nsc-politici-wijzen-met-beschuldigende-vinger-naar-wilders-wraak-voor-asielnoodrecht~a1a9a123/\" rel=\"nofollow noopener noreferrer\" translate=\"no\" target=\"_blank\"><span class=\"invisible\">https://www.</span><span class=\"ellipsis\">ad.nl/politiek/nsc-politici-wi</span><span class=\"invisible\">jzen-met-beschuldigende-vinger-naar-wilders-wraak-voor-asielnoodrecht~a1a9a123/</span></a> <a href=\"https://mastodon.social/tags/Idsinga\" class=\"mention hashtag\" rel=\"nofollow noopener noreferrer\" target=\"_blank\">#<span>Idsinga</span></a> <a href=\"https://mastodon.social/tags/NSC\" class=\"mention hashtag\" rel=\"nofollow noopener noreferrer\" target=\"_blank\">#<span>NSC</span></a> <a href=\"https://mastodon.social/tags/VVD\" class=\"mention hashtag\" rel=\"nofollow noopener noreferrer\" target=\"_blank\">#<span>VVD</span></a> <a href=\"https://mastodon.social/tags/belastingdienst\" class=\"mention hashtag\" rel=\"nofollow noopener noreferrer\" target=\"_blank\">#<span>belastingdienst</span></a> <a href=\"https://mastodon.social/tags/politiek\" class=\"mention hashtag\" rel=\"nofollow noopener noreferrer\" target=\"_blank\">#<span>politiek</span></a></p>"
      ],
      "text/plain": [
       "<IPython.core.display.HTML object>"
      ]
     },
     "metadata": {},
     "output_type": "display_data"
    },
    {
     "name": "stdout",
     "output_type": "stream",
     "text": [
      "Date/Time: 2024-11-03 19:19:06+00:00\n",
      "____________________________________________________________________________________________________\n",
      "Toot 249\n",
      "\n"
     ]
    },
    {
     "data": {
      "text/html": [
       "<p>2/2 \"Wie kijkt naar zijn miljoenenbelangen ziet een aandelenportefeuille van bedrijven waarvan je juist mag verwachten dat men deze bekendmaakt: banken, oliebedrijven en belastingontduikende multinationals zoals Starbucks, Amazon en Blackrock. Absurd dat een staatssecretaris van Financiën, fiscaliteit en belastingen - uitgerekend van NSC - dacht dat dit zuiver is.\" Jimmy Dijk</p><p><a href=\"https://mastodon.social/tags/Idsinga\" class=\"mention hashtag\" rel=\"nofollow noopener noreferrer\" target=\"_blank\">#<span>Idsinga</span></a> <a href=\"https://mastodon.social/tags/NSC\" class=\"mention hashtag\" rel=\"nofollow noopener noreferrer\" target=\"_blank\">#<span>NSC</span></a> <a href=\"https://mastodon.social/tags/VVD\" class=\"mention hashtag\" rel=\"nofollow noopener noreferrer\" target=\"_blank\">#<span>VVD</span></a> <a href=\"https://mastodon.social/tags/belastingdienst\" class=\"mention hashtag\" rel=\"nofollow noopener noreferrer\" target=\"_blank\">#<span>belastingdienst</span></a> <a href=\"https://mastodon.social/tags/politiek\" class=\"mention hashtag\" rel=\"nofollow noopener noreferrer\" target=\"_blank\">#<span>politiek</span></a></p>"
      ],
      "text/plain": [
       "<IPython.core.display.HTML object>"
      ]
     },
     "metadata": {},
     "output_type": "display_data"
    },
    {
     "name": "stdout",
     "output_type": "stream",
     "text": [
      "Date/Time: 2024-11-03 19:10:50+00:00\n",
      "____________________________________________________________________________________________________\n",
      "Toot 250\n",
      "\n"
     ]
    },
    {
     "data": {
      "text/html": [
       "<p>\"In zijn aandelenpakket vallen wel enkele organisaties op, zoals Rtx Corporation, een bedrijf uit de Verenigde Staten dat onder andere wapens maakt. Ook staat het bedrijf Algaerator 906 op de lijst.  Daarin heef hij een meerderheidsbelang. Idsinga deed de investering volgens de NOS in 2019, nog voordat hij de politiek in kwam. Die investering deed veel stof opwaaien, en experts spraken zelfs van belastingontwijking.\"</p><p><a href=\"https://www.rtl.nl/nieuws/politiek/artikel/5478570/idsinga-geeft-alsnog-openheid-van-zaken-twee-dagen-na-vertrek-als\" rel=\"nofollow noopener noreferrer\" translate=\"no\" target=\"_blank\"><span class=\"invisible\">https://www.</span><span class=\"ellipsis\">rtl.nl/nieuws/politiek/artikel</span><span class=\"invisible\">/5478570/idsinga-geeft-alsnog-openheid-van-zaken-twee-dagen-na-vertrek-als</span></a> <a href=\"https://mastodon.social/tags/Idsinga\" class=\"mention hashtag\" rel=\"nofollow noopener noreferrer\" target=\"_blank\">#<span>Idsinga</span></a> <a href=\"https://mastodon.social/tags/NSC\" class=\"mention hashtag\" rel=\"nofollow noopener noreferrer\" target=\"_blank\">#<span>NSC</span></a> <a href=\"https://mastodon.social/tags/VVD\" class=\"mention hashtag\" rel=\"nofollow noopener noreferrer\" target=\"_blank\">#<span>VVD</span></a> <a href=\"https://mastodon.social/tags/belastingdienst\" class=\"mention hashtag\" rel=\"nofollow noopener noreferrer\" target=\"_blank\">#<span>belastingdienst</span></a> <a href=\"https://mastodon.social/tags/politiek\" class=\"mention hashtag\" rel=\"nofollow noopener noreferrer\" target=\"_blank\">#<span>politiek</span></a></p>"
      ],
      "text/plain": [
       "<IPython.core.display.HTML object>"
      ]
     },
     "metadata": {},
     "output_type": "display_data"
    },
    {
     "name": "stdout",
     "output_type": "stream",
     "text": [
      "Date/Time: 2024-11-03 19:08:05+00:00\n",
      "____________________________________________________________________________________________________\n",
      "Toot 251\n",
      "\n"
     ]
    },
    {
     "data": {
      "text/html": [
       "<p>\"Idsinga zou zichzelf toen hebben aangemerkt als ondernemer en niet als belegger, om zo belastingvoordelen te krijgen. Experts omschreven dat tegenover de NOS als ‘agressieve belastingontwijking’.</p><p>Zelf schrijft Idsinga nu dat hierover in 2019 al „afspraken” zijn gemaakt met de belastingdienst, die nadien zouden zijn gecontroleerd met „positieve uitkomst”.\"</p><p><a href=\"https://www.nrc.nl/nieuws/2024/11/03/afgetreden-staatssecretaris-idsinga-maakt-alsnog-zijn-beleggingen-openbaar-a4871646\" rel=\"nofollow noopener noreferrer\" translate=\"no\" target=\"_blank\"><span class=\"invisible\">https://www.</span><span class=\"ellipsis\">nrc.nl/nieuws/2024/11/03/afget</span><span class=\"invisible\">reden-staatssecretaris-idsinga-maakt-alsnog-zijn-beleggingen-openbaar-a4871646</span></a></p><p><a href=\"https://mastodon.social/tags/Idsinga\" class=\"mention hashtag\" rel=\"nofollow noopener noreferrer\" target=\"_blank\">#<span>Idsinga</span></a> <a href=\"https://mastodon.social/tags/belastingdienst\" class=\"mention hashtag\" rel=\"nofollow noopener noreferrer\" target=\"_blank\">#<span>belastingdienst</span></a> <a href=\"https://mastodon.social/tags/NSC\" class=\"mention hashtag\" rel=\"nofollow noopener noreferrer\" target=\"_blank\">#<span>NSC</span></a> <a href=\"https://mastodon.social/tags/VVD\" class=\"mention hashtag\" rel=\"nofollow noopener noreferrer\" target=\"_blank\">#<span>VVD</span></a> <a href=\"https://mastodon.social/tags/politiek\" class=\"mention hashtag\" rel=\"nofollow noopener noreferrer\" target=\"_blank\">#<span>politiek</span></a></p>"
      ],
      "text/plain": [
       "<IPython.core.display.HTML object>"
      ]
     },
     "metadata": {},
     "output_type": "display_data"
    },
    {
     "name": "stdout",
     "output_type": "stream",
     "text": [
      "Date/Time: 2024-11-03 18:38:58+00:00\n",
      "____________________________________________________________________________________________________\n",
      "Toot 252\n",
      "\n"
     ]
    },
    {
     "data": {
      "text/html": [
       "<p>\"Idsinga investeert ook in het bedrijf Algaerator 906. Bij de fiscale aspecten van die investering zetten experts vraagtekens omdat ze het in verband brengen met belastingontwijking, zo bleek vrijdag uit onderzoek van de NOS en Nieuwsuur. Idsinga gaat daar nu niet nader op in. Vrijdag noemde hij het verwijt van \"agressieve belastingontwijking\" onzin.\" </p><p><a href=\"https://nos.nl/artikel/2543134-oud-staatssecretaris-idsinga-deelt-gegevens-zakelijke-belangen-twee-dagen-na-vertrek\" rel=\"nofollow noopener noreferrer\" translate=\"no\" target=\"_blank\"><span class=\"invisible\">https://</span><span class=\"ellipsis\">nos.nl/artikel/2543134-oud-sta</span><span class=\"invisible\">atssecretaris-idsinga-deelt-gegevens-zakelijke-belangen-twee-dagen-na-vertrek</span></a> <a href=\"https://mastodon.social/tags/Idsinga\" class=\"mention hashtag\" rel=\"nofollow noopener noreferrer\" target=\"_blank\">#<span>Idsinga</span></a> <a href=\"https://mastodon.social/tags/NSC\" class=\"mention hashtag\" rel=\"nofollow noopener noreferrer\" target=\"_blank\">#<span>NSC</span></a> <a href=\"https://mastodon.social/tags/VVD\" class=\"mention hashtag\" rel=\"nofollow noopener noreferrer\" target=\"_blank\">#<span>VVD</span></a> <a href=\"https://mastodon.social/tags/politiek\" class=\"mention hashtag\" rel=\"nofollow noopener noreferrer\" target=\"_blank\">#<span>politiek</span></a></p>"
      ],
      "text/plain": [
       "<IPython.core.display.HTML object>"
      ]
     },
     "metadata": {},
     "output_type": "display_data"
    },
    {
     "name": "stdout",
     "output_type": "stream",
     "text": [
      "Date/Time: 2024-11-03 18:22:12+00:00\n",
      "____________________________________________________________________________________________________\n",
      "Toot 253\n",
      "\n"
     ]
    },
    {
     "data": {
      "text/html": [
       "<p>Aanrader voor iedereen geïnteresseerd in politiek en Tweede Kamer,  OpenTK van <span class=\"h-card\" translate=\"no\"><a href=\"https://mastodon.nl/@bert_hubert\" class=\"u-url mention\" rel=\"nofollow noopener noreferrer\" target=\"_blank\">@<span>bert_hubert</span></a></span> <br>Mogelijk dankzij de Open Data van de Tweede Kamer.<br><a href=\"https://berthub.eu/articles/posts/welkom-bij-opentk/\" rel=\"nofollow noopener noreferrer\" translate=\"no\" target=\"_blank\"><span class=\"invisible\">https://</span><span class=\"ellipsis\">berthub.eu/articles/posts/welk</span><span class=\"invisible\">om-bij-opentk/</span></a><br><a href=\"https://mastodon.social/tags/tweedekamer\" class=\"mention hashtag\" rel=\"nofollow noopener noreferrer\" target=\"_blank\">#<span>tweedekamer</span></a> <a href=\"https://mastodon.social/tags/OpenTK\" class=\"mention hashtag\" rel=\"nofollow noopener noreferrer\" target=\"_blank\">#<span>OpenTK</span></a> <a href=\"https://mastodon.social/tags/opendata\" class=\"mention hashtag\" rel=\"nofollow noopener noreferrer\" target=\"_blank\">#<span>opendata</span></a> <a href=\"https://mastodon.social/tags/politiek\" class=\"mention hashtag\" rel=\"nofollow noopener noreferrer\" target=\"_blank\">#<span>politiek</span></a></p>"
      ],
      "text/plain": [
       "<IPython.core.display.HTML object>"
      ]
     },
     "metadata": {},
     "output_type": "display_data"
    },
    {
     "name": "stdout",
     "output_type": "stream",
     "text": [
      "Date/Time: 2024-11-02 20:16:20+00:00\n",
      "____________________________________________________________________________________________________\n",
      "Toot 254\n",
      "\n"
     ]
    },
    {
     "data": {
      "text/html": [
       "<p><a href=\"https://mastodon.social/tags/Idsinga\" class=\"mention hashtag\" rel=\"nofollow noopener noreferrer\" target=\"_blank\">#<span>Idsinga</span></a> <a href=\"https://mastodon.social/tags/VVD\" class=\"mention hashtag\" rel=\"nofollow noopener noreferrer\" target=\"_blank\">#<span>VVD</span></a> <a href=\"https://mastodon.social/tags/NSC\" class=\"mention hashtag\" rel=\"nofollow noopener noreferrer\" target=\"_blank\">#<span>NSC</span></a> <a href=\"https://mastodon.social/tags/politiek\" class=\"mention hashtag\" rel=\"nofollow noopener noreferrer\" target=\"_blank\">#<span>politiek</span></a></p>"
      ],
      "text/plain": [
       "<IPython.core.display.HTML object>"
      ]
     },
     "metadata": {},
     "output_type": "display_data"
    },
    {
     "name": "stdout",
     "output_type": "stream",
     "text": [
      "Date/Time: 2024-11-02 13:36:18+00:00\n",
      "____________________________________________________________________________________________________\n",
      "Toot 255\n",
      "\n"
     ]
    },
    {
     "data": {
      "text/html": [
       "<p>2/2 \"Als we onze democratie en rechtsstaat willen behouden, moeten we het beest in de bek kijken. En de zaken benoemen zoals ze zijn, te beginnen met de opzettelijke en strategische domheid van radicaal- en centrumrechts.\" <span class=\"h-card\" translate=\"no\"><a href=\"https://mastodon.social/@SanderS\" class=\"u-url mention\" rel=\"nofollow noopener noreferrer\" target=\"_blank\">@<span>SanderS</span></a></span> </p><p><a href=\"https://www.nrc.nl/nieuws/2024/11/01/begrip-tonen-we-moeten-radicaal-rechts-juist-aanspreken-op-opzettelijke-domheid-a4871494\" rel=\"nofollow noopener noreferrer\" translate=\"no\" target=\"_blank\"><span class=\"invisible\">https://www.</span><span class=\"ellipsis\">nrc.nl/nieuws/2024/11/01/begri</span><span class=\"invisible\">p-tonen-we-moeten-radicaal-rechts-juist-aanspreken-op-opzettelijke-domheid-a4871494</span></a> <a href=\"https://mastodon.social/tags/PVV\" class=\"mention hashtag\" rel=\"nofollow noopener noreferrer\" target=\"_blank\">#<span>PVV</span></a> <a href=\"https://mastodon.social/tags/VVD\" class=\"mention hashtag\" rel=\"nofollow noopener noreferrer\" target=\"_blank\">#<span>VVD</span></a> <a href=\"https://mastodon.social/tags/BBB\" class=\"mention hashtag\" rel=\"nofollow noopener noreferrer\" target=\"_blank\">#<span>BBB</span></a> <a href=\"https://mastodon.social/tags/NSC\" class=\"mention hashtag\" rel=\"nofollow noopener noreferrer\" target=\"_blank\">#<span>NSC</span></a> <a href=\"https://mastodon.social/tags/politiek\" class=\"mention hashtag\" rel=\"nofollow noopener noreferrer\" target=\"_blank\">#<span>politiek</span></a></p>"
      ],
      "text/plain": [
       "<IPython.core.display.HTML object>"
      ]
     },
     "metadata": {},
     "output_type": "display_data"
    },
    {
     "name": "stdout",
     "output_type": "stream",
     "text": [
      "Date/Time: 2024-11-02 12:55:36+00:00\n",
      "____________________________________________________________________________________________________\n",
      "Toot 256\n",
      "\n"
     ]
    },
    {
     "data": {
      "text/html": [
       "<p>\"Een land waarin de minister-president zich genoodzaakt zag aan te schuiven in Vandaag Inside bij een voormalig voetballer met een dildo op zijn hoofd: als de Amerikanen dumbing down niet hadden uitgevonden, hadden wij het wel gedaan.<br>[...]<br>Mensen stemmen vooral radicaal-rechts omdat ze het zich kunnen permitteren. Het is decadentie, verveling; de groei van de PVV komt van de VVD, uit de welvarende middenklasse. De meesten kunnen er wél wat aan doen.\" <br><a href=\"https://www.nrc.nl/nieuws/2024/11/01/begrip-tonen-we-moeten-radicaal-rechts-juist-aanspreken-op-opzettelijke-domheid-a4871494\" rel=\"nofollow noopener noreferrer\" translate=\"no\" target=\"_blank\"><span class=\"invisible\">https://www.</span><span class=\"ellipsis\">nrc.nl/nieuws/2024/11/01/begri</span><span class=\"invisible\">p-tonen-we-moeten-radicaal-rechts-juist-aanspreken-op-opzettelijke-domheid-a4871494</span></a> <a href=\"https://mastodon.social/tags/PVV\" class=\"mention hashtag\" rel=\"nofollow noopener noreferrer\" target=\"_blank\">#<span>PVV</span></a> <a href=\"https://mastodon.social/tags/VVD\" class=\"mention hashtag\" rel=\"nofollow noopener noreferrer\" target=\"_blank\">#<span>VVD</span></a> <a href=\"https://mastodon.social/tags/politiek\" class=\"mention hashtag\" rel=\"nofollow noopener noreferrer\" target=\"_blank\">#<span>politiek</span></a></p>"
      ],
      "text/plain": [
       "<IPython.core.display.HTML object>"
      ]
     },
     "metadata": {},
     "output_type": "display_data"
    },
    {
     "name": "stdout",
     "output_type": "stream",
     "text": [
      "Date/Time: 2024-11-02 12:51:48+00:00\n",
      "____________________________________________________________________________________________________\n",
      "Toot 257\n",
      "\n"
     ]
    },
    {
     "data": {
      "text/html": [
       "<p>Benieuwd of dat er nog van gaat komen, het lijkt me eerder bluf, zoals we ook van <a href=\"https://mastodon.social/tags/Sywert\" class=\"mention hashtag\" rel=\"nofollow noopener noreferrer\" target=\"_blank\">#<span>Sywert</span></a> kennen.</p><p><a href=\"https://www.volkskrant.nl/politiek/nsc-staatssecretaris-idsinga-treedt-af-na-vragen-over-privebeleggingen~b523fd87/\" rel=\"nofollow noopener noreferrer\" translate=\"no\" target=\"_blank\"><span class=\"invisible\">https://www.</span><span class=\"ellipsis\">volkskrant.nl/politiek/nsc-sta</span><span class=\"invisible\">atssecretaris-idsinga-treedt-af-na-vragen-over-privebeleggingen~b523fd87/</span></a> <a href=\"https://mastodon.social/tags/Idsinga\" class=\"mention hashtag\" rel=\"nofollow noopener noreferrer\" target=\"_blank\">#<span>Idsinga</span></a> <a href=\"https://mastodon.social/tags/NSC\" class=\"mention hashtag\" rel=\"nofollow noopener noreferrer\" target=\"_blank\">#<span>NSC</span></a> <a href=\"https://mastodon.social/tags/VVD\" class=\"mention hashtag\" rel=\"nofollow noopener noreferrer\" target=\"_blank\">#<span>VVD</span></a> <a href=\"https://mastodon.social/tags/politiek\" class=\"mention hashtag\" rel=\"nofollow noopener noreferrer\" target=\"_blank\">#<span>politiek</span></a></p>"
      ],
      "text/plain": [
       "<IPython.core.display.HTML object>"
      ]
     },
     "metadata": {},
     "output_type": "display_data"
    },
    {
     "name": "stdout",
     "output_type": "stream",
     "text": [
      "Date/Time: 2024-11-02 12:31:26+00:00\n",
      "____________________________________________________________________________________________________\n",
      "Toot 258\n",
      "\n"
     ]
    },
    {
     "data": {
      "text/html": [
       "<p>Correctie op disinformatie die Henk Vermeer <a href=\"https://mastodon.social/tags/BBB\" class=\"mention hashtag\" rel=\"nofollow noopener noreferrer\" target=\"_blank\">#<span>BBB</span></a> verspreidt </p><p><a href=\"https://www.linkedin.com/posts/catherine-e-de-vries-00615217_desinformatie-activity-7258407901579370497-HpBS/?utm_source=share&amp;utm_medium=member_ios\" rel=\"nofollow noopener noreferrer\" translate=\"no\" target=\"_blank\"><span class=\"invisible\">https://www.</span><span class=\"ellipsis\">linkedin.com/posts/catherine-e</span><span class=\"invisible\">-de-vries-00615217_desinformatie-activity-7258407901579370497-HpBS/?utm_source=share&amp;utm_medium=member_ios</span></a><br><a href=\"https://mastodon.social/tags/spanje\" class=\"mention hashtag\" rel=\"nofollow noopener noreferrer\" target=\"_blank\">#<span>spanje</span></a> <a href=\"https://mastodon.social/tags/politiek\" class=\"mention hashtag\" rel=\"nofollow noopener noreferrer\" target=\"_blank\">#<span>politiek</span></a> <a href=\"https://mastodon.social/tags/klimaatverandering\" class=\"mention hashtag\" rel=\"nofollow noopener noreferrer\" target=\"_blank\">#<span>klimaatverandering</span></a></p>"
      ],
      "text/plain": [
       "<IPython.core.display.HTML object>"
      ]
     },
     "metadata": {},
     "output_type": "display_data"
    },
    {
     "name": "stdout",
     "output_type": "stream",
     "text": [
      "Date/Time: 2024-11-02 11:57:51+00:00\n",
      "____________________________________________________________________________________________________\n",
      "Toot 259\n",
      "\n"
     ]
    },
    {
     "data": {
      "text/html": [
       "<p>3/3 Archief Follow The Money: 15 jan. 2021:</p><p>De Amerikaanse suikeroom van Geert Wilders</p><p><a href=\"https://www.ftm.nl/artikelen/amerikaanse-suikeroom-geert-wilders?share=d%2Bb0g6sJP4XiUZVSv0L7bM4OMFfj%2FBbLG1ohW65SbbTO711ZnWhUkeDkBBSr\" rel=\"nofollow noopener noreferrer\" translate=\"no\" target=\"_blank\"><span class=\"invisible\">https://www.</span><span class=\"ellipsis\">ftm.nl/artikelen/amerikaanse-s</span><span class=\"invisible\">uikeroom-geert-wilders?share=d%2Bb0g6sJP4XiUZVSv0L7bM4OMFfj%2FBbLG1ohW65SbbTO711ZnWhUkeDkBBSr</span></a> <a href=\"https://mastodon.social/tags/ftm\" class=\"mention hashtag\" rel=\"nofollow noopener noreferrer\" target=\"_blank\">#<span>ftm</span></a> <a href=\"https://mastodon.social/tags/PVV\" class=\"mention hashtag\" rel=\"nofollow noopener noreferrer\" target=\"_blank\">#<span>PVV</span></a> <a href=\"https://mastodon.social/tags/politiek\" class=\"mention hashtag\" rel=\"nofollow noopener noreferrer\" target=\"_blank\">#<span>politiek</span></a></p>"
      ],
      "text/plain": [
       "<IPython.core.display.HTML object>"
      ]
     },
     "metadata": {},
     "output_type": "display_data"
    },
    {
     "name": "stdout",
     "output_type": "stream",
     "text": [
      "Date/Time: 2024-11-01 21:47:43+00:00\n",
      "____________________________________________________________________________________________________\n",
      "Toot 260\n",
      "\n"
     ]
    },
    {
     "data": {
      "text/html": [
       "<p>2/3 Zie verder deze 🧵 van <span class=\"h-card\" translate=\"no\"><a href=\"https://masto.ai/@pietlekkerkerk\" class=\"u-url mention\" rel=\"nofollow noopener noreferrer\" target=\"_blank\">@<span>pietlekkerkerk</span></a></span> <br>[...] <br>\"Het is bizar en onverantwoordelijk dat een partij als @NwSocContract die een nieuwe bestuurscultuur en een betrouwbare overheid voorstaat, diverse ministeries uitlevert aan de grillen van representanten van een financieel sjoemelaar als @geertwilderspvv.\"</p><p><a href=\"https://mastodon.social/tags/NSC\" class=\"mention hashtag\" rel=\"nofollow noopener noreferrer\" target=\"_blank\">#<span>NSC</span></a> <a href=\"https://mastodon.social/tags/Idsinga\" class=\"mention hashtag\" rel=\"nofollow noopener noreferrer\" target=\"_blank\">#<span>Idsinga</span></a> <a href=\"https://mastodon.social/tags/PVV\" class=\"mention hashtag\" rel=\"nofollow noopener noreferrer\" target=\"_blank\">#<span>PVV</span></a> <a href=\"https://mastodon.social/tags/Wilders\" class=\"mention hashtag\" rel=\"nofollow noopener noreferrer\" target=\"_blank\">#<span>Wilders</span></a> <a href=\"https://mastodon.social/tags/politiek\" class=\"mention hashtag\" rel=\"nofollow noopener noreferrer\" target=\"_blank\">#<span>politiek</span></a> </p><p><a href=\"https://threadreaderapp.com/thread/1849871282977767822.html\" rel=\"nofollow noopener noreferrer\" translate=\"no\" target=\"_blank\"><span class=\"invisible\">https://</span><span class=\"ellipsis\">threadreaderapp.com/thread/184</span><span class=\"invisible\">9871282977767822.html</span></a></p>"
      ],
      "text/plain": [
       "<IPython.core.display.HTML object>"
      ]
     },
     "metadata": {},
     "output_type": "display_data"
    },
    {
     "name": "stdout",
     "output_type": "stream",
     "text": [
      "Date/Time: 2024-11-01 21:21:54+00:00\n",
      "____________________________________________________________________________________________________\n",
      "Toot 261\n",
      "\n"
     ]
    },
    {
     "data": {
      "text/html": [
       "<p>2/3 Zie verder deze 🧵 van <span class=\"h-card\" translate=\"no\"><a href=\"https://masto.ai/@pietlekkerkerk\" class=\"u-url mention\" rel=\"nofollow noopener noreferrer\" target=\"_blank\">@<span>pietlekkerkerk</span></a></span> <br>[...] <br>\"Het is bizar en onverantwoordelijk dat een partij als @NwSocContract die een nieuwe bestuurscultuur en een betrouwbare overheid voorstaat, diverse ministeries uitlevert aan de grillen van representanten van een financieel sjoemelaar als @geertwilderspvv.\"</p><p><a href=\"https://mastodon.social/tags/NSC\" class=\"mention hashtag\" rel=\"nofollow noopener noreferrer\" target=\"_blank\">#<span>NSC</span></a> <a href=\"https://mastodon.social/tags/Idsinga\" class=\"mention hashtag\" rel=\"nofollow noopener noreferrer\" target=\"_blank\">#<span>Idsinga</span></a> <a href=\"https://mastodon.social/tags/PVV\" class=\"mention hashtag\" rel=\"nofollow noopener noreferrer\" target=\"_blank\">#<span>PVV</span></a> <a href=\"https://mastodon.social/tags/Wilders\" class=\"mention hashtag\" rel=\"nofollow noopener noreferrer\" target=\"_blank\">#<span>Wilders</span></a> <a href=\"https://mastodon.social/tags/politiek\" class=\"mention hashtag\" rel=\"nofollow noopener noreferrer\" target=\"_blank\">#<span>politiek</span></a> </p><p><a href=\"https://threadreaderapp.com/thread/1849871282977767822.html\" rel=\"nofollow noopener noreferrer\" translate=\"no\" target=\"_blank\"><span class=\"invisible\">https://</span><span class=\"ellipsis\">threadreaderapp.com/thread/184</span><span class=\"invisible\">9871282977767822.html</span></a></p>"
      ],
      "text/plain": [
       "<IPython.core.display.HTML object>"
      ]
     },
     "metadata": {},
     "output_type": "display_data"
    },
    {
     "name": "stdout",
     "output_type": "stream",
     "text": [
      "Date/Time: 2024-11-01 21:21:54+00:00\n",
      "____________________________________________________________________________________________________\n",
      "Toot 262\n",
      "\n"
     ]
    },
    {
     "data": {
      "text/html": [
       "<p>Aap uit mouw en lijken uit kast.<br>Zo rollen ze nu eenmaal bij de VVD olé olé, dus ook NSC<br>\"In zijn toelichting op zijn aftreden sprak Idsinga vandaag consequent over zichzelf als ondernemer. En het is precies die term waar fiscaal experts vraagtekens bij zetten. Want is Idsinga hier een ondernemer? Of een belegger? Het antwoord op die vraag is van belang, want als ondernemer heeft Idsinga recht op een forse fiscale subsidie. Als belegger niet.\"<br><a href=\"https://nos.nl/artikel/2542890-vraagtekens-bij-belastingconstructie-van-afgetreden-staatssecretaris-idsinga\" rel=\"nofollow noopener noreferrer\" translate=\"no\" target=\"_blank\"><span class=\"invisible\">https://</span><span class=\"ellipsis\">nos.nl/artikel/2542890-vraagte</span><span class=\"invisible\">kens-bij-belastingconstructie-van-afgetreden-staatssecretaris-idsinga</span></a> <a href=\"https://mastodon.social/tags/Idsinga\" class=\"mention hashtag\" rel=\"nofollow noopener noreferrer\" target=\"_blank\">#<span>Idsinga</span></a> <a href=\"https://mastodon.social/tags/NSC\" class=\"mention hashtag\" rel=\"nofollow noopener noreferrer\" target=\"_blank\">#<span>NSC</span></a> <a href=\"https://mastodon.social/tags/VVD\" class=\"mention hashtag\" rel=\"nofollow noopener noreferrer\" target=\"_blank\">#<span>VVD</span></a> <a href=\"https://mastodon.social/tags/politiek\" class=\"mention hashtag\" rel=\"nofollow noopener noreferrer\" target=\"_blank\">#<span>politiek</span></a></p>"
      ],
      "text/plain": [
       "<IPython.core.display.HTML object>"
      ]
     },
     "metadata": {},
     "output_type": "display_data"
    },
    {
     "name": "stdout",
     "output_type": "stream",
     "text": [
      "Date/Time: 2024-11-01 20:22:50+00:00\n",
      "____________________________________________________________________________________________________\n",
      "Toot 263\n",
      "\n"
     ]
    },
    {
     "data": {
      "text/html": [
       "<p>Idsinga stapt op.<br><a href=\"https://www.rtl.nl/nieuws/artikel/5478329/nsc-staatssecretaris-folkert-idsinga-stapt-op\" rel=\"nofollow noopener noreferrer\" translate=\"no\" target=\"_blank\"><span class=\"invisible\">https://www.</span><span class=\"ellipsis\">rtl.nl/nieuws/artikel/5478329/</span><span class=\"invisible\">nsc-staatssecretaris-folkert-idsinga-stapt-op</span></a><br><a href=\"https://mastodon.social/tags/politiek\" class=\"mention hashtag\" rel=\"nofollow noopener noreferrer\" target=\"_blank\">#<span>politiek</span></a> <a href=\"https://mastodon.social/tags/pvv\" class=\"mention hashtag\" rel=\"nofollow noopener noreferrer\" target=\"_blank\">#<span>pvv</span></a> <a href=\"https://mastodon.social/tags/nsc\" class=\"mention hashtag\" rel=\"nofollow noopener noreferrer\" target=\"_blank\">#<span>nsc</span></a> <a href=\"https://mastodon.social/tags/bbb\" class=\"mention hashtag\" rel=\"nofollow noopener noreferrer\" target=\"_blank\">#<span>bbb</span></a> <a href=\"https://mastodon.social/tags/wilders\" class=\"mention hashtag\" rel=\"nofollow noopener noreferrer\" target=\"_blank\">#<span>wilders</span></a></p>"
      ],
      "text/plain": [
       "<IPython.core.display.HTML object>"
      ]
     },
     "metadata": {},
     "output_type": "display_data"
    },
    {
     "name": "stdout",
     "output_type": "stream",
     "text": [
      "Date/Time: 2024-11-01 14:30:11+00:00\n",
      "____________________________________________________________________________________________________\n",
      "Toot 264\n",
      "\n"
     ]
    },
    {
     "data": {
      "text/html": [
       "<p>2/2 \"Bij kritische vragen over de uitvoerbaarheid van haar asielplannen, reageerde ze met oneliners die ze ook vaak in de Tweede Kamer bezigt: „Er waait een nieuwe wind”, „de kiezer heeft gesproken” en „wen er maar aan”.</p><p><a href=\"https://mastodon.social/tags/Faber\" class=\"mention hashtag\" rel=\"nofollow noopener noreferrer\" target=\"_blank\">#<span>Faber</span></a> <a href=\"https://mastodon.social/tags/PVV\" class=\"mention hashtag\" rel=\"nofollow noopener noreferrer\" target=\"_blank\">#<span>PVV</span></a> <a href=\"https://mastodon.social/tags/politiek\" class=\"mention hashtag\" rel=\"nofollow noopener noreferrer\" target=\"_blank\">#<span>politiek</span></a> <a href=\"https://mastodon.social/tags/asielnoodmaatregelenwet\" class=\"mention hashtag\" rel=\"nofollow noopener noreferrer\" target=\"_blank\">#<span>asielnoodmaatregelenwet</span></a> <a href=\"https://mastodon.social/tags/opvangcrisis\" class=\"mention hashtag\" rel=\"nofollow noopener noreferrer\" target=\"_blank\">#<span>opvangcrisis</span></a> <a href=\"https://mastodon.social/tags/spreidingswet\" class=\"mention hashtag\" rel=\"nofollow noopener noreferrer\" target=\"_blank\">#<span>spreidingswet</span></a></p>"
      ],
      "text/plain": [
       "<IPython.core.display.HTML object>"
      ]
     },
     "metadata": {},
     "output_type": "display_data"
    },
    {
     "name": "stdout",
     "output_type": "stream",
     "text": [
      "Date/Time: 2024-11-01 12:09:05+00:00\n",
      "____________________________________________________________________________________________________\n",
      "Toot 265\n",
      "\n"
     ]
    },
    {
     "data": {
      "text/html": [
       "<p><a href=\"https://mastodon.nl/tags/vertrouwen\" class=\"mention hashtag\" rel=\"tag\">#<span>vertrouwen</span></a><br /><a href=\"https://mastodon.nl/tags/politiek\" class=\"mention hashtag\" rel=\"tag\">#<span>politiek</span></a><br />Kamp, oktober 2014</p><p><a href=\"https://mastodon.nl/tags/aardbeving\" class=\"mention hashtag\" rel=\"tag\">#<span>aardbeving</span></a> <a href=\"https://mastodon.nl/tags/Garsthuizen\" class=\"mention hashtag\" rel=\"tag\">#<span>Garsthuizen</span></a> 2.2 M<br />31 oktober 2024<br /><a href=\"https://debatdirect.tweedekamer.nl/2014-10-09/natuur-en-milieu/plenaire-zaal/situatie-aardbevingen-in-groningen-14-31/markeringen?debate_title=Situatie%20aardbevingen%20in%20Groningen&amp;debate_slug=situatie-aardbevingen-in-groningen-14-31&amp;debate_starts_at=2014-10-09T14%3A31%3A14%2B0200&amp;event_type=speaker&amp;event_start=2014-10-09T16%3A51%3A27%2B0200&amp;event=speaker2014-10-09T16%3A51%3A27%2B0200\" target=\"_blank\" rel=\"nofollow noopener noreferrer\" translate=\"no\"><span class=\"invisible\">https://</span><span class=\"ellipsis\">debatdirect.tweedekamer.nl/201</span><span class=\"invisible\">4-10-09/natuur-en-milieu/plenaire-zaal/situatie-aardbevingen-in-groningen-14-31/markeringen?debate_title=Situatie%20aardbevingen%20in%20Groningen&amp;debate_slug=situatie-aardbevingen-in-groningen-14-31&amp;debate_starts_at=2014-10-09T14%3A31%3A14%2B0200&amp;event_type=speaker&amp;event_start=2014-10-09T16%3A51%3A27%2B0200&amp;event=speaker2014-10-09T16%3A51%3A27%2B0200</span></a></p>"
      ],
      "text/plain": [
       "<IPython.core.display.HTML object>"
      ]
     },
     "metadata": {},
     "output_type": "display_data"
    },
    {
     "name": "stdout",
     "output_type": "stream",
     "text": [
      "Date/Time: 2024-11-01 10:59:29.368000+00:00\n",
      "____________________________________________________________________________________________________\n",
      "Toot 266\n",
      "\n"
     ]
    },
    {
     "data": {
      "text/html": [
       "<p>&#39;We zeggen we doen het wel, maar al die tijd doen we het niet&#39;.</p><p>Nee <a href=\"https://mastodon.nl/tags/Nieuwsuur\" class=\"mention hashtag\" rel=\"tag\">#<span>Nieuwsuur</span></a>, als kijker ben ik al lang niet meer verbaasd dat een kabinet een (afgedwongen) toezegging nakomt.</p><p>Om enige kwaliteit te kunnen handhaven is het misschien wel veel meer inspecties eens in de 4 jaar fysieke inspecties moeten uitvoeren. Niet alleen bij (lagere) scholen, maar ook bij andere sectoren.</p><p><a href=\"https://mastodon.nl/tags/Politiek\" class=\"mention hashtag\" rel=\"tag\">#<span>Politiek</span></a> <a href=\"https://mastodon.nl/tags/Inspecties\" class=\"mention hashtag\" rel=\"tag\">#<span>Inspecties</span></a></p>"
      ],
      "text/plain": [
       "<IPython.core.display.HTML object>"
      ]
     },
     "metadata": {},
     "output_type": "display_data"
    },
    {
     "name": "stdout",
     "output_type": "stream",
     "text": [
      "Date/Time: 2024-10-31 21:23:50.252000+00:00\n",
      "____________________________________________________________________________________________________\n",
      "Toot 267\n",
      "\n"
     ]
    },
    {
     "data": {
      "text/html": [
       "<p>'Wie sinistere binnenlandse vijanden aanwijst en hun vernietiging belooft, bezigt de taal van Hitler en Mussolini, concludeerde Ruth Ben-Ghiat, historicus aan New York University en auteur van Strongmen: Mussolini to the Present.'</p><p><a href=\"https://www.groene.nl/artikel/wraak-en-vernietiging\" rel=\"nofollow noopener noreferrer\" translate=\"no\" target=\"_blank\"><span class=\"invisible\">https://www.</span><span class=\"ellipsis\">groene.nl/artikel/wraak-en-ver</span><span class=\"invisible\">nietiging</span></a> <a href=\"https://mastodon.social/tags/Trump\" class=\"mention hashtag\" rel=\"nofollow noopener noreferrer\" target=\"_blank\">#<span>Trump</span></a> <a href=\"https://mastodon.social/tags/politiek\" class=\"mention hashtag\" rel=\"nofollow noopener noreferrer\" target=\"_blank\">#<span>politiek</span></a></p>"
      ],
      "text/plain": [
       "<IPython.core.display.HTML object>"
      ]
     },
     "metadata": {},
     "output_type": "display_data"
    },
    {
     "name": "stdout",
     "output_type": "stream",
     "text": [
      "Date/Time: 2024-10-31 10:11:02+00:00\n",
      "____________________________________________________________________________________________________\n",
      "Toot 268\n",
      "\n"
     ]
    },
    {
     "data": {
      "text/html": [
       "<p>/2 edit</p><p>Ahh.. Gevonden.. </p><p>De uitspraak van de rechtbank zelf:</p><p>De gemeente Westerwolde krijgt opnieuw gelijk in kort geding over maximale bezetting Ter Apel <a href=\"https://mastodon.nl/tags/Uitspraak\" class=\"mention hashtag\" rel=\"tag\">#<span>Uitspraak</span></a>.nl<br /><a href=\"https://www.rechtspraak.nl/Organisatie-en-contact/Organisatie/Rechtbanken/Rechtbank-Noord-Nederland/Nieuws/Paginas/De-gemeente-Westerwolde-krijgt-opnieuw-gelijk-in-kort-geding-over-maximale-bezetting-Ter-Apel.aspx\" target=\"_blank\" rel=\"nofollow noopener noreferrer\" translate=\"no\"><span class=\"invisible\">https://www.</span><span class=\"ellipsis\">rechtspraak.nl/Organisatie-en-</span><span class=\"invisible\">contact/Organisatie/Rechtbanken/Rechtbank-Noord-Nederland/Nieuws/Paginas/De-gemeente-Westerwolde-krijgt-opnieuw-gelijk-in-kort-geding-over-maximale-bezetting-Ter-Apel.aspx</span></a></p><p><a href=\"https://mastodon.nl/tags/Politiek\" class=\"mention hashtag\" rel=\"tag\">#<span>Politiek</span></a> <a href=\"https://mastodon.nl/tags/Asiel\" class=\"mention hashtag\" rel=\"tag\">#<span>Asiel</span></a> <a href=\"https://mastodon.nl/tags/TerApel\" class=\"mention hashtag\" rel=\"tag\">#<span>TerApel</span></a></p>"
      ],
      "text/plain": [
       "<IPython.core.display.HTML object>"
      ]
     },
     "metadata": {},
     "output_type": "display_data"
    },
    {
     "name": "stdout",
     "output_type": "stream",
     "text": [
      "Date/Time: 2024-10-30 18:09:25.041000+00:00\n",
      "____________________________________________________________________________________________________\n",
      "Toot 269\n",
      "\n"
     ]
    },
    {
     "data": {
      "text/html": [
       "<p>Westerwolde krijgt gelijk: nieuwe, hogere dwangsom voor COA bij te veel asielzoekers in Ter Apel | de <a href=\"https://mastodon.nl/tags/Volkskrant\" class=\"mention hashtag\" rel=\"tag\">#<span>Volkskrant</span></a><br /><a href=\"https://www.volkskrant.nl/binnenland/westerwolde-krijgt-gelijk-nieuwe-hogere-dwangsom-voor-coa-bij-te-veel-asielzoekers-in-ter-apel~be394a1d/\" target=\"_blank\" rel=\"nofollow noopener noreferrer\" translate=\"no\"><span class=\"invisible\">https://www.</span><span class=\"ellipsis\">volkskrant.nl/binnenland/weste</span><span class=\"invisible\">rwolde-krijgt-gelijk-nieuwe-hogere-dwangsom-voor-coa-bij-te-veel-asielzoekers-in-ter-apel~be394a1d/</span></a></p><p>De asiel crisis wordt terecht voor Faber nog een slag erger:<br />&#39;De rechter gaf Westerwolde ook op dit punt gelijk: asielzoekers die overdag in Ter Apel verblijven, maar elders overnachten, moeten worden meegeteld.&#39;</p><p>Over ruim 3 maanden een volgende stap... Dan wordt die 5 miljoen waarschijnlijk al gehaald.</p><p><a href=\"https://mastodon.nl/tags/Politiek\" class=\"mention hashtag\" rel=\"tag\">#<span>Politiek</span></a> <a href=\"https://mastodon.nl/tags/Asiel\" class=\"mention hashtag\" rel=\"tag\">#<span>Asiel</span></a> <a href=\"https://mastodon.nl/tags/TerApel\" class=\"mention hashtag\" rel=\"tag\">#<span>TerApel</span></a></p>"
      ],
      "text/plain": [
       "<IPython.core.display.HTML object>"
      ]
     },
     "metadata": {},
     "output_type": "display_data"
    },
    {
     "name": "stdout",
     "output_type": "stream",
     "text": [
      "Date/Time: 2024-10-30 16:57:12.003000+00:00\n",
      "____________________________________________________________________________________________________\n",
      "Toot 270\n",
      "\n"
     ]
    },
    {
     "data": {
      "text/html": [
       "<p>3/3 <a href=\"https://mastodon.social/tags/Idsinga\" class=\"mention hashtag\" rel=\"nofollow noopener noreferrer\" target=\"_blank\">#<span>Idsinga</span></a> <a href=\"https://mastodon.social/tags/NSC\" class=\"mention hashtag\" rel=\"nofollow noopener noreferrer\" target=\"_blank\">#<span>NSC</span></a> <a href=\"https://mastodon.social/tags/VVD\" class=\"mention hashtag\" rel=\"nofollow noopener noreferrer\" target=\"_blank\">#<span>VVD</span></a> <a href=\"https://mastodon.social/tags/politiek\" class=\"mention hashtag\" rel=\"nofollow noopener noreferrer\" target=\"_blank\">#<span>politiek</span></a> </p><p>RT Nieuw Sociaal Contract<br>@NwSocContract<br>🔹 <br>@stasFB<br> Folkert Idsinga wil de belastingdienst verbeteren en klaarmaken voor de toekomst. Mensen moeten ervaren dat belasting heffen op een eerlijke en zorgvuldige manier gebeurt. Ook dat is goed bestuur. 4/9 </p><p>12:01 p.m. · 15 sep. 2024<br>·</p>"
      ],
      "text/plain": [
       "<IPython.core.display.HTML object>"
      ]
     },
     "metadata": {},
     "output_type": "display_data"
    },
    {
     "name": "stdout",
     "output_type": "stream",
     "text": [
      "Date/Time: 2024-10-29 23:21:00+00:00\n",
      "____________________________________________________________________________________________________\n",
      "Toot 271\n",
      "\n"
     ]
    },
    {
     "data": {
      "text/html": [
       "<p>2/3  Met je 'goed bestuur'...</p><p><a href=\"https://mastodon.social/tags/Idsinga\" class=\"mention hashtag\" rel=\"nofollow noopener noreferrer\" target=\"_blank\">#<span>Idsinga</span></a> <a href=\"https://mastodon.social/tags/NSC\" class=\"mention hashtag\" rel=\"nofollow noopener noreferrer\" target=\"_blank\">#<span>NSC</span></a> <a href=\"https://mastodon.social/tags/VVD\" class=\"mention hashtag\" rel=\"nofollow noopener noreferrer\" target=\"_blank\">#<span>VVD</span></a> <a href=\"https://mastodon.social/tags/politiek\" class=\"mention hashtag\" rel=\"nofollow noopener noreferrer\" target=\"_blank\">#<span>politiek</span></a> <a href=\"https://mastodon.social/tags/transparantie\" class=\"mention hashtag\" rel=\"nofollow noopener noreferrer\" target=\"_blank\">#<span>transparantie</span></a></p>"
      ],
      "text/plain": [
       "<IPython.core.display.HTML object>"
      ]
     },
     "metadata": {},
     "output_type": "display_data"
    },
    {
     "name": "stdout",
     "output_type": "stream",
     "text": [
      "Date/Time: 2024-10-29 23:17:45+00:00\n",
      "____________________________________________________________________________________________________\n",
      "Toot 272\n",
      "\n"
     ]
    },
    {
     "data": {
      "text/html": [
       "<p>\"Ik denk dat het goed is dat er transparantie is\", reageert Idsinga bij RTL. \"Maar er is ook zoiets als het privéleven van mensen. Ik doe mijn best om zo transparant mogelijk te zijn binnen de regels die gesteld zijn en ik vind dat ik niet verder hoef te gaan dan dat.\"</p><p>Wat een schaamteloze vlerk. En met steun van de messias <a href=\"https://mastodon.social/tags/Omtzigt\" class=\"mention hashtag\" rel=\"nofollow noopener noreferrer\" target=\"_blank\">#<span>Omtzigt</span></a> ook nog eens een keer, hoe verbazingwekkend. Idsinga is en blijft een VVD'er in hart en nieren.</p><p><a href=\"https://nos.nl/artikel/2542572-kamer-wil-helderheid-over-zakelijke-belangen-staatssecretaris-idsinga\" rel=\"nofollow noopener noreferrer\" translate=\"no\" target=\"_blank\"><span class=\"invisible\">https://</span><span class=\"ellipsis\">nos.nl/artikel/2542572-kamer-w</span><span class=\"invisible\">il-helderheid-over-zakelijke-belangen-staatssecretaris-idsinga</span></a></p><p><a href=\"https://mastodon.social/tags/politiek\" class=\"mention hashtag\" rel=\"nofollow noopener noreferrer\" target=\"_blank\">#<span>politiek</span></a> <a href=\"https://mastodon.social/tags/NSC\" class=\"mention hashtag\" rel=\"nofollow noopener noreferrer\" target=\"_blank\">#<span>NSC</span></a> <a href=\"https://mastodon.social/tags/VVD\" class=\"mention hashtag\" rel=\"nofollow noopener noreferrer\" target=\"_blank\">#<span>VVD</span></a> <a href=\"https://mastodon.social/tags/Idsinga\" class=\"mention hashtag\" rel=\"nofollow noopener noreferrer\" target=\"_blank\">#<span>Idsinga</span></a></p>"
      ],
      "text/plain": [
       "<IPython.core.display.HTML object>"
      ]
     },
     "metadata": {},
     "output_type": "display_data"
    },
    {
     "name": "stdout",
     "output_type": "stream",
     "text": [
      "Date/Time: 2024-10-29 22:59:21+00:00\n",
      "____________________________________________________________________________________________________\n",
      "Toot 273\n",
      "\n"
     ]
    },
    {
     "data": {
      "text/html": [
       "<p>Statushouders en asielzoekers, echt het allerkleinste vraagstuk in ons land met veel grotere problemen op het gebied van huisvesting, gezondheidszorg, economie, duurzaamheid, criminaliteit etc. Maar nee mensen gaan vluchtelingen in Ugchelen uitjoelen, walgelijk ….<br><a href=\"https://mastodon.social/tags/asiel\" class=\"mention hashtag\" rel=\"nofollow noopener noreferrer\" target=\"_blank\">#<span>asiel</span></a> <a href=\"https://mastodon.social/tags/politiek\" class=\"mention hashtag\" rel=\"nofollow noopener noreferrer\" target=\"_blank\">#<span>politiek</span></a></p>"
      ],
      "text/plain": [
       "<IPython.core.display.HTML object>"
      ]
     },
     "metadata": {},
     "output_type": "display_data"
    },
    {
     "name": "stdout",
     "output_type": "stream",
     "text": [
      "Date/Time: 2024-10-29 20:23:20+00:00\n",
      "____________________________________________________________________________________________________\n",
      "Toot 274\n",
      "\n"
     ]
    },
    {
     "data": {
      "text/html": [
       "<p>\"Human rights activist\" Ayaan Hirsi Ali wil ook nog wat zeggen over 'the Rule of Law, Common Sense and a veneration of the American Constitution\" ... </p><p><a href=\"https://mastodon.social/tags/verkiezingen\" class=\"mention hashtag\" rel=\"nofollow noopener noreferrer\" target=\"_blank\">#<span>verkiezingen</span></a> <a href=\"https://mastodon.social/tags/election\" class=\"mention hashtag\" rel=\"nofollow noopener noreferrer\" target=\"_blank\">#<span>election</span></a> <br><a href=\"https://mastodon.social/tags/politics\" class=\"mention hashtag\" rel=\"nofollow noopener noreferrer\" target=\"_blank\">#<span>politics</span></a> <a href=\"https://mastodon.social/tags/politiek\" class=\"mention hashtag\" rel=\"nofollow noopener noreferrer\" target=\"_blank\">#<span>politiek</span></a></p>"
      ],
      "text/plain": [
       "<IPython.core.display.HTML object>"
      ]
     },
     "metadata": {},
     "output_type": "display_data"
    },
    {
     "name": "stdout",
     "output_type": "stream",
     "text": [
      "Date/Time: 2024-10-29 14:10:46+00:00\n",
      "____________________________________________________________________________________________________\n",
      "Toot 275\n",
      "\n"
     ]
    },
    {
     "data": {
      "text/html": [
       "<p>Meer dan 200.000 is bij de <a href=\"https://mastodon.social/tags/NOS\" class=\"mention hashtag\" rel=\"nofollow noopener noreferrer\" target=\"_blank\">#<span>NOS</span></a> 'tienduizenden' ...</p><p><a href=\"https://mastodon.social/tags/WaPo\" class=\"mention hashtag\" rel=\"nofollow noopener noreferrer\" target=\"_blank\">#<span>WaPo</span></a> <a href=\"https://mastodon.social/tags/politiek\" class=\"mention hashtag\" rel=\"nofollow noopener noreferrer\" target=\"_blank\">#<span>politiek</span></a> <a href=\"https://mastodon.social/tags/media\" class=\"mention hashtag\" rel=\"nofollow noopener noreferrer\" target=\"_blank\">#<span>media</span></a></p>"
      ],
      "text/plain": [
       "<IPython.core.display.HTML object>"
      ]
     },
     "metadata": {},
     "output_type": "display_data"
    },
    {
     "name": "stdout",
     "output_type": "stream",
     "text": [
      "Date/Time: 2024-10-29 09:50:13+00:00\n",
      "____________________________________________________________________________________________________\n",
      "Toot 276\n",
      "\n"
     ]
    },
    {
     "data": {
      "text/html": [
       "<p>2/2  \"Meedogenloosheid tegen een groep medeburgers die zich niet of ternauwernood kunnen verweren tegen de macht van de staat is de prijs die VVD en NSC bereid zijn te betalen voor het overeind houden van het kabinet.\"</p><p><a href=\"https://mastodon.social/tags/nietmijnregering\" class=\"mention hashtag\" rel=\"nofollow noopener noreferrer\" target=\"_blank\">#<span>nietmijnregering</span></a> </p><p><a href=\"https://www.groene.nl/artikel/ongegeneerde-wreedheid-ten-opzichte-van-asielzoekers\" rel=\"nofollow noopener noreferrer\" translate=\"no\" target=\"_blank\"><span class=\"invisible\">https://www.</span><span class=\"ellipsis\">groene.nl/artikel/ongegeneerde</span><span class=\"invisible\">-wreedheid-ten-opzichte-van-asielzoekers</span></a><br><a href=\"https://mastodon.social/tags/asielnoodmaatregelenwet\" class=\"mention hashtag\" rel=\"nofollow noopener noreferrer\" target=\"_blank\">#<span>asielnoodmaatregelenwet</span></a> <a href=\"https://mastodon.social/tags/asiel\" class=\"mention hashtag\" rel=\"nofollow noopener noreferrer\" target=\"_blank\">#<span>asiel</span></a> <a href=\"https://mastodon.social/tags/opvangcrisis\" class=\"mention hashtag\" rel=\"nofollow noopener noreferrer\" target=\"_blank\">#<span>opvangcrisis</span></a> <a href=\"https://mastodon.social/tags/politiek\" class=\"mention hashtag\" rel=\"nofollow noopener noreferrer\" target=\"_blank\">#<span>politiek</span></a></p>"
      ],
      "text/plain": [
       "<IPython.core.display.HTML object>"
      ]
     },
     "metadata": {},
     "output_type": "display_data"
    },
    {
     "name": "stdout",
     "output_type": "stream",
     "text": [
      "Date/Time: 2024-10-29 07:21:16+00:00\n",
      "____________________________________________________________________________________________________\n",
      "Toot 277\n",
      "\n"
     ]
    },
    {
     "data": {
      "text/html": [
       "<p>\"Dikke kans dat rechters, in Nederland hetzij in Straatsburg, een stokje zullen steken voor de meest wrede van de mensonterende spelletjes die het kabinet-Schoof wil spelen met de rechten van vluchtelingen. Toch is dat een schrale troost. Rechterlijke correcties maken niet ongedaan dat Nederland wordt geregeerd door een kabinet dat beleid wil maken van het pesten en treiteren van vluchtelingen.\"</p><p><a href=\"https://www.groene.nl/artikel/ongegeneerde-wreedheid-ten-opzichte-van-asielzoekers\" rel=\"nofollow noopener noreferrer\" translate=\"no\" target=\"_blank\"><span class=\"invisible\">https://www.</span><span class=\"ellipsis\">groene.nl/artikel/ongegeneerde</span><span class=\"invisible\">-wreedheid-ten-opzichte-van-asielzoekers</span></a> <a href=\"https://mastodon.social/tags/asielnoodmaatregelenwet\" class=\"mention hashtag\" rel=\"nofollow noopener noreferrer\" target=\"_blank\">#<span>asielnoodmaatregelenwet</span></a> <br><a href=\"https://mastodon.social/tags/PVV\" class=\"mention hashtag\" rel=\"nofollow noopener noreferrer\" target=\"_blank\">#<span>PVV</span></a> <a href=\"https://mastodon.social/tags/NSC\" class=\"mention hashtag\" rel=\"nofollow noopener noreferrer\" target=\"_blank\">#<span>NSC</span></a> <a href=\"https://mastodon.social/tags/VVD\" class=\"mention hashtag\" rel=\"nofollow noopener noreferrer\" target=\"_blank\">#<span>VVD</span></a> <a href=\"https://mastodon.social/tags/BBB\" class=\"mention hashtag\" rel=\"nofollow noopener noreferrer\" target=\"_blank\">#<span>BBB</span></a> <a href=\"https://mastodon.social/tags/politiek\" class=\"mention hashtag\" rel=\"nofollow noopener noreferrer\" target=\"_blank\">#<span>politiek</span></a> <a href=\"https://mastodon.social/tags/asielrecht\" class=\"mention hashtag\" rel=\"nofollow noopener noreferrer\" target=\"_blank\">#<span>asielrecht</span></a></p>"
      ],
      "text/plain": [
       "<IPython.core.display.HTML object>"
      ]
     },
     "metadata": {},
     "output_type": "display_data"
    },
    {
     "name": "stdout",
     "output_type": "stream",
     "text": [
      "Date/Time: 2024-10-29 07:18:34+00:00\n",
      "____________________________________________________________________________________________________\n",
      "Toot 278\n",
      "\n"
     ]
    },
    {
     "data": {
      "text/html": [
       "<p>Ben jij al lid van een vakbond?</p><p>Volg LIHN voor meer links nieuws!</p><p><a href=\"https://mastodon.nl/tags/vakbond\" class=\"mention hashtag\" rel=\"tag\">#<span>vakbond</span></a> <a href=\"https://mastodon.nl/tags/politiek\" class=\"mention hashtag\" rel=\"tag\">#<span>politiek</span></a> <a href=\"https://mastodon.nl/tags/nieuws\" class=\"mention hashtag\" rel=\"tag\">#<span>nieuws</span></a> <a href=\"https://mastodon.nl/tags/cao\" class=\"mention hashtag\" rel=\"tag\">#<span>cao</span></a> <a href=\"https://mastodon.nl/tags/toekomst\" class=\"mention hashtag\" rel=\"tag\">#<span>toekomst</span></a></p>"
      ],
      "text/plain": [
       "<IPython.core.display.HTML object>"
      ]
     },
     "metadata": {},
     "output_type": "display_data"
    },
    {
     "name": "stdout",
     "output_type": "stream",
     "text": [
      "Date/Time: 2024-10-28 20:22:19.407000+00:00\n",
      "____________________________________________________________________________________________________\n",
      "Toot 279\n",
      "\n"
     ]
    },
    {
     "data": {
      "text/html": [
       "<p>BREAKING: Israël verbiedt UNRWA, de allergrootste hulpverlener voor Palestijnse burgers.</p><p>Volg LIHN voor meer links nieuws!</p><p><a href=\"https://mastodon.nl/tags/palestine\" class=\"mention hashtag\" rel=\"tag\">#<span>palestine</span></a> <a href=\"https://mastodon.nl/tags/palestine\" class=\"mention hashtag\" rel=\"tag\">#<span>palestine</span></a> <a href=\"https://mastodon.nl/tags/israel\" class=\"mention hashtag\" rel=\"tag\">#<span>israel</span></a> <a href=\"https://mastodon.nl/tags/genocide\" class=\"mention hashtag\" rel=\"tag\">#<span>genocide</span></a> <a href=\"https://mastodon.nl/tags/UNRWA\" class=\"mention hashtag\" rel=\"tag\">#<span>UNRWA</span></a> <a href=\"https://mastodon.nl/tags/lebanon\" class=\"mention hashtag\" rel=\"tag\">#<span>lebanon</span></a> <a href=\"https://mastodon.nl/tags/libanon\" class=\"mention hashtag\" rel=\"tag\">#<span>libanon</span></a> <a href=\"https://mastodon.nl/tags/nieuws\" class=\"mention hashtag\" rel=\"tag\">#<span>nieuws</span></a> <a href=\"https://mastodon.nl/tags/politiek\" class=\"mention hashtag\" rel=\"tag\">#<span>politiek</span></a> <a href=\"https://mastodon.nl/tags/VN\" class=\"mention hashtag\" rel=\"tag\">#<span>VN</span></a></p>"
      ],
      "text/plain": [
       "<IPython.core.display.HTML object>"
      ]
     },
     "metadata": {},
     "output_type": "display_data"
    },
    {
     "name": "stdout",
     "output_type": "stream",
     "text": [
      "Date/Time: 2024-10-28 20:14:51.998000+00:00\n",
      "____________________________________________________________________________________________________\n",
      "Toot 280\n",
      "\n"
     ]
    },
    {
     "data": {
      "text/html": [
       "<p>Interessante blog van Kim van Keken.<br>\"De asielbegroting: een schrijnend staaltje wensdenken\"<br><a href=\"https://petjeaf.com/kimvankeken/posts/de-asielbegroting-een-schrijnend-staaltje-wensdenken\" rel=\"nofollow noopener noreferrer\" translate=\"no\" target=\"_blank\"><span class=\"invisible\">https://</span><span class=\"ellipsis\">petjeaf.com/kimvankeken/posts/</span><span class=\"invisible\">de-asielbegroting-een-schrijnend-staaltje-wensdenken</span></a><br><a href=\"https://mastodon.social/tags/asiel\" class=\"mention hashtag\" rel=\"nofollow noopener noreferrer\" target=\"_blank\">#<span>asiel</span></a> <a href=\"https://mastodon.social/tags/begroting\" class=\"mention hashtag\" rel=\"nofollow noopener noreferrer\" target=\"_blank\">#<span>begroting</span></a> <a href=\"https://mastodon.social/tags/faber\" class=\"mention hashtag\" rel=\"nofollow noopener noreferrer\" target=\"_blank\">#<span>faber</span></a> <a href=\"https://mastodon.social/tags/politiek\" class=\"mention hashtag\" rel=\"nofollow noopener noreferrer\" target=\"_blank\">#<span>politiek</span></a> <a href=\"https://mastodon.social/tags/VVD\" class=\"mention hashtag\" rel=\"nofollow noopener noreferrer\" target=\"_blank\">#<span>VVD</span></a> <a href=\"https://mastodon.social/tags/PVV\" class=\"mention hashtag\" rel=\"nofollow noopener noreferrer\" target=\"_blank\">#<span>PVV</span></a></p>"
      ],
      "text/plain": [
       "<IPython.core.display.HTML object>"
      ]
     },
     "metadata": {},
     "output_type": "display_data"
    },
    {
     "name": "stdout",
     "output_type": "stream",
     "text": [
      "Date/Time: 2024-10-28 07:57:21+00:00\n",
      "____________________________________________________________________________________________________\n",
      "Toot 281\n",
      "\n"
     ]
    },
    {
     "data": {
      "text/html": [
       "<p>Interessante blog van Kim van Keken.<br>\"De asielbegroting: een schrijnend staaltje wensdenken\"<br><a href=\"https://petjeaf.com/kimvankeken/posts/de-asielbegroting-een-schrijnend-staaltje-wensdenken\" rel=\"nofollow noopener noreferrer\" translate=\"no\" target=\"_blank\"><span class=\"invisible\">https://</span><span class=\"ellipsis\">petjeaf.com/kimvankeken/posts/</span><span class=\"invisible\">de-asielbegroting-een-schrijnend-staaltje-wensdenken</span></a><br><a href=\"https://mastodon.social/tags/asiel\" class=\"mention hashtag\" rel=\"nofollow noopener noreferrer\" target=\"_blank\">#<span>asiel</span></a> <a href=\"https://mastodon.social/tags/begroting\" class=\"mention hashtag\" rel=\"nofollow noopener noreferrer\" target=\"_blank\">#<span>begroting</span></a> <a href=\"https://mastodon.social/tags/faber\" class=\"mention hashtag\" rel=\"nofollow noopener noreferrer\" target=\"_blank\">#<span>faber</span></a> <a href=\"https://mastodon.social/tags/politiek\" class=\"mention hashtag\" rel=\"nofollow noopener noreferrer\" target=\"_blank\">#<span>politiek</span></a> <a href=\"https://mastodon.social/tags/VVD\" class=\"mention hashtag\" rel=\"nofollow noopener noreferrer\" target=\"_blank\">#<span>VVD</span></a> <a href=\"https://mastodon.social/tags/PVV\" class=\"mention hashtag\" rel=\"nofollow noopener noreferrer\" target=\"_blank\">#<span>PVV</span></a></p>"
      ],
      "text/plain": [
       "<IPython.core.display.HTML object>"
      ]
     },
     "metadata": {},
     "output_type": "display_data"
    },
    {
     "name": "stdout",
     "output_type": "stream",
     "text": [
      "Date/Time: 2024-10-28 07:57:21+00:00\n",
      "____________________________________________________________________________________________________\n",
      "Toot 282\n",
      "\n"
     ]
    },
    {
     "data": {
      "text/html": [
       "<p>196 van de 270.473 inwoners van tweede grootste stad in België  houden nu een politieke partij uit het bestuur. <br>'t Kan verkeren zei Bredero.<br> <br>Maar ach, 't is nog altijd een veiliger democratie dan die trend om na een verkiezing te staan janken en puschen aan bestuursgebouwen met alle gevolgen vandien.</p><p><a href=\"https://mastodon-belgium.be/tags/politiek\" class=\"mention hashtag\" rel=\"nofollow noopener noreferrer\" target=\"_blank\">#<span>politiek</span></a> <a href=\"https://mastodon-belgium.be/tags/Gent\" class=\"mention hashtag\" rel=\"nofollow noopener noreferrer\" target=\"_blank\">#<span>Gent</span></a> <a href=\"https://mastodon-belgium.be/tags/Vooruit\" class=\"mention hashtag\" rel=\"nofollow noopener noreferrer\" target=\"_blank\">#<span>Vooruit</span></a> <a href=\"https://mastodon-belgium.be/tags/NVA\" class=\"mention hashtag\" rel=\"nofollow noopener noreferrer\" target=\"_blank\">#<span>NVA</span></a> <a href=\"https://mastodon-belgium.be/tags/Voorgent\" class=\"mention hashtag\" rel=\"nofollow noopener noreferrer\" target=\"_blank\">#<span>Voorgent</span></a>  <a href=\"https://mastodon-belgium.be/tags/groen\" class=\"mention hashtag\" rel=\"nofollow noopener noreferrer\" target=\"_blank\">#<span>groen</span></a> <a href=\"https://mastodon-belgium.be/tags/democratie\" class=\"mention hashtag\" rel=\"nofollow noopener noreferrer\" target=\"_blank\">#<span>democratie</span></a> <a href=\"https://mastodon-belgium.be/tags/Belgi%C3%AB\" class=\"mention hashtag\" rel=\"nofollow noopener noreferrer\" target=\"_blank\">#<span>België</span></a></p>"
      ],
      "text/plain": [
       "<IPython.core.display.HTML object>"
      ]
     },
     "metadata": {},
     "output_type": "display_data"
    },
    {
     "name": "stdout",
     "output_type": "stream",
     "text": [
      "Date/Time: 2024-10-28 02:04:06+00:00\n",
      "____________________________________________________________________________________________________\n",
      "Toot 283\n",
      "\n"
     ]
    },
    {
     "data": {
      "text/html": [
       "<p>In de opvang in Rotterdam, beheerd door het Rotterdams Ongedocumenteerden Steunpunt (ROS), zijn nu vooral kwetsbare vrouwen ondergebracht. “Deze mensen kunnen geen kant op. Het is de laatste plek in Rotterdam waar ze terechtkunnen en nu moet die dicht. Dan hebben we dus een probleem”, zegt Maarten Goezinnen, coördinator van de stichting ROS. - <a href=\"https://nos.nl/l/2542202\" target=\"_blank\" rel=\"nofollow noopener noreferrer\" translate=\"no\"><span class=\"invisible\">https://</span><span class=\"\">nos.nl/l/2542202</span><span class=\"invisible\"></span></a></p><p>Volg ons voor meer links nieuws!</p><p><a href=\"https://mastodon.nl/tags/denk\" class=\"mention hashtag\" rel=\"tag\">#<span>denk</span></a> <a href=\"https://mastodon.nl/tags/d66\" class=\"mention hashtag\" rel=\"tag\">#<span>d66</span></a> <a href=\"https://mastodon.nl/tags/politiek\" class=\"mention hashtag\" rel=\"tag\">#<span>politiek</span></a> <a href=\"https://mastodon.nl/tags/nieuws\" class=\"mention hashtag\" rel=\"tag\">#<span>nieuws</span></a> <a href=\"https://mastodon.nl/tags/rotterdam\" class=\"mention hashtag\" rel=\"tag\">#<span>rotterdam</span></a></p>"
      ],
      "text/plain": [
       "<IPython.core.display.HTML object>"
      ]
     },
     "metadata": {},
     "output_type": "display_data"
    },
    {
     "name": "stdout",
     "output_type": "stream",
     "text": [
      "Date/Time: 2024-10-27 19:12:49.724000+00:00\n",
      "____________________________________________________________________________________________________\n",
      "Toot 284\n",
      "\n"
     ]
    },
    {
     "data": {
      "text/html": [
       "<p>2/2  'Het buitenland is grondig uit de mode, tenzij je er asielzoekers aan kunt verhandelen. Aan de wartaal van Kahraman en de van gêne gebogen ruggen van zijn collega’s merk je dat ze dit nooit zó hadden bedoeld met hun begeesterde betogen over een nieuw sociaal contract.\"<br><a href=\"https://www.volkskrant.nl/columns-van-de-dag/voor-de-coalitie-waarin-nsc-ers-zijn-opgesloten-is-het-buitenland-een-hinderlijk-vlekje-op-het-tafelblad~b119ed4e/\" rel=\"nofollow noopener noreferrer\" translate=\"no\" target=\"_blank\"><span class=\"invisible\">https://www.</span><span class=\"ellipsis\">volkskrant.nl/columns-van-de-d</span><span class=\"invisible\">ag/voor-de-coalitie-waarin-nsc-ers-zijn-opgesloten-is-het-buitenland-een-hinderlijk-vlekje-op-het-tafelblad~b119ed4e/</span></a> <br><a href=\"https://mastodon.social/tags/NSC\" class=\"mention hashtag\" rel=\"nofollow noopener noreferrer\" target=\"_blank\">#<span>NSC</span></a> <a href=\"https://mastodon.social/tags/Omtzigt\" class=\"mention hashtag\" rel=\"nofollow noopener noreferrer\" target=\"_blank\">#<span>Omtzigt</span></a> <a href=\"https://mastodon.social/tags/Kahraman\" class=\"mention hashtag\" rel=\"nofollow noopener noreferrer\" target=\"_blank\">#<span>Kahraman</span></a><br><a href=\"https://mastodon.social/tags/PVV\" class=\"mention hashtag\" rel=\"nofollow noopener noreferrer\" target=\"_blank\">#<span>PVV</span></a> <a href=\"https://mastodon.social/tags/politiek\" class=\"mention hashtag\" rel=\"nofollow noopener noreferrer\" target=\"_blank\">#<span>politiek</span></a></p>"
      ],
      "text/plain": [
       "<IPython.core.display.HTML object>"
      ]
     },
     "metadata": {},
     "output_type": "display_data"
    },
    {
     "name": "stdout",
     "output_type": "stream",
     "text": [
      "Date/Time: 2024-10-27 16:31:36+00:00\n",
      "____________________________________________________________________________________________________\n",
      "Toot 285\n",
      "\n"
     ]
    },
    {
     "data": {
      "text/html": [
       "<p>'Ze kwamen voor Pieter Omtzigt en voor het bestormen van de hemel, ze kregen een naargeestig document vol rare coalitieafspraken die ze moeten helpen uitvoeren. Er was ze weliswaar iets verteld over lekker eigenzinnig extraparlementair je eigen ding blijven doen, maar dat valt in de praktijk niet altijd mee, want dan wordt Wilders boos of gaat Van der Plas roddelen dat Omtzigt heeft gehuild, en zo kon het komen dat Isa Kahraman een tragische man werd.'</p><p><a href=\"https://www.volkskrant.nl/columns-van-de-dag/voor-de-coalitie-waarin-nsc-ers-zijn-opgesloten-is-het-buitenland-een-hinderlijk-vlekje-op-het-tafelblad~b119ed4e/\" rel=\"nofollow noopener noreferrer\" translate=\"no\" target=\"_blank\"><span class=\"invisible\">https://www.</span><span class=\"ellipsis\">volkskrant.nl/columns-van-de-d</span><span class=\"invisible\">ag/voor-de-coalitie-waarin-nsc-ers-zijn-opgesloten-is-het-buitenland-een-hinderlijk-vlekje-op-het-tafelblad~b119ed4e/</span></a> <a href=\"https://mastodon.social/tags/NSC\" class=\"mention hashtag\" rel=\"nofollow noopener noreferrer\" target=\"_blank\">#<span>NSC</span></a> <a href=\"https://mastodon.social/tags/politiek\" class=\"mention hashtag\" rel=\"nofollow noopener noreferrer\" target=\"_blank\">#<span>politiek</span></a></p>"
      ],
      "text/plain": [
       "<IPython.core.display.HTML object>"
      ]
     },
     "metadata": {},
     "output_type": "display_data"
    },
    {
     "name": "stdout",
     "output_type": "stream",
     "text": [
      "Date/Time: 2024-10-27 16:25:22+00:00\n",
      "____________________________________________________________________________________________________\n",
      "Toot 286\n",
      "\n"
     ]
    },
    {
     "data": {
      "text/html": [
       "<p>Ben begonnen met het <a href=\"https://mastodon.social/tags/boek\" class=\"mention hashtag\" rel=\"nofollow noopener noreferrer\" target=\"_blank\">#<span>boek</span></a> ‘Groter denken, kleiner doen’ van Herman Tjeenk Willink. Interessante analyse over de rol van een <a href=\"https://mastodon.social/tags/overheid\" class=\"mention hashtag\" rel=\"nofollow noopener noreferrer\" target=\"_blank\">#<span>overheid</span></a>, de <a href=\"https://mastodon.social/tags/politiek\" class=\"mention hashtag\" rel=\"nofollow noopener noreferrer\" target=\"_blank\">#<span>politiek</span></a> en de <a href=\"https://mastodon.social/tags/burger\" class=\"mention hashtag\" rel=\"nofollow noopener noreferrer\" target=\"_blank\">#<span>burger</span></a>. </p><p>“Ten slotte wordt door de opkomst van de sociale media de ‘opinion populaire’ als ‘opinion publique’ beschouwd”</p><p><a href=\"https://books.apple.com/nl/book/groter-denken-kleiner-doen/id1445825427\" rel=\"nofollow noopener noreferrer\" translate=\"no\" target=\"_blank\"><span class=\"invisible\">https://</span><span class=\"ellipsis\">books.apple.com/nl/book/groter</span><span class=\"invisible\">-denken-kleiner-doen/id1445825427</span></a></p>"
      ],
      "text/plain": [
       "<IPython.core.display.HTML object>"
      ]
     },
     "metadata": {},
     "output_type": "display_data"
    },
    {
     "name": "stdout",
     "output_type": "stream",
     "text": [
      "Date/Time: 2024-10-26 20:45:04+00:00\n",
      "____________________________________________________________________________________________________\n",
      "Toot 287\n",
      "\n"
     ]
    },
    {
     "data": {
      "text/html": [
       "<p><a href=\"https://mastodon.nl/tags/politiek\" class=\"mention hashtag\" rel=\"tag\">#<span>politiek</span></a> <a href=\"https://mastodon.nl/tags/ruggegraat\" class=\"mention hashtag\" rel=\"tag\">#<span>ruggegraat</span></a> <a href=\"https://mastodon.nl/tags/wilders\" class=\"mention hashtag\" rel=\"tag\">#<span>wilders</span></a></p>"
      ],
      "text/plain": [
       "<IPython.core.display.HTML object>"
      ]
     },
     "metadata": {},
     "output_type": "display_data"
    },
    {
     "name": "stdout",
     "output_type": "stream",
     "text": [
      "Date/Time: 2024-10-26 16:25:22.695000+00:00\n",
      "____________________________________________________________________________________________________\n",
      "Toot 288\n",
      "\n"
     ]
    },
    {
     "data": {
      "text/html": [
       "<p>Samidoun NL aan het woord bij NPO1: ‘Dit is een aanval op de vrije meningsuiting.’</p><p><a href=\"https://mastodon.nl/tags/samidoun\" class=\"mention hashtag\" rel=\"tag\">#<span>samidoun</span></a> <a href=\"https://mastodon.nl/tags/kabinet\" class=\"mention hashtag\" rel=\"tag\">#<span>kabinet</span></a> <a href=\"https://mastodon.nl/tags/wilders\" class=\"mention hashtag\" rel=\"tag\">#<span>wilders</span></a> <a href=\"https://mastodon.nl/tags/nieuws\" class=\"mention hashtag\" rel=\"tag\">#<span>nieuws</span></a> <a href=\"https://mastodon.nl/tags/politiek\" class=\"mention hashtag\" rel=\"tag\">#<span>politiek</span></a> <a href=\"https://mastodon.nl/tags/israel\" class=\"mention hashtag\" rel=\"tag\">#<span>israel</span></a> <a href=\"https://mastodon.nl/tags/palestina\" class=\"mention hashtag\" rel=\"tag\">#<span>palestina</span></a> <a href=\"https://mastodon.nl/tags/radio\" class=\"mention hashtag\" rel=\"tag\">#<span>radio</span></a> <a href=\"https://mastodon.nl/tags/palestine\" class=\"mention hashtag\" rel=\"tag\">#<span>palestine</span></a> <a href=\"https://mastodon.nl/tags/genocide\" class=\"mention hashtag\" rel=\"tag\">#<span>genocide</span></a></p>"
      ],
      "text/plain": [
       "<IPython.core.display.HTML object>"
      ]
     },
     "metadata": {},
     "output_type": "display_data"
    },
    {
     "name": "stdout",
     "output_type": "stream",
     "text": [
      "Date/Time: 2024-10-26 14:54:51.324000+00:00\n",
      "____________________________________________________________________________________________________\n",
      "Toot 289\n",
      "\n"
     ]
    },
    {
     "data": {
      "text/html": [
       "<p>Nederlandse journalisten weigeren in gesprek te gaan met Mohammed Khatib, vertegenwoordiger van solidariteitsnetwerk Samidoun, maar Belgische krant VRT gaat de uitdaging niet uit de weg. Mohammed Khatib legt in 3 minuten uit waarom Samidoun bestaat en waarom hij het onzin vindt dat het westen Samidoun als terroristische organisatie bestempeld. Een onafhankelijk expert zegt ook dat Samidoun opereert binnen de vrijheid van meningsuiting.<br /><a href=\"https://mastodon.nl/tags/samidoun\" class=\"mention hashtag\" rel=\"tag\">#<span>samidoun</span></a> <a href=\"https://mastodon.nl/tags/nieuws\" class=\"mention hashtag\" rel=\"tag\">#<span>nieuws</span></a> <a href=\"https://mastodon.nl/tags/israel\" class=\"mention hashtag\" rel=\"tag\">#<span>israel</span></a> <a href=\"https://mastodon.nl/tags/kabinet\" class=\"mention hashtag\" rel=\"tag\">#<span>kabinet</span></a> <a href=\"https://mastodon.nl/tags/politiek\" class=\"mention hashtag\" rel=\"tag\">#<span>politiek</span></a> <a href=\"https://mastodon.nl/tags/genocide\" class=\"mention hashtag\" rel=\"tag\">#<span>genocide</span></a></p>"
      ],
      "text/plain": [
       "<IPython.core.display.HTML object>"
      ]
     },
     "metadata": {},
     "output_type": "display_data"
    },
    {
     "name": "stdout",
     "output_type": "stream",
     "text": [
      "Date/Time: 2024-10-26 14:51:06.823000+00:00\n",
      "____________________________________________________________________________________________________\n",
      "Toot 290\n",
      "\n"
     ]
    },
    {
     "data": {
      "text/html": [
       "<p>VVD-leider Yesilgöz vindt de voorgenomen asielplannen uit de PVV-koker niet streng genoeg. &#39;Mag best strenger&#39;.</p><p>Meer links nieuws? Volg ons!</p><p><a href=\"https://mastodon.nl/tags/pvv\" class=\"mention hashtag\" rel=\"tag\">#<span>pvv</span></a> <a href=\"https://mastodon.nl/tags/vvd\" class=\"mention hashtag\" rel=\"tag\">#<span>vvd</span></a> <a href=\"https://mastodon.nl/tags/nsc\" class=\"mention hashtag\" rel=\"tag\">#<span>nsc</span></a> <a href=\"https://mastodon.nl/tags/bbb\" class=\"mention hashtag\" rel=\"tag\">#<span>bbb</span></a> <a href=\"https://mastodon.nl/tags/kabinet\" class=\"mention hashtag\" rel=\"tag\">#<span>kabinet</span></a> <a href=\"https://mastodon.nl/tags/wilders\" class=\"mention hashtag\" rel=\"tag\">#<span>wilders</span></a> <a href=\"https://mastodon.nl/tags/yesilgoz\" class=\"mention hashtag\" rel=\"tag\">#<span>yesilgoz</span></a> <a href=\"https://mastodon.nl/tags/asiel\" class=\"mention hashtag\" rel=\"tag\">#<span>asiel</span></a> <a href=\"https://mastodon.nl/tags/vluchtelingen\" class=\"mention hashtag\" rel=\"tag\">#<span>vluchtelingen</span></a> <a href=\"https://mastodon.nl/tags/politiek\" class=\"mention hashtag\" rel=\"tag\">#<span>politiek</span></a> <a href=\"https://mastodon.nl/tags/nieuws\" class=\"mention hashtag\" rel=\"tag\">#<span>nieuws</span></a></p>"
      ],
      "text/plain": [
       "<IPython.core.display.HTML object>"
      ]
     },
     "metadata": {},
     "output_type": "display_data"
    },
    {
     "name": "stdout",
     "output_type": "stream",
     "text": [
      "Date/Time: 2024-10-26 14:40:01.098000+00:00\n",
      "____________________________________________________________________________________________________\n",
      "Toot 291\n",
      "\n"
     ]
    },
    {
     "data": {
      "text/html": [
       "<p>Kan Scotty daar niet een keer een transporter inbouwen?</p><p><a href=\"https://mastodon.nl/tags/Politiek\" class=\"mention hashtag\" rel=\"tag\">#<span>Politiek</span></a> <a href=\"https://mastodon.nl/tags/dtv\" class=\"mention hashtag\" rel=\"tag\">#<span>dtv</span></a></p>"
      ],
      "text/plain": [
       "<IPython.core.display.HTML object>"
      ]
     },
     "metadata": {},
     "output_type": "display_data"
    },
    {
     "name": "stdout",
     "output_type": "stream",
     "text": [
      "Date/Time: 2024-10-26 13:06:28.147000+00:00\n",
      "____________________________________________________________________________________________________\n",
      "Toot 292\n",
      "\n"
     ]
    },
    {
     "data": {
      "text/html": [
       "<p>Mooie analyse van Wim Voermans over invoeren van grenscontroles. <br><a href=\"https://mastodon.social/tags/politiek\" class=\"mention hashtag\" rel=\"nofollow noopener noreferrer\" target=\"_blank\">#<span>politiek</span></a> <a href=\"https://mastodon.social/tags/schengen\" class=\"mention hashtag\" rel=\"nofollow noopener noreferrer\" target=\"_blank\">#<span>schengen</span></a> <a href=\"https://mastodon.social/tags/asiel\" class=\"mention hashtag\" rel=\"nofollow noopener noreferrer\" target=\"_blank\">#<span>asiel</span></a> <a href=\"https://mastodon.social/tags/schoof\" class=\"mention hashtag\" rel=\"nofollow noopener noreferrer\" target=\"_blank\">#<span>schoof</span></a> <a href=\"https://mastodon.social/tags/grenscontroles\" class=\"mention hashtag\" rel=\"nofollow noopener noreferrer\" target=\"_blank\">#<span>grenscontroles</span></a></p>"
      ],
      "text/plain": [
       "<IPython.core.display.HTML object>"
      ]
     },
     "metadata": {},
     "output_type": "display_data"
    },
    {
     "name": "stdout",
     "output_type": "stream",
     "text": [
      "Date/Time: 2024-10-26 12:20:37+00:00\n",
      "____________________________________________________________________________________________________\n",
      "Toot 293\n",
      "\n"
     ]
    },
    {
     "data": {
      "text/html": [
       "<p>Kamala Harris valt Trump aan: Hij heeft niet genoeg muren langs de grens met Mexico gebouwd.</p><p><a href=\"https://mastodon.nl/tags/harris\" class=\"mention hashtag\" rel=\"tag\">#<span>harris</span></a> <a href=\"https://mastodon.nl/tags/trump\" class=\"mention hashtag\" rel=\"tag\">#<span>trump</span></a> <a href=\"https://mastodon.nl/tags/biden\" class=\"mention hashtag\" rel=\"tag\">#<span>biden</span></a> <a href=\"https://mastodon.nl/tags/politiek\" class=\"mention hashtag\" rel=\"tag\">#<span>politiek</span></a> <a href=\"https://mastodon.nl/tags/nieuws\" class=\"mention hashtag\" rel=\"tag\">#<span>nieuws</span></a> <a href=\"https://mastodon.nl/tags/usa\" class=\"mention hashtag\" rel=\"tag\">#<span>usa</span></a> <a href=\"https://mastodon.nl/tags/us\" class=\"mention hashtag\" rel=\"tag\">#<span>us</span></a> <a href=\"https://mastodon.nl/tags/2024Election\" class=\"mention hashtag\" rel=\"tag\">#<span>2024Election</span></a> <a href=\"https://mastodon.nl/tags/election2024\" class=\"mention hashtag\" rel=\"tag\">#<span>election2024</span></a> <a href=\"https://mastodon.nl/tags/mexico\" class=\"mention hashtag\" rel=\"tag\">#<span>mexico</span></a></p>"
      ],
      "text/plain": [
       "<IPython.core.display.HTML object>"
      ]
     },
     "metadata": {},
     "output_type": "display_data"
    },
    {
     "name": "stdout",
     "output_type": "stream",
     "text": [
      "Date/Time: 2024-10-26 10:35:39.972000+00:00\n",
      "____________________________________________________________________________________________________\n",
      "Toot 294\n",
      "\n"
     ]
    },
    {
     "data": {
      "text/html": [
       "<p>Stemmingen op 22 oktober 2024 over klimaat, milieu, dierenrechten, ACM, wolf</p><p><a href=\"https://mastodon.nl/tags/nederland\" class=\"mention hashtag\" rel=\"tag\">#<span>nederland</span></a> <a href=\"https://mastodon.nl/tags/wilders\" class=\"mention hashtag\" rel=\"tag\">#<span>wilders</span></a> <a href=\"https://mastodon.nl/tags/politiek\" class=\"mention hashtag\" rel=\"tag\">#<span>politiek</span></a> <a href=\"https://mastodon.nl/tags/klimaat\" class=\"mention hashtag\" rel=\"tag\">#<span>klimaat</span></a> <a href=\"https://mastodon.nl/tags/politiek\" class=\"mention hashtag\" rel=\"tag\">#<span>politiek</span></a> <a href=\"https://mastodon.nl/tags/nieuws\" class=\"mention hashtag\" rel=\"tag\">#<span>nieuws</span></a></p>"
      ],
      "text/plain": [
       "<IPython.core.display.HTML object>"
      ]
     },
     "metadata": {},
     "output_type": "display_data"
    },
    {
     "name": "stdout",
     "output_type": "stream",
     "text": [
      "Date/Time: 2024-10-26 10:31:47.175000+00:00\n",
      "____________________________________________________________________________________________________\n",
      "Toot 295\n",
      "\n"
     ]
    },
    {
     "data": {
      "text/html": [
       "<p>F*ck <a href=\"https://mastodon.social/tags/ElonMusk\" class=\"mention hashtag\" rel=\"nofollow noopener noreferrer\" target=\"_blank\">#<span>ElonMusk</span></a> en <a href=\"https://mastodon.social/tags/JeffBezos\" class=\"mention hashtag\" rel=\"nofollow noopener noreferrer\" target=\"_blank\">#<span>JeffBezos</span></a></p><p><a href=\"https://nos.nl/artikel/2542111-washington-post-kiest-voor-het-eerst-in-36-jaar-geen-kant-bij-de-verkiezingen\" rel=\"nofollow noopener noreferrer\" translate=\"no\" target=\"_blank\"><span class=\"invisible\">https://</span><span class=\"ellipsis\">nos.nl/artikel/2542111-washing</span><span class=\"invisible\">ton-post-kiest-voor-het-eerst-in-36-jaar-geen-kant-bij-de-verkiezingen</span></a> <a href=\"https://mastodon.social/tags/verkiezingen\" class=\"mention hashtag\" rel=\"nofollow noopener noreferrer\" target=\"_blank\">#<span>verkiezingen</span></a> <a href=\"https://mastodon.social/tags/politiek\" class=\"mention hashtag\" rel=\"nofollow noopener noreferrer\" target=\"_blank\">#<span>politiek</span></a> <a href=\"https://mastodon.social/tags/media\" class=\"mention hashtag\" rel=\"nofollow noopener noreferrer\" target=\"_blank\">#<span>media</span></a> <a href=\"https://mastodon.social/tags/Trump\" class=\"mention hashtag\" rel=\"nofollow noopener noreferrer\" target=\"_blank\">#<span>Trump</span></a> </p><p><a href=\"https://mastodon.social/tags/KamalaHarris2024\" class=\"mention hashtag\" rel=\"nofollow noopener noreferrer\" target=\"_blank\">#<span>KamalaHarris2024</span></a> <a href=\"https://mastodon.social/tags/HarrisForPresident\" class=\"mention hashtag\" rel=\"nofollow noopener noreferrer\" target=\"_blank\">#<span>HarrisForPresident</span></a></p>"
      ],
      "text/plain": [
       "<IPython.core.display.HTML object>"
      ]
     },
     "metadata": {},
     "output_type": "display_data"
    },
    {
     "name": "stdout",
     "output_type": "stream",
     "text": [
      "Date/Time: 2024-10-25 23:32:19+00:00\n",
      "____________________________________________________________________________________________________\n",
      "Toot 296\n",
      "\n"
     ]
    },
    {
     "data": {
      "text/html": [
       "<p>Hoe de baasjes vroeger ruzietjes maakten: een geschiedenisles over politiek </p><p>Oh, hallo daar lieve studenten! Vandaag gaan we het hebben over hoe de baasjes vroeger ruzietjes maakten in de politiek. 🐢💼</p><p>De oude tijden</p><p>In vroegere tijden, toen de wereld nog jong was, maakte...</p><p>🌞 Leer verder: <a href=\"https://leeralles.nl/hoe-de-baasjes-vroeger-ruzietjes-maakten-een-geschiedenisles-over-politiek/?feed_id=14955\" rel=\"nofollow noopener noreferrer\" translate=\"no\" target=\"_blank\"><span class=\"invisible\">https://</span><span class=\"ellipsis\">leeralles.nl/hoe-de-baasjes-vr</span><span class=\"invisible\">oeger-ruzietjes-maakten-een-geschiedenisles-over-politiek/?feed_id=14955</span></a> </p><p><a href=\"https://mastodon.social/tags/BAASJES\" class=\"mention hashtag\" rel=\"nofollow noopener noreferrer\" target=\"_blank\">#<span>BAASJES</span></a> <a href=\"https://mastodon.social/tags/EEN\" class=\"mention hashtag\" rel=\"nofollow noopener noreferrer\" target=\"_blank\">#<span>EEN</span></a> <a href=\"https://mastodon.social/tags/GESCHIEDENISLES\" class=\"mention hashtag\" rel=\"nofollow noopener noreferrer\" target=\"_blank\">#<span>GESCHIEDENISLES</span></a> <a href=\"https://mastodon.social/tags/HOE\" class=\"mention hashtag\" rel=\"nofollow noopener noreferrer\" target=\"_blank\">#<span>HOE</span></a> <a href=\"https://mastodon.social/tags/MAAKTEN\" class=\"mention hashtag\" rel=\"nofollow noopener noreferrer\" target=\"_blank\">#<span>MAAKTEN</span></a> <a href=\"https://mastodon.social/tags/POLITIEK\" class=\"mention hashtag\" rel=\"nofollow noopener noreferrer\" target=\"_blank\">#<span>POLITIEK</span></a> <a href=\"https://mastodon.social/tags/RUZIETJES\" class=\"mention hashtag\" rel=\"nofollow noopener noreferrer\" target=\"_blank\">#<span>RUZIETJES</span></a> <a href=\"https://mastodon.social/tags/VROEGER\" class=\"mention hashtag\" rel=\"nofollow noopener noreferrer\" target=\"_blank\">#<span>VROEGER</span></a></p>"
      ],
      "text/plain": [
       "<IPython.core.display.HTML object>"
      ]
     },
     "metadata": {},
     "output_type": "display_data"
    },
    {
     "name": "stdout",
     "output_type": "stream",
     "text": [
      "Date/Time: 2024-10-25 18:02:45+00:00\n",
      "____________________________________________________________________________________________________\n",
      "Toot 297\n",
      "\n"
     ]
    },
    {
     "data": {
      "text/html": [
       "<p>\"Het grootste wapenfeit van het kabinet-Schoof lijkt vooralsnog, na ruim honderdtien dagen regeren, een geslaagde heronderhandeling over het eigen programma.\"</p><p><a href=\"https://www.trouw.nl/politiek/kan-het-kabinet-schoof-zich-nu-dan-eindelijk-concentreren-op-iets-anders-dan-asiel~b9cc3094/\" rel=\"nofollow noopener noreferrer\" translate=\"no\" target=\"_blank\"><span class=\"invisible\">https://www.</span><span class=\"ellipsis\">trouw.nl/politiek/kan-het-kabi</span><span class=\"invisible\">net-schoof-zich-nu-dan-eindelijk-concentreren-op-iets-anders-dan-asiel~b9cc3094/</span></a> <a href=\"https://mastodon.social/tags/Schoof\" class=\"mention hashtag\" rel=\"nofollow noopener noreferrer\" target=\"_blank\">#<span>Schoof</span></a> <a href=\"https://mastodon.social/tags/Wilders\" class=\"mention hashtag\" rel=\"nofollow noopener noreferrer\" target=\"_blank\">#<span>Wilders</span></a> <a href=\"https://mastodon.social/tags/politiek\" class=\"mention hashtag\" rel=\"nofollow noopener noreferrer\" target=\"_blank\">#<span>politiek</span></a> <a href=\"https://mastodon.social/tags/nietmijnregering\" class=\"mention hashtag\" rel=\"nofollow noopener noreferrer\" target=\"_blank\">#<span>nietmijnregering</span></a> nietmijnpremier</p>"
      ],
      "text/plain": [
       "<IPython.core.display.HTML object>"
      ]
     },
     "metadata": {},
     "output_type": "display_data"
    },
    {
     "name": "stdout",
     "output_type": "stream",
     "text": [
      "Date/Time: 2024-10-25 16:32:04+00:00\n",
      "____________________________________________________________________________________________________\n",
      "Toot 298\n",
      "\n"
     ]
    },
    {
     "data": {
      "text/html": [
       "<p><span class=\"h-card\" translate=\"no\"><a href=\"https://mastodon.online/@bmk\" class=\"u-url mention\" rel=\"nofollow noopener noreferrer\" target=\"_blank\">@<span>bmk</span></a></span> Daar is hij steenezel genoeg voor. Bovendien heeft hij eerder bewezen dat hij schijt heeft aan de wet, wanneer hem dat uitkomt.</p><p><a href=\"https://mastodon.social/tags/Schoof\" class=\"mention hashtag\" rel=\"nofollow noopener noreferrer\" target=\"_blank\">#<span>Schoof</span></a>  <a href=\"https://mastodon.social/tags/politiek\" class=\"mention hashtag\" rel=\"nofollow noopener noreferrer\" target=\"_blank\">#<span>politiek</span></a> <br><a href=\"https://mastodon.social/tags/nietmijnpremier\" class=\"mention hashtag\" rel=\"nofollow noopener noreferrer\" target=\"_blank\">#<span>nietmijnpremier</span></a> <br><a href=\"https://mastodon.social/tags/asielnoodmaatregelenwet\" class=\"mention hashtag\" rel=\"nofollow noopener noreferrer\" target=\"_blank\">#<span>asielnoodmaatregelenwet</span></a></p>"
      ],
      "text/plain": [
       "<IPython.core.display.HTML object>"
      ]
     },
     "metadata": {},
     "output_type": "display_data"
    },
    {
     "name": "stdout",
     "output_type": "stream",
     "text": [
      "Date/Time: 2024-10-25 15:49:47+00:00\n",
      "____________________________________________________________________________________________________\n",
      "Toot 299\n",
      "\n"
     ]
    },
    {
     "data": {
      "text/html": [
       "<p>Grenscontroles gaan het economisch verkeer niet hinderen , geen slagbomen ed, er is vermoed ik te weinig personeel om alle grensovergangen te bemannen, of zelfs maar een groot deel ervan, dus puur symbolisch , net als in Duitsland en Frankrijk, of mis ik iets?<br>Ik erger me aan dom beleid zoals dit wat niet uitvoerbaar is, wel geld en inspanning kost.<br><a href=\"https://mastodon.social/tags/politiek\" class=\"mention hashtag\" rel=\"nofollow noopener noreferrer\" target=\"_blank\">#<span>politiek</span></a> <a href=\"https://mastodon.social/tags/asiel\" class=\"mention hashtag\" rel=\"nofollow noopener noreferrer\" target=\"_blank\">#<span>asiel</span></a> <a href=\"https://mastodon.social/tags/grenscontroles\" class=\"mention hashtag\" rel=\"nofollow noopener noreferrer\" target=\"_blank\">#<span>grenscontroles</span></a></p>"
      ],
      "text/plain": [
       "<IPython.core.display.HTML object>"
      ]
     },
     "metadata": {},
     "output_type": "display_data"
    },
    {
     "name": "stdout",
     "output_type": "stream",
     "text": [
      "Date/Time: 2024-10-25 14:31:13+00:00\n",
      "____________________________________________________________________________________________________\n",
      "Toot 300\n",
      "\n"
     ]
    },
    {
     "data": {
      "text/html": [
       "<p>Asielinstroom is op geen enkele manier de oorzaak van en draagt ook niet substantieel bij aan het tekort aan huizen, overbelaste gezondheidszorg  en andere problemen. Toch hangt die suggestie voortdurend in de lucht. <br><a href=\"https://mastodon.social/tags/asiel\" class=\"mention hashtag\" rel=\"nofollow noopener noreferrer\" target=\"_blank\">#<span>asiel</span></a> <a href=\"https://mastodon.social/tags/migratie\" class=\"mention hashtag\" rel=\"nofollow noopener noreferrer\" target=\"_blank\">#<span>migratie</span></a> <a href=\"https://mastodon.social/tags/politiek\" class=\"mention hashtag\" rel=\"nofollow noopener noreferrer\" target=\"_blank\">#<span>politiek</span></a></p>"
      ],
      "text/plain": [
       "<IPython.core.display.HTML object>"
      ]
     },
     "metadata": {},
     "output_type": "display_data"
    },
    {
     "name": "stdout",
     "output_type": "stream",
     "text": [
      "Date/Time: 2024-10-25 14:17:47+00:00\n",
      "____________________________________________________________________________________________________\n"
     ]
    },
    {
     "ename": "KeyboardInterrupt",
     "evalue": "",
     "output_type": "error",
     "traceback": [
      "\u001b[1;31m---------------------------------------------------------------------------\u001b[0m",
      "\u001b[1;31mKeyboardInterrupt\u001b[0m                         Traceback (most recent call last)",
      "Cell \u001b[1;32mIn[10], line 11\u001b[0m\n\u001b[0;32m      8\u001b[0m \u001b[38;5;66;03m# Fetch toots with pagination\u001b[39;00m\n\u001b[0;32m      9\u001b[0m \u001b[38;5;28;01mwhile\u001b[39;00m toots_retrieved \u001b[38;5;241m<\u001b[39m max_toots:\n\u001b[0;32m     10\u001b[0m     \u001b[38;5;66;03m# Perform the search\u001b[39;00m\n\u001b[1;32m---> 11\u001b[0m     search_results \u001b[38;5;241m=\u001b[39m \u001b[43mAPI\u001b[49m\u001b[38;5;241;43m.\u001b[39;49m\u001b[43msearch_v2\u001b[49m\u001b[43m(\u001b[49m\u001b[43mq\u001b[49m\u001b[43m,\u001b[49m\u001b[43m \u001b[49m\u001b[43mmax_id\u001b[49m\u001b[38;5;241;43m=\u001b[39;49m\u001b[43mmax_id\u001b[49m\u001b[43m)\u001b[49m\n\u001b[0;32m     13\u001b[0m     \u001b[38;5;66;03m# Check if the API returned any results\u001b[39;00m\n\u001b[0;32m     14\u001b[0m     statuses \u001b[38;5;241m=\u001b[39m search_results\u001b[38;5;241m.\u001b[39mget(\u001b[38;5;124m\"\u001b[39m\u001b[38;5;124mstatuses\u001b[39m\u001b[38;5;124m\"\u001b[39m, [])\n",
      "File \u001b[1;32m~\\AppData\\Roaming\\Python\\Python312\\site-packages\\decorator.py:232\u001b[0m, in \u001b[0;36mdecorate.<locals>.fun\u001b[1;34m(*args, **kw)\u001b[0m\n\u001b[0;32m    230\u001b[0m \u001b[38;5;28;01mif\u001b[39;00m \u001b[38;5;129;01mnot\u001b[39;00m kwsyntax:\n\u001b[0;32m    231\u001b[0m     args, kw \u001b[38;5;241m=\u001b[39m fix(args, kw, sig)\n\u001b[1;32m--> 232\u001b[0m \u001b[38;5;28;01mreturn\u001b[39;00m \u001b[43mcaller\u001b[49m\u001b[43m(\u001b[49m\u001b[43mfunc\u001b[49m\u001b[43m,\u001b[49m\u001b[43m \u001b[49m\u001b[38;5;241;43m*\u001b[39;49m\u001b[43m(\u001b[49m\u001b[43mextras\u001b[49m\u001b[43m \u001b[49m\u001b[38;5;241;43m+\u001b[39;49m\u001b[43m \u001b[49m\u001b[43margs\u001b[49m\u001b[43m)\u001b[49m\u001b[43m,\u001b[49m\u001b[43m \u001b[49m\u001b[38;5;241;43m*\u001b[39;49m\u001b[38;5;241;43m*\u001b[39;49m\u001b[43mkw\u001b[49m\u001b[43m)\u001b[49m\n",
      "File \u001b[1;32m~\\AppData\\Roaming\\Python\\Python312\\site-packages\\mastodon\\utility.py:49\u001b[0m, in \u001b[0;36mapi_version.<locals>.api_min_version_decorator.<locals>.wrapper\u001b[1;34m(function, self, *args, **kwargs)\u001b[0m\n\u001b[0;32m     47\u001b[0m     \u001b[38;5;28;01melif\u001b[39;00m major \u001b[38;5;241m==\u001b[39m \u001b[38;5;28mself\u001b[39m\u001b[38;5;241m.\u001b[39mmastodon_major \u001b[38;5;129;01mand\u001b[39;00m minor \u001b[38;5;241m==\u001b[39m \u001b[38;5;28mself\u001b[39m\u001b[38;5;241m.\u001b[39mmastodon_minor \u001b[38;5;129;01mand\u001b[39;00m patch \u001b[38;5;241m>\u001b[39m \u001b[38;5;28mself\u001b[39m\u001b[38;5;241m.\u001b[39mmastodon_patch:\n\u001b[0;32m     48\u001b[0m         \u001b[38;5;28;01mraise\u001b[39;00m MastodonVersionError(\u001b[38;5;124mf\u001b[39m\u001b[38;5;124m\"\u001b[39m\u001b[38;5;124mVersion check failed (Need version \u001b[39m\u001b[38;5;132;01m{\u001b[39;00mversion\u001b[38;5;132;01m}\u001b[39;00m\u001b[38;5;124m, patch is \u001b[39m\u001b[38;5;132;01m{\u001b[39;00m\u001b[38;5;28mself\u001b[39m\u001b[38;5;241m.\u001b[39mmastodon_patch\u001b[38;5;132;01m}\u001b[39;00m\u001b[38;5;124m)\u001b[39m\u001b[38;5;124m\"\u001b[39m)\n\u001b[1;32m---> 49\u001b[0m \u001b[38;5;28;01mreturn\u001b[39;00m \u001b[43mfunction\u001b[49m\u001b[43m(\u001b[49m\u001b[38;5;28;43mself\u001b[39;49m\u001b[43m,\u001b[49m\u001b[43m \u001b[49m\u001b[38;5;241;43m*\u001b[39;49m\u001b[43margs\u001b[49m\u001b[43m,\u001b[49m\u001b[43m \u001b[49m\u001b[38;5;241;43m*\u001b[39;49m\u001b[38;5;241;43m*\u001b[39;49m\u001b[43mkwargs\u001b[49m\u001b[43m)\u001b[49m\n",
      "File \u001b[1;32m~\\AppData\\Roaming\\Python\\Python312\\site-packages\\mastodon\\search.py:92\u001b[0m, in \u001b[0;36mMastodon.search_v2\u001b[1;34m(self, q, resolve, result_type, account_id, offset, min_id, max_id, exclude_unreviewed)\u001b[0m\n\u001b[0;32m     89\u001b[0m     params[\u001b[38;5;124m\"\u001b[39m\u001b[38;5;124mtype\u001b[39m\u001b[38;5;124m\"\u001b[39m] \u001b[38;5;241m=\u001b[39m params[\u001b[38;5;124m\"\u001b[39m\u001b[38;5;124mresult_type\u001b[39m\u001b[38;5;124m\"\u001b[39m]\n\u001b[0;32m     90\u001b[0m     \u001b[38;5;28;01mdel\u001b[39;00m params[\u001b[38;5;124m\"\u001b[39m\u001b[38;5;124mresult_type\u001b[39m\u001b[38;5;124m\"\u001b[39m]\n\u001b[1;32m---> 92\u001b[0m \u001b[38;5;28;01mreturn\u001b[39;00m \u001b[38;5;28;43mself\u001b[39;49m\u001b[38;5;241;43m.\u001b[39;49m\u001b[43m__api_request\u001b[49m\u001b[43m(\u001b[49m\u001b[38;5;124;43m'\u001b[39;49m\u001b[38;5;124;43mGET\u001b[39;49m\u001b[38;5;124;43m'\u001b[39;49m\u001b[43m,\u001b[49m\u001b[43m \u001b[49m\u001b[38;5;124;43m'\u001b[39;49m\u001b[38;5;124;43m/api/v2/search\u001b[39;49m\u001b[38;5;124;43m'\u001b[39;49m\u001b[43m,\u001b[49m\u001b[43m \u001b[49m\u001b[43mparams\u001b[49m\u001b[43m)\u001b[49m\n",
      "File \u001b[1;32m~\\AppData\\Roaming\\Python\\Python312\\site-packages\\mastodon\\internals.py:205\u001b[0m, in \u001b[0;36mMastodon.__api_request\u001b[1;34m(self, method, endpoint, params, files, headers, access_token_override, base_url_override, do_ratelimiting, use_json, parse, return_response_object, skip_error_check, lang_override)\u001b[0m\n\u001b[0;32m    202\u001b[0m     \u001b[38;5;28;01melse\u001b[39;00m:\n\u001b[0;32m    203\u001b[0m         kwargs[\u001b[38;5;124m'\u001b[39m\u001b[38;5;124mdata\u001b[39m\u001b[38;5;124m'\u001b[39m] \u001b[38;5;241m=\u001b[39m params\n\u001b[1;32m--> 205\u001b[0m     response_object \u001b[38;5;241m=\u001b[39m \u001b[38;5;28;43mself\u001b[39;49m\u001b[38;5;241;43m.\u001b[39;49m\u001b[43msession\u001b[49m\u001b[38;5;241;43m.\u001b[39;49m\u001b[43mrequest\u001b[49m\u001b[43m(\u001b[49m\u001b[43mmethod\u001b[49m\u001b[43m,\u001b[49m\u001b[43m \u001b[49m\u001b[43mbase_url\u001b[49m\u001b[43m \u001b[49m\u001b[38;5;241;43m+\u001b[39;49m\u001b[43m \u001b[49m\u001b[43mendpoint\u001b[49m\u001b[43m,\u001b[49m\u001b[43m \u001b[49m\u001b[38;5;241;43m*\u001b[39;49m\u001b[38;5;241;43m*\u001b[39;49m\u001b[43mkwargs\u001b[49m\u001b[43m)\u001b[49m\n\u001b[0;32m    206\u001b[0m \u001b[38;5;28;01mexcept\u001b[39;00m \u001b[38;5;167;01mException\u001b[39;00m \u001b[38;5;28;01mas\u001b[39;00m e:\n\u001b[0;32m    207\u001b[0m     \u001b[38;5;28;01mraise\u001b[39;00m MastodonNetworkError(\u001b[38;5;124mf\u001b[39m\u001b[38;5;124m\"\u001b[39m\u001b[38;5;124mCould not complete request: \u001b[39m\u001b[38;5;132;01m{\u001b[39;00me\u001b[38;5;132;01m}\u001b[39;00m\u001b[38;5;124m\"\u001b[39m)\n",
      "File \u001b[1;32m~\\AppData\\Roaming\\Python\\Python312\\site-packages\\requests\\sessions.py:589\u001b[0m, in \u001b[0;36mSession.request\u001b[1;34m(self, method, url, params, data, headers, cookies, files, auth, timeout, allow_redirects, proxies, hooks, stream, verify, cert, json)\u001b[0m\n\u001b[0;32m    584\u001b[0m send_kwargs \u001b[38;5;241m=\u001b[39m {\n\u001b[0;32m    585\u001b[0m     \u001b[38;5;124m\"\u001b[39m\u001b[38;5;124mtimeout\u001b[39m\u001b[38;5;124m\"\u001b[39m: timeout,\n\u001b[0;32m    586\u001b[0m     \u001b[38;5;124m\"\u001b[39m\u001b[38;5;124mallow_redirects\u001b[39m\u001b[38;5;124m\"\u001b[39m: allow_redirects,\n\u001b[0;32m    587\u001b[0m }\n\u001b[0;32m    588\u001b[0m send_kwargs\u001b[38;5;241m.\u001b[39mupdate(settings)\n\u001b[1;32m--> 589\u001b[0m resp \u001b[38;5;241m=\u001b[39m \u001b[38;5;28;43mself\u001b[39;49m\u001b[38;5;241;43m.\u001b[39;49m\u001b[43msend\u001b[49m\u001b[43m(\u001b[49m\u001b[43mprep\u001b[49m\u001b[43m,\u001b[49m\u001b[43m \u001b[49m\u001b[38;5;241;43m*\u001b[39;49m\u001b[38;5;241;43m*\u001b[39;49m\u001b[43msend_kwargs\u001b[49m\u001b[43m)\u001b[49m\n\u001b[0;32m    591\u001b[0m \u001b[38;5;28;01mreturn\u001b[39;00m resp\n",
      "File \u001b[1;32m~\\AppData\\Roaming\\Python\\Python312\\site-packages\\requests\\sessions.py:703\u001b[0m, in \u001b[0;36mSession.send\u001b[1;34m(self, request, **kwargs)\u001b[0m\n\u001b[0;32m    700\u001b[0m start \u001b[38;5;241m=\u001b[39m preferred_clock()\n\u001b[0;32m    702\u001b[0m \u001b[38;5;66;03m# Send the request\u001b[39;00m\n\u001b[1;32m--> 703\u001b[0m r \u001b[38;5;241m=\u001b[39m \u001b[43madapter\u001b[49m\u001b[38;5;241;43m.\u001b[39;49m\u001b[43msend\u001b[49m\u001b[43m(\u001b[49m\u001b[43mrequest\u001b[49m\u001b[43m,\u001b[49m\u001b[43m \u001b[49m\u001b[38;5;241;43m*\u001b[39;49m\u001b[38;5;241;43m*\u001b[39;49m\u001b[43mkwargs\u001b[49m\u001b[43m)\u001b[49m\n\u001b[0;32m    705\u001b[0m \u001b[38;5;66;03m# Total elapsed time of the request (approximately)\u001b[39;00m\n\u001b[0;32m    706\u001b[0m elapsed \u001b[38;5;241m=\u001b[39m preferred_clock() \u001b[38;5;241m-\u001b[39m start\n",
      "File \u001b[1;32m~\\AppData\\Roaming\\Python\\Python312\\site-packages\\requests\\adapters.py:486\u001b[0m, in \u001b[0;36mHTTPAdapter.send\u001b[1;34m(self, request, stream, timeout, verify, cert, proxies)\u001b[0m\n\u001b[0;32m    483\u001b[0m     timeout \u001b[38;5;241m=\u001b[39m TimeoutSauce(connect\u001b[38;5;241m=\u001b[39mtimeout, read\u001b[38;5;241m=\u001b[39mtimeout)\n\u001b[0;32m    485\u001b[0m \u001b[38;5;28;01mtry\u001b[39;00m:\n\u001b[1;32m--> 486\u001b[0m     resp \u001b[38;5;241m=\u001b[39m \u001b[43mconn\u001b[49m\u001b[38;5;241;43m.\u001b[39;49m\u001b[43murlopen\u001b[49m\u001b[43m(\u001b[49m\n\u001b[0;32m    487\u001b[0m \u001b[43m        \u001b[49m\u001b[43mmethod\u001b[49m\u001b[38;5;241;43m=\u001b[39;49m\u001b[43mrequest\u001b[49m\u001b[38;5;241;43m.\u001b[39;49m\u001b[43mmethod\u001b[49m\u001b[43m,\u001b[49m\n\u001b[0;32m    488\u001b[0m \u001b[43m        \u001b[49m\u001b[43murl\u001b[49m\u001b[38;5;241;43m=\u001b[39;49m\u001b[43murl\u001b[49m\u001b[43m,\u001b[49m\n\u001b[0;32m    489\u001b[0m \u001b[43m        \u001b[49m\u001b[43mbody\u001b[49m\u001b[38;5;241;43m=\u001b[39;49m\u001b[43mrequest\u001b[49m\u001b[38;5;241;43m.\u001b[39;49m\u001b[43mbody\u001b[49m\u001b[43m,\u001b[49m\n\u001b[0;32m    490\u001b[0m \u001b[43m        \u001b[49m\u001b[43mheaders\u001b[49m\u001b[38;5;241;43m=\u001b[39;49m\u001b[43mrequest\u001b[49m\u001b[38;5;241;43m.\u001b[39;49m\u001b[43mheaders\u001b[49m\u001b[43m,\u001b[49m\n\u001b[0;32m    491\u001b[0m \u001b[43m        \u001b[49m\u001b[43mredirect\u001b[49m\u001b[38;5;241;43m=\u001b[39;49m\u001b[38;5;28;43;01mFalse\u001b[39;49;00m\u001b[43m,\u001b[49m\n\u001b[0;32m    492\u001b[0m \u001b[43m        \u001b[49m\u001b[43massert_same_host\u001b[49m\u001b[38;5;241;43m=\u001b[39;49m\u001b[38;5;28;43;01mFalse\u001b[39;49;00m\u001b[43m,\u001b[49m\n\u001b[0;32m    493\u001b[0m \u001b[43m        \u001b[49m\u001b[43mpreload_content\u001b[49m\u001b[38;5;241;43m=\u001b[39;49m\u001b[38;5;28;43;01mFalse\u001b[39;49;00m\u001b[43m,\u001b[49m\n\u001b[0;32m    494\u001b[0m \u001b[43m        \u001b[49m\u001b[43mdecode_content\u001b[49m\u001b[38;5;241;43m=\u001b[39;49m\u001b[38;5;28;43;01mFalse\u001b[39;49;00m\u001b[43m,\u001b[49m\n\u001b[0;32m    495\u001b[0m \u001b[43m        \u001b[49m\u001b[43mretries\u001b[49m\u001b[38;5;241;43m=\u001b[39;49m\u001b[38;5;28;43mself\u001b[39;49m\u001b[38;5;241;43m.\u001b[39;49m\u001b[43mmax_retries\u001b[49m\u001b[43m,\u001b[49m\n\u001b[0;32m    496\u001b[0m \u001b[43m        \u001b[49m\u001b[43mtimeout\u001b[49m\u001b[38;5;241;43m=\u001b[39;49m\u001b[43mtimeout\u001b[49m\u001b[43m,\u001b[49m\n\u001b[0;32m    497\u001b[0m \u001b[43m        \u001b[49m\u001b[43mchunked\u001b[49m\u001b[38;5;241;43m=\u001b[39;49m\u001b[43mchunked\u001b[49m\u001b[43m,\u001b[49m\n\u001b[0;32m    498\u001b[0m \u001b[43m    \u001b[49m\u001b[43m)\u001b[49m\n\u001b[0;32m    500\u001b[0m \u001b[38;5;28;01mexcept\u001b[39;00m (ProtocolError, \u001b[38;5;167;01mOSError\u001b[39;00m) \u001b[38;5;28;01mas\u001b[39;00m err:\n\u001b[0;32m    501\u001b[0m     \u001b[38;5;28;01mraise\u001b[39;00m \u001b[38;5;167;01mConnectionError\u001b[39;00m(err, request\u001b[38;5;241m=\u001b[39mrequest)\n",
      "File \u001b[1;32m~\\AppData\\Roaming\\Python\\Python312\\site-packages\\urllib3\\connectionpool.py:793\u001b[0m, in \u001b[0;36mHTTPConnectionPool.urlopen\u001b[1;34m(self, method, url, body, headers, retries, redirect, assert_same_host, timeout, pool_timeout, release_conn, chunked, body_pos, preload_content, decode_content, **response_kw)\u001b[0m\n\u001b[0;32m    790\u001b[0m response_conn \u001b[38;5;241m=\u001b[39m conn \u001b[38;5;28;01mif\u001b[39;00m \u001b[38;5;129;01mnot\u001b[39;00m release_conn \u001b[38;5;28;01melse\u001b[39;00m \u001b[38;5;28;01mNone\u001b[39;00m\n\u001b[0;32m    792\u001b[0m \u001b[38;5;66;03m# Make the request on the HTTPConnection object\u001b[39;00m\n\u001b[1;32m--> 793\u001b[0m response \u001b[38;5;241m=\u001b[39m \u001b[38;5;28;43mself\u001b[39;49m\u001b[38;5;241;43m.\u001b[39;49m\u001b[43m_make_request\u001b[49m\u001b[43m(\u001b[49m\n\u001b[0;32m    794\u001b[0m \u001b[43m    \u001b[49m\u001b[43mconn\u001b[49m\u001b[43m,\u001b[49m\n\u001b[0;32m    795\u001b[0m \u001b[43m    \u001b[49m\u001b[43mmethod\u001b[49m\u001b[43m,\u001b[49m\n\u001b[0;32m    796\u001b[0m \u001b[43m    \u001b[49m\u001b[43murl\u001b[49m\u001b[43m,\u001b[49m\n\u001b[0;32m    797\u001b[0m \u001b[43m    \u001b[49m\u001b[43mtimeout\u001b[49m\u001b[38;5;241;43m=\u001b[39;49m\u001b[43mtimeout_obj\u001b[49m\u001b[43m,\u001b[49m\n\u001b[0;32m    798\u001b[0m \u001b[43m    \u001b[49m\u001b[43mbody\u001b[49m\u001b[38;5;241;43m=\u001b[39;49m\u001b[43mbody\u001b[49m\u001b[43m,\u001b[49m\n\u001b[0;32m    799\u001b[0m \u001b[43m    \u001b[49m\u001b[43mheaders\u001b[49m\u001b[38;5;241;43m=\u001b[39;49m\u001b[43mheaders\u001b[49m\u001b[43m,\u001b[49m\n\u001b[0;32m    800\u001b[0m \u001b[43m    \u001b[49m\u001b[43mchunked\u001b[49m\u001b[38;5;241;43m=\u001b[39;49m\u001b[43mchunked\u001b[49m\u001b[43m,\u001b[49m\n\u001b[0;32m    801\u001b[0m \u001b[43m    \u001b[49m\u001b[43mretries\u001b[49m\u001b[38;5;241;43m=\u001b[39;49m\u001b[43mretries\u001b[49m\u001b[43m,\u001b[49m\n\u001b[0;32m    802\u001b[0m \u001b[43m    \u001b[49m\u001b[43mresponse_conn\u001b[49m\u001b[38;5;241;43m=\u001b[39;49m\u001b[43mresponse_conn\u001b[49m\u001b[43m,\u001b[49m\n\u001b[0;32m    803\u001b[0m \u001b[43m    \u001b[49m\u001b[43mpreload_content\u001b[49m\u001b[38;5;241;43m=\u001b[39;49m\u001b[43mpreload_content\u001b[49m\u001b[43m,\u001b[49m\n\u001b[0;32m    804\u001b[0m \u001b[43m    \u001b[49m\u001b[43mdecode_content\u001b[49m\u001b[38;5;241;43m=\u001b[39;49m\u001b[43mdecode_content\u001b[49m\u001b[43m,\u001b[49m\n\u001b[0;32m    805\u001b[0m \u001b[43m    \u001b[49m\u001b[38;5;241;43m*\u001b[39;49m\u001b[38;5;241;43m*\u001b[39;49m\u001b[43mresponse_kw\u001b[49m\u001b[43m,\u001b[49m\n\u001b[0;32m    806\u001b[0m \u001b[43m\u001b[49m\u001b[43m)\u001b[49m\n\u001b[0;32m    808\u001b[0m \u001b[38;5;66;03m# Everything went great!\u001b[39;00m\n\u001b[0;32m    809\u001b[0m clean_exit \u001b[38;5;241m=\u001b[39m \u001b[38;5;28;01mTrue\u001b[39;00m\n",
      "File \u001b[1;32m~\\AppData\\Roaming\\Python\\Python312\\site-packages\\urllib3\\connectionpool.py:537\u001b[0m, in \u001b[0;36mHTTPConnectionPool._make_request\u001b[1;34m(self, conn, method, url, body, headers, retries, timeout, chunked, response_conn, preload_content, decode_content, enforce_content_length)\u001b[0m\n\u001b[0;32m    535\u001b[0m \u001b[38;5;66;03m# Receive the response from the server\u001b[39;00m\n\u001b[0;32m    536\u001b[0m \u001b[38;5;28;01mtry\u001b[39;00m:\n\u001b[1;32m--> 537\u001b[0m     response \u001b[38;5;241m=\u001b[39m \u001b[43mconn\u001b[49m\u001b[38;5;241;43m.\u001b[39;49m\u001b[43mgetresponse\u001b[49m\u001b[43m(\u001b[49m\u001b[43m)\u001b[49m\n\u001b[0;32m    538\u001b[0m \u001b[38;5;28;01mexcept\u001b[39;00m (BaseSSLError, \u001b[38;5;167;01mOSError\u001b[39;00m) \u001b[38;5;28;01mas\u001b[39;00m e:\n\u001b[0;32m    539\u001b[0m     \u001b[38;5;28mself\u001b[39m\u001b[38;5;241m.\u001b[39m_raise_timeout(err\u001b[38;5;241m=\u001b[39me, url\u001b[38;5;241m=\u001b[39murl, timeout_value\u001b[38;5;241m=\u001b[39mread_timeout)\n",
      "File \u001b[1;32m~\\AppData\\Roaming\\Python\\Python312\\site-packages\\urllib3\\connection.py:466\u001b[0m, in \u001b[0;36mHTTPConnection.getresponse\u001b[1;34m(self)\u001b[0m\n\u001b[0;32m    463\u001b[0m \u001b[38;5;28;01mfrom\u001b[39;00m \u001b[38;5;21;01m.\u001b[39;00m\u001b[38;5;21;01mresponse\u001b[39;00m \u001b[38;5;28;01mimport\u001b[39;00m HTTPResponse\n\u001b[0;32m    465\u001b[0m \u001b[38;5;66;03m# Get the response from http.client.HTTPConnection\u001b[39;00m\n\u001b[1;32m--> 466\u001b[0m httplib_response \u001b[38;5;241m=\u001b[39m \u001b[38;5;28;43msuper\u001b[39;49m\u001b[43m(\u001b[49m\u001b[43m)\u001b[49m\u001b[38;5;241;43m.\u001b[39;49m\u001b[43mgetresponse\u001b[49m\u001b[43m(\u001b[49m\u001b[43m)\u001b[49m\n\u001b[0;32m    468\u001b[0m \u001b[38;5;28;01mtry\u001b[39;00m:\n\u001b[0;32m    469\u001b[0m     assert_header_parsing(httplib_response\u001b[38;5;241m.\u001b[39mmsg)\n",
      "File \u001b[1;32mC:\\Program Files\\Python312\\Lib\\http\\client.py:1428\u001b[0m, in \u001b[0;36mHTTPConnection.getresponse\u001b[1;34m(self)\u001b[0m\n\u001b[0;32m   1426\u001b[0m \u001b[38;5;28;01mtry\u001b[39;00m:\n\u001b[0;32m   1427\u001b[0m     \u001b[38;5;28;01mtry\u001b[39;00m:\n\u001b[1;32m-> 1428\u001b[0m         \u001b[43mresponse\u001b[49m\u001b[38;5;241;43m.\u001b[39;49m\u001b[43mbegin\u001b[49m\u001b[43m(\u001b[49m\u001b[43m)\u001b[49m\n\u001b[0;32m   1429\u001b[0m     \u001b[38;5;28;01mexcept\u001b[39;00m \u001b[38;5;167;01mConnectionError\u001b[39;00m:\n\u001b[0;32m   1430\u001b[0m         \u001b[38;5;28mself\u001b[39m\u001b[38;5;241m.\u001b[39mclose()\n",
      "File \u001b[1;32mC:\\Program Files\\Python312\\Lib\\http\\client.py:331\u001b[0m, in \u001b[0;36mHTTPResponse.begin\u001b[1;34m(self)\u001b[0m\n\u001b[0;32m    329\u001b[0m \u001b[38;5;66;03m# read until we get a non-100 response\u001b[39;00m\n\u001b[0;32m    330\u001b[0m \u001b[38;5;28;01mwhile\u001b[39;00m \u001b[38;5;28;01mTrue\u001b[39;00m:\n\u001b[1;32m--> 331\u001b[0m     version, status, reason \u001b[38;5;241m=\u001b[39m \u001b[38;5;28;43mself\u001b[39;49m\u001b[38;5;241;43m.\u001b[39;49m\u001b[43m_read_status\u001b[49m\u001b[43m(\u001b[49m\u001b[43m)\u001b[49m\n\u001b[0;32m    332\u001b[0m     \u001b[38;5;28;01mif\u001b[39;00m status \u001b[38;5;241m!=\u001b[39m CONTINUE:\n\u001b[0;32m    333\u001b[0m         \u001b[38;5;28;01mbreak\u001b[39;00m\n",
      "File \u001b[1;32mC:\\Program Files\\Python312\\Lib\\http\\client.py:292\u001b[0m, in \u001b[0;36mHTTPResponse._read_status\u001b[1;34m(self)\u001b[0m\n\u001b[0;32m    291\u001b[0m \u001b[38;5;28;01mdef\u001b[39;00m \u001b[38;5;21m_read_status\u001b[39m(\u001b[38;5;28mself\u001b[39m):\n\u001b[1;32m--> 292\u001b[0m     line \u001b[38;5;241m=\u001b[39m \u001b[38;5;28mstr\u001b[39m(\u001b[38;5;28;43mself\u001b[39;49m\u001b[38;5;241;43m.\u001b[39;49m\u001b[43mfp\u001b[49m\u001b[38;5;241;43m.\u001b[39;49m\u001b[43mreadline\u001b[49m\u001b[43m(\u001b[49m\u001b[43m_MAXLINE\u001b[49m\u001b[43m \u001b[49m\u001b[38;5;241;43m+\u001b[39;49m\u001b[43m \u001b[49m\u001b[38;5;241;43m1\u001b[39;49m\u001b[43m)\u001b[49m, \u001b[38;5;124m\"\u001b[39m\u001b[38;5;124miso-8859-1\u001b[39m\u001b[38;5;124m\"\u001b[39m)\n\u001b[0;32m    293\u001b[0m     \u001b[38;5;28;01mif\u001b[39;00m \u001b[38;5;28mlen\u001b[39m(line) \u001b[38;5;241m>\u001b[39m _MAXLINE:\n\u001b[0;32m    294\u001b[0m         \u001b[38;5;28;01mraise\u001b[39;00m LineTooLong(\u001b[38;5;124m\"\u001b[39m\u001b[38;5;124mstatus line\u001b[39m\u001b[38;5;124m\"\u001b[39m)\n",
      "File \u001b[1;32mC:\\Program Files\\Python312\\Lib\\socket.py:707\u001b[0m, in \u001b[0;36mSocketIO.readinto\u001b[1;34m(self, b)\u001b[0m\n\u001b[0;32m    705\u001b[0m \u001b[38;5;28;01mwhile\u001b[39;00m \u001b[38;5;28;01mTrue\u001b[39;00m:\n\u001b[0;32m    706\u001b[0m     \u001b[38;5;28;01mtry\u001b[39;00m:\n\u001b[1;32m--> 707\u001b[0m         \u001b[38;5;28;01mreturn\u001b[39;00m \u001b[38;5;28;43mself\u001b[39;49m\u001b[38;5;241;43m.\u001b[39;49m\u001b[43m_sock\u001b[49m\u001b[38;5;241;43m.\u001b[39;49m\u001b[43mrecv_into\u001b[49m\u001b[43m(\u001b[49m\u001b[43mb\u001b[49m\u001b[43m)\u001b[49m\n\u001b[0;32m    708\u001b[0m     \u001b[38;5;28;01mexcept\u001b[39;00m timeout:\n\u001b[0;32m    709\u001b[0m         \u001b[38;5;28mself\u001b[39m\u001b[38;5;241m.\u001b[39m_timeout_occurred \u001b[38;5;241m=\u001b[39m \u001b[38;5;28;01mTrue\u001b[39;00m\n",
      "File \u001b[1;32mC:\\Program Files\\Python312\\Lib\\ssl.py:1252\u001b[0m, in \u001b[0;36mSSLSocket.recv_into\u001b[1;34m(self, buffer, nbytes, flags)\u001b[0m\n\u001b[0;32m   1248\u001b[0m     \u001b[38;5;28;01mif\u001b[39;00m flags \u001b[38;5;241m!=\u001b[39m \u001b[38;5;241m0\u001b[39m:\n\u001b[0;32m   1249\u001b[0m         \u001b[38;5;28;01mraise\u001b[39;00m \u001b[38;5;167;01mValueError\u001b[39;00m(\n\u001b[0;32m   1250\u001b[0m           \u001b[38;5;124m\"\u001b[39m\u001b[38;5;124mnon-zero flags not allowed in calls to recv_into() on \u001b[39m\u001b[38;5;132;01m%s\u001b[39;00m\u001b[38;5;124m\"\u001b[39m \u001b[38;5;241m%\u001b[39m\n\u001b[0;32m   1251\u001b[0m           \u001b[38;5;28mself\u001b[39m\u001b[38;5;241m.\u001b[39m\u001b[38;5;18m__class__\u001b[39m)\n\u001b[1;32m-> 1252\u001b[0m     \u001b[38;5;28;01mreturn\u001b[39;00m \u001b[38;5;28;43mself\u001b[39;49m\u001b[38;5;241;43m.\u001b[39;49m\u001b[43mread\u001b[49m\u001b[43m(\u001b[49m\u001b[43mnbytes\u001b[49m\u001b[43m,\u001b[49m\u001b[43m \u001b[49m\u001b[43mbuffer\u001b[49m\u001b[43m)\u001b[49m\n\u001b[0;32m   1253\u001b[0m \u001b[38;5;28;01melse\u001b[39;00m:\n\u001b[0;32m   1254\u001b[0m     \u001b[38;5;28;01mreturn\u001b[39;00m \u001b[38;5;28msuper\u001b[39m()\u001b[38;5;241m.\u001b[39mrecv_into(buffer, nbytes, flags)\n",
      "File \u001b[1;32mC:\\Program Files\\Python312\\Lib\\ssl.py:1104\u001b[0m, in \u001b[0;36mSSLSocket.read\u001b[1;34m(self, len, buffer)\u001b[0m\n\u001b[0;32m   1102\u001b[0m \u001b[38;5;28;01mtry\u001b[39;00m:\n\u001b[0;32m   1103\u001b[0m     \u001b[38;5;28;01mif\u001b[39;00m buffer \u001b[38;5;129;01mis\u001b[39;00m \u001b[38;5;129;01mnot\u001b[39;00m \u001b[38;5;28;01mNone\u001b[39;00m:\n\u001b[1;32m-> 1104\u001b[0m         \u001b[38;5;28;01mreturn\u001b[39;00m \u001b[38;5;28;43mself\u001b[39;49m\u001b[38;5;241;43m.\u001b[39;49m\u001b[43m_sslobj\u001b[49m\u001b[38;5;241;43m.\u001b[39;49m\u001b[43mread\u001b[49m\u001b[43m(\u001b[49m\u001b[38;5;28;43mlen\u001b[39;49m\u001b[43m,\u001b[49m\u001b[43m \u001b[49m\u001b[43mbuffer\u001b[49m\u001b[43m)\u001b[49m\n\u001b[0;32m   1105\u001b[0m     \u001b[38;5;28;01melse\u001b[39;00m:\n\u001b[0;32m   1106\u001b[0m         \u001b[38;5;28;01mreturn\u001b[39;00m \u001b[38;5;28mself\u001b[39m\u001b[38;5;241m.\u001b[39m_sslobj\u001b[38;5;241m.\u001b[39mread(\u001b[38;5;28mlen\u001b[39m)\n",
      "\u001b[1;31mKeyboardInterrupt\u001b[0m: "
     ]
    }
   ],
   "source": [
    "# Gathers the last n toots based on specified query hashtag\n",
    "# Query and parameters\n",
    "q = \"#politiek\"\n",
    "max_toots = 10  # Total number of toots to retrieve\n",
    "toots_retrieved = 0\n",
    "max_id = None  # Used for pagination\n",
    "\n",
    "# Fetch toots with pagination\n",
    "while toots_retrieved < max_toots:\n",
    "    # Perform the search\n",
    "    search_results = API.search_v2(q, max_id=max_id)\n",
    "    \n",
    "    # Check if the API returned any results\n",
    "    statuses = search_results.get(\"statuses\", [])\n",
    "    if not statuses:\n",
    "        break  # No more results\n",
    "    \n",
    "    # Process each toot\n",
    "    for status in statuses:\n",
    "        toots_retrieved += 1\n",
    "        \n",
    "        # Display the toot and date/time\n",
    "        print(f\"Toot {toots_retrieved}\\n\")\n",
    "        html = status[\"content\"]\n",
    "        display(HTML(html))\n",
    "        print(f\"Date/Time: {status['created_at']}\")\n",
    "        print(\"_\" * 100)\n",
    "        \n",
    "        # Stop if we've retrieved the desired number of toots\n",
    "        if toots_retrieved >= max_toots:\n",
    "            break\n",
    "    \n",
    "    # Update max_id to fetch older toots\n",
    "    max_id = statuses[-1][\"id\"]\n"
   ]
  },
  {
   "cell_type": "code",
   "execution_count": 20,
   "id": "8732834a-f012-48fa-895a-f0645be7a27a",
   "metadata": {
    "scrolled": true
   },
   "outputs": [
    {
     "ename": "KeyboardInterrupt",
     "evalue": "",
     "output_type": "error",
     "traceback": [
      "\u001b[1;31m---------------------------------------------------------------------------\u001b[0m",
      "\u001b[1;31mKeyboardInterrupt\u001b[0m                         Traceback (most recent call last)",
      "Cell \u001b[1;32mIn[20], line 15\u001b[0m\n\u001b[0;32m     12\u001b[0m \u001b[38;5;66;03m# Fetch toots with pagination\u001b[39;00m\n\u001b[0;32m     13\u001b[0m \u001b[38;5;28;01mwhile\u001b[39;00m toots_retrieved \u001b[38;5;241m<\u001b[39m max_toots:\n\u001b[0;32m     14\u001b[0m     \u001b[38;5;66;03m# Perform the search\u001b[39;00m\n\u001b[1;32m---> 15\u001b[0m     search_results \u001b[38;5;241m=\u001b[39m \u001b[43mAPI\u001b[49m\u001b[38;5;241;43m.\u001b[39;49m\u001b[43msearch_v2\u001b[49m\u001b[43m(\u001b[49m\u001b[43mq\u001b[49m\u001b[43m,\u001b[49m\u001b[43m \u001b[49m\u001b[43mmax_id\u001b[49m\u001b[38;5;241;43m=\u001b[39;49m\u001b[43mmax_id\u001b[49m\u001b[43m)\u001b[49m\n\u001b[0;32m     17\u001b[0m     \u001b[38;5;66;03m# Check if the API returned any results\u001b[39;00m\n\u001b[0;32m     18\u001b[0m     statuses \u001b[38;5;241m=\u001b[39m search_results\u001b[38;5;241m.\u001b[39mget(\u001b[38;5;124m\"\u001b[39m\u001b[38;5;124mstatuses\u001b[39m\u001b[38;5;124m\"\u001b[39m, [])\n",
      "File \u001b[1;32m~\\AppData\\Roaming\\Python\\Python312\\site-packages\\decorator.py:232\u001b[0m, in \u001b[0;36mdecorate.<locals>.fun\u001b[1;34m(*args, **kw)\u001b[0m\n\u001b[0;32m    230\u001b[0m \u001b[38;5;28;01mif\u001b[39;00m \u001b[38;5;129;01mnot\u001b[39;00m kwsyntax:\n\u001b[0;32m    231\u001b[0m     args, kw \u001b[38;5;241m=\u001b[39m fix(args, kw, sig)\n\u001b[1;32m--> 232\u001b[0m \u001b[38;5;28;01mreturn\u001b[39;00m \u001b[43mcaller\u001b[49m\u001b[43m(\u001b[49m\u001b[43mfunc\u001b[49m\u001b[43m,\u001b[49m\u001b[43m \u001b[49m\u001b[38;5;241;43m*\u001b[39;49m\u001b[43m(\u001b[49m\u001b[43mextras\u001b[49m\u001b[43m \u001b[49m\u001b[38;5;241;43m+\u001b[39;49m\u001b[43m \u001b[49m\u001b[43margs\u001b[49m\u001b[43m)\u001b[49m\u001b[43m,\u001b[49m\u001b[43m \u001b[49m\u001b[38;5;241;43m*\u001b[39;49m\u001b[38;5;241;43m*\u001b[39;49m\u001b[43mkw\u001b[49m\u001b[43m)\u001b[49m\n",
      "File \u001b[1;32m~\\AppData\\Roaming\\Python\\Python312\\site-packages\\mastodon\\utility.py:49\u001b[0m, in \u001b[0;36mapi_version.<locals>.api_min_version_decorator.<locals>.wrapper\u001b[1;34m(function, self, *args, **kwargs)\u001b[0m\n\u001b[0;32m     47\u001b[0m     \u001b[38;5;28;01melif\u001b[39;00m major \u001b[38;5;241m==\u001b[39m \u001b[38;5;28mself\u001b[39m\u001b[38;5;241m.\u001b[39mmastodon_major \u001b[38;5;129;01mand\u001b[39;00m minor \u001b[38;5;241m==\u001b[39m \u001b[38;5;28mself\u001b[39m\u001b[38;5;241m.\u001b[39mmastodon_minor \u001b[38;5;129;01mand\u001b[39;00m patch \u001b[38;5;241m>\u001b[39m \u001b[38;5;28mself\u001b[39m\u001b[38;5;241m.\u001b[39mmastodon_patch:\n\u001b[0;32m     48\u001b[0m         \u001b[38;5;28;01mraise\u001b[39;00m MastodonVersionError(\u001b[38;5;124mf\u001b[39m\u001b[38;5;124m\"\u001b[39m\u001b[38;5;124mVersion check failed (Need version \u001b[39m\u001b[38;5;132;01m{\u001b[39;00mversion\u001b[38;5;132;01m}\u001b[39;00m\u001b[38;5;124m, patch is \u001b[39m\u001b[38;5;132;01m{\u001b[39;00m\u001b[38;5;28mself\u001b[39m\u001b[38;5;241m.\u001b[39mmastodon_patch\u001b[38;5;132;01m}\u001b[39;00m\u001b[38;5;124m)\u001b[39m\u001b[38;5;124m\"\u001b[39m)\n\u001b[1;32m---> 49\u001b[0m \u001b[38;5;28;01mreturn\u001b[39;00m \u001b[43mfunction\u001b[49m\u001b[43m(\u001b[49m\u001b[38;5;28;43mself\u001b[39;49m\u001b[43m,\u001b[49m\u001b[43m \u001b[49m\u001b[38;5;241;43m*\u001b[39;49m\u001b[43margs\u001b[49m\u001b[43m,\u001b[49m\u001b[43m \u001b[49m\u001b[38;5;241;43m*\u001b[39;49m\u001b[38;5;241;43m*\u001b[39;49m\u001b[43mkwargs\u001b[49m\u001b[43m)\u001b[49m\n",
      "File \u001b[1;32m~\\AppData\\Roaming\\Python\\Python312\\site-packages\\mastodon\\search.py:92\u001b[0m, in \u001b[0;36mMastodon.search_v2\u001b[1;34m(self, q, resolve, result_type, account_id, offset, min_id, max_id, exclude_unreviewed)\u001b[0m\n\u001b[0;32m     89\u001b[0m     params[\u001b[38;5;124m\"\u001b[39m\u001b[38;5;124mtype\u001b[39m\u001b[38;5;124m\"\u001b[39m] \u001b[38;5;241m=\u001b[39m params[\u001b[38;5;124m\"\u001b[39m\u001b[38;5;124mresult_type\u001b[39m\u001b[38;5;124m\"\u001b[39m]\n\u001b[0;32m     90\u001b[0m     \u001b[38;5;28;01mdel\u001b[39;00m params[\u001b[38;5;124m\"\u001b[39m\u001b[38;5;124mresult_type\u001b[39m\u001b[38;5;124m\"\u001b[39m]\n\u001b[1;32m---> 92\u001b[0m \u001b[38;5;28;01mreturn\u001b[39;00m \u001b[38;5;28;43mself\u001b[39;49m\u001b[38;5;241;43m.\u001b[39;49m\u001b[43m__api_request\u001b[49m\u001b[43m(\u001b[49m\u001b[38;5;124;43m'\u001b[39;49m\u001b[38;5;124;43mGET\u001b[39;49m\u001b[38;5;124;43m'\u001b[39;49m\u001b[43m,\u001b[49m\u001b[43m \u001b[49m\u001b[38;5;124;43m'\u001b[39;49m\u001b[38;5;124;43m/api/v2/search\u001b[39;49m\u001b[38;5;124;43m'\u001b[39;49m\u001b[43m,\u001b[49m\u001b[43m \u001b[49m\u001b[43mparams\u001b[49m\u001b[43m)\u001b[49m\n",
      "File \u001b[1;32m~\\AppData\\Roaming\\Python\\Python312\\site-packages\\mastodon\\internals.py:270\u001b[0m, in \u001b[0;36mMastodon.__api_request\u001b[1;34m(self, method, endpoint, params, files, headers, access_token_override, base_url_override, do_ratelimiting, use_json, parse, return_response_object, skip_error_check, lang_override)\u001b[0m\n\u001b[0;32m    267\u001b[0m \u001b[38;5;28;01mif\u001b[39;00m to_next \u001b[38;5;241m>\u001b[39m \u001b[38;5;241m0\u001b[39m:\n\u001b[0;32m    268\u001b[0m     \u001b[38;5;66;03m# As a precaution, never sleep longer than 5 minutes\u001b[39;00m\n\u001b[0;32m    269\u001b[0m     to_next \u001b[38;5;241m=\u001b[39m \u001b[38;5;28mmin\u001b[39m(to_next, \u001b[38;5;241m5\u001b[39m \u001b[38;5;241m*\u001b[39m \u001b[38;5;241m60\u001b[39m)\n\u001b[1;32m--> 270\u001b[0m     \u001b[43mtime\u001b[49m\u001b[38;5;241;43m.\u001b[39;49m\u001b[43msleep\u001b[49m\u001b[43m(\u001b[49m\u001b[43mto_next\u001b[49m\u001b[43m)\u001b[49m\n\u001b[0;32m    271\u001b[0m     request_complete \u001b[38;5;241m=\u001b[39m \u001b[38;5;28;01mFalse\u001b[39;00m\n\u001b[0;32m    272\u001b[0m     \u001b[38;5;28;01mcontinue\u001b[39;00m\n",
      "\u001b[1;31mKeyboardInterrupt\u001b[0m: "
     ]
    }
   ],
   "source": [
    "# Gathers the last n toots based on specified query hashtag\n",
    "# Then writes these toots into a .csv based on the hashtag\n",
    "# Query and parameters\n",
    "q = \"#kabinet \"\n",
    "max_toots = 1000  # Total number of toots to retrieve\n",
    "toots_retrieved = 0\n",
    "max_id = None  # Used for pagination\n",
    "\n",
    "# Open CSV file for writing\n",
    "with open('kabinet.csv', 'w', newline='', encoding='utf-8') as file:\n",
    "    writer = csv.writer(file)\n",
    "    writer.writerow(['Username', 'Content', 'Date/Time'])  # Writing header\n",
    "\n",
    "    # Fetch toots with pagination\n",
    "    while toots_retrieved < max_toots:\n",
    "        # Perform the search\n",
    "        search_results = API.search_v2(q, max_id=max_id)\n",
    "        \n",
    "        # Check if the API returned any results\n",
    "        statuses = search_results.get(\"statuses\", [])\n",
    "        if not statuses:\n",
    "            break  # No more results\n",
    "        \n",
    "        # Process each toot\n",
    "        for status in statuses:\n",
    "            toots_retrieved += 1\n",
    "            username = status[\"account\"][\"username\"]\n",
    "            content = status[\"content\"]\n",
    "            date_time = status[\"created_at\"]\n",
    "            \n",
    "            # Format the date/time\n",
    "            date_time_formatted = date_time.strftime(\"%Y-%m-%d %H:%M:%S\")\n",
    "            \n",
    "            # Remove HTML tags from content\n",
    "            clean_content = re.sub(r'<.*?>', '', content)  # Using regex to remove HTML tags\n",
    "            \n",
    "            # Write the data to the CSV file\n",
    "            writer.writerow([username, clean_content, date_time_formatted])\n",
    "        \n",
    "        # Update max_id to fetch older toots\n",
    "        max_id = statuses[-1][\"id\"]"
   ]
  },
  {
   "cell_type": "code",
   "execution_count": 18,
   "id": "65836aca-c11c-4197-a64b-64c2cbb38dca",
   "metadata": {},
   "outputs": [
    {
     "data": {
      "text/html": [
       "<div>\n",
       "<style scoped>\n",
       "    .dataframe tbody tr th:only-of-type {\n",
       "        vertical-align: middle;\n",
       "    }\n",
       "\n",
       "    .dataframe tbody tr th {\n",
       "        vertical-align: top;\n",
       "    }\n",
       "\n",
       "    .dataframe thead th {\n",
       "        text-align: right;\n",
       "    }\n",
       "</style>\n",
       "<table border=\"1\" class=\"dataframe\">\n",
       "  <thead>\n",
       "    <tr style=\"text-align: right;\">\n",
       "      <th></th>\n",
       "      <th>Username</th>\n",
       "      <th>Content</th>\n",
       "      <th>Date/Time</th>\n",
       "    </tr>\n",
       "  </thead>\n",
       "  <tbody>\n",
       "    <tr>\n",
       "      <th>553</th>\n",
       "      <td>redegelde</td>\n",
       "      <td>Goedemorgen #conciërges #EduTooters ook deze z...</td>\n",
       "      <td>2022-11-07 05:45:11</td>\n",
       "    </tr>\n",
       "    <tr>\n",
       "      <th>554</th>\n",
       "      <td>redegelde</td>\n",
       "      <td>#onderwijs ik prijs me gelukkig met huidige le...</td>\n",
       "      <td>2022-11-06 18:50:06</td>\n",
       "    </tr>\n",
       "    <tr>\n",
       "      <th>555</th>\n",
       "      <td>redegelde</td>\n",
       "      <td>nog twijfelende #onderwijs #tweeps? https://ma...</td>\n",
       "      <td>2022-11-05 09:36:32</td>\n",
       "    </tr>\n",
       "    <tr>\n",
       "      <th>556</th>\n",
       "      <td>redegelde</td>\n",
       "      <td>@sschouwenaars ja hoor. Ik heb geen blokkade b...</td>\n",
       "      <td>2022-11-05 07:19:35</td>\n",
       "    </tr>\n",
       "    <tr>\n",
       "      <th>557</th>\n",
       "      <td>wimpelgrim</td>\n",
       "      <td>Ik maak zelf sinds 2019 een onderwijspodcast e...</td>\n",
       "      <td>2019-10-25 08:00:42</td>\n",
       "    </tr>\n",
       "  </tbody>\n",
       "</table>\n",
       "</div>"
      ],
      "text/plain": [
       "       Username                                            Content  \\\n",
       "553   redegelde  Goedemorgen #conciërges #EduTooters ook deze z...   \n",
       "554   redegelde  #onderwijs ik prijs me gelukkig met huidige le...   \n",
       "555   redegelde  nog twijfelende #onderwijs #tweeps? https://ma...   \n",
       "556   redegelde  @sschouwenaars ja hoor. Ik heb geen blokkade b...   \n",
       "557  wimpelgrim  Ik maak zelf sinds 2019 een onderwijspodcast e...   \n",
       "\n",
       "               Date/Time  \n",
       "553  2022-11-07 05:45:11  \n",
       "554  2022-11-06 18:50:06  \n",
       "555  2022-11-05 09:36:32  \n",
       "556  2022-11-05 07:19:35  \n",
       "557  2019-10-25 08:00:42  "
      ]
     },
     "execution_count": 18,
     "metadata": {},
     "output_type": "execute_result"
    }
   ],
   "source": [
    "df = pd.read_csv('kabinet.csv')\n",
    "df.tail()"
   ]
  },
  {
   "cell_type": "code",
   "execution_count": 22,
   "id": "5d6e13c2-dcd0-4edb-82c2-ea039e47ad4f",
   "metadata": {},
   "outputs": [
    {
     "data": {
      "text/plain": [
       "0"
      ]
     },
     "execution_count": 22,
     "metadata": {},
     "output_type": "execute_result"
    }
   ],
   "source": [
    "# Checks Rate limit for server remaning not essential to code but nice to know as API can give some constraints.\n",
    "API.ratelimit_remaining"
   ]
  },
  {
   "cell_type": "code",
   "execution_count": null,
   "id": "10dc0feb-3dc1-439b-9fea-798c418ae3f5",
   "metadata": {},
   "outputs": [],
   "source": [
    "# Checks and drops duplicates\n",
    "# df = df.drop_duplicates('column_name', keep='last')"
   ]
  },
  {
   "cell_type": "code",
   "execution_count": 23,
   "id": "9403d334-cbbd-4060-a4e4-67677f03d69a",
   "metadata": {},
   "outputs": [
    {
     "name": "stdout",
     "output_type": "stream",
     "text": [
      "Removed duplicates from gezondheidszorg.csv. Saved cleaned version as cleaned_gezondheidszorg.csv.\n",
      "Removed duplicates from immigratie.csv. Saved cleaned version as cleaned_immigratie.csv.\n",
      "Removed duplicates from kabinet.csv. Saved cleaned version as cleaned_kabinet.csv.\n",
      "Removed duplicates from klimaat1.csv. Saved cleaned version as cleaned_klimaat1.csv.\n",
      "Removed duplicates from onderwijs.csv. Saved cleaned version as cleaned_onderwijs.csv.\n",
      "Removed duplicates from politiek1.csv. Saved cleaned version as cleaned_politiek1.csv.\n"
     ]
    }
   ],
   "source": [
    "#DROPPING DUPLCIATES in all csv files in related folder location\n",
    "\n",
    "# Step 1: Remove duplicates from each CSV file\n",
    "\n",
    "folder_path = './Kopie_csv/'  # Adjust to your folder path containing the CSV files\n",
    "all_files = [f for f in os.listdir(folder_path) if f.endswith('.csv')]  # List all CSV files in the folder\n",
    "\n",
    "for file in all_files:\n",
    "    file_path = os.path.join(folder_path, file)\n",
    "    \n",
    "    # Read the CSV into a pandas DataFrame\n",
    "    df = pd.read_csv(file_path)\n",
    "    \n",
    "    # Remove duplicates based on the \"Content\" column\n",
    "    df_cleaned = df.drop_duplicates(subset=[\"Content\"])\n",
    "    \n",
    "    # Save the cleaned DataFrame back to a new CSV file\n",
    "    cleaned_file_path = os.path.join(folder_path, f\"cleaned_{file}\")\n",
    "    df_cleaned.to_csv(cleaned_file_path, index=False)\n",
    "\n",
    "    print(f\"Removed duplicates from {file}. Saved cleaned version as cleaned_{file}.\")"
   ]
  },
  {
   "cell_type": "code",
   "execution_count": 25,
   "id": "8ef9cc36-9c9b-4060-af65-2a8073085d4b",
   "metadata": {},
   "outputs": [
    {
     "name": "stdout",
     "output_type": "stream",
     "text": [
      "All cleaned toots have been combined into All_toots.csv.\n"
     ]
    }
   ],
   "source": [
    "folder_path = './Kopie_csv/'  # Adjust to your folder path containing the cleaned CSV files\n",
    "all_files = [f for f in os.listdir(folder_path) if f.endswith('.csv') and f.startswith('cleaned_')]  # List all cleaned CSV files\n",
    "\n",
    "# Create an empty list to store DataFrames\n",
    "all_toos_df_list = []\n",
    "\n",
    "for file in all_files:\n",
    "    cleaned_file_path = os.path.join(folder_path, file)\n",
    "    if os.path.exists(cleaned_file_path):  # Check if cleaned file exists\n",
    "        # Read the cleaned CSV into a DataFrame\n",
    "        temp_df = pd.read_csv(cleaned_file_path)\n",
    "        \n",
    "        # Append the DataFrame to the list\n",
    "        all_toos_df_list.append(temp_df)\n",
    "\n",
    "# Concatenate all DataFrames in the list into a single DataFrame\n",
    "all_toos_df = pd.concat(all_toos_df_list, ignore_index=True)\n",
    "\n",
    "# Save the combined DataFrame to a new CSV file\n",
    "all_toos_df.to_csv(os.path.join(folder_path, \"All_toots.csv\"), index=False)\n",
    "\n",
    "print(\"All cleaned toots have been combined into All_toots.csv.\")"
   ]
  },
  {
   "cell_type": "code",
   "execution_count": 26,
   "id": "36bb1c63-5bce-44e2-b648-d9d1c64abbb5",
   "metadata": {},
   "outputs": [
    {
     "name": "stdout",
     "output_type": "stream",
     "text": [
      "Found 212 duplicate rows based on 'Content'.\n",
      "Duplicates removed and saved to All_toots_cleaned.csv.\n"
     ]
    }
   ],
   "source": [
    "# Load the All_toots CSV file into a DataFrame\n",
    "all_toos_df = pd.read_csv('./Kopie_csv/All_toots.csv')  # Adjust the path if necessary\n",
    "\n",
    "# Check for duplicates based on the 'Content' column\n",
    "duplicates = all_toos_df[all_toos_df.duplicated(subset=['Content'], keep=False)]\n",
    "\n",
    "# Display duplicates if any\n",
    "if not duplicates.empty:\n",
    "    print(f\"Found {len(duplicates)} duplicate rows based on 'Content'.\")\n",
    "else:\n",
    "    print(\"No duplicates found based on 'Content'.\")\n",
    "\n",
    "# Remove duplicates (keeping the first occurrence)\n",
    "all_toos_df_cleaned = all_toos_df.drop_duplicates(subset=['Content'], keep='first')\n",
    "\n",
    "# Save the cleaned DataFrame back to CSV\n",
    "all_toos_df_cleaned.to_csv('All_toots_cleaned.csv', index=False)\n",
    "\n",
    "print(\"Duplicates removed and saved to All_toots_cleaned.csv.\")"
   ]
  },
  {
   "cell_type": "code",
   "execution_count": null,
   "id": "3d016276-a4e9-466f-b5e8-084ea7a2b2ee",
   "metadata": {},
   "outputs": [],
   "source": []
  },
  {
   "cell_type": "code",
   "execution_count": null,
   "id": "32a80537-7269-487a-a8fe-86cd5ec6fd9a",
   "metadata": {},
   "outputs": [],
   "source": []
  },
  {
   "cell_type": "code",
   "execution_count": null,
   "id": "1fb10e93-1f28-4c0a-8051-470f24108af1",
   "metadata": {},
   "outputs": [],
   "source": []
  },
  {
   "cell_type": "code",
   "execution_count": null,
   "id": "fb3bef74-af72-4578-acfb-b5d722237e09",
   "metadata": {},
   "outputs": [],
   "source": []
  },
  {
   "cell_type": "code",
   "execution_count": null,
   "id": "6d468864-2eb7-4ac1-9393-031f687973b9",
   "metadata": {},
   "outputs": [],
   "source": []
  },
  {
   "cell_type": "code",
   "execution_count": null,
   "id": "543dd964-bfa6-477e-b9ee-ffb7573d5cfc",
   "metadata": {},
   "outputs": [],
   "source": []
  },
  {
   "cell_type": "code",
   "execution_count": null,
   "id": "650bce1a-d1da-42fb-9f9d-01336c64fa1f",
   "metadata": {},
   "outputs": [],
   "source": []
  }
 ],
 "metadata": {
  "kernelspec": {
   "display_name": "Python 3 (ipykernel)",
   "language": "python",
   "name": "python3"
  },
  "language_info": {
   "codemirror_mode": {
    "name": "ipython",
    "version": 3
   },
   "file_extension": ".py",
   "mimetype": "text/x-python",
   "name": "python",
   "nbconvert_exporter": "python",
   "pygments_lexer": "ipython3",
   "version": "3.12.3"
  }
 },
 "nbformat": 4,
 "nbformat_minor": 5
}
