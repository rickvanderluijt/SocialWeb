{
 "cells": [
  {
   "cell_type": "code",
   "execution_count": 1,
   "id": "0185687a-ddb8-4e01-913e-ca4878f88d9c",
   "metadata": {},
   "outputs": [],
   "source": [
    "import pandas as pd"
   ]
  },
  {
   "cell_type": "code",
   "execution_count": 5,
   "id": "19d27fd2-fd3b-4ee2-a3e2-bf611d498295",
   "metadata": {},
   "outputs": [
    {
     "name": "stdout",
     "output_type": "stream",
     "text": [
      "Defaulting to user installation because normal site-packages is not writeable\n",
      "Collecting openpyxl\n",
      "  Downloading openpyxl-3.1.5-py2.py3-none-any.whl.metadata (2.5 kB)\n",
      "Collecting et-xmlfile (from openpyxl)\n",
      "  Downloading et_xmlfile-2.0.0-py3-none-any.whl.metadata (2.7 kB)\n",
      "Downloading openpyxl-3.1.5-py2.py3-none-any.whl (250 kB)\n",
      "   ---------------------------------------- 0.0/250.9 kB ? eta -:--:--\n",
      "   ---------------------------------------- 0.0/250.9 kB ? eta -:--:--\n",
      "   - -------------------------------------- 10.2/250.9 kB ? eta -:--:--\n",
      "   ---- ---------------------------------- 30.7/250.9 kB 325.1 kB/s eta 0:00:01\n",
      "   --------- ----------------------------- 61.4/250.9 kB 544.7 kB/s eta 0:00:01\n",
      "   ---------------------------------------  245.8/250.9 kB 1.7 MB/s eta 0:00:01\n",
      "   ---------------------------------------- 250.9/250.9 kB 1.4 MB/s eta 0:00:00\n",
      "Downloading et_xmlfile-2.0.0-py3-none-any.whl (18 kB)\n",
      "Installing collected packages: et-xmlfile, openpyxl\n",
      "Successfully installed et-xmlfile-2.0.0 openpyxl-3.1.5\n",
      "Note: you may need to restart the kernel to use updated packages.\n"
     ]
    },
    {
     "name": "stderr",
     "output_type": "stream",
     "text": [
      "\n",
      "[notice] A new release of pip is available: 24.0 -> 24.3.1\n",
      "[notice] To update, run: python.exe -m pip install --upgrade pip\n"
     ]
    }
   ],
   "source": [
    "pip install openpyxl"
   ]
  },
  {
   "cell_type": "code",
   "execution_count": 6,
   "id": "5da45323-217f-4c58-867a-ce46527dc4fb",
   "metadata": {},
   "outputs": [
    {
     "name": "stdout",
     "output_type": "stream",
     "text": [
      "CSV file converted to Excel and saved as Toots_Excel.xlsx\n"
     ]
    }
   ],
   "source": [
    "# Load the CSV file\n",
    "csv_file_path = \"All_toots_cleaned.csv\"  # Replace with your CSV file path\n",
    "df = pd.read_csv(csv_file_path)\n",
    "\n",
    "# Save the DataFrame as an Excel file\n",
    "excel_file_path = \"Toots_Excel.xlsx\"  # Replace with the desired Excel file path\n",
    "df.to_excel(excel_file_path, index=False)  # Set index=False to exclude row numbers in Excel\n",
    "\n",
    "print(f\"CSV file converted to Excel and saved as {excel_file_path}\")"
   ]
  },
  {
   "cell_type": "code",
   "execution_count": 23,
   "id": "ed3afa13-7cde-4c59-b0c9-23db29164e37",
   "metadata": {},
   "outputs": [
    {
     "name": "stdout",
     "output_type": "stream",
     "text": [
      "Index(['Username', 'Content', 'Date/Time', 'DateTime', 'political_standpoint',\n",
      "       'Gemma2 prediction', 'Llama prediction'],\n",
      "      dtype='object')\n"
     ]
    }
   ],
   "source": [
    "# Load your DataFrame (replace with your file)\n",
    "df = pd.read_csv(\"All_predictions_V2.csv\")\n",
    "\n",
    "# Check if the column names are exactly 'Date/Time' and 'DateTime' (case sensitive)\n",
    "print(df.columns)\n",
    "\n",
    "# Combine the 'Date/Time' and 'DateTime' columns into one. We will prefer non-null values.\n",
    "df['DateTime'] = pd.to_datetime(df['Date/Time'], errors='coerce').fillna(pd.to_datetime(df['DateTime'], errors='coerce'))\n",
    "\n",
    "# Now drop the old columns if they are no longer needed\n",
    "df = df.drop(columns=['Date/Time'])\n",
    "\n",
    "# Display the updated DataFrame\n",
    "df.head()\n",
    "# # Optionally, save the cleaned DataFrame back to CSV\n",
    "df.to_csv(\"All_predictions_V2.csv\", index=False)"
   ]
  },
  {
   "cell_type": "code",
   "execution_count": 2,
   "id": "530c47b1-0bc1-4a42-80a9-1d47fd0b95b9",
   "metadata": {},
   "outputs": [
    {
     "name": "stdout",
     "output_type": "stream",
     "text": [
      "CSV file converted to Excel and saved as All_predictions_MajorityVote.xlsx\n"
     ]
    }
   ],
   "source": [
    "# Load the CSV file\n",
    "csv_file_path = \"All_predictions_MajorityVote.csv\"  # Replace with your CSV file path\n",
    "df = pd.read_csv(csv_file_path)\n",
    "\n",
    "# Save the DataFrame as an Excel file\n",
    "excel_file_path = \"All_predictions_MajorityVote.xlsx\"  # Replace with the desired Excel file path\n",
    "df.to_excel(excel_file_path, index=False)  # Set index=False to exclude row numbers in Excel\n",
    "\n",
    "print(f\"CSV file converted to Excel and saved as {excel_file_path}\")"
   ]
  },
  {
   "cell_type": "code",
   "execution_count": null,
   "id": "47ff1d67-1ee0-4759-a75a-b12388523cb5",
   "metadata": {},
   "outputs": [],
   "source": []
  }
 ],
 "metadata": {
  "kernelspec": {
   "display_name": "Python 3 (ipykernel)",
   "language": "python",
   "name": "python3"
  },
  "language_info": {
   "codemirror_mode": {
    "name": "ipython",
    "version": 3
   },
   "file_extension": ".py",
   "mimetype": "text/x-python",
   "name": "python",
   "nbconvert_exporter": "python",
   "pygments_lexer": "ipython3",
   "version": "3.12.3"
  }
 },
 "nbformat": 4,
 "nbformat_minor": 5
}
